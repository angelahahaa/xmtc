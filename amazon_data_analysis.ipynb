{
 "cells": [
  {
   "cell_type": "code",
   "execution_count": 25,
   "metadata": {},
   "outputs": [],
   "source": [
    "import pickle\n",
    "import numpy as np\n",
    "import pandas as pd\n",
    "import seaborn as sns\n",
    "from collections import defaultdict\n",
    "import matplotlib.pyplot as plt"
   ]
  },
  {
   "cell_type": "code",
   "execution_count": 2,
   "metadata": {},
   "outputs": [],
   "source": [
    "DATA_DIR = 'data/amazon_raw.pkl'"
   ]
  },
  {
   "cell_type": "code",
   "execution_count": 3,
   "metadata": {},
   "outputs": [],
   "source": [
    "df = pd.read_pickle(DATA_DIR)"
   ]
  },
  {
   "cell_type": "code",
   "execution_count": 10,
   "metadata": {},
   "outputs": [
    {
     "data": {
      "text/html": [
       "<div>\n",
       "<style scoped>\n",
       "    .dataframe tbody tr th:only-of-type {\n",
       "        vertical-align: middle;\n",
       "    }\n",
       "\n",
       "    .dataframe tbody tr th {\n",
       "        vertical-align: top;\n",
       "    }\n",
       "\n",
       "    .dataframe thead th {\n",
       "        text-align: right;\n",
       "    }\n",
       "</style>\n",
       "<table border=\"1\" class=\"dataframe\">\n",
       "  <thead>\n",
       "    <tr style=\"text-align: right;\">\n",
       "      <th></th>\n",
       "      <th>categories</th>\n",
       "      <th>train/test</th>\n",
       "      <th>text</th>\n",
       "    </tr>\n",
       "  </thead>\n",
       "  <tbody>\n",
       "    <tr>\n",
       "      <th>0000025240</th>\n",
       "      <td>{politics &amp; government, criminology, politics ...</td>\n",
       "      <td>train</td>\n",
       "      <td>Masters of Paradise: Organized Crime and the I...</td>\n",
       "    </tr>\n",
       "    <tr>\n",
       "      <th>0001004743</th>\n",
       "      <td>{children's books, literature &amp; fiction, class...</td>\n",
       "      <td>train</td>\n",
       "      <td>Jungle Book Audio Book (Classics Book and Tape...</td>\n",
       "    </tr>\n",
       "    <tr>\n",
       "      <th>0001024043</th>\n",
       "      <td>{children's books, literature &amp; fiction, books}</td>\n",
       "      <td>train</td>\n",
       "      <td>none ||| Trotter Street is alive with activity...</td>\n",
       "    </tr>\n",
       "    <tr>\n",
       "      <th>0001042335</th>\n",
       "      <td>{literature &amp; fiction, humanities, english lit...</td>\n",
       "      <td>train</td>\n",
       "      <td>none ||| William Shakespeare is widely regarde...</td>\n",
       "    </tr>\n",
       "    <tr>\n",
       "      <th>0001046349</th>\n",
       "      <td>{contemporary, literature &amp; fiction, books}</td>\n",
       "      <td>train</td>\n",
       "      <td>Mapp and Lucia ||| \"No matter how appalling, m...</td>\n",
       "    </tr>\n",
       "  </tbody>\n",
       "</table>\n",
       "</div>"
      ],
      "text/plain": [
       "                                                   categories train/test  \\\n",
       "0000025240  {politics & government, criminology, politics ...      train   \n",
       "0001004743  {children's books, literature & fiction, class...      train   \n",
       "0001024043    {children's books, literature & fiction, books}      train   \n",
       "0001042335  {literature & fiction, humanities, english lit...      train   \n",
       "0001046349        {contemporary, literature & fiction, books}      train   \n",
       "\n",
       "                                                         text  \n",
       "0000025240  Masters of Paradise: Organized Crime and the I...  \n",
       "0001004743  Jungle Book Audio Book (Classics Book and Tape...  \n",
       "0001024043  none ||| Trotter Street is alive with activity...  \n",
       "0001042335  none ||| William Shakespeare is widely regarde...  \n",
       "0001046349  Mapp and Lucia ||| \"No matter how appalling, m...  "
      ]
     },
     "execution_count": 10,
     "metadata": {},
     "output_type": "execute_result"
    }
   ],
   "source": [
    "df.categories = df.categories.apply(set)\n",
    "df.head()"
   ]
  },
  {
   "cell_type": "code",
   "execution_count": 11,
   "metadata": {},
   "outputs": [],
   "source": [
    "# count +ve instances\n",
    "labels = defaultdict(int)\n",
    "for cats in df.categories:\n",
    "    for cat in cats:\n",
    "        labels[cat]+=1"
   ]
  },
  {
   "cell_type": "code",
   "execution_count": 32,
   "metadata": {},
   "outputs": [],
   "source": [
    "l = sorted(zip(labels.values(),labels.keys()))"
   ]
  },
  {
   "cell_type": "code",
   "execution_count": 36,
   "metadata": {},
   "outputs": [
    {
     "data": {
      "text/plain": [
       "[(1, '& cargo protectors'),\n",
       " (1, '& detectives'),\n",
       " (1, '& scraps'),\n",
       " (1, '( v )'),\n",
       " (1, 'a - z'),\n",
       " (1, 'abrasive dressing tools'),\n",
       " (1, 'abrasive mounted points'),\n",
       " (1, 'abstract'),\n",
       " (1, 'acceleration sensors'),\n",
       " (1, 'acid cleaners')]"
      ]
     },
     "execution_count": 36,
     "metadata": {},
     "output_type": "execute_result"
    }
   ],
   "source": [
    "l[:10]"
   ]
  },
  {
   "cell_type": "code",
   "execution_count": 35,
   "metadata": {},
   "outputs": [
    {
     "data": {
      "text/plain": [
       "[(90254, 'new'),\n",
       " (90254, 'used & rental textbooks'),\n",
       " (94082, 'rock'),\n",
       " (96140, 'education & reference'),\n",
       " (111261, 'movies'),\n",
       " (122606, 'literature & fiction'),\n",
       " (150464, 'pop'),\n",
       " (160161, 'movies & tv'),\n",
       " (243575, 'music'),\n",
       " (446881, 'books')]"
      ]
     },
     "execution_count": 35,
     "metadata": {},
     "output_type": "execute_result"
    }
   ],
   "source": [
    "l[-10:]"
   ]
  },
  {
   "cell_type": "code",
   "execution_count": 46,
   "metadata": {},
   "outputs": [],
   "source": [
    "p = np.percentile(freqs,91.98)"
   ]
  },
  {
   "cell_type": "code",
   "execution_count": 47,
   "metadata": {},
   "outputs": [
    {
     "data": {
      "image/png": "[encoded data removed]",
      "text/plain": [
       "<Figure size 432x288 with 1 Axes>"
      ]
     },
     "metadata": {
      "needs_background": "light"
     },
     "output_type": "display_data"
    }
   ],
   "source": [
    "plt.plot(freqs)\n",
    "plt.plot([p,p],[freqs.min(),freqs.max()])\n",
    "plt.yscale('log')"
   ]
  },
  {
   "cell_type": "code",
   "execution_count": null,
   "metadata": {},
   "outputs": [],
   "source": []
  }
 ],
 "metadata": {
  "kernelspec": {
   "display_name": "Python 3",
   "language": "python",
   "name": "python3"
  },
  "language_info": {
   "codemirror_mode": {
    "name": "ipython",
    "version": 3
   },
   "file_extension": ".py",
   "mimetype": "text/x-python",
   "name": "python",
   "nbconvert_exporter": "python",
   "pygments_lexer": "ipython3",
   "version": "3.6.8"
  }
 },
 "nbformat": 4,
 "nbformat_minor": 2
}
