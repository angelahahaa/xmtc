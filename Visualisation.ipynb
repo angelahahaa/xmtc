{
 "cells": [
  {
   "cell_type": "code",
   "execution_count": 1,
   "metadata": {},
   "outputs": [
    {
     "name": "stderr",
     "output_type": "stream",
     "text": [
      "Using TensorFlow backend.\n"
     ]
    }
   ],
   "source": [
    "import numpy as np\n",
    "import pandas as pd\n",
    "import matplotlib.pyplot as plt\n",
    "import os, re\n",
    "import pickle\n",
    "\n",
    "from sklearn.preprocessing import MultiLabelBinarizer\n",
    "from keras.preprocessing.text import Tokenizer\n",
    "import scipy.sparse"
   ]
  },
  {
   "cell_type": "code",
   "execution_count": 2,
   "metadata": {},
   "outputs": [],
   "source": [
    "MODEL_DIR = 'outputs/190725_160501_xmlcnn'\n",
    "IN_DIR = 'data/sic_hierarchy'"
   ]
  },
  {
   "cell_type": "code",
   "execution_count": 3,
   "metadata": {},
   "outputs": [],
   "source": [
    "mode = 'hierarchy'\n",
    "mlb_dirs = [os.path.join(IN_DIR,d) for d in os.listdir(IN_DIR) if d.startswith('mlb_{}'.format(mode))]"
   ]
  },
  {
   "cell_type": "code",
   "execution_count": 4,
   "metadata": {},
   "outputs": [
    {
     "data": {
      "text/plain": [
       "['y_test_cat1.npz',\n",
       " 'y_train_hierarchy.npz',\n",
       " 'mlb_cat2.pkl',\n",
       " 'embedding_matrix.npy',\n",
       " 'mlb_cat1.pkl',\n",
       " 'y_train_cat0.npz',\n",
       " 'y_train_cat1.npz',\n",
       " 'x_train.npy',\n",
       " 'y_train_cat3.npz',\n",
       " 'mlb_hierarchy.pkl',\n",
       " 'mlb_cat3.pkl',\n",
       " 'y_test_cat2.npz',\n",
       " 'y_test_cat0.npz',\n",
       " 'mlb_cat0.pkl',\n",
       " 'y_train_cat2.npz',\n",
       " 'y_test_hierarchy.npz',\n",
       " 'y_test_cat3.npz',\n",
       " 'x_test.npy',\n",
       " 'tokenizer.pkl']"
      ]
     },
     "execution_count": 4,
     "metadata": {},
     "output_type": "execute_result"
    }
   ],
   "source": [
    "os.listdir(IN_DIR)"
   ]
  },
  {
   "cell_type": "markdown",
   "metadata": {},
   "source": [
    "# anyhow"
   ]
  },
  {
   "cell_type": "code",
   "execution_count": 5,
   "metadata": {},
   "outputs": [],
   "source": [
    "# from run_model.py\n",
    "def get_input(in_dir,mode):\n",
    "    x_train = np.load(os.path.join(in_dir,'x_train.npy'))\n",
    "    dirs = [os.path.join(in_dir,d) for d in sorted(os.listdir(in_dir)) if d.startswith('y_train_{}'.format(mode))]\n",
    "    y_trains = [scipy.sparse.load_npz(d).todense() for d in dirs]\n",
    "\n",
    "    x_test = np.load(os.path.join(in_dir,'x_test.npy'))\n",
    "    dirs = [os.path.join(in_dir,d) for d in sorted(os.listdir(in_dir)) if d.startswith('y_test_{}'.format(mode))]\n",
    "    y_tests = [scipy.sparse.load_npz(d).todense() for d in dirs]\n",
    "    return x_train,y_trains,x_test,y_tests"
   ]
  },
  {
   "cell_type": "code",
   "execution_count": 6,
   "metadata": {},
   "outputs": [
    {
     "data": {
      "text/plain": [
       "['data/sic_hierarchy/mlb_hierarchy.pkl']"
      ]
     },
     "execution_count": 6,
     "metadata": {},
     "output_type": "execute_result"
    }
   ],
   "source": [
    "mlb_dirs"
   ]
  },
  {
   "cell_type": "code",
   "execution_count": 7,
   "metadata": {},
   "outputs": [],
   "source": [
    "mlb = pickle.load(open(mlb_dirs[0],'rb'))"
   ]
  },
  {
   "cell_type": "code",
   "execution_count": 8,
   "metadata": {},
   "outputs": [],
   "source": [
    "tok = pickle.load(open(os.path.join(IN_DIR,'tokenizer.pkl'),'rb'))"
   ]
  },
  {
   "cell_type": "code",
   "execution_count": 9,
   "metadata": {},
   "outputs": [],
   "source": [
    "cls_dict = {i:v for i,v in enumerate(mlb.classes_)}"
   ]
  },
  {
   "cell_type": "code",
   "execution_count": 10,
   "metadata": {},
   "outputs": [],
   "source": [
    "# load test set\n",
    "x_train,y_trains,x_test,y_tests = get_input(IN_DIR,mode)"
   ]
  },
  {
   "cell_type": "code",
   "execution_count": 11,
   "metadata": {},
   "outputs": [],
   "source": [
    "# load predicted\n",
    "y_pred = np.loadtxt(os.path.join(MODEL_DIR,'pred_outputs0.txt'))"
   ]
  },
  {
   "cell_type": "code",
   "execution_count": 12,
   "metadata": {},
   "outputs": [],
   "source": [
    "y_true = np.argmax(y_tests[0],axis=1).A.flatten()"
   ]
  },
  {
   "cell_type": "code",
   "execution_count": 17,
   "metadata": {},
   "outputs": [],
   "source": [
    "sequences = [xx[xx!=0] for xx in x_test]"
   ]
  },
  {
   "cell_type": "code",
   "execution_count": 19,
   "metadata": {
    "scrolled": true
   },
   "outputs": [],
   "source": [
    "# get top 5 predictions into sic codes\n",
    "rows = []\n",
    "gen = tok.sequences_to_texts_generator(sequences)\n",
    "for i in range(len(y_true)):\n",
    "    d = {}\n",
    "    d['text'] = next(gen)\n",
    "    d['true'] = cls_dict[y_true[i]]\n",
    "    for j,y in enumerate(y_pred[i]):\n",
    "        if j == 5:\n",
    "            break\n",
    "        d['pred{}'.format(j)] = cls_dict[y]\n",
    "    rows.append(d)"
   ]
  },
  {
   "cell_type": "code",
   "execution_count": 20,
   "metadata": {},
   "outputs": [],
   "source": [
    "df = pd.DataFrame.from_dict(rows)"
   ]
  },
  {
   "cell_type": "code",
   "execution_count": 21,
   "metadata": {},
   "outputs": [
    {
     "data": {
      "text/html": [
       "<div>\n",
       "<style scoped>\n",
       "    .dataframe tbody tr th:only-of-type {\n",
       "        vertical-align: middle;\n",
       "    }\n",
       "\n",
       "    .dataframe tbody tr th {\n",
       "        vertical-align: top;\n",
       "    }\n",
       "\n",
       "    .dataframe thead th {\n",
       "        text-align: right;\n",
       "    }\n",
       "</style>\n",
       "<table border=\"1\" class=\"dataframe\">\n",
       "  <thead>\n",
       "    <tr style=\"text-align: right;\">\n",
       "      <th></th>\n",
       "      <th>pred0</th>\n",
       "      <th>pred1</th>\n",
       "      <th>pred2</th>\n",
       "      <th>pred3</th>\n",
       "      <th>pred4</th>\n",
       "      <th>text</th>\n",
       "      <th>true</th>\n",
       "    </tr>\n",
       "  </thead>\n",
       "  <tbody>\n",
       "    <tr>\n",
       "      <th>0</th>\n",
       "      <td>G47791</td>\n",
       "      <td>G47789</td>\n",
       "      <td>G47910</td>\n",
       "      <td>N82990</td>\n",
       "      <td>G47799</td>\n",
       "      <td>stanley gibbons – the home of stamp collecting...</td>\n",
       "      <td>G47789</td>\n",
       "    </tr>\n",
       "    <tr>\n",
       "      <th>1</th>\n",
       "      <td>S96020</td>\n",
       "      <td>N82990</td>\n",
       "      <td>M70229</td>\n",
       "      <td>G47910</td>\n",
       "      <td>G46450</td>\n",
       "      <td>par des coiffeurs pour des coiffeurs cette dev...</td>\n",
       "      <td>S96020</td>\n",
       "    </tr>\n",
       "    <tr>\n",
       "      <th>2</th>\n",
       "      <td>J62090</td>\n",
       "      <td>J62020</td>\n",
       "      <td>N82990</td>\n",
       "      <td>M70229</td>\n",
       "      <td>L68310</td>\n",
       "      <td>we specialise in implementing integrating and ...</td>\n",
       "      <td>J62020</td>\n",
       "    </tr>\n",
       "    <tr>\n",
       "      <th>3</th>\n",
       "      <td>N82990</td>\n",
       "      <td>N81210</td>\n",
       "      <td>M70229</td>\n",
       "      <td>N78109</td>\n",
       "      <td>N81299</td>\n",
       "      <td>agenda screening services is the market leader...</td>\n",
       "      <td>M70229</td>\n",
       "    </tr>\n",
       "    <tr>\n",
       "      <th>4</th>\n",
       "      <td>G47620</td>\n",
       "      <td>G47610</td>\n",
       "      <td>G47710</td>\n",
       "      <td>G47190</td>\n",
       "      <td>G47910</td>\n",
       "      <td>rely on ryman the uk 's leading stationer and ...</td>\n",
       "      <td>G47610</td>\n",
       "    </tr>\n",
       "  </tbody>\n",
       "</table>\n",
       "</div>"
      ],
      "text/plain": [
       "    pred0   pred1   pred2   pred3   pred4  \\\n",
       "0  G47791  G47789  G47910  N82990  G47799   \n",
       "1  S96020  N82990  M70229  G47910  G46450   \n",
       "2  J62090  J62020  N82990  M70229  L68310   \n",
       "3  N82990  N81210  M70229  N78109  N81299   \n",
       "4  G47620  G47610  G47710  G47190  G47910   \n",
       "\n",
       "                                                text    true  \n",
       "0  stanley gibbons – the home of stamp collecting...  G47789  \n",
       "1  par des coiffeurs pour des coiffeurs cette dev...  S96020  \n",
       "2  we specialise in implementing integrating and ...  J62020  \n",
       "3  agenda screening services is the market leader...  M70229  \n",
       "4  rely on ryman the uk 's leading stationer and ...  G47610  "
      ]
     },
     "execution_count": 21,
     "metadata": {},
     "output_type": "execute_result"
    }
   ],
   "source": [
    "df.head()"
   ]
  },
  {
   "cell_type": "markdown",
   "metadata": {},
   "source": [
    "# per hiararchy accuracy"
   ]
  },
  {
   "cell_type": "code",
   "execution_count": 83,
   "metadata": {},
   "outputs": [],
   "source": [
    "# p@1\n",
    "cats = [0]*4\n",
    "for row in rows:\n",
    "    pred = row['pred0']\n",
    "    true = row['true']\n",
    "    if pred[0]==true[0]:\n",
    "        cats[0]+=1\n",
    "    if pred[:3]==true[:3]:\n",
    "        cats[1]+=1\n",
    "    if pred[:5]==true[:5]:\n",
    "        cats[2]+=1\n",
    "    if pred==true:\n",
    "        cats[3]+=1"
   ]
  },
  {
   "cell_type": "code",
   "execution_count": 84,
   "metadata": {},
   "outputs": [
    {
     "data": {
      "text/plain": [
       "array([68.45736782, 62.38056544, 51.81428451, 50.17582448])"
      ]
     },
     "execution_count": 84,
     "metadata": {},
     "output_type": "execute_result"
    }
   ],
   "source": [
    "np.array(cats)/len(rows)*100"
   ]
  },
  {
   "cell_type": "code",
   "execution_count": 85,
   "metadata": {},
   "outputs": [],
   "source": [
    "# p@5\n",
    "cats = [0]*4\n",
    "for row in rows:\n",
    "    true = row['true']\n",
    "    for i in range(5):\n",
    "        pred = row['pred{}'.format(i)]\n",
    "        if pred[0]==true[0]:\n",
    "            cats[0]+=1\n",
    "            break\n",
    "    for i in range(5):\n",
    "        pred = row['pred{}'.format(i)]\n",
    "        if pred[:3]==true[:3]:\n",
    "            cats[1]+=1\n",
    "            break\n",
    "    for i in range(5):\n",
    "        pred = row['pred{}'.format(i)]\n",
    "        if pred[:5]==true[:5]:\n",
    "            cats[2]+=1\n",
    "            break\n",
    "    for i in range(5):\n",
    "        pred = row['pred{}'.format(i)]\n",
    "        if pred==true:\n",
    "            cats[3]+=1\n",
    "            break"
   ]
  },
  {
   "cell_type": "code",
   "execution_count": 86,
   "metadata": {},
   "outputs": [
    {
     "data": {
      "text/plain": [
       "array([86.98618622, 81.77099386, 75.49805262, 74.91874247])"
      ]
     },
     "execution_count": 86,
     "metadata": {},
     "output_type": "execute_result"
    }
   ],
   "source": [
    "np.array(cats)/len(rows)*100"
   ]
  },
  {
   "cell_type": "code",
   "execution_count": null,
   "metadata": {},
   "outputs": [],
   "source": []
  }
 ],
 "metadata": {
  "kernelspec": {
   "display_name": "Python 3",
   "language": "python",
   "name": "python3"
  },
  "language_info": {
   "codemirror_mode": {
    "name": "ipython",
    "version": 3
   },
   "file_extension": ".py",
   "mimetype": "text/x-python",
   "name": "python",
   "nbconvert_exporter": "python",
   "pygments_lexer": "ipython3",
   "version": "3.6.8"
  }
 },
 "nbformat": 4,
 "nbformat_minor": 2
}
