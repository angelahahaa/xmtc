{
 "cells": [
  {
   "cell_type": "code",
   "execution_count": 1,
   "metadata": {},
   "outputs": [
    {
     "name": "stderr",
     "output_type": "stream",
     "text": [
      "Using TensorFlow backend.\n",
      "WARNING: Logging before flag parsing goes to stderr.\n",
      "W0824 19:57:24.484020 140437491287872 deprecation_wrapper.py:119] From /home/angela/xmtc/tools/model_func.py:21: The name tf.keras.layers.CuDNNLSTM is deprecated. Please use tf.compat.v1.keras.layers.CuDNNLSTM instead.\n",
      "\n"
     ]
    }
   ],
   "source": [
    "# basic\n",
    "import argparse\n",
    "import os,datetime\n",
    "\n",
    "# save things\n",
    "import pandas as pd\n",
    "from keras.callbacks import CSVLogger\n",
    "\n",
    "# model_func\n",
    "from tools.model_func import *"
   ]
  },
  {
   "cell_type": "code",
   "execution_count": 2,
   "metadata": {},
   "outputs": [],
   "source": [
    "os.environ[\"CUDA_DEVICE_ORDER\"]=\"PCI_BUS_ID\"\n",
    "os.environ[\"CUDA_VISIBLE_DEVICES\"]=\"\""
   ]
  },
  {
   "cell_type": "markdown",
   "metadata": {},
   "source": [
    "# copied code"
   ]
  },
  {
   "cell_type": "code",
   "execution_count": 3,
   "metadata": {},
   "outputs": [],
   "source": [
    "import tensorflow_hub as hub\n",
    "from bert.tokenization import FullTokenizer\n",
    "from keras import backend as K\n",
    "from keras.layers import Layer"
   ]
  },
  {
   "cell_type": "code",
   "execution_count": 4,
   "metadata": {},
   "outputs": [],
   "source": [
    "from tools.MyClock import MyClock\n",
    "clk = MyClock()"
   ]
  },
  {
   "cell_type": "code",
   "execution_count": 5,
   "metadata": {},
   "outputs": [],
   "source": [
    "bert_path = \"https://tfhub.dev/google/bert_uncased_L-12_H-768_A-12/1\"\n",
    "def create_tokenizer_from_hub_module():\n",
    "    \"\"\"Get the vocab file and casing info from the Hub module.\"\"\"\n",
    "    bert_module =  hub.Module(bert_path)\n",
    "    tokenization_info = bert_module(signature=\"tokenization_info\", as_dict=True)\n",
    "    vocab_file, do_lower_case = sess.run(\n",
    "        [\n",
    "            tokenization_info[\"vocab_file\"],\n",
    "            tokenization_info[\"do_lower_case\"],\n",
    "        ]\n",
    "    )\n",
    "\n",
    "    return FullTokenizer(vocab_file=vocab_file, do_lower_case=do_lower_case)"
   ]
  },
  {
   "cell_type": "markdown",
   "metadata": {},
   "source": [
    "# convert data for bert"
   ]
  },
  {
   "cell_type": "code",
   "execution_count": 6,
   "metadata": {},
   "outputs": [],
   "source": [
    "import pickle"
   ]
  },
  {
   "cell_type": "code",
   "execution_count": 10,
   "metadata": {},
   "outputs": [],
   "source": [
    "# tokenizer sequence to text keep <UNK\\>\n",
    "IN_DIR = 'data/amazon_hierarchy_2'\n",
    "PKL_DIR = 'data/amazon_hierarchy.pkl'\n",
    "\n",
    "x_trains,_,x_tests,_ = get_input(in_dir=IN_DIR,mode='cat',get_output=[1,0,1,0])"
   ]
  },
  {
   "cell_type": "code",
   "execution_count": 15,
   "metadata": {},
   "outputs": [],
   "source": [
    "x_train = x_trains[0]\n",
    "x_test = x_tests[0]\n",
    "del x_trains\n",
    "del x_tests"
   ]
  },
  {
   "cell_type": "code",
   "execution_count": 16,
   "metadata": {},
   "outputs": [],
   "source": [
    "max_sequence_length = x_train.shape[1]"
   ]
  },
  {
   "cell_type": "code",
   "execution_count": 12,
   "metadata": {},
   "outputs": [],
   "source": [
    "# get tokenizer\n",
    "tok = pickle.load(open(os.path.join(IN_DIR,'tokenizer.pkl'),'rb'))\n",
    "tok.index_word[0]=''\n",
    "tok.index_word[1] = \"w\"*201 # trigger [UNK] in WordpieceTokenizer"
   ]
  },
  {
   "cell_type": "code",
   "execution_count": 13,
   "metadata": {
    "scrolled": true
   },
   "outputs": [
    {
     "name": "stderr",
     "output_type": "stream",
     "text": [
      "W0824 19:58:12.614794 140437491287872 deprecation_wrapper.py:119] From /home/angela/xmtc/bert/tokenization.py:125: The name tf.gfile.GFile is deprecated. Please use tf.io.gfile.GFile instead.\n",
      "\n"
     ]
    }
   ],
   "source": [
    "sess = tf.Session()\n",
    "tok_bert = create_tokenizer_from_hub_module()"
   ]
  },
  {
   "cell_type": "code",
   "execution_count": 18,
   "metadata": {},
   "outputs": [
    {
     "name": "stdout",
     "output_type": "stream",
     "text": [
      "71:42 99.95%\r"
     ]
    }
   ],
   "source": [
    "xx = np.concatenate([x_train,x_test])\n",
    "x_gen = tok.sequences_to_texts_generator(xx)\n",
    "N = xx.shape[0]\n",
    "rows = []\n",
    "clk.tic()\n",
    "for i,text in enumerate(x_gen):\n",
    "    dd = {}\n",
    "    text = text.strip()\n",
    "    tokens = tok_bert.tokenize(text)[:max_sequence_length-2] # truncate\n",
    "    tokenized = [\"[CLS]\"] + tokens +[\"[SEP]\"] # add [CLS],[SEP]\n",
    "    sequence = tok_bert.convert_tokens_to_ids(tokenized) # convert to sequence\n",
    "    pad_len = max([max_sequence_length-len(sequence),0]) # pad\n",
    "    # add zero padding\n",
    "    # input_mask = # mask zero paddings p\n",
    "    dd['text'] = text\n",
    "    dd['tokenized'] = tokenized\n",
    "    dd['sequence'] = sequence + [0]*pad_len\n",
    "    dd['mask'] = [1]*len(sequence) + [0]*pad_len\n",
    "    rows.append(dd)\n",
    "    if i%(N//1000)==0:\n",
    "        print(\"{} {:.2f}%\".format(clk.toc(p=False),i/N*100),end='\\r')"
   ]
  },
  {
   "cell_type": "code",
   "execution_count": 21,
   "metadata": {},
   "outputs": [],
   "source": [
    "df = pd.read_pickle(PKL_DIR)\n",
    "ind = df[df['train/test']=='train'].index.to_list() + df[df['train/test']=='test'].index.to_list()\n",
    "for i in range(len(rows)):\n",
    "    rows[i]['id']=ind[i]\n",
    "    if i < x_train.shape[0]:\n",
    "        rows[i]['train/test']='train'\n",
    "    else:\n",
    "        rows[i]['train/test']='test'"
   ]
  },
  {
   "cell_type": "code",
   "execution_count": 23,
   "metadata": {},
   "outputs": [
    {
     "data": {
      "text/html": [
       "<div>\n",
       "<style scoped>\n",
       "    .dataframe tbody tr th:only-of-type {\n",
       "        vertical-align: middle;\n",
       "    }\n",
       "\n",
       "    .dataframe tbody tr th {\n",
       "        vertical-align: top;\n",
       "    }\n",
       "\n",
       "    .dataframe thead th {\n",
       "        text-align: right;\n",
       "    }\n",
       "</style>\n",
       "<table border=\"1\" class=\"dataframe\">\n",
       "  <thead>\n",
       "    <tr style=\"text-align: right;\">\n",
       "      <th></th>\n",
       "      <th>id</th>\n",
       "      <th>mask</th>\n",
       "      <th>sequence</th>\n",
       "      <th>text</th>\n",
       "      <th>tokenized</th>\n",
       "      <th>train/test</th>\n",
       "    </tr>\n",
       "  </thead>\n",
       "  <tbody>\n",
       "    <tr>\n",
       "      <th>0</th>\n",
       "      <td>0000025240</td>\n",
       "      <td>[1, 1, 1, 1, 1, 1, 1, 1, 1, 1, 1, 1, 1, 1, 1, ...</td>\n",
       "      <td>[101, 5070, 1037, 3796, 2003, 12372, 2934, 199...</td>\n",
       "      <td>alan a block is emeritus professor of crime la...</td>\n",
       "      <td>[[CLS], alan, a, block, is, emeritus, professo...</td>\n",
       "      <td>train</td>\n",
       "    </tr>\n",
       "    <tr>\n",
       "      <th>1</th>\n",
       "      <td>0001004743</td>\n",
       "      <td>[1, 1, 1, 1, 1, 1, 1, 1, 1, 1, 1, 1, 1, 1, 1, ...</td>\n",
       "      <td>[101, 3694, 1018, 1022, 1996, 2375, 1997, 1996...</td>\n",
       "      <td>grade 4 8 the law of the jungle intense compet...</td>\n",
       "      <td>[[CLS], grade, 4, 8, the, law, of, the, jungle...</td>\n",
       "      <td>train</td>\n",
       "    </tr>\n",
       "    <tr>\n",
       "      <th>2</th>\n",
       "      <td>0001042335</td>\n",
       "      <td>[1, 1, 1, 1, 1, 1, 1, 1, 1, 1, 1, 1, 1, 1, 1, ...</td>\n",
       "      <td>[101, 2520, 8101, 2003, 4235, 5240, 2004, 1996...</td>\n",
       "      <td>william shakespeare is widely regarded as the ...</td>\n",
       "      <td>[[CLS], william, shakespeare, is, widely, rega...</td>\n",
       "      <td>train</td>\n",
       "    </tr>\n",
       "    <tr>\n",
       "      <th>3</th>\n",
       "      <td>0001046349</td>\n",
       "      <td>[1, 1, 1, 1, 1, 1, 1, 1, 1, 1, 1, 1, 1, 1, 1, ...</td>\n",
       "      <td>[101, 2053, 3043, 2129, 10439, 8095, 2075, 243...</td>\n",
       "      <td>no matter how appalling malicious and pretenti...</td>\n",
       "      <td>[[CLS], no, matter, how, app, ##all, ##ing, ma...</td>\n",
       "      <td>train</td>\n",
       "    </tr>\n",
       "    <tr>\n",
       "      <th>4</th>\n",
       "      <td>0001046438</td>\n",
       "      <td>[1, 1, 1, 1, 1, 1, 1, 1, 1, 1, 1, 1, 1, 1, 1, ...</td>\n",
       "      <td>[101, 14744, 2003, 1037, 2329, 26572, 18900, 2...</td>\n",
       "      <td>fry is a british polymath actor journalist pla...</td>\n",
       "      <td>[[CLS], fry, is, a, british, poly, ##mat, ##h,...</td>\n",
       "      <td>train</td>\n",
       "    </tr>\n",
       "  </tbody>\n",
       "</table>\n",
       "</div>"
      ],
      "text/plain": [
       "           id                                               mask  \\\n",
       "0  0000025240  [1, 1, 1, 1, 1, 1, 1, 1, 1, 1, 1, 1, 1, 1, 1, ...   \n",
       "1  0001004743  [1, 1, 1, 1, 1, 1, 1, 1, 1, 1, 1, 1, 1, 1, 1, ...   \n",
       "2  0001042335  [1, 1, 1, 1, 1, 1, 1, 1, 1, 1, 1, 1, 1, 1, 1, ...   \n",
       "3  0001046349  [1, 1, 1, 1, 1, 1, 1, 1, 1, 1, 1, 1, 1, 1, 1, ...   \n",
       "4  0001046438  [1, 1, 1, 1, 1, 1, 1, 1, 1, 1, 1, 1, 1, 1, 1, ...   \n",
       "\n",
       "                                            sequence  \\\n",
       "0  [101, 5070, 1037, 3796, 2003, 12372, 2934, 199...   \n",
       "1  [101, 3694, 1018, 1022, 1996, 2375, 1997, 1996...   \n",
       "2  [101, 2520, 8101, 2003, 4235, 5240, 2004, 1996...   \n",
       "3  [101, 2053, 3043, 2129, 10439, 8095, 2075, 243...   \n",
       "4  [101, 14744, 2003, 1037, 2329, 26572, 18900, 2...   \n",
       "\n",
       "                                                text  \\\n",
       "0  alan a block is emeritus professor of crime la...   \n",
       "1  grade 4 8 the law of the jungle intense compet...   \n",
       "2  william shakespeare is widely regarded as the ...   \n",
       "3  no matter how appalling malicious and pretenti...   \n",
       "4  fry is a british polymath actor journalist pla...   \n",
       "\n",
       "                                           tokenized train/test  \n",
       "0  [[CLS], alan, a, block, is, emeritus, professo...      train  \n",
       "1  [[CLS], grade, 4, 8, the, law, of, the, jungle...      train  \n",
       "2  [[CLS], william, shakespeare, is, widely, rega...      train  \n",
       "3  [[CLS], no, matter, how, app, ##all, ##ing, ma...      train  \n",
       "4  [[CLS], fry, is, a, british, poly, ##mat, ##h,...      train  "
      ]
     },
     "execution_count": 23,
     "metadata": {},
     "output_type": "execute_result"
    }
   ],
   "source": [
    "bert_df = pd.DataFrame.from_dict(rows)\n",
    "bert_df.head()"
   ]
  },
  {
   "cell_type": "code",
   "execution_count": 24,
   "metadata": {},
   "outputs": [],
   "source": [
    "bert_df.to_pickle(os.path.join(IN_DIR,'bert_x.pkl'))"
   ]
  },
  {
   "cell_type": "code",
   "execution_count": 20,
   "metadata": {},
   "outputs": [],
   "source": []
  },
  {
   "cell_type": "code",
   "execution_count": null,
   "metadata": {},
   "outputs": [],
   "source": []
  }
 ],
 "metadata": {
  "kernelspec": {
   "display_name": "Python 3",
   "language": "python",
   "name": "python3"
  },
  "language_info": {
   "codemirror_mode": {
    "name": "ipython",
    "version": 3
   },
   "file_extension": ".py",
   "mimetype": "text/x-python",
   "name": "python",
   "nbconvert_exporter": "python",
   "pygments_lexer": "ipython3",
   "version": "3.6.8"
  }
 },
 "nbformat": 4,
 "nbformat_minor": 2
}
