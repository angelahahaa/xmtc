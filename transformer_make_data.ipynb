{
 "cells": [
  {
   "cell_type": "code",
   "execution_count": 2,
   "metadata": {},
   "outputs": [
    {
     "name": "stderr",
     "output_type": "stream",
     "text": [
      "Using TensorFlow backend.\n"
     ]
    }
   ],
   "source": [
    "# basic\n",
    "import argparse\n",
    "import os,datetime\n",
    "\n",
    "# save things\n",
    "import pandas as pd\n",
    "from keras.callbacks import CSVLogger\n",
    "\n",
    "# model_func\n",
    "from tools.model_func import *"
   ]
  },
  {
   "cell_type": "code",
   "execution_count": 3,
   "metadata": {},
   "outputs": [],
   "source": [
    "os.environ[\"CUDA_DEVICE_ORDER\"]=\"PCI_BUS_ID\"\n",
    "os.environ[\"CUDA_VISIBLE_DEVICES\"]=\"\""
   ]
  },
  {
   "cell_type": "markdown",
   "metadata": {},
   "source": [
    "# copied code"
   ]
  },
  {
   "cell_type": "code",
   "execution_count": 3,
   "metadata": {},
   "outputs": [],
   "source": [
    "import tensorflow_hub as hub\n",
    "from bert.tokenization import FullTokenizer\n",
    "from keras import backend as K\n",
    "from keras.layers import Layer"
   ]
  },
  {
   "cell_type": "code",
   "execution_count": 4,
   "metadata": {},
   "outputs": [],
   "source": [
    "from tools.MyClock import MyClock\n",
    "clk = MyClock()"
   ]
  },
  {
   "cell_type": "code",
   "execution_count": 5,
   "metadata": {},
   "outputs": [],
   "source": [
    "bert_path = \"https://tfhub.dev/google/bert_uncased_L-12_H-768_A-12/1\"\n",
    "def create_tokenizer_from_hub_module():\n",
    "    \"\"\"Get the vocab file and casing info from the Hub module.\"\"\"\n",
    "    bert_module =  hub.Module(bert_path)\n",
    "    tokenization_info = bert_module(signature=\"tokenization_info\", as_dict=True)\n",
    "    vocab_file, do_lower_case = sess.run(\n",
    "        [\n",
    "            tokenization_info[\"vocab_file\"],\n",
    "            tokenization_info[\"do_lower_case\"],\n",
    "        ]\n",
    "    )\n",
    "\n",
    "    return FullTokenizer(vocab_file=vocab_file, do_lower_case=do_lower_case)"
   ]
  },
  {
   "cell_type": "markdown",
   "metadata": {},
   "source": [
    "# convert data for bert"
   ]
  },
  {
   "cell_type": "code",
   "execution_count": 6,
   "metadata": {},
   "outputs": [],
   "source": [
    "import pickle"
   ]
  },
  {
   "cell_type": "code",
   "execution_count": 7,
   "metadata": {},
   "outputs": [],
   "source": [
    "# tokenizer sequence to text keep <UNK\\>\n",
    "IN_DIR = 'data/sic_hierarchy'\n",
    "x_train,y_trains,x_test,y_teast = get_input(in_dir=IN_DIR,mode='cat')"
   ]
  },
  {
   "cell_type": "code",
   "execution_count": 8,
   "metadata": {},
   "outputs": [],
   "source": [
    "max_sequence_length = x_train.shape[1]"
   ]
  },
  {
   "cell_type": "code",
   "execution_count": 9,
   "metadata": {},
   "outputs": [],
   "source": [
    "# get tokenizer\n",
    "tok = pickle.load(open(os.path.join(IN_DIR,'tokenizer.pkl'),'rb'))\n",
    "tok.index_word[0]=''\n",
    "tok.index_word[1] = \"w\"*201 # trigger [UNK] in WordpieceTokenizer"
   ]
  },
  {
   "cell_type": "code",
   "execution_count": 10,
   "metadata": {
    "scrolled": true
   },
   "outputs": [
    {
     "name": "stderr",
     "output_type": "stream",
     "text": [
      "WARNING: Logging before flag parsing goes to stderr.\n",
      "W0806 13:11:17.914444 140404942452544 deprecation_wrapper.py:119] From /home/angela/xmtc/bert/tokenization.py:125: The name tf.gfile.GFile is deprecated. Please use tf.io.gfile.GFile instead.\n",
      "\n"
     ]
    }
   ],
   "source": [
    "sess = tf.Session()\n",
    "tok_bert = create_tokenizer_from_hub_module()"
   ]
  },
  {
   "cell_type": "code",
   "execution_count": 11,
   "metadata": {},
   "outputs": [
    {
     "name": "stdout",
     "output_type": "stream",
     "text": [
      "08:41 99.99%\r"
     ]
    }
   ],
   "source": [
    "xx = np.concatenate([x_train,x_test])\n",
    "x_gen = tok.sequences_to_texts_generator(xx)\n",
    "N = xx.shape[0]\n",
    "rows = []\n",
    "clk.tic()\n",
    "for i,text in enumerate(x_gen):\n",
    "    dd = {}\n",
    "    text = text.strip()\n",
    "    tokens = tok_bert.tokenize(text)[:max_sequence_length-2] # truncate\n",
    "    tokenized = [\"[CLS]\"] + tokens +[\"[SEP]\"] # add [CLS],[SEP]\n",
    "    sequence = tok_bert.convert_tokens_to_ids(tokenized) # convert to sequence\n",
    "    pad_len = max([max_sequence_length-len(sequence),0]) # pad\n",
    "    # add zero padding\n",
    "    # input_mask = # mask zero paddings p\n",
    "    dd['text'] = text\n",
    "    dd['tokenized'] = tokenized\n",
    "    dd['sequence'] = sequence + [0]*pad_len\n",
    "    dd['mask'] = [1]*len(sequence) + [0]*pad_len\n",
    "    rows.append(dd)\n",
    "    if i%(N//100)==0:\n",
    "        print(\"{} {:.2f}%\".format(clk.toc(p=False),i/N*100),end='\\r')"
   ]
  },
  {
   "cell_type": "code",
   "execution_count": 12,
   "metadata": {},
   "outputs": [],
   "source": [
    "df = pd.read_pickle('data/sic_hierarchy.pkl')\n",
    "ind = df[df['train/test']=='train'].index.to_list() + df[df['train/test']=='test'].index.to_list()\n",
    "for i in range(len(rows)):\n",
    "    rows[i]['id']=ind[i]\n",
    "    if i < x_train.shape[0]:\n",
    "        rows[i]['train/test']='train'\n",
    "    else:\n",
    "        rows[i]['train/test']='test'"
   ]
  },
  {
   "cell_type": "code",
   "execution_count": 13,
   "metadata": {},
   "outputs": [],
   "source": [
    "bert_df = pd.DataFrame.from_dict(rows)\n",
    "bert_df.to_pickle('data/sic_hierarchy/bert_x.pkl')"
   ]
  },
  {
   "cell_type": "code",
   "execution_count": 14,
   "metadata": {},
   "outputs": [
    {
     "data": {
      "text/html": [
       "<div>\n",
       "<style scoped>\n",
       "    .dataframe tbody tr th:only-of-type {\n",
       "        vertical-align: middle;\n",
       "    }\n",
       "\n",
       "    .dataframe tbody tr th {\n",
       "        vertical-align: top;\n",
       "    }\n",
       "\n",
       "    .dataframe thead th {\n",
       "        text-align: right;\n",
       "    }\n",
       "</style>\n",
       "<table border=\"1\" class=\"dataframe\">\n",
       "  <thead>\n",
       "    <tr style=\"text-align: right;\">\n",
       "      <th></th>\n",
       "      <th>id</th>\n",
       "      <th>mask</th>\n",
       "      <th>sequence</th>\n",
       "      <th>text</th>\n",
       "      <th>tokenized</th>\n",
       "      <th>train/test</th>\n",
       "    </tr>\n",
       "  </thead>\n",
       "  <tbody>\n",
       "    <tr>\n",
       "      <th>0</th>\n",
       "      <td>453844</td>\n",
       "      <td>[1, 1, 1, 1, 1, 1, 1, 1, 1, 1, 1, 1, 1, 1, 1, ...</td>\n",
       "      <td>[101, 6160, 2000, 17350, 13695, 2658, 1998, 10...</td>\n",
       "      <td>welcome to a1 lifts professional and reliable ...</td>\n",
       "      <td>[[CLS], welcome, to, a1, lifts, professional, ...</td>\n",
       "      <td>train</td>\n",
       "    </tr>\n",
       "    <tr>\n",
       "      <th>1</th>\n",
       "      <td>914843</td>\n",
       "      <td>[1, 1, 1, 1, 1, 1, 1, 1, 1, 1, 1, 1, 1, 1, 1, ...</td>\n",
       "      <td>[101, 2256, 5379, 2326, 11341, 2846, 1997, 484...</td>\n",
       "      <td>our friendly service surprising range of fresh...</td>\n",
       "      <td>[[CLS], our, friendly, service, surprising, ra...</td>\n",
       "      <td>train</td>\n",
       "    </tr>\n",
       "    <tr>\n",
       "      <th>2</th>\n",
       "      <td>326959</td>\n",
       "      <td>[1, 1, 1, 1, 1, 1, 1, 1, 1, 1, 1, 1, 1, 1, 1, ...</td>\n",
       "      <td>[101, 11210, 2017, 2215, 2000, 2131, 2000, 199...</td>\n",
       "      <td>wherever you want to get to in life lloyds ban...</td>\n",
       "      <td>[[CLS], wherever, you, want, to, get, to, in, ...</td>\n",
       "      <td>train</td>\n",
       "    </tr>\n",
       "    <tr>\n",
       "      <th>3</th>\n",
       "      <td>445157</td>\n",
       "      <td>[1, 1, 1, 1, 1, 1, 1, 1, 1, 1, 1, 1, 1, 1, 1, ...</td>\n",
       "      <td>[101, 2024, 2017, 2559, 2005, 2152, 3737, 2655...</td>\n",
       "      <td>are you looking for high quality dentistry in ...</td>\n",
       "      <td>[[CLS], are, you, looking, for, high, quality,...</td>\n",
       "      <td>train</td>\n",
       "    </tr>\n",
       "    <tr>\n",
       "      <th>4</th>\n",
       "      <td>530932</td>\n",
       "      <td>[1, 1, 1, 1, 1, 1, 1, 1, 1, 1, 1, 1, 1, 1, 1, ...</td>\n",
       "      <td>[101, 1037, 2088, 1997, 3325, 1516, 2057, 2024...</td>\n",
       "      <td>a world of experience – we are experts in crui...</td>\n",
       "      <td>[[CLS], a, world, of, experience, –, we, are, ...</td>\n",
       "      <td>train</td>\n",
       "    </tr>\n",
       "  </tbody>\n",
       "</table>\n",
       "</div>"
      ],
      "text/plain": [
       "       id                                               mask  \\\n",
       "0  453844  [1, 1, 1, 1, 1, 1, 1, 1, 1, 1, 1, 1, 1, 1, 1, ...   \n",
       "1  914843  [1, 1, 1, 1, 1, 1, 1, 1, 1, 1, 1, 1, 1, 1, 1, ...   \n",
       "2  326959  [1, 1, 1, 1, 1, 1, 1, 1, 1, 1, 1, 1, 1, 1, 1, ...   \n",
       "3  445157  [1, 1, 1, 1, 1, 1, 1, 1, 1, 1, 1, 1, 1, 1, 1, ...   \n",
       "4  530932  [1, 1, 1, 1, 1, 1, 1, 1, 1, 1, 1, 1, 1, 1, 1, ...   \n",
       "\n",
       "                                            sequence  \\\n",
       "0  [101, 6160, 2000, 17350, 13695, 2658, 1998, 10...   \n",
       "1  [101, 2256, 5379, 2326, 11341, 2846, 1997, 484...   \n",
       "2  [101, 11210, 2017, 2215, 2000, 2131, 2000, 199...   \n",
       "3  [101, 2024, 2017, 2559, 2005, 2152, 3737, 2655...   \n",
       "4  [101, 1037, 2088, 1997, 3325, 1516, 2057, 2024...   \n",
       "\n",
       "                                                text  \\\n",
       "0  welcome to a1 lifts professional and reliable ...   \n",
       "1  our friendly service surprising range of fresh...   \n",
       "2  wherever you want to get to in life lloyds ban...   \n",
       "3  are you looking for high quality dentistry in ...   \n",
       "4  a world of experience – we are experts in crui...   \n",
       "\n",
       "                                           tokenized train/test  \n",
       "0  [[CLS], welcome, to, a1, lifts, professional, ...      train  \n",
       "1  [[CLS], our, friendly, service, surprising, ra...      train  \n",
       "2  [[CLS], wherever, you, want, to, get, to, in, ...      train  \n",
       "3  [[CLS], are, you, looking, for, high, quality,...      train  \n",
       "4  [[CLS], a, world, of, experience, –, we, are, ...      train  "
      ]
     },
     "execution_count": 14,
     "metadata": {},
     "output_type": "execute_result"
    }
   ],
   "source": [
    "bert_df.head()"
   ]
  },
  {
   "cell_type": "markdown",
   "metadata": {},
   "source": [
    "# make small data for gdrive"
   ]
  },
  {
   "cell_type": "code",
   "execution_count": 4,
   "metadata": {},
   "outputs": [
    {
     "data": {
      "text/html": [
       "<div>\n",
       "<style scoped>\n",
       "    .dataframe tbody tr th:only-of-type {\n",
       "        vertical-align: middle;\n",
       "    }\n",
       "\n",
       "    .dataframe tbody tr th {\n",
       "        vertical-align: top;\n",
       "    }\n",
       "\n",
       "    .dataframe thead th {\n",
       "        text-align: right;\n",
       "    }\n",
       "</style>\n",
       "<table border=\"1\" class=\"dataframe\">\n",
       "  <thead>\n",
       "    <tr style=\"text-align: right;\">\n",
       "      <th></th>\n",
       "      <th>id</th>\n",
       "      <th>mask</th>\n",
       "      <th>sequence</th>\n",
       "      <th>text</th>\n",
       "      <th>tokenized</th>\n",
       "      <th>train/test</th>\n",
       "    </tr>\n",
       "  </thead>\n",
       "  <tbody>\n",
       "    <tr>\n",
       "      <th>0</th>\n",
       "      <td>453844</td>\n",
       "      <td>[1, 1, 1, 1, 1, 1, 1, 1, 1, 1, 1, 1, 1, 1, 1, ...</td>\n",
       "      <td>[101, 6160, 2000, 17350, 13695, 2658, 1998, 10...</td>\n",
       "      <td>welcome to a1 lifts professional and reliable ...</td>\n",
       "      <td>[[CLS], welcome, to, a1, lifts, professional, ...</td>\n",
       "      <td>train</td>\n",
       "    </tr>\n",
       "    <tr>\n",
       "      <th>1</th>\n",
       "      <td>914843</td>\n",
       "      <td>[1, 1, 1, 1, 1, 1, 1, 1, 1, 1, 1, 1, 1, 1, 1, ...</td>\n",
       "      <td>[101, 2256, 5379, 2326, 11341, 2846, 1997, 484...</td>\n",
       "      <td>our friendly service surprising range of fresh...</td>\n",
       "      <td>[[CLS], our, friendly, service, surprising, ra...</td>\n",
       "      <td>train</td>\n",
       "    </tr>\n",
       "    <tr>\n",
       "      <th>2</th>\n",
       "      <td>326959</td>\n",
       "      <td>[1, 1, 1, 1, 1, 1, 1, 1, 1, 1, 1, 1, 1, 1, 1, ...</td>\n",
       "      <td>[101, 11210, 2017, 2215, 2000, 2131, 2000, 199...</td>\n",
       "      <td>wherever you want to get to in life lloyds ban...</td>\n",
       "      <td>[[CLS], wherever, you, want, to, get, to, in, ...</td>\n",
       "      <td>train</td>\n",
       "    </tr>\n",
       "    <tr>\n",
       "      <th>3</th>\n",
       "      <td>445157</td>\n",
       "      <td>[1, 1, 1, 1, 1, 1, 1, 1, 1, 1, 1, 1, 1, 1, 1, ...</td>\n",
       "      <td>[101, 2024, 2017, 2559, 2005, 2152, 3737, 2655...</td>\n",
       "      <td>are you looking for high quality dentistry in ...</td>\n",
       "      <td>[[CLS], are, you, looking, for, high, quality,...</td>\n",
       "      <td>train</td>\n",
       "    </tr>\n",
       "    <tr>\n",
       "      <th>4</th>\n",
       "      <td>530932</td>\n",
       "      <td>[1, 1, 1, 1, 1, 1, 1, 1, 1, 1, 1, 1, 1, 1, 1, ...</td>\n",
       "      <td>[101, 1037, 2088, 1997, 3325, 1516, 2057, 2024...</td>\n",
       "      <td>a world of experience – we are experts in crui...</td>\n",
       "      <td>[[CLS], a, world, of, experience, –, we, are, ...</td>\n",
       "      <td>train</td>\n",
       "    </tr>\n",
       "  </tbody>\n",
       "</table>\n",
       "</div>"
      ],
      "text/plain": [
       "       id                                               mask  \\\n",
       "0  453844  [1, 1, 1, 1, 1, 1, 1, 1, 1, 1, 1, 1, 1, 1, 1, ...   \n",
       "1  914843  [1, 1, 1, 1, 1, 1, 1, 1, 1, 1, 1, 1, 1, 1, 1, ...   \n",
       "2  326959  [1, 1, 1, 1, 1, 1, 1, 1, 1, 1, 1, 1, 1, 1, 1, ...   \n",
       "3  445157  [1, 1, 1, 1, 1, 1, 1, 1, 1, 1, 1, 1, 1, 1, 1, ...   \n",
       "4  530932  [1, 1, 1, 1, 1, 1, 1, 1, 1, 1, 1, 1, 1, 1, 1, ...   \n",
       "\n",
       "                                            sequence  \\\n",
       "0  [101, 6160, 2000, 17350, 13695, 2658, 1998, 10...   \n",
       "1  [101, 2256, 5379, 2326, 11341, 2846, 1997, 484...   \n",
       "2  [101, 11210, 2017, 2215, 2000, 2131, 2000, 199...   \n",
       "3  [101, 2024, 2017, 2559, 2005, 2152, 3737, 2655...   \n",
       "4  [101, 1037, 2088, 1997, 3325, 1516, 2057, 2024...   \n",
       "\n",
       "                                                text  \\\n",
       "0  welcome to a1 lifts professional and reliable ...   \n",
       "1  our friendly service surprising range of fresh...   \n",
       "2  wherever you want to get to in life lloyds ban...   \n",
       "3  are you looking for high quality dentistry in ...   \n",
       "4  a world of experience – we are experts in crui...   \n",
       "\n",
       "                                           tokenized train/test  \n",
       "0  [[CLS], welcome, to, a1, lifts, professional, ...      train  \n",
       "1  [[CLS], our, friendly, service, surprising, ra...      train  \n",
       "2  [[CLS], wherever, you, want, to, get, to, in, ...      train  \n",
       "3  [[CLS], are, you, looking, for, high, quality,...      train  \n",
       "4  [[CLS], a, world, of, experience, –, we, are, ...      train  "
      ]
     },
     "execution_count": 4,
     "metadata": {},
     "output_type": "execute_result"
    }
   ],
   "source": [
    "df = pd.read_pickle('data/sic_hierarchy/bert_x.pkl')\n",
    "df.head()"
   ]
  },
  {
   "cell_type": "code",
   "execution_count": 5,
   "metadata": {},
   "outputs": [],
   "source": [
    "df = pd.concat([df[df['train/test']=='train'],df[df['train/test']=='test']],ignore_index=True)"
   ]
  },
  {
   "cell_type": "code",
   "execution_count": 7,
   "metadata": {},
   "outputs": [],
   "source": [
    "_,y_trains,_,y_tests = get_input('data/sic_hierarchy','cat',get_output=[0,1,0,1])\n",
    "y_seq_1 = [np.argmax(y,axis=1) for y in y_trains]\n",
    "y_seq_2 = [np.argmax(y,axis=1) for y in y_tests]\n",
    "y_seq = [np.concatenate([y_seq_1[i],y_seq_2[i]]) for i in range(len(y_seq_1))]\n",
    "df['cat'] = np.array(y_seq).T.tolist()\n",
    "df.head()"
   ]
  },
  {
   "cell_type": "code",
   "execution_count": 9,
   "metadata": {},
   "outputs": [
    {
     "data": {
      "text/html": [
       "<div>\n",
       "<style scoped>\n",
       "    .dataframe tbody tr th:only-of-type {\n",
       "        vertical-align: middle;\n",
       "    }\n",
       "\n",
       "    .dataframe tbody tr th {\n",
       "        vertical-align: top;\n",
       "    }\n",
       "\n",
       "    .dataframe thead th {\n",
       "        text-align: right;\n",
       "    }\n",
       "</style>\n",
       "<table border=\"1\" class=\"dataframe\">\n",
       "  <thead>\n",
       "    <tr style=\"text-align: right;\">\n",
       "      <th></th>\n",
       "      <th>id</th>\n",
       "      <th>mask</th>\n",
       "      <th>sequence</th>\n",
       "      <th>text</th>\n",
       "      <th>tokenized</th>\n",
       "      <th>train/test</th>\n",
       "      <th>cat</th>\n",
       "      <th>hierarchy</th>\n",
       "    </tr>\n",
       "  </thead>\n",
       "  <tbody>\n",
       "    <tr>\n",
       "      <th>0</th>\n",
       "      <td>453844</td>\n",
       "      <td>[1, 1, 1, 1, 1, 1, 1, 1, 1, 1, 1, 1, 1, 1, 1, ...</td>\n",
       "      <td>[101, 6160, 2000, 17350, 13695, 2658, 1998, 10...</td>\n",
       "      <td>welcome to a1 lifts professional and reliable ...</td>\n",
       "      <td>[[CLS], welcome, to, a1, lifts, professional, ...</td>\n",
       "      <td>train</td>\n",
       "      <td>[0, 23, 179, 203]</td>\n",
       "      <td>[203]</td>\n",
       "    </tr>\n",
       "    <tr>\n",
       "      <th>1</th>\n",
       "      <td>914843</td>\n",
       "      <td>[1, 1, 1, 1, 1, 1, 1, 1, 1, 1, 1, 1, 1, 1, 1, ...</td>\n",
       "      <td>[101, 2256, 5379, 2326, 11341, 2846, 1997, 484...</td>\n",
       "      <td>our friendly service surprising range of fresh...</td>\n",
       "      <td>[[CLS], our, friendly, service, surprising, ra...</td>\n",
       "      <td>train</td>\n",
       "      <td>[4, 33, 248, 278]</td>\n",
       "      <td>[278]</td>\n",
       "    </tr>\n",
       "    <tr>\n",
       "      <th>2</th>\n",
       "      <td>326959</td>\n",
       "      <td>[1, 1, 1, 1, 1, 1, 1, 1, 1, 1, 1, 1, 1, 1, 1, ...</td>\n",
       "      <td>[101, 11210, 2017, 2215, 2000, 2131, 2000, 199...</td>\n",
       "      <td>wherever you want to get to in life lloyds ban...</td>\n",
       "      <td>[[CLS], wherever, you, want, to, get, to, in, ...</td>\n",
       "      <td>train</td>\n",
       "      <td>[8, 47, 331, 383]</td>\n",
       "      <td>[383]</td>\n",
       "    </tr>\n",
       "    <tr>\n",
       "      <th>3</th>\n",
       "      <td>445157</td>\n",
       "      <td>[1, 1, 1, 1, 1, 1, 1, 1, 1, 1, 1, 1, 1, 1, 1, ...</td>\n",
       "      <td>[101, 2024, 2017, 2559, 2005, 2152, 3737, 2655...</td>\n",
       "      <td>are you looking for high quality dentistry in ...</td>\n",
       "      <td>[[CLS], are, you, looking, for, high, quality,...</td>\n",
       "      <td>train</td>\n",
       "      <td>[14, 66, 413, 497]</td>\n",
       "      <td>[497]</td>\n",
       "    </tr>\n",
       "    <tr>\n",
       "      <th>4</th>\n",
       "      <td>530932</td>\n",
       "      <td>[1, 1, 1, 1, 1, 1, 1, 1, 1, 1, 1, 1, 1, 1, 1, ...</td>\n",
       "      <td>[101, 1037, 2088, 1997, 3325, 1516, 2057, 2024...</td>\n",
       "      <td>a world of experience – we are experts in crui...</td>\n",
       "      <td>[[CLS], a, world, of, experience, –, we, are, ...</td>\n",
       "      <td>train</td>\n",
       "      <td>[11, 60, 379, 455]</td>\n",
       "      <td>[455]</td>\n",
       "    </tr>\n",
       "  </tbody>\n",
       "</table>\n",
       "</div>"
      ],
      "text/plain": [
       "       id                                               mask  \\\n",
       "0  453844  [1, 1, 1, 1, 1, 1, 1, 1, 1, 1, 1, 1, 1, 1, 1, ...   \n",
       "1  914843  [1, 1, 1, 1, 1, 1, 1, 1, 1, 1, 1, 1, 1, 1, 1, ...   \n",
       "2  326959  [1, 1, 1, 1, 1, 1, 1, 1, 1, 1, 1, 1, 1, 1, 1, ...   \n",
       "3  445157  [1, 1, 1, 1, 1, 1, 1, 1, 1, 1, 1, 1, 1, 1, 1, ...   \n",
       "4  530932  [1, 1, 1, 1, 1, 1, 1, 1, 1, 1, 1, 1, 1, 1, 1, ...   \n",
       "\n",
       "                                            sequence  \\\n",
       "0  [101, 6160, 2000, 17350, 13695, 2658, 1998, 10...   \n",
       "1  [101, 2256, 5379, 2326, 11341, 2846, 1997, 484...   \n",
       "2  [101, 11210, 2017, 2215, 2000, 2131, 2000, 199...   \n",
       "3  [101, 2024, 2017, 2559, 2005, 2152, 3737, 2655...   \n",
       "4  [101, 1037, 2088, 1997, 3325, 1516, 2057, 2024...   \n",
       "\n",
       "                                                text  \\\n",
       "0  welcome to a1 lifts professional and reliable ...   \n",
       "1  our friendly service surprising range of fresh...   \n",
       "2  wherever you want to get to in life lloyds ban...   \n",
       "3  are you looking for high quality dentistry in ...   \n",
       "4  a world of experience – we are experts in crui...   \n",
       "\n",
       "                                           tokenized train/test  \\\n",
       "0  [[CLS], welcome, to, a1, lifts, professional, ...      train   \n",
       "1  [[CLS], our, friendly, service, surprising, ra...      train   \n",
       "2  [[CLS], wherever, you, want, to, get, to, in, ...      train   \n",
       "3  [[CLS], are, you, looking, for, high, quality,...      train   \n",
       "4  [[CLS], a, world, of, experience, –, we, are, ...      train   \n",
       "\n",
       "                  cat hierarchy  \n",
       "0   [0, 23, 179, 203]     [203]  \n",
       "1   [4, 33, 248, 278]     [278]  \n",
       "2   [8, 47, 331, 383]     [383]  \n",
       "3  [14, 66, 413, 497]     [497]  \n",
       "4  [11, 60, 379, 455]     [455]  "
      ]
     },
     "execution_count": 9,
     "metadata": {},
     "output_type": "execute_result"
    }
   ],
   "source": [
    "_,y_trains,_,y_tests = get_input('data/sic_hierarchy','hierarchy',get_output=[0,1,0,1])\n",
    "y_seq_1 = [np.argmax(y,axis=1) for y in y_trains]\n",
    "y_seq_2 = [np.argmax(y,axis=1) for y in y_tests]\n",
    "y_seq = [np.concatenate([y_seq_1[i],y_seq_2[i]]) for i in range(len(y_seq_1))]\n",
    "df['hierarchy'] = np.array(y_seq).T.tolist()\n",
    "df.head()"
   ]
  },
  {
   "cell_type": "code",
   "execution_count": 10,
   "metadata": {},
   "outputs": [],
   "source": [
    "df = df.drop(columns=['mask','tokenized','text'])"
   ]
  },
  {
   "cell_type": "code",
   "execution_count": 12,
   "metadata": {},
   "outputs": [],
   "source": [
    "df.to_pickle('data/sic_hierarchy/bert_gdrive.pkl')"
   ]
  },
  {
   "cell_type": "markdown",
   "metadata": {},
   "source": [
    "# temp"
   ]
  },
  {
   "cell_type": "code",
   "execution_count": null,
   "metadata": {},
   "outputs": [],
   "source": [
    "import time\n",
    "class MyClock:\n",
    "    def __init__(self,fmt='mm:ss'):\n",
    "        self.fmt = fmt\n",
    "    def tic(self):\n",
    "        self.start = time.time()\n",
    "    def toc(self,p = True):\n",
    "        t = time.time()\n",
    "        elapsed = t-self.start\n",
    "        if p:\n",
    "            print('TIME ELAPSED: {}'.format(self._get_print(elapsed)))\n",
    "        else:\n",
    "            return self._get_print(elapsed)\n",
    "    \n",
    "    def _get_print(self,tt):\n",
    "        if self.fmt == 'mm:ss':\n",
    "            return '{:02d}:{:02d}'.format(int(tt//60),int(tt%60))\n"
   ]
  }
 ],
 "metadata": {
  "kernelspec": {
   "display_name": "Python 3",
   "language": "python",
   "name": "python3"
  },
  "language_info": {
   "codemirror_mode": {
    "name": "ipython",
    "version": 3
   },
   "file_extension": ".py",
   "mimetype": "text/x-python",
   "name": "python",
   "nbconvert_exporter": "python",
   "pygments_lexer": "ipython3",
   "version": "3.6.8"
  }
 },
 "nbformat": 4,
 "nbformat_minor": 2
}
