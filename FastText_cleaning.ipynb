{
 "cells": [
  {
   "cell_type": "markdown",
   "metadata": {},
   "source": [
    "# clean data for fastText "
   ]
  },
  {
   "cell_type": "code",
   "execution_count": null,
   "metadata": {},
   "outputs": [],
   "source": [
    "import joblib,re,os\n",
    "import numpy as np\n",
    "from sklearn.model_selection import train_test_split"
   ]
  },
  {
   "cell_type": "markdown",
   "metadata": {},
   "source": [
    "## reddit dataset"
   ]
  },
  {
   "cell_type": "code",
   "execution_count": null,
   "metadata": {},
   "outputs": [],
   "source": [
    "INDIR = 'reddit/imbalanced_sample_data_cleaned.pkl'\n",
    "OUTDIR = 'data'"
   ]
  },
  {
   "cell_type": "code",
   "execution_count": null,
   "metadata": {},
   "outputs": [],
   "source": [
    "df = joblib.load(open(INDIR, 'rb'))\n",
    "df = df.reset_index(drop=True)"
   ]
  },
  {
   "cell_type": "code",
   "execution_count": null,
   "metadata": {},
   "outputs": [],
   "source": [
    "# clean data and format in fastext format\n",
    "token_pattern= re.compile('(?u)\\\\b\\\\w+\\\\b')\n",
    "def get_line(x):\n",
    "    # clean text and tockenize\n",
    "    tokenized = token_pattern.findall(x['text'].lower())\n",
    "    # add label\n",
    "    line = ['__label__'+x['subreddit'].lower()] + tokenized\n",
    "    line = ' '.join(line)\n",
    "    return line\n",
    "df['cleaned'] = df.apply(get_line,axis=1)"
   ]
  },
  {
   "cell_type": "code",
   "execution_count": null,
   "metadata": {},
   "outputs": [],
   "source": [
    "# train test split\n",
    "train_df, test_df = train_test_split(df, test_size=0.2)"
   ]
  },
  {
   "cell_type": "code",
   "execution_count": null,
   "metadata": {},
   "outputs": [],
   "source": [
    "if not os.path.exists(OUTDIR):\n",
    "    os.mkdir(OUTDIR)\n",
    "np.savetxt(r'{}/reddit.train.txt'.format(OUTDIR), train_df.cleaned, fmt='%s')\n",
    "np.savetxt(r'{}/reddit.test.txt'.format(OUTDIR), test_df.cleaned, fmt='%s')"
   ]
  }
 ],
 "metadata": {
  "kernelspec": {
   "display_name": "Python 3",
   "language": "python",
   "name": "python3"
  },
  "language_info": {
   "codemirror_mode": {
    "name": "ipython",
    "version": 3
   },
   "file_extension": ".py",
   "mimetype": "text/x-python",
   "name": "python",
   "nbconvert_exporter": "python",
   "pygments_lexer": "ipython3",
   "version": "3.6.8"
  }
 },
 "nbformat": 4,
 "nbformat_minor": 2
}
