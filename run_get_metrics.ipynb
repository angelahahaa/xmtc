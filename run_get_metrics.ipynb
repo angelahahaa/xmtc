{
 "cells": [
  {
   "cell_type": "code",
   "execution_count": null,
   "metadata": {},
   "outputs": [],
   "source": [
    "import os,re\n",
    "import pandas as pd\n",
    "import numpy as np\n",
    "import matplotlib.pyplot as plt\n",
    "from collections import defaultdict\n",
    "import scipy.sparse as sp\n",
    "from tools.model_func import get_input\n",
    "import seaborn as sns\n",
    "from sklearn.metrics import f1_score,precision_score\n",
    "import warnings"
   ]
  },
  {
   "cell_type": "markdown",
   "metadata": {},
   "source": [
    "# metric helpers"
   ]
  },
  {
   "cell_type": "code",
   "execution_count": null,
   "metadata": {},
   "outputs": [],
   "source": [
    "def get_sparse_k(y_true,y_pred,k,include_rank=False):\n",
    "    m,n = y_true.shape\n",
    "    rows = np.repeat(np.arange(m),k)\n",
    "    cols = y_pred[:,:k].flatten()\n",
    "    if include_rank:\n",
    "        data = np.tile(np.arange(k)+1,m)\n",
    "    else:\n",
    "        data = np.ones_like(rows)\n",
    "    return sp.csr_matrix((data,(rows,cols)),shape=(m,n))\n",
    "def get_pAtk(y_true,y_pred,k):\n",
    "    pred = get_sparse_k(y_true,y_pred,k)\n",
    "    patk = (y_true.multiply(pred).sum(axis=1)).A1\n",
    "    return patk\n",
    "def get_nDCGAtk(y_true,y_pred,k):\n",
    "    pred = get_sparse_k(y_true,y_pred,k,include_rank=True)\n",
    "    pred.data = 1/np.log(pred.data+1)\n",
    "    dcg = y_true.multiply(pred).sum(axis=1).A1\n",
    "    num_labs = y_true[0,:].sum() # small cheat coz we know |y|_0 is constant\n",
    "    norm_const = (1/np.log(np.arange(min(k,num_labs))+2)).sum()\n",
    "    ndcg = dcg/norm_const\n",
    "    return ndcg\n",
    "def get_multilabel_pAtk(y_true,y_pred,k):\n",
    "    pred = get_sparse_k(y_true,y_pred,k)\n",
    "    patk = (y_true.multiply(pred).sum(axis=1)/k).A1\n",
    "    return patk\n",
    "def get_macro_precision(y_true,y_pred,k):\n",
    "    pred = get_sparse_k(y_true,y_pred,k)\n",
    "    return precision_score(trues,pred,average=None)\n",
    "def get_macro_F1(y_true,y_pred,k):\n",
    "    pred = get_sparse_k(y_true,y_pred,k)\n",
    "    return f1_score(trues,pred,average=None)"
   ]
  },
  {
   "cell_type": "markdown",
   "metadata": {},
   "source": [
    "# input helper"
   ]
  },
  {
   "cell_type": "code",
   "execution_count": null,
   "metadata": {},
   "outputs": [],
   "source": [
    "def get_args(in_dir):\n",
    "    dirs = sorted([os.path.join(in_dir,d) for d in os.listdir(in_dir)])\n",
    "    out_d = defaultdict(list)\n",
    "    for d in dirs:\n",
    "        log_dir = os.path.join(d,'train.log')\n",
    "        args_dir = os.path.join(d,'args.csv')\n",
    "        if not os.path.exists(log_dir) or not os.path.exists(args_dir):\n",
    "            continue\n",
    "        df = pd.read_csv(log_dir)\n",
    "        arg = pd.read_csv(args_dir)\n",
    "        mode = arg.loc[0,'mode']\n",
    "        arg['dir'] = d\n",
    "        df['dir'] = d\n",
    "        out_d[mode].append(df)   \n",
    "        out_d['args'].append(arg)\n",
    "    args = pd.concat(out_d['args'], ignore_index = True, sort = False)\n",
    "    return args"
   ]
  },
  {
   "cell_type": "code",
   "execution_count": null,
   "metadata": {},
   "outputs": [],
   "source": [
    "def get_preds(model_dir,y_tests,per_hierarchy=False):\n",
    "    cnts = [y_tests[i].shape[1] for i in range(len(y_tests))]\n",
    "    offsets = [0] + [cnts[i]+sum(cnts[:i]) for i in range(len(cnts))]\n",
    "    if not per_hierarchy:\n",
    "        if 'FastText' in model_dir:\n",
    "            preds = np.loadtxt(os.path.join(model_dir,'pred_outputs.txt'),dtype=int)\n",
    "\n",
    "\n",
    "        else:\n",
    "            long_dir = os.path.join(model_dir,'combined_pred_outputs.txt')\n",
    "            if os.path.exists(long_dir):\n",
    "                preds = np.loadtxt(long_dir)\n",
    "            else:\n",
    "                pred_dirs = sorted([os.path.join(model_dir,d) for d in os.listdir(model_dir) if d.startswith('pred_outputs')])\n",
    "                preds = [np.loadtxt(pred_dir,dtype=int) for pred_dir in pred_dirs]\n",
    "                logi_dirs = sorted([os.path.join(model_dir,d) for d in os.listdir(model_dir) if d.startswith('pred_logits')])\n",
    "                logits = [np.loadtxt(dir) for dir in logi_dirs]\n",
    "\n",
    "                for i in range(0,len(preds)):\n",
    "                    preds[i]=preds[i]+offsets[i]\n",
    "                preds = np.concatenate(preds,axis=1)\n",
    "                # combined top k prediciton\n",
    "                ll = np.concatenate(logits,axis=1)\n",
    "                inds = np.argsort(ll,axis=1)[:,:-11:-1]\n",
    "                preds = np.take_along_axis(preds, inds, axis=1)\n",
    "                np.savetxt(long_dir,preds,fmt='%d')\n",
    "                print('SAVE COMBINED PREDICTIONS:\\n{}'.format(long_dir))\n",
    "\n",
    "    else:\n",
    "        if 'FastText' in model_dir:\n",
    "            pred_dirs = sorted([os.path.join(model_dir,d) for d in os.listdir(model_dir)])[1:]\n",
    "            preds = [np.loadtxt(pred_dir,dtype=int,usecols=0)+offsets[i] for i,pred_dir in enumerate(pred_dirs)]\n",
    "        else:\n",
    "            pred_dirs = sorted([os.path.join(model_dir,d) for d in os.listdir(model_dir) if d.startswith('pred_outputs')])\n",
    "            preds = [np.loadtxt(pred_dir,dtype=int,usecols=0)+offsets[i] for i,pred_dir in enumerate(pred_dirs)]\n",
    "        preds = np.vstack(preds).T\n",
    "    return preds\n",
    "        "
   ]
  },
  {
   "cell_type": "markdown",
   "metadata": {},
   "source": [
    "# get metrics at different levels"
   ]
  },
  {
   "cell_type": "code",
   "execution_count": null,
   "metadata": {},
   "outputs": [],
   "source": [
    "# get multi-label metrics\n",
    "def get_multi_label_metrics(d,trues,y_tests,metrics,ks=[1,3,5]):\n",
    "    print(d)\n",
    "    preds = get_preds(d,y_tests,per_hierarchy=False)\n",
    "    outs = []\n",
    "    for key,func in metrics.items():\n",
    "        scores = []\n",
    "        for i in ks:\n",
    "            score = func(trues,preds,i).mean()\n",
    "            scores.append(score)\n",
    "            print('{}{}:{:.2f}'.format(key,i,score*100),end=' ')\n",
    "        print()\n",
    "        outs.append([scores])\n",
    "    return outs"
   ]
  },
  {
   "cell_type": "code",
   "execution_count": null,
   "metadata": {},
   "outputs": [],
   "source": [
    "# get_per_H_metrics\n",
    "def get_per_H_metrics(d,y_tests,metrics,ks=[1,3,5]):\n",
    "    print(d)\n",
    "    preds = get_preds(d,per_hierarchy=True)\n",
    "    outs = []\n",
    "    for key,func in metrics.items():\n",
    "        scoress = []\n",
    "        for H in range(len(preds)):\n",
    "            scores = []\n",
    "            print('H{}:  '.format(H),end='')\n",
    "            for i in ks:\n",
    "                score = func(y_tests[H],preds[H],i).mean()\n",
    "                scores.append(score)\n",
    "                print('{}{}:{:.2f}'.format(key,i,score*100),end=' ')\n",
    "            print()\n",
    "            scoress.append(scores)\n",
    "        outs.append(scoress)\n",
    "    return outs"
   ]
  },
  {
   "cell_type": "code",
   "execution_count": null,
   "metadata": {},
   "outputs": [],
   "source": [
    "def get_macro_scores(d,trues,y_tests,metrics,groups,ks,per_hierarchy):\n",
    "    print(d)\n",
    "    preds = get_preds(d,y_tests,per_hierarchy=per_hierarchy)\n",
    "    rows = []\n",
    "    for key,func in metrics.items():\n",
    "        for k in ks:\n",
    "            ss = func(trues,preds,k)\n",
    "            for g,group in enumerate(groups):\n",
    "                dic = {}\n",
    "                dic['dir'] = d\n",
    "                dic['model'] = d.split('_')[-1]\n",
    "                dic['group'] = 'G{}'.format(g)\n",
    "                metric = key.format(k)\n",
    "                for ind in group:\n",
    "                    dic[metric] = ss[ind]\n",
    "                    dic['lab_ind']=ind\n",
    "                    rows.append({key:val for key,val in dic.items()})\n",
    "    df = pd.DataFrame.from_dict(rows)\n",
    "    df = df.groupby(['dir','lab_ind']).max().reset_index()\n",
    "    return df"
   ]
  },
  {
   "cell_type": "code",
   "execution_count": null,
   "metadata": {},
   "outputs": [],
   "source": [
    "# get groups\n",
    "def get_groups(y_trains,num_groups = 3):\n",
    "    # get train label frequencey\n",
    "    train_cnts = np.hstack([y.sum(axis=0).A1 for y in y_trains])\n",
    "    lab_to_cnts = {i:cnt for i,cnt in enumerate(train_cnts)}\n",
    "    sorted_labs = sorted(lab_to_cnts.keys(),key=lambda x:lab_to_cnts[x])\n",
    "    # get groups by count\n",
    "    group_cnt = sum([cnt for cnt in lab_to_cnts.values()])/num_groups\n",
    "    groups = []\n",
    "    accumulated_cnts = 0\n",
    "    group = []\n",
    "    for lab in sorted_labs:\n",
    "        accumulated_cnts+=lab_to_cnts[lab]\n",
    "        if accumulated_cnts>group_cnt and len(groups)<num_groups:\n",
    "            groups.append(group)\n",
    "            group = [lab]\n",
    "            accumulated_cnts = 0\n",
    "        else:\n",
    "            group.append(lab)\n",
    "    groups.append(group)\n",
    "    # print things\n",
    "    cut_off = [0]+[lab_to_cnts[g[-1]] for g in groups]\n",
    "    t_bound = ['${} < t < {}$'.format(cut_off[i],cut_off[i+1])for i in range(len(groups))]\n",
    "    lab_per_group = [len(g) for g in groups]\n",
    "    perc_lab_per_group = [g/sum(lab_per_group)*100 for g in lab_per_group]\n",
    "    df = pd.DataFrame()\n",
    "    df['group'] = ['G{}'.format(g) for g in range(len(groups))]\n",
    "    df['num_train'] = [sum([lab_to_cnts[lab] for lab in group])for group in groups]\n",
    "    df['perc_train'] = df['num_train']/df['num_train'].sum()*100\n",
    "    \n",
    "    df['num_train_cut_off'] = cut_off[1:]\n",
    "    df['t_bound'] = t_bound\n",
    "    df['num_labels'] = lab_per_group\n",
    "    df['perc_labels'] = df['num_labels']/df['num_labels'].sum()*100\n",
    "    return groups,df"
   ]
  },
  {
   "cell_type": "markdown",
   "metadata": {},
   "source": [
    "# get group table for latex"
   ]
  },
  {
   "cell_type": "code",
   "execution_count": null,
   "metadata": {},
   "outputs": [],
   "source": [
    "dfs = []\n",
    "names = ['SIC Code','AmazonCat-13k']\n",
    "for i,DATA in enumerate(['sic_hierarchy','amazon_hierarchy_2']):\n",
    "    IN_DIR = 'data/{}'.format(DATA)\n",
    "    _,y_trains,_,_ = get_input(mode='cat', in_dir = IN_DIR, sparse = True, get_output= [0,1,0,0])\n",
    "    _,df = get_groups(y_trains,num_groups = 3)\n",
    "    df['data'] = names[i]\n",
    "    dfs.append(df)\n",
    "df = pd.concat(dfs)\n",
    "df = df.set_index(['data','group'])\n",
    "df.index.names=[None,None]"
   ]
  },
  {
   "cell_type": "code",
   "execution_count": null,
   "metadata": {},
   "outputs": [],
   "source": [
    "cols = ['num_train','num_labels','perc_labels','t_bound']\n",
    "header = ['Train Samples','No. Labels','% Labels','Train Samples per label (t)']\n",
    "ll = df[cols].to_latex(header = header,index=True,float_format='%.2f',multirow=True)\n",
    "# ll = ll.replace('  ',' ')\n",
    "ll = re.sub(' {2,}', '',ll)\n",
    "ll = ll.replace('\\$','$')\n",
    "# ll = ll.replace('<','$<$')\n",
    "print(ll)"
   ]
  },
  {
   "cell_type": "markdown",
   "metadata": {},
   "source": [
    "# per group metrics for all data"
   ]
  },
  {
   "cell_type": "code",
   "execution_count": null,
   "metadata": {},
   "outputs": [],
   "source": [
    "# get args\n",
    "args = get_args('outputs')"
   ]
  },
  {
   "cell_type": "code",
   "execution_count": null,
   "metadata": {
    "scrolled": true
   },
   "outputs": [],
   "source": [
    "warnings.filterwarnings('ignore')\n",
    "\n",
    "dfs = []\n",
    "kss=[[4],[3]]\n",
    "metrics = {\n",
    "    'precision':get_macro_precision,\n",
    "    'F1':get_macro_F1\n",
    "}\n",
    "for LOSS in ['categorical','binary']:\n",
    "    for i,DATA in enumerate(['sic_hierarchy','amazon_hierarchy_2']):\n",
    "        ks = kss[i]\n",
    "        in_dir = 'data/{}'.format(DATA)\n",
    "        df = args\n",
    "        df = df[df['mode']=='cat']\n",
    "        df = df[df['input']==in_dir]\n",
    "        df = df[df['loss']==LOSS]\n",
    "        dirs = sorted(df.dir.to_list())\n",
    "        dirs = ['outputs/{}_c_FastText'.format(DATA)] + dirs\n",
    "        _,y_trains,_,y_tests = get_input(mode='cat', in_dir = in_dir, sparse = True, get_output= [0,1,0,1])\n",
    "        trues = sp.hstack(y_tests).tocsr()\n",
    "        groups,_ = get_groups(y_trains,num_groups = 3)\n",
    "        for ph in [True,False]:\n",
    "            for d in dirs:\n",
    "                df = get_macro_scores(d,trues,y_tests,metrics,groups,ks=ks,per_hierarchy=ph)\n",
    "                df['loss']=LOSS\n",
    "                df['input']=in_dir\n",
    "                df['per_hierarchy']=ph\n",
    "                dfs.append(df)"
   ]
  },
  {
   "cell_type": "markdown",
   "metadata": {},
   "source": [
    "## save"
   ]
  },
  {
   "cell_type": "code",
   "execution_count": null,
   "metadata": {},
   "outputs": [],
   "source": [
    "df = pd.concat(dfs,sort=False)\n",
    "df.head()"
   ]
  },
  {
   "cell_type": "code",
   "execution_count": null,
   "metadata": {},
   "outputs": [],
   "source": [
    "df.to_pickle('outputs/dfs/combined0.pkl')"
   ]
  },
  {
   "cell_type": "markdown",
   "metadata": {},
   "source": [
    "# macro average scores"
   ]
  },
  {
   "cell_type": "code",
   "execution_count": null,
   "metadata": {},
   "outputs": [],
   "source": [
    "order = ['FastText','xmlcnn','attentionxml','attention']\n",
    "df1 = df\n",
    "df1 = df[df['model'].isin(order)]\n",
    "df1 = df1.drop(columns=['lab_ind'])\n",
    "df1 = df1.groupby(['loss','input','per_hierarchy','model']).mean().unstack([-1])\n",
    "df1"
   ]
  },
  {
   "cell_type": "markdown",
   "metadata": {},
   "source": [
    "# Get pretty graphs"
   ]
  },
  {
   "cell_type": "code",
   "execution_count": null,
   "metadata": {},
   "outputs": [],
   "source": [
    "df = pd.read_pickle('outputs/dfs/combined0.pkl')"
   ]
  },
  {
   "cell_type": "code",
   "execution_count": null,
   "metadata": {},
   "outputs": [],
   "source": [
    "metric_dict = {\n",
    "    'precision':'Precision',\n",
    "    'F1':'F1 score',\n",
    "}\n",
    "data_dict = {\n",
    "    'data/sic_hierarchy':'SIC Code',\n",
    "    'data/amazon_hierarchy_2':'AmazonCat-13k',\n",
    "}"
   ]
  },
  {
   "cell_type": "markdown",
   "metadata": {},
   "source": [
    "### PLOT : baseline comparison"
   ]
  },
  {
   "cell_type": "code",
   "execution_count": null,
   "metadata": {},
   "outputs": [],
   "source": [
    "# PARAMS\n",
    "datas = ['data/sic_hierarchy','data/amazon_hierarchy_2']\n",
    "models = ['FastText','xmlcnn','attentionxml','attention']\n",
    "metrics = ['precision','F1']\n",
    "\n",
    "# function\n",
    "df1 = df\n",
    "df1 = df1[df1.loss=='binary']\n",
    "df1 = df1[df1.model.isin(models)]\n",
    "df1 = df1[df1.per_hierarchy == False]\n",
    "# bar chart of mean\n",
    "for data in datas:\n",
    "    df2 = df1[df1.input==data]\n",
    "    for metric in metrics:\n",
    "        # y tick counts\n",
    "        cnts = (df2.group.value_counts()/df2.group.value_counts().sum()*100).to_dict()\n",
    "        groups = sorted(cnts.keys())\n",
    "        # plot\n",
    "        fig,ax = plt.subplots()\n",
    "        bar = sns.barplot(\n",
    "            x = 'group',\n",
    "            y=metric,\n",
    "            hue='model',\n",
    "            data = df2,\n",
    "            ax = ax, \n",
    "            palette=\"Set3\",\n",
    "            order=groups,\n",
    "            hue_order = models\n",
    "           )\n",
    "        ax.legend(bbox_to_anchor=(0., 1.02, 1., .102), loc=3,\n",
    "               ncol=len(models), mode=\"expand\", borderaxespad=0.)\n",
    "        ax.set_ylabel(metric_dict[metric])\n",
    "        ax.set_xlabel('{} label groups (% labels in group)'.format(data_dict[data]))\n",
    "        ax.set_xticklabels(['{} ({:.2f}%)'.format(key,cnts[key]) for key in groups])\n",
    "        plt.show()"
   ]
  },
  {
   "cell_type": "code",
   "execution_count": 1,
   "metadata": {},
   "outputs": [],
   "source": [
    "### TABLE : baseline comparison"
   ]
  },
  {
   "cell_type": "code",
   "execution_count": null,
   "metadata": {},
   "outputs": [],
   "source": [
    "# TABLE\n",
    "datas = ['data/sic_hierarchy','data/amazon_hierarchy_2']\n",
    "models = ['FastText','xmlcnn','attentionxml','attention']\n",
    "metrics = ['precision','F1']\n",
    "for data in datas:\n",
    "    print(data)\n",
    "    df2 = df1[df1.input==data]\n",
    "    srs = (df2.groupby('model')[metrics].mean()*100).to_dict()\n",
    "    for metric in metrics:\n",
    "        print('{:10}'.format(metric),end=':')\n",
    "        print('&'.join(['{:.2f}'.format(srs[metric][key]) for key in models]))"
   ]
  },
  {
   "cell_type": "markdown",
   "metadata": {},
   "source": [
    "### play"
   ]
  },
  {
   "cell_type": "code",
   "execution_count": null,
   "metadata": {},
   "outputs": [],
   "source": [
    "# change in model performance with changing calculation method\n",
    "df1 = df\n",
    "df1 = df1[df1.loss=='binary']\n",
    "# df1 = df1[df1.model!='attention']\n",
    "# df1 = df1[df1.model!='bert']\n",
    "# df1 = df1[df1.model=='attentionxml']\n",
    "df1  = df1.set_index(['loss','input','dir','model','group','lab_ind','per_hierarchy']).stack().unstack([-2,-1])\n",
    "df1 = (df1.loc[:,(True)]-df1.loc[:,(False)]).reset_index()\n",
    "df1 = df1[df1.input=='data/amazon_hierarchy_2']\n",
    "# bar chart of mean\n",
    "metrics = ['precision','F1']\n",
    "y_labs = ['binary accuracy','F1 score']\n",
    "for i in range(len(metrics)):\n",
    "    metric = metrics[i]\n",
    "    y_lab = y_labs[i]\n",
    "    fig,ax = plt.subplots()\n",
    "    sns.barplot(x = 'group',y=metric,hue='model',data = df1,ax = ax, palette=\"Set3\",\n",
    "                order=sorted(df1.group.unique()),\n",
    "                hue_order = order\n",
    "               )\n",
    "    ax.legend(bbox_to_anchor=(0., 1.02, 1., .102), loc=3,\n",
    "           ncol=len(df1.model.unique()), mode=\"expand\", borderaxespad=0.)\n",
    "    ax.set_ylabel(y_lab)\n",
    "    ax.set_xlabel('AmazonCat-13k label groups')\n",
    "    plt.show()"
   ]
  },
  {
   "cell_type": "code",
   "execution_count": null,
   "metadata": {},
   "outputs": [],
   "source": [
    "df1 = df\n",
    "df1 = df1[df1['per_hierarchy']==True].drop(columns=['per_hierarchy'])\n",
    "\n",
    "# df1 = df1.drop(columns=['dir'])\n",
    "# df1  = df1.set_index(['input','model','group','lab_ind','loss']).stack().unstack([-2,-1])\n",
    "# df1\n"
   ]
  },
  {
   "cell_type": "code",
   "execution_count": null,
   "metadata": {},
   "outputs": [],
   "source": [
    "df1 = df1.drop(columns=['dir'])"
   ]
  },
  {
   "cell_type": "code",
   "execution_count": null,
   "metadata": {},
   "outputs": [],
   "source": [
    "df1.groupby(columns=['input','model','group','lab_ind','loss'])"
   ]
  },
  {
   "cell_type": "code",
   "execution_count": null,
   "metadata": {},
   "outputs": [],
   "source": [
    "# change in model performance with changing calculation method\n",
    "df1 = df\n",
    "df1 = df1[df1.loss=='binary']\n",
    "df1 = df1[df1['per_hierarchy']==True]\n",
    "# df1 = df1[df1.model!='attention']\n",
    "# df1 = df1[df1.model!='bert']\n",
    "# df1 = df1[df1.model=='attentionxml']\n",
    "df1  = df1.set_index(['input','dir','model','group','lab_ind','loss']).stack().unstack([-2,-1])\n",
    "df1 = (df1.loc[:,('categorical')]-df1.loc[:,('binary')]).reset_index()\n",
    "df1 = df1[df1.input=='data/amazon_hierarchy_2']\n",
    "# bar chart of mean\n",
    "metrics = ['precision','F1']\n",
    "y_labs = ['binary accuracy','F1 score']\n",
    "for i in range(len(metrics)):\n",
    "    metric = metrics[i]\n",
    "    y_lab = y_labs[i]\n",
    "    fig,ax = plt.subplots()\n",
    "    sns.barplot(x = 'group',y=metric,hue='model',data = df1,ax = ax, palette=\"Set3\",\n",
    "                order=sorted(df1.group.unique()),\n",
    "                hue_order = order\n",
    "               )\n",
    "    ax.legend(bbox_to_anchor=(0., 1.02, 1., .102), loc=3,\n",
    "           ncol=len(df1.model.unique()), mode=\"expand\", borderaxespad=0.)\n",
    "    ax.set_ylabel(y_lab)\n",
    "    ax.set_xlabel('AmazonCat-13k label groups')\n",
    "    plt.show()"
   ]
  },
  {
   "cell_type": "markdown",
   "metadata": {},
   "source": [
    "# multi-lab metrics"
   ]
  },
  {
   "cell_type": "code",
   "execution_count": null,
   "metadata": {},
   "outputs": [],
   "source": []
  }
 ],
 "metadata": {
  "kernelspec": {
   "display_name": "Python 3",
   "language": "python",
   "name": "python3"
  },
  "language_info": {
   "codemirror_mode": {
    "name": "ipython",
    "version": 3
   },
   "file_extension": ".py",
   "mimetype": "text/x-python",
   "name": "python",
   "nbconvert_exporter": "python",
   "pygments_lexer": "ipython3",
   "version": "3.6.8"
  }
 },
 "nbformat": 4,
 "nbformat_minor": 2
}
