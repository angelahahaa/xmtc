{
 "cells": [
  {
   "cell_type": "code",
   "execution_count": 1,
   "metadata": {},
   "outputs": [],
   "source": [
    "import joblib,re,os\n",
    "import numpy as np\n",
    "import pandas as pd\n",
    "import collections\n",
    "import warnings\n",
    "warnings.filterwarnings(\"ignore\")"
   ]
  },
  {
   "cell_type": "code",
   "execution_count": 2,
   "metadata": {},
   "outputs": [],
   "source": [
    "df = pd.read_pickle('data/amazon_1h.pkl')"
   ]
  },
  {
   "cell_type": "code",
   "execution_count": 4,
   "metadata": {},
   "outputs": [
    {
     "data": {
      "text/html": [
       "<div>\n",
       "<style scoped>\n",
       "    .dataframe tbody tr th:only-of-type {\n",
       "        vertical-align: middle;\n",
       "    }\n",
       "\n",
       "    .dataframe tbody tr th {\n",
       "        vertical-align: top;\n",
       "    }\n",
       "\n",
       "    .dataframe thead th {\n",
       "        text-align: right;\n",
       "    }\n",
       "</style>\n",
       "<table border=\"1\" class=\"dataframe\">\n",
       "  <thead>\n",
       "    <tr style=\"text-align: right;\">\n",
       "      <th></th>\n",
       "      <th>categories</th>\n",
       "      <th>train/test</th>\n",
       "      <th>text</th>\n",
       "    </tr>\n",
       "  </thead>\n",
       "  <tbody>\n",
       "    <tr>\n",
       "      <th>0000025240</th>\n",
       "      <td>[books, new, used &amp; rental textbooks, social s...</td>\n",
       "      <td>train</td>\n",
       "      <td>alan a . block is emeritus professor of crime ...</td>\n",
       "    </tr>\n",
       "    <tr>\n",
       "      <th>0001004743</th>\n",
       "      <td>[books, children's books, classics]</td>\n",
       "      <td>train</td>\n",
       "      <td>grade 4-8 ? the law of the jungle ? intense co...</td>\n",
       "    </tr>\n",
       "    <tr>\n",
       "      <th>0001024043</th>\n",
       "      <td>[books, literature &amp; fiction]</td>\n",
       "      <td>train</td>\n",
       "      <td>trotter street is alive with activity ! mae pr...</td>\n",
       "    </tr>\n",
       "    <tr>\n",
       "      <th>0001042335</th>\n",
       "      <td>[books, new, used &amp; rental textbooks, humaniti...</td>\n",
       "      <td>train</td>\n",
       "      <td>william shakespeare is widely regarded as the ...</td>\n",
       "    </tr>\n",
       "    <tr>\n",
       "      <th>0001046349</th>\n",
       "      <td>[books, literature &amp; fiction, contemporary]</td>\n",
       "      <td>train</td>\n",
       "      <td>`` no matter how appalling , malicious and pre...</td>\n",
       "    </tr>\n",
       "  </tbody>\n",
       "</table>\n",
       "</div>"
      ],
      "text/plain": [
       "                                                   categories train/test  \\\n",
       "0000025240  [books, new, used & rental textbooks, social s...      train   \n",
       "0001004743                [books, children's books, classics]      train   \n",
       "0001024043                      [books, literature & fiction]      train   \n",
       "0001042335  [books, new, used & rental textbooks, humaniti...      train   \n",
       "0001046349        [books, literature & fiction, contemporary]      train   \n",
       "\n",
       "                                                         text  \n",
       "0000025240  alan a . block is emeritus professor of crime ...  \n",
       "0001004743  grade 4-8 ? the law of the jungle ? intense co...  \n",
       "0001024043  trotter street is alive with activity ! mae pr...  \n",
       "0001042335  william shakespeare is widely regarded as the ...  \n",
       "0001046349  `` no matter how appalling , malicious and pre...  "
      ]
     },
     "execution_count": 4,
     "metadata": {},
     "output_type": "execute_result"
    }
   ],
   "source": [
    "df.head()"
   ]
  },
  {
   "cell_type": "code",
   "execution_count": 7,
   "metadata": {},
   "outputs": [],
   "source": [
    "df['cat_len'] = df['categories'].apply(len)"
   ]
  },
  {
   "cell_type": "code",
   "execution_count": 8,
   "metadata": {},
   "outputs": [
    {
     "data": {
      "text/plain": [
       "count    1.493021e+06\n",
       "mean     3.232762e+00\n",
       "std      1.213679e+00\n",
       "min      1.000000e+00\n",
       "25%      2.000000e+00\n",
       "50%      3.000000e+00\n",
       "75%      4.000000e+00\n",
       "max      5.000000e+00\n",
       "Name: cat_len, dtype: float64"
      ]
     },
     "execution_count": 8,
     "metadata": {},
     "output_type": "execute_result"
    }
   ],
   "source": [
    "df['cat_len'].describe()"
   ]
  },
  {
   "cell_type": "code",
   "execution_count": 28,
   "metadata": {
    "scrolled": true
   },
   "outputs": [
    {
     "data": {
      "text/plain": [
       "0.6384973821533656"
      ]
     },
     "execution_count": 28,
     "metadata": {},
     "output_type": "execute_result"
    }
   ],
   "source": [
    "np.mean(df['cat_len'].values>=3)"
   ]
  },
  {
   "cell_type": "code",
   "execution_count": 29,
   "metadata": {},
   "outputs": [],
   "source": [
    "new_df = df[df['cat_len']>=3]"
   ]
  },
  {
   "cell_type": "code",
   "execution_count": 37,
   "metadata": {},
   "outputs": [
    {
     "data": {
      "text/plain": [
       "(11741, 1493021)"
      ]
     },
     "execution_count": 37,
     "metadata": {},
     "output_type": "execute_result"
    }
   ],
   "source": [
    "orig_d = collections.defaultdict(int)\n",
    "for cat in df['categories'].values:\n",
    "    for i,c in enumerate(cat):\n",
    "        orig_d[c]+=1\n",
    "len(orig_d),len(df)"
   ]
  },
  {
   "cell_type": "code",
   "execution_count": 63,
   "metadata": {},
   "outputs": [],
   "source": [
    "cut_line= 4\n",
    "new_df = df[df['cat_len']>=cut_line]\n",
    "new_df['categories'] = new_df['categories'].apply(lambda x: x[:cut_line])\n",
    "new_df['cat_len'] = new_df['categories'].apply(len)\n",
    "d = collections.defaultdict(int)\n",
    "for cat in new_df['categories'].values:\n",
    "    for i,c in enumerate(cat):\n",
    "        d[c]+=1"
   ]
  },
  {
   "cell_type": "code",
   "execution_count": 64,
   "metadata": {},
   "outputs": [
    {
     "name": "stdout",
     "output_type": "stream",
     "text": [
      "6881 685633\n"
     ]
    },
    {
     "data": {
      "text/plain": [
       "train    542052\n",
       "test     143581\n",
       "Name: train/test, dtype: int64"
      ]
     },
     "execution_count": 64,
     "metadata": {},
     "output_type": "execute_result"
    }
   ],
   "source": [
    "print(len(d),len(new_df))\n",
    "new_df['train/test'].value_counts()"
   ]
  },
  {
   "cell_type": "code",
   "execution_count": 65,
   "metadata": {},
   "outputs": [
    {
     "data": {
      "text/plain": [
       "7544"
      ]
     },
     "execution_count": 65,
     "metadata": {},
     "output_type": "execute_result"
    }
   ],
   "source": [
    "a = set([' -> '.join(cat) for cat in new_df['categories'].values])\n",
    "len(a)"
   ]
  },
  {
   "cell_type": "code",
   "execution_count": 58,
   "metadata": {},
   "outputs": [
    {
     "data": {
      "text/plain": [
       "train    1186239\n",
       "test      306782\n",
       "Name: train/test, dtype: int64"
      ]
     },
     "execution_count": 58,
     "metadata": {},
     "output_type": "execute_result"
    }
   ],
   "source": [
    "df['train/test'].value_counts()"
   ]
  },
  {
   "cell_type": "code",
   "execution_count": 74,
   "metadata": {},
   "outputs": [
    {
     "data": {
      "text/html": [
       "<div>\n",
       "<style scoped>\n",
       "    .dataframe tbody tr th:only-of-type {\n",
       "        vertical-align: middle;\n",
       "    }\n",
       "\n",
       "    .dataframe tbody tr th {\n",
       "        vertical-align: top;\n",
       "    }\n",
       "\n",
       "    .dataframe thead th {\n",
       "        text-align: right;\n",
       "    }\n",
       "</style>\n",
       "<table border=\"1\" class=\"dataframe\">\n",
       "  <thead>\n",
       "    <tr style=\"text-align: right;\">\n",
       "      <th></th>\n",
       "      <th>categories</th>\n",
       "      <th>train/test</th>\n",
       "      <th>text</th>\n",
       "      <th>cat_len</th>\n",
       "      <th>FT</th>\n",
       "    </tr>\n",
       "  </thead>\n",
       "  <tbody>\n",
       "    <tr>\n",
       "      <th>0000025240</th>\n",
       "      <td>[books, new, used &amp; rental textbooks, social s...</td>\n",
       "      <td>train</td>\n",
       "      <td>alan a . block is emeritus professor of crime ...</td>\n",
       "      <td>5</td>\n",
       "      <td>__label__books-&gt;new-&gt;used_&amp;_rental_textbooks-&gt;...</td>\n",
       "    </tr>\n",
       "    <tr>\n",
       "      <th>0001004743</th>\n",
       "      <td>[books, children's books, classics]</td>\n",
       "      <td>train</td>\n",
       "      <td>grade 4-8 ? the law of the jungle ? intense co...</td>\n",
       "      <td>3</td>\n",
       "      <td>__label__books-&gt;children's_books-&gt;classics gra...</td>\n",
       "    </tr>\n",
       "    <tr>\n",
       "      <th>0001024043</th>\n",
       "      <td>[books, literature &amp; fiction]</td>\n",
       "      <td>train</td>\n",
       "      <td>trotter street is alive with activity ! mae pr...</td>\n",
       "      <td>2</td>\n",
       "      <td>__label__books-&gt;literature_&amp;_fiction trotter s...</td>\n",
       "    </tr>\n",
       "    <tr>\n",
       "      <th>0001042335</th>\n",
       "      <td>[books, new, used &amp; rental textbooks, humaniti...</td>\n",
       "      <td>train</td>\n",
       "      <td>william shakespeare is widely regarded as the ...</td>\n",
       "      <td>5</td>\n",
       "      <td>__label__books-&gt;new-&gt;used_&amp;_rental_textbooks-&gt;...</td>\n",
       "    </tr>\n",
       "    <tr>\n",
       "      <th>0001046349</th>\n",
       "      <td>[books, literature &amp; fiction, contemporary]</td>\n",
       "      <td>train</td>\n",
       "      <td>`` no matter how appalling , malicious and pre...</td>\n",
       "      <td>3</td>\n",
       "      <td>__label__books-&gt;literature_&amp;_fiction-&gt;contempo...</td>\n",
       "    </tr>\n",
       "  </tbody>\n",
       "</table>\n",
       "</div>"
      ],
      "text/plain": [
       "                                                   categories train/test  \\\n",
       "0000025240  [books, new, used & rental textbooks, social s...      train   \n",
       "0001004743                [books, children's books, classics]      train   \n",
       "0001024043                      [books, literature & fiction]      train   \n",
       "0001042335  [books, new, used & rental textbooks, humaniti...      train   \n",
       "0001046349        [books, literature & fiction, contemporary]      train   \n",
       "\n",
       "                                                         text  cat_len  \\\n",
       "0000025240  alan a . block is emeritus professor of crime ...        5   \n",
       "0001004743  grade 4-8 ? the law of the jungle ? intense co...        3   \n",
       "0001024043  trotter street is alive with activity ! mae pr...        2   \n",
       "0001042335  william shakespeare is widely regarded as the ...        5   \n",
       "0001046349  `` no matter how appalling , malicious and pre...        3   \n",
       "\n",
       "                                                           FT  \n",
       "0000025240  __label__books->new->used_&_rental_textbooks->...  \n",
       "0001004743  __label__books->children's_books->classics gra...  \n",
       "0001024043  __label__books->literature_&_fiction trotter s...  \n",
       "0001042335  __label__books->new->used_&_rental_textbooks->...  \n",
       "0001046349  __label__books->literature_&_fiction->contempo...  "
      ]
     },
     "execution_count": 74,
     "metadata": {},
     "output_type": "execute_result"
    }
   ],
   "source": []
  },
  {
   "cell_type": "code",
   "execution_count": 82,
   "metadata": {},
   "outputs": [
    {
     "data": {
      "text/plain": [
       "10239"
      ]
     },
     "execution_count": 82,
     "metadata": {},
     "output_type": "execute_result"
    }
   ],
   "source": [
    "a = set([' -> '.join(cat[:min(len(cat),4)]) for cat in df['categories'].values])\n",
    "len(a)"
   ]
  },
  {
   "cell_type": "code",
   "execution_count": 84,
   "metadata": {},
   "outputs": [],
   "source": [
    "d = collections.defaultdict(int)\n",
    "for cats in list(a):\n",
    "    for cat in cats.split(' -> '):\n",
    "        d[cat]+=1"
   ]
  },
  {
   "cell_type": "code",
   "execution_count": 86,
   "metadata": {},
   "outputs": [
    {
     "data": {
      "text/plain": [
       "7883"
      ]
     },
     "execution_count": 86,
     "metadata": {},
     "output_type": "execute_result"
    }
   ],
   "source": [
    "len(d)"
   ]
  },
  {
   "cell_type": "markdown",
   "metadata": {},
   "source": [
    "# remove lower and create new dataset"
   ]
  },
  {
   "cell_type": "code",
   "execution_count": 2,
   "metadata": {},
   "outputs": [],
   "source": [
    "df = pd.read_pickle('data/amazon_1h.pkl')\n",
    "cap_at = 3"
   ]
  },
  {
   "cell_type": "code",
   "execution_count": 33,
   "metadata": {
    "scrolled": true
   },
   "outputs": [
    {
     "data": {
      "text/html": [
       "<div>\n",
       "<style scoped>\n",
       "    .dataframe tbody tr th:only-of-type {\n",
       "        vertical-align: middle;\n",
       "    }\n",
       "\n",
       "    .dataframe tbody tr th {\n",
       "        vertical-align: top;\n",
       "    }\n",
       "\n",
       "    .dataframe thead th {\n",
       "        text-align: right;\n",
       "    }\n",
       "</style>\n",
       "<table border=\"1\" class=\"dataframe\">\n",
       "  <thead>\n",
       "    <tr style=\"text-align: right;\">\n",
       "      <th></th>\n",
       "      <th>categories</th>\n",
       "      <th>train/test</th>\n",
       "      <th>text</th>\n",
       "      <th>cat1</th>\n",
       "      <th>cat0</th>\n",
       "      <th>cat2</th>\n",
       "    </tr>\n",
       "  </thead>\n",
       "  <tbody>\n",
       "    <tr>\n",
       "      <th>0000025240</th>\n",
       "      <td>[books, new, used &amp; rental textbooks, social s...</td>\n",
       "      <td>train</td>\n",
       "      <td>alan a . block is emeritus professor of crime ...</td>\n",
       "      <td>new</td>\n",
       "      <td>books</td>\n",
       "      <td>used &amp; rental textbooks</td>\n",
       "    </tr>\n",
       "    <tr>\n",
       "      <th>0001004743</th>\n",
       "      <td>[books, children's books, classics]</td>\n",
       "      <td>train</td>\n",
       "      <td>grade 4-8 ? the law of the jungle ? intense co...</td>\n",
       "      <td>children's books</td>\n",
       "      <td>books</td>\n",
       "      <td>classics</td>\n",
       "    </tr>\n",
       "    <tr>\n",
       "      <th>0001042335</th>\n",
       "      <td>[books, new, used &amp; rental textbooks, humaniti...</td>\n",
       "      <td>train</td>\n",
       "      <td>william shakespeare is widely regarded as the ...</td>\n",
       "      <td>new</td>\n",
       "      <td>books</td>\n",
       "      <td>used &amp; rental textbooks</td>\n",
       "    </tr>\n",
       "    <tr>\n",
       "      <th>0001046349</th>\n",
       "      <td>[books, literature &amp; fiction, contemporary]</td>\n",
       "      <td>train</td>\n",
       "      <td>`` no matter how appalling , malicious and pre...</td>\n",
       "      <td>literature &amp; fiction</td>\n",
       "      <td>books</td>\n",
       "      <td>contemporary</td>\n",
       "    </tr>\n",
       "    <tr>\n",
       "      <th>0001046438</th>\n",
       "      <td>[books, literature &amp; fiction, contemporary]</td>\n",
       "      <td>train</td>\n",
       "      <td>fry is a british polymath -- actor , journalis...</td>\n",
       "      <td>literature &amp; fiction</td>\n",
       "      <td>books</td>\n",
       "      <td>contemporary</td>\n",
       "    </tr>\n",
       "  </tbody>\n",
       "</table>\n",
       "</div>"
      ],
      "text/plain": [
       "                                                   categories train/test  \\\n",
       "0000025240  [books, new, used & rental textbooks, social s...      train   \n",
       "0001004743                [books, children's books, classics]      train   \n",
       "0001042335  [books, new, used & rental textbooks, humaniti...      train   \n",
       "0001046349        [books, literature & fiction, contemporary]      train   \n",
       "0001046438        [books, literature & fiction, contemporary]      train   \n",
       "\n",
       "                                                         text  \\\n",
       "0000025240  alan a . block is emeritus professor of crime ...   \n",
       "0001004743  grade 4-8 ? the law of the jungle ? intense co...   \n",
       "0001042335  william shakespeare is widely regarded as the ...   \n",
       "0001046349  `` no matter how appalling , malicious and pre...   \n",
       "0001046438  fry is a british polymath -- actor , journalis...   \n",
       "\n",
       "                            cat1   cat0                     cat2  \n",
       "0000025240                   new  books  used & rental textbooks  \n",
       "0001004743      children's books  books                 classics  \n",
       "0001042335                   new  books  used & rental textbooks  \n",
       "0001046349  literature & fiction  books             contemporary  \n",
       "0001046438  literature & fiction  books             contemporary  "
      ]
     },
     "execution_count": 33,
     "metadata": {},
     "output_type": "execute_result"
    }
   ],
   "source": [
    "df.head()"
   ]
  },
  {
   "cell_type": "code",
   "execution_count": 32,
   "metadata": {},
   "outputs": [],
   "source": [
    "df = df[df['categories'].apply(len)>=cap_at]"
   ]
  },
  {
   "cell_type": "code",
   "execution_count": 42,
   "metadata": {},
   "outputs": [],
   "source": [
    "def do_this(x,n):\n",
    "    if n>=len(x):\n",
    "        return ['<NONE>']\n",
    "    else:\n",
    "        return [x[n]]"
   ]
  },
  {
   "cell_type": "code",
   "execution_count": 43,
   "metadata": {},
   "outputs": [],
   "source": [
    "\n",
    "for n in range(cap_at):\n",
    "    df['cat{}'.format(n)] = df['categories'].apply(lambda x:do_this(x,n))"
   ]
  },
  {
   "cell_type": "code",
   "execution_count": 44,
   "metadata": {},
   "outputs": [
    {
     "data": {
      "text/html": [
       "<div>\n",
       "<style scoped>\n",
       "    .dataframe tbody tr th:only-of-type {\n",
       "        vertical-align: middle;\n",
       "    }\n",
       "\n",
       "    .dataframe tbody tr th {\n",
       "        vertical-align: top;\n",
       "    }\n",
       "\n",
       "    .dataframe thead th {\n",
       "        text-align: right;\n",
       "    }\n",
       "</style>\n",
       "<table border=\"1\" class=\"dataframe\">\n",
       "  <thead>\n",
       "    <tr style=\"text-align: right;\">\n",
       "      <th></th>\n",
       "      <th>categories</th>\n",
       "      <th>train/test</th>\n",
       "      <th>text</th>\n",
       "      <th>cat1</th>\n",
       "      <th>cat0</th>\n",
       "      <th>cat2</th>\n",
       "    </tr>\n",
       "  </thead>\n",
       "  <tbody>\n",
       "    <tr>\n",
       "      <th>0000025240</th>\n",
       "      <td>[books, new, used &amp; rental textbooks, social s...</td>\n",
       "      <td>train</td>\n",
       "      <td>alan a . block is emeritus professor of crime ...</td>\n",
       "      <td>[new]</td>\n",
       "      <td>[books]</td>\n",
       "      <td>[used &amp; rental textbooks]</td>\n",
       "    </tr>\n",
       "    <tr>\n",
       "      <th>0001004743</th>\n",
       "      <td>[books, children's books, classics]</td>\n",
       "      <td>train</td>\n",
       "      <td>grade 4-8 ? the law of the jungle ? intense co...</td>\n",
       "      <td>[children's books]</td>\n",
       "      <td>[books]</td>\n",
       "      <td>[classics]</td>\n",
       "    </tr>\n",
       "    <tr>\n",
       "      <th>0001042335</th>\n",
       "      <td>[books, new, used &amp; rental textbooks, humaniti...</td>\n",
       "      <td>train</td>\n",
       "      <td>william shakespeare is widely regarded as the ...</td>\n",
       "      <td>[new]</td>\n",
       "      <td>[books]</td>\n",
       "      <td>[used &amp; rental textbooks]</td>\n",
       "    </tr>\n",
       "    <tr>\n",
       "      <th>0001046349</th>\n",
       "      <td>[books, literature &amp; fiction, contemporary]</td>\n",
       "      <td>train</td>\n",
       "      <td>`` no matter how appalling , malicious and pre...</td>\n",
       "      <td>[literature &amp; fiction]</td>\n",
       "      <td>[books]</td>\n",
       "      <td>[contemporary]</td>\n",
       "    </tr>\n",
       "    <tr>\n",
       "      <th>0001046438</th>\n",
       "      <td>[books, literature &amp; fiction, contemporary]</td>\n",
       "      <td>train</td>\n",
       "      <td>fry is a british polymath -- actor , journalis...</td>\n",
       "      <td>[literature &amp; fiction]</td>\n",
       "      <td>[books]</td>\n",
       "      <td>[contemporary]</td>\n",
       "    </tr>\n",
       "  </tbody>\n",
       "</table>\n",
       "</div>"
      ],
      "text/plain": [
       "                                                   categories train/test  \\\n",
       "0000025240  [books, new, used & rental textbooks, social s...      train   \n",
       "0001004743                [books, children's books, classics]      train   \n",
       "0001042335  [books, new, used & rental textbooks, humaniti...      train   \n",
       "0001046349        [books, literature & fiction, contemporary]      train   \n",
       "0001046438        [books, literature & fiction, contemporary]      train   \n",
       "\n",
       "                                                         text  \\\n",
       "0000025240  alan a . block is emeritus professor of crime ...   \n",
       "0001004743  grade 4-8 ? the law of the jungle ? intense co...   \n",
       "0001042335  william shakespeare is widely regarded as the ...   \n",
       "0001046349  `` no matter how appalling , malicious and pre...   \n",
       "0001046438  fry is a british polymath -- actor , journalis...   \n",
       "\n",
       "                              cat1     cat0                       cat2  \n",
       "0000025240                   [new]  [books]  [used & rental textbooks]  \n",
       "0001004743      [children's books]  [books]                 [classics]  \n",
       "0001042335                   [new]  [books]  [used & rental textbooks]  \n",
       "0001046349  [literature & fiction]  [books]             [contemporary]  \n",
       "0001046438  [literature & fiction]  [books]             [contemporary]  "
      ]
     },
     "execution_count": 44,
     "metadata": {},
     "output_type": "execute_result"
    }
   ],
   "source": [
    "df.head()"
   ]
  },
  {
   "cell_type": "code",
   "execution_count": 47,
   "metadata": {},
   "outputs": [
    {
     "ename": "TypeError",
     "evalue": "unhashable type: 'list'",
     "output_type": "error",
     "traceback": [
      "\u001b[0;31m---------------------------------------------------------------------------\u001b[0m",
      "\u001b[0;31mTypeError\u001b[0m                                 Traceback (most recent call last)",
      "\u001b[0;32m<ipython-input-47-ccb543c271c1>\u001b[0m in \u001b[0;36m<module>\u001b[0;34m\u001b[0m\n\u001b[0;32m----> 1\u001b[0;31m \u001b[0mdf\u001b[0m\u001b[0;34m[\u001b[0m\u001b[0;34m[\u001b[0m\u001b[0;34m'cat0'\u001b[0m\u001b[0;34m,\u001b[0m\u001b[0;34m'cat1'\u001b[0m\u001b[0;34m,\u001b[0m\u001b[0;34m'cat2'\u001b[0m\u001b[0;34m]\u001b[0m\u001b[0;34m]\u001b[0m\u001b[0;34m.\u001b[0m\u001b[0mdescribe\u001b[0m\u001b[0;34m(\u001b[0m\u001b[0;34m)\u001b[0m\u001b[0;34m\u001b[0m\u001b[0;34m\u001b[0m\u001b[0m\n\u001b[0m",
      "\u001b[0;32m~/env/lib/python3.6/site-packages/pandas/core/generic.py\u001b[0m in \u001b[0;36mdescribe\u001b[0;34m(self, percentiles, include, exclude)\u001b[0m\n\u001b[1;32m   9802\u001b[0m             \u001b[0mdata\u001b[0m \u001b[0;34m=\u001b[0m \u001b[0mself\u001b[0m\u001b[0;34m.\u001b[0m\u001b[0mselect_dtypes\u001b[0m\u001b[0;34m(\u001b[0m\u001b[0minclude\u001b[0m\u001b[0;34m=\u001b[0m\u001b[0minclude\u001b[0m\u001b[0;34m,\u001b[0m \u001b[0mexclude\u001b[0m\u001b[0;34m=\u001b[0m\u001b[0mexclude\u001b[0m\u001b[0;34m)\u001b[0m\u001b[0;34m\u001b[0m\u001b[0;34m\u001b[0m\u001b[0m\n\u001b[1;32m   9803\u001b[0m \u001b[0;34m\u001b[0m\u001b[0m\n\u001b[0;32m-> 9804\u001b[0;31m         \u001b[0mldesc\u001b[0m \u001b[0;34m=\u001b[0m \u001b[0;34m[\u001b[0m\u001b[0mdescribe_1d\u001b[0m\u001b[0;34m(\u001b[0m\u001b[0ms\u001b[0m\u001b[0;34m)\u001b[0m \u001b[0;32mfor\u001b[0m \u001b[0m_\u001b[0m\u001b[0;34m,\u001b[0m \u001b[0ms\u001b[0m \u001b[0;32min\u001b[0m \u001b[0mdata\u001b[0m\u001b[0;34m.\u001b[0m\u001b[0miteritems\u001b[0m\u001b[0;34m(\u001b[0m\u001b[0;34m)\u001b[0m\u001b[0;34m]\u001b[0m\u001b[0;34m\u001b[0m\u001b[0;34m\u001b[0m\u001b[0m\n\u001b[0m\u001b[1;32m   9805\u001b[0m         \u001b[0;31m# set a convenient order for rows\u001b[0m\u001b[0;34m\u001b[0m\u001b[0;34m\u001b[0m\u001b[0;34m\u001b[0m\u001b[0m\n\u001b[1;32m   9806\u001b[0m         \u001b[0mnames\u001b[0m \u001b[0;34m=\u001b[0m \u001b[0;34m[\u001b[0m\u001b[0;34m]\u001b[0m\u001b[0;34m\u001b[0m\u001b[0;34m\u001b[0m\u001b[0m\n",
      "\u001b[0;32m~/env/lib/python3.6/site-packages/pandas/core/generic.py\u001b[0m in \u001b[0;36m<listcomp>\u001b[0;34m(.0)\u001b[0m\n\u001b[1;32m   9802\u001b[0m             \u001b[0mdata\u001b[0m \u001b[0;34m=\u001b[0m \u001b[0mself\u001b[0m\u001b[0;34m.\u001b[0m\u001b[0mselect_dtypes\u001b[0m\u001b[0;34m(\u001b[0m\u001b[0minclude\u001b[0m\u001b[0;34m=\u001b[0m\u001b[0minclude\u001b[0m\u001b[0;34m,\u001b[0m \u001b[0mexclude\u001b[0m\u001b[0;34m=\u001b[0m\u001b[0mexclude\u001b[0m\u001b[0;34m)\u001b[0m\u001b[0;34m\u001b[0m\u001b[0;34m\u001b[0m\u001b[0m\n\u001b[1;32m   9803\u001b[0m \u001b[0;34m\u001b[0m\u001b[0m\n\u001b[0;32m-> 9804\u001b[0;31m         \u001b[0mldesc\u001b[0m \u001b[0;34m=\u001b[0m \u001b[0;34m[\u001b[0m\u001b[0mdescribe_1d\u001b[0m\u001b[0;34m(\u001b[0m\u001b[0ms\u001b[0m\u001b[0;34m)\u001b[0m \u001b[0;32mfor\u001b[0m \u001b[0m_\u001b[0m\u001b[0;34m,\u001b[0m \u001b[0ms\u001b[0m \u001b[0;32min\u001b[0m \u001b[0mdata\u001b[0m\u001b[0;34m.\u001b[0m\u001b[0miteritems\u001b[0m\u001b[0;34m(\u001b[0m\u001b[0;34m)\u001b[0m\u001b[0;34m]\u001b[0m\u001b[0;34m\u001b[0m\u001b[0;34m\u001b[0m\u001b[0m\n\u001b[0m\u001b[1;32m   9805\u001b[0m         \u001b[0;31m# set a convenient order for rows\u001b[0m\u001b[0;34m\u001b[0m\u001b[0;34m\u001b[0m\u001b[0;34m\u001b[0m\u001b[0m\n\u001b[1;32m   9806\u001b[0m         \u001b[0mnames\u001b[0m \u001b[0;34m=\u001b[0m \u001b[0;34m[\u001b[0m\u001b[0;34m]\u001b[0m\u001b[0;34m\u001b[0m\u001b[0;34m\u001b[0m\u001b[0m\n",
      "\u001b[0;32m~/env/lib/python3.6/site-packages/pandas/core/generic.py\u001b[0m in \u001b[0;36mdescribe_1d\u001b[0;34m(data)\u001b[0m\n\u001b[1;32m   9785\u001b[0m                 \u001b[0;32mreturn\u001b[0m \u001b[0mdescribe_numeric_1d\u001b[0m\u001b[0;34m(\u001b[0m\u001b[0mdata\u001b[0m\u001b[0;34m)\u001b[0m\u001b[0;34m\u001b[0m\u001b[0;34m\u001b[0m\u001b[0m\n\u001b[1;32m   9786\u001b[0m             \u001b[0;32melse\u001b[0m\u001b[0;34m:\u001b[0m\u001b[0;34m\u001b[0m\u001b[0;34m\u001b[0m\u001b[0m\n\u001b[0;32m-> 9787\u001b[0;31m                 \u001b[0;32mreturn\u001b[0m \u001b[0mdescribe_categorical_1d\u001b[0m\u001b[0;34m(\u001b[0m\u001b[0mdata\u001b[0m\u001b[0;34m)\u001b[0m\u001b[0;34m\u001b[0m\u001b[0;34m\u001b[0m\u001b[0m\n\u001b[0m\u001b[1;32m   9788\u001b[0m \u001b[0;34m\u001b[0m\u001b[0m\n\u001b[1;32m   9789\u001b[0m         \u001b[0;32mif\u001b[0m \u001b[0mself\u001b[0m\u001b[0;34m.\u001b[0m\u001b[0mndim\u001b[0m \u001b[0;34m==\u001b[0m \u001b[0;36m1\u001b[0m\u001b[0;34m:\u001b[0m\u001b[0;34m\u001b[0m\u001b[0;34m\u001b[0m\u001b[0m\n",
      "\u001b[0;32m~/env/lib/python3.6/site-packages/pandas/core/generic.py\u001b[0m in \u001b[0;36mdescribe_categorical_1d\u001b[0;34m(data)\u001b[0m\n\u001b[1;32m   9752\u001b[0m         \u001b[0;32mdef\u001b[0m \u001b[0mdescribe_categorical_1d\u001b[0m\u001b[0;34m(\u001b[0m\u001b[0mdata\u001b[0m\u001b[0;34m)\u001b[0m\u001b[0;34m:\u001b[0m\u001b[0;34m\u001b[0m\u001b[0;34m\u001b[0m\u001b[0m\n\u001b[1;32m   9753\u001b[0m             \u001b[0mnames\u001b[0m \u001b[0;34m=\u001b[0m \u001b[0;34m[\u001b[0m\u001b[0;34m'count'\u001b[0m\u001b[0;34m,\u001b[0m \u001b[0;34m'unique'\u001b[0m\u001b[0;34m]\u001b[0m\u001b[0;34m\u001b[0m\u001b[0;34m\u001b[0m\u001b[0m\n\u001b[0;32m-> 9754\u001b[0;31m             \u001b[0mobjcounts\u001b[0m \u001b[0;34m=\u001b[0m \u001b[0mdata\u001b[0m\u001b[0;34m.\u001b[0m\u001b[0mvalue_counts\u001b[0m\u001b[0;34m(\u001b[0m\u001b[0;34m)\u001b[0m\u001b[0;34m\u001b[0m\u001b[0;34m\u001b[0m\u001b[0m\n\u001b[0m\u001b[1;32m   9755\u001b[0m             \u001b[0mcount_unique\u001b[0m \u001b[0;34m=\u001b[0m \u001b[0mlen\u001b[0m\u001b[0;34m(\u001b[0m\u001b[0mobjcounts\u001b[0m\u001b[0;34m[\u001b[0m\u001b[0mobjcounts\u001b[0m \u001b[0;34m!=\u001b[0m \u001b[0;36m0\u001b[0m\u001b[0;34m]\u001b[0m\u001b[0;34m)\u001b[0m\u001b[0;34m\u001b[0m\u001b[0;34m\u001b[0m\u001b[0m\n\u001b[1;32m   9756\u001b[0m             \u001b[0mresult\u001b[0m \u001b[0;34m=\u001b[0m \u001b[0;34m[\u001b[0m\u001b[0mdata\u001b[0m\u001b[0;34m.\u001b[0m\u001b[0mcount\u001b[0m\u001b[0;34m(\u001b[0m\u001b[0;34m)\u001b[0m\u001b[0;34m,\u001b[0m \u001b[0mcount_unique\u001b[0m\u001b[0;34m]\u001b[0m\u001b[0;34m\u001b[0m\u001b[0;34m\u001b[0m\u001b[0m\n",
      "\u001b[0;32m~/env/lib/python3.6/site-packages/pandas/core/base.py\u001b[0m in \u001b[0;36mvalue_counts\u001b[0;34m(self, normalize, sort, ascending, bins, dropna)\u001b[0m\n\u001b[1;32m   1301\u001b[0m         \u001b[0;32mfrom\u001b[0m \u001b[0mpandas\u001b[0m\u001b[0;34m.\u001b[0m\u001b[0mcore\u001b[0m\u001b[0;34m.\u001b[0m\u001b[0malgorithms\u001b[0m \u001b[0;32mimport\u001b[0m \u001b[0mvalue_counts\u001b[0m\u001b[0;34m\u001b[0m\u001b[0;34m\u001b[0m\u001b[0m\n\u001b[1;32m   1302\u001b[0m         result = value_counts(self, sort=sort, ascending=ascending,\n\u001b[0;32m-> 1303\u001b[0;31m                               normalize=normalize, bins=bins, dropna=dropna)\n\u001b[0m\u001b[1;32m   1304\u001b[0m         \u001b[0;32mreturn\u001b[0m \u001b[0mresult\u001b[0m\u001b[0;34m\u001b[0m\u001b[0;34m\u001b[0m\u001b[0m\n\u001b[1;32m   1305\u001b[0m \u001b[0;34m\u001b[0m\u001b[0m\n",
      "\u001b[0;32m~/env/lib/python3.6/site-packages/pandas/core/algorithms.py\u001b[0m in \u001b[0;36mvalue_counts\u001b[0;34m(values, sort, ascending, normalize, bins, dropna)\u001b[0m\n\u001b[1;32m    703\u001b[0m \u001b[0;34m\u001b[0m\u001b[0m\n\u001b[1;32m    704\u001b[0m         \u001b[0;32melse\u001b[0m\u001b[0;34m:\u001b[0m\u001b[0;34m\u001b[0m\u001b[0;34m\u001b[0m\u001b[0m\n\u001b[0;32m--> 705\u001b[0;31m             \u001b[0mkeys\u001b[0m\u001b[0;34m,\u001b[0m \u001b[0mcounts\u001b[0m \u001b[0;34m=\u001b[0m \u001b[0m_value_counts_arraylike\u001b[0m\u001b[0;34m(\u001b[0m\u001b[0mvalues\u001b[0m\u001b[0;34m,\u001b[0m \u001b[0mdropna\u001b[0m\u001b[0;34m)\u001b[0m\u001b[0;34m\u001b[0m\u001b[0;34m\u001b[0m\u001b[0m\n\u001b[0m\u001b[1;32m    706\u001b[0m \u001b[0;34m\u001b[0m\u001b[0m\n\u001b[1;32m    707\u001b[0m             \u001b[0;32mif\u001b[0m \u001b[0;32mnot\u001b[0m \u001b[0misinstance\u001b[0m\u001b[0;34m(\u001b[0m\u001b[0mkeys\u001b[0m\u001b[0;34m,\u001b[0m \u001b[0mIndex\u001b[0m\u001b[0;34m)\u001b[0m\u001b[0;34m:\u001b[0m\u001b[0;34m\u001b[0m\u001b[0;34m\u001b[0m\u001b[0m\n",
      "\u001b[0;32m~/env/lib/python3.6/site-packages/pandas/core/algorithms.py\u001b[0m in \u001b[0;36m_value_counts_arraylike\u001b[0;34m(values, dropna)\u001b[0m\n\u001b[1;32m    748\u001b[0m         \u001b[0;31m# TODO: handle uint8\u001b[0m\u001b[0;34m\u001b[0m\u001b[0;34m\u001b[0m\u001b[0;34m\u001b[0m\u001b[0m\n\u001b[1;32m    749\u001b[0m         \u001b[0mf\u001b[0m \u001b[0;34m=\u001b[0m \u001b[0mgetattr\u001b[0m\u001b[0;34m(\u001b[0m\u001b[0mhtable\u001b[0m\u001b[0;34m,\u001b[0m \u001b[0;34m\"value_count_{dtype}\"\u001b[0m\u001b[0;34m.\u001b[0m\u001b[0mformat\u001b[0m\u001b[0;34m(\u001b[0m\u001b[0mdtype\u001b[0m\u001b[0;34m=\u001b[0m\u001b[0mndtype\u001b[0m\u001b[0;34m)\u001b[0m\u001b[0;34m)\u001b[0m\u001b[0;34m\u001b[0m\u001b[0;34m\u001b[0m\u001b[0m\n\u001b[0;32m--> 750\u001b[0;31m         \u001b[0mkeys\u001b[0m\u001b[0;34m,\u001b[0m \u001b[0mcounts\u001b[0m \u001b[0;34m=\u001b[0m \u001b[0mf\u001b[0m\u001b[0;34m(\u001b[0m\u001b[0mvalues\u001b[0m\u001b[0;34m,\u001b[0m \u001b[0mdropna\u001b[0m\u001b[0;34m)\u001b[0m\u001b[0;34m\u001b[0m\u001b[0;34m\u001b[0m\u001b[0m\n\u001b[0m\u001b[1;32m    751\u001b[0m \u001b[0;34m\u001b[0m\u001b[0m\n\u001b[1;32m    752\u001b[0m         \u001b[0mmask\u001b[0m \u001b[0;34m=\u001b[0m \u001b[0misna\u001b[0m\u001b[0;34m(\u001b[0m\u001b[0mvalues\u001b[0m\u001b[0;34m)\u001b[0m\u001b[0;34m\u001b[0m\u001b[0;34m\u001b[0m\u001b[0m\n",
      "\u001b[0;32mpandas/_libs/hashtable_func_helper.pxi\u001b[0m in \u001b[0;36mpandas._libs.hashtable.value_count_object\u001b[0;34m()\u001b[0m\n",
      "\u001b[0;32mpandas/_libs/hashtable_func_helper.pxi\u001b[0m in \u001b[0;36mpandas._libs.hashtable.value_count_object\u001b[0;34m()\u001b[0m\n",
      "\u001b[0;31mTypeError\u001b[0m: unhashable type: 'list'"
     ]
    }
   ],
   "source": [
    "df[['cat0','cat1','cat2']].describe()"
   ]
  },
  {
   "cell_type": "code",
   "execution_count": 39,
   "metadata": {},
   "outputs": [
    {
     "data": {
      "text/plain": [
       "953290"
      ]
     },
     "execution_count": 39,
     "metadata": {},
     "output_type": "execute_result"
    }
   ],
   "source": [
    "len(df)"
   ]
  },
  {
   "cell_type": "code",
   "execution_count": 48,
   "metadata": {},
   "outputs": [
    {
     "data": {
      "text/html": [
       "<div>\n",
       "<style scoped>\n",
       "    .dataframe tbody tr th:only-of-type {\n",
       "        vertical-align: middle;\n",
       "    }\n",
       "\n",
       "    .dataframe tbody tr th {\n",
       "        vertical-align: top;\n",
       "    }\n",
       "\n",
       "    .dataframe thead th {\n",
       "        text-align: right;\n",
       "    }\n",
       "</style>\n",
       "<table border=\"1\" class=\"dataframe\">\n",
       "  <thead>\n",
       "    <tr style=\"text-align: right;\">\n",
       "      <th></th>\n",
       "      <th>categories</th>\n",
       "      <th>train/test</th>\n",
       "      <th>text</th>\n",
       "      <th>cat1</th>\n",
       "      <th>cat0</th>\n",
       "      <th>cat2</th>\n",
       "    </tr>\n",
       "  </thead>\n",
       "  <tbody>\n",
       "    <tr>\n",
       "      <th>0000025240</th>\n",
       "      <td>[books, new, used &amp; rental textbooks, social s...</td>\n",
       "      <td>train</td>\n",
       "      <td>alan a . block is emeritus professor of crime ...</td>\n",
       "      <td>[new]</td>\n",
       "      <td>[books]</td>\n",
       "      <td>[used &amp; rental textbooks]</td>\n",
       "    </tr>\n",
       "    <tr>\n",
       "      <th>0001004743</th>\n",
       "      <td>[books, children's books, classics]</td>\n",
       "      <td>train</td>\n",
       "      <td>grade 4-8 ? the law of the jungle ? intense co...</td>\n",
       "      <td>[children's books]</td>\n",
       "      <td>[books]</td>\n",
       "      <td>[classics]</td>\n",
       "    </tr>\n",
       "    <tr>\n",
       "      <th>0001042335</th>\n",
       "      <td>[books, new, used &amp; rental textbooks, humaniti...</td>\n",
       "      <td>train</td>\n",
       "      <td>william shakespeare is widely regarded as the ...</td>\n",
       "      <td>[new]</td>\n",
       "      <td>[books]</td>\n",
       "      <td>[used &amp; rental textbooks]</td>\n",
       "    </tr>\n",
       "    <tr>\n",
       "      <th>0001046349</th>\n",
       "      <td>[books, literature &amp; fiction, contemporary]</td>\n",
       "      <td>train</td>\n",
       "      <td>`` no matter how appalling , malicious and pre...</td>\n",
       "      <td>[literature &amp; fiction]</td>\n",
       "      <td>[books]</td>\n",
       "      <td>[contemporary]</td>\n",
       "    </tr>\n",
       "    <tr>\n",
       "      <th>0001046438</th>\n",
       "      <td>[books, literature &amp; fiction, contemporary]</td>\n",
       "      <td>train</td>\n",
       "      <td>fry is a british polymath -- actor , journalis...</td>\n",
       "      <td>[literature &amp; fiction]</td>\n",
       "      <td>[books]</td>\n",
       "      <td>[contemporary]</td>\n",
       "    </tr>\n",
       "  </tbody>\n",
       "</table>\n",
       "</div>"
      ],
      "text/plain": [
       "                                                   categories train/test  \\\n",
       "0000025240  [books, new, used & rental textbooks, social s...      train   \n",
       "0001004743                [books, children's books, classics]      train   \n",
       "0001042335  [books, new, used & rental textbooks, humaniti...      train   \n",
       "0001046349        [books, literature & fiction, contemporary]      train   \n",
       "0001046438        [books, literature & fiction, contemporary]      train   \n",
       "\n",
       "                                                         text  \\\n",
       "0000025240  alan a . block is emeritus professor of crime ...   \n",
       "0001004743  grade 4-8 ? the law of the jungle ? intense co...   \n",
       "0001042335  william shakespeare is widely regarded as the ...   \n",
       "0001046349  `` no matter how appalling , malicious and pre...   \n",
       "0001046438  fry is a british polymath -- actor , journalis...   \n",
       "\n",
       "                              cat1     cat0                       cat2  \n",
       "0000025240                   [new]  [books]  [used & rental textbooks]  \n",
       "0001004743      [children's books]  [books]                 [classics]  \n",
       "0001042335                   [new]  [books]  [used & rental textbooks]  \n",
       "0001046349  [literature & fiction]  [books]             [contemporary]  \n",
       "0001046438  [literature & fiction]  [books]             [contemporary]  "
      ]
     },
     "execution_count": 48,
     "metadata": {},
     "output_type": "execute_result"
    }
   ],
   "source": [
    "df.head()"
   ]
  },
  {
   "cell_type": "code",
   "execution_count": 49,
   "metadata": {},
   "outputs": [],
   "source": [
    "df.to_pickle('data/amazon_1h_trunc3.pkl')"
   ]
  },
  {
   "cell_type": "code",
   "execution_count": null,
   "metadata": {},
   "outputs": [],
   "source": []
  }
 ],
 "metadata": {
  "kernelspec": {
   "display_name": "Python 3",
   "language": "python",
   "name": "python3"
  },
  "language_info": {
   "codemirror_mode": {
    "name": "ipython",
    "version": 3
   },
   "file_extension": ".py",
   "mimetype": "text/x-python",
   "name": "python",
   "nbconvert_exporter": "python",
   "pygments_lexer": "ipython3",
   "version": "3.6.8"
  }
 },
 "nbformat": 4,
 "nbformat_minor": 2
}
