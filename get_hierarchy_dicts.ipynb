{
 "cells": [
  {
   "cell_type": "markdown",
   "metadata": {},
   "source": [
    "# make dict sic"
   ]
  },
  {
   "cell_type": "code",
   "execution_count": 1,
   "metadata": {},
   "outputs": [],
   "source": [
    "from collections import defaultdict\n",
    "import pickle\n",
    "import os, re"
   ]
  },
  {
   "cell_type": "code",
   "execution_count": 2,
   "metadata": {},
   "outputs": [],
   "source": [
    "# mlb\n",
    "IN_DIR = 'data/amazon_hierarchy_2'\n",
    "mlb_dirs = [os.path.join(IN_DIR,d) for d in os.listdir(IN_DIR) if d.startswith('mlb_cat')]\n",
    "mlbs = [pickle.load(open(d,'rb')) for d in sorted(mlb_dirs)]"
   ]
  },
  {
   "cell_type": "code",
   "execution_count": 3,
   "metadata": {},
   "outputs": [],
   "source": [
    "# create reverse dicts to go from class to index\n",
    "class_to_index = []\n",
    "for mlb in mlbs:\n",
    "    class_to_index.append({cls:i for i,cls in enumerate(mlb.classes_)})"
   ]
  },
  {
   "cell_type": "code",
   "execution_count": 4,
   "metadata": {},
   "outputs": [],
   "source": [
    "# parent_to_child\n",
    "parent_to_child = []\n",
    "for i,d in enumerate(class_to_index[:-1]):\n",
    "    dd = {}\n",
    "    for key,val in d.items():\n",
    "        dd[val] = [v for k,v in class_to_index[i+1].items() if k.startswith(key)]\n",
    "    parent_to_child.append(dd)"
   ]
  },
  {
   "cell_type": "code",
   "execution_count": 5,
   "metadata": {},
   "outputs": [],
   "source": [
    "# child_to_siblings\n",
    "child_to_siblings = [{}]\n",
    "for i,d in enumerate(class_to_index[:-1]):\n",
    "    dd = {}\n",
    "    for key,val in d.items():\n",
    "        siblings = [v for k,v in class_to_index[i+1].items() if k.startswith(key)]\n",
    "        for sibling in siblings:\n",
    "            dd[sibling]=siblings\n",
    "    child_to_siblings.append(dd)\n",
    "# create mask"
   ]
  },
  {
   "cell_type": "code",
   "execution_count": null,
   "metadata": {},
   "outputs": [],
   "source": [
    "pickle.dump(child_to_siblings,open(os.path.join(IN_DIR,'child_to_siblings.pkl'),'wb'), pickle.HIGHEST_PROTOCOL)"
   ]
  },
  {
   "cell_type": "code",
   "execution_count": null,
   "metadata": {},
   "outputs": [],
   "source": [
    "pickle.dump(parent_to_child,open(os.path.join(IN_DIR,'parent_to_child.pkl'),'wb'), pickle.HIGHEST_PROTOCOL)"
   ]
  },
  {
   "cell_type": "markdown",
   "metadata": {},
   "source": [
    "# make dict amazon"
   ]
  },
  {
   "cell_type": "code",
   "execution_count": 6,
   "metadata": {},
   "outputs": [],
   "source": [
    "from collections import defaultdict\n",
    "import pickle\n",
    "import os, re\n",
    "import pandas as pd"
   ]
  },
  {
   "cell_type": "code",
   "execution_count": 7,
   "metadata": {},
   "outputs": [],
   "source": [
    "# mlb\n",
    "IN_DIR = 'data/amazon_hierarchy_2'\n",
    "DF_DIR = 'data/amazon_hierarchy.pkl'\n",
    "mlb_dirs = [os.path.join(IN_DIR,d) for d in os.listdir(IN_DIR) if d.startswith('mlb_cat')]\n",
    "mlbs = [pickle.load(open(d,'rb')) for d in sorted(mlb_dirs)]"
   ]
  },
  {
   "cell_type": "code",
   "execution_count": 15,
   "metadata": {},
   "outputs": [],
   "source": [
    "df = pd.read_pickle(DF_DIR)\n",
    "df = df[df['train/test'].isin(['train','test'])]"
   ]
  },
  {
   "cell_type": "code",
   "execution_count": 16,
   "metadata": {},
   "outputs": [
    {
     "data": {
      "text/html": [
       "<div>\n",
       "<style scoped>\n",
       "    .dataframe tbody tr th:only-of-type {\n",
       "        vertical-align: middle;\n",
       "    }\n",
       "\n",
       "    .dataframe tbody tr th {\n",
       "        vertical-align: top;\n",
       "    }\n",
       "\n",
       "    .dataframe thead th {\n",
       "        text-align: right;\n",
       "    }\n",
       "</style>\n",
       "<table border=\"1\" class=\"dataframe\">\n",
       "  <thead>\n",
       "    <tr style=\"text-align: right;\">\n",
       "      <th></th>\n",
       "      <th>categories</th>\n",
       "      <th>train/test</th>\n",
       "      <th>text</th>\n",
       "      <th>cat1</th>\n",
       "      <th>cat0</th>\n",
       "      <th>cat2</th>\n",
       "      <th>hierarchy</th>\n",
       "    </tr>\n",
       "  </thead>\n",
       "  <tbody>\n",
       "    <tr>\n",
       "      <th>0000025240</th>\n",
       "      <td>[books, new, used &amp; rental textbooks]</td>\n",
       "      <td>train</td>\n",
       "      <td>alan a . block is emeritus professor of crime ...</td>\n",
       "      <td>[new]</td>\n",
       "      <td>[books]</td>\n",
       "      <td>[used &amp; rental textbooks]</td>\n",
       "      <td>[books &gt; new &gt; used &amp; rental textbooks]</td>\n",
       "    </tr>\n",
       "    <tr>\n",
       "      <th>0001004743</th>\n",
       "      <td>[books, children's books, classics]</td>\n",
       "      <td>train</td>\n",
       "      <td>grade 4-8 ? the law of the jungle ? intense co...</td>\n",
       "      <td>[children's books]</td>\n",
       "      <td>[books]</td>\n",
       "      <td>[classics]</td>\n",
       "      <td>[books &gt; children's books &gt; classics]</td>\n",
       "    </tr>\n",
       "    <tr>\n",
       "      <th>0001042335</th>\n",
       "      <td>[books, new, used &amp; rental textbooks]</td>\n",
       "      <td>train</td>\n",
       "      <td>william shakespeare is widely regarded as the ...</td>\n",
       "      <td>[new]</td>\n",
       "      <td>[books]</td>\n",
       "      <td>[used &amp; rental textbooks]</td>\n",
       "      <td>[books &gt; new &gt; used &amp; rental textbooks]</td>\n",
       "    </tr>\n",
       "    <tr>\n",
       "      <th>0001046349</th>\n",
       "      <td>[books, literature &amp; fiction, contemporary]</td>\n",
       "      <td>train</td>\n",
       "      <td>`` no matter how appalling , malicious and pre...</td>\n",
       "      <td>[literature &amp; fiction]</td>\n",
       "      <td>[books]</td>\n",
       "      <td>[contemporary]</td>\n",
       "      <td>[books &gt; literature &amp; fiction &gt; contemporary]</td>\n",
       "    </tr>\n",
       "    <tr>\n",
       "      <th>0001046438</th>\n",
       "      <td>[books, literature &amp; fiction, contemporary]</td>\n",
       "      <td>train</td>\n",
       "      <td>fry is a british polymath -- actor , journalis...</td>\n",
       "      <td>[literature &amp; fiction]</td>\n",
       "      <td>[books]</td>\n",
       "      <td>[contemporary]</td>\n",
       "      <td>[books &gt; literature &amp; fiction &gt; contemporary]</td>\n",
       "    </tr>\n",
       "  </tbody>\n",
       "</table>\n",
       "</div>"
      ],
      "text/plain": [
       "                                             categories train/test  \\\n",
       "0000025240        [books, new, used & rental textbooks]      train   \n",
       "0001004743          [books, children's books, classics]      train   \n",
       "0001042335        [books, new, used & rental textbooks]      train   \n",
       "0001046349  [books, literature & fiction, contemporary]      train   \n",
       "0001046438  [books, literature & fiction, contemporary]      train   \n",
       "\n",
       "                                                         text  \\\n",
       "0000025240  alan a . block is emeritus professor of crime ...   \n",
       "0001004743  grade 4-8 ? the law of the jungle ? intense co...   \n",
       "0001042335  william shakespeare is widely regarded as the ...   \n",
       "0001046349  `` no matter how appalling , malicious and pre...   \n",
       "0001046438  fry is a british polymath -- actor , journalis...   \n",
       "\n",
       "                              cat1     cat0                       cat2  \\\n",
       "0000025240                   [new]  [books]  [used & rental textbooks]   \n",
       "0001004743      [children's books]  [books]                 [classics]   \n",
       "0001042335                   [new]  [books]  [used & rental textbooks]   \n",
       "0001046349  [literature & fiction]  [books]             [contemporary]   \n",
       "0001046438  [literature & fiction]  [books]             [contemporary]   \n",
       "\n",
       "                                                hierarchy  \n",
       "0000025240        [books > new > used & rental textbooks]  \n",
       "0001004743          [books > children's books > classics]  \n",
       "0001042335        [books > new > used & rental textbooks]  \n",
       "0001046349  [books > literature & fiction > contemporary]  \n",
       "0001046438  [books > literature & fiction > contemporary]  "
      ]
     },
     "execution_count": 16,
     "metadata": {},
     "output_type": "execute_result"
    }
   ],
   "source": [
    "df.head()"
   ]
  },
  {
   "cell_type": "code",
   "execution_count": 17,
   "metadata": {},
   "outputs": [
    {
     "data": {
      "text/plain": [
       "2487"
      ]
     },
     "execution_count": 17,
     "metadata": {},
     "output_type": "execute_result"
    }
   ],
   "source": [
    "hierarchy = set()\n",
    "for h in df.categories.values:\n",
    "    hierarchy.add(' > '.join(h))\n",
    "hierarchy = [h.split(' > ') for h in hierarchy]\n",
    "len(hierarchy)"
   ]
  },
  {
   "cell_type": "code",
   "execution_count": 18,
   "metadata": {},
   "outputs": [],
   "source": [
    "# create reverse dicts to go from class to index\n",
    "# mlb\n",
    "mlb_dirs = [os.path.join(IN_DIR,d) for d in os.listdir(IN_DIR) if d.startswith('mlb_cat')]\n",
    "mlbs = [pickle.load(open(d,'rb')) for d in sorted(mlb_dirs)]\n",
    "class_to_index = []\n",
    "for mlb in mlbs:\n",
    "    class_to_index.append({cls:i for i,cls in enumerate(mlb.classes_)})"
   ]
  },
  {
   "cell_type": "code",
   "execution_count": 19,
   "metadata": {},
   "outputs": [],
   "source": [
    "# parent_to_child\n",
    "parent_to_child = [defaultdict(set) for _ in mlb_dirs[:-1]]\n",
    "for hier in hierarchy:\n",
    "    for i in range(len(hier)-1):\n",
    "        key = class_to_index[i][hier[i]]\n",
    "        val = class_to_index[i+1][hier[i+1]]\n",
    "        parent_to_child[i][key].add(val)\n",
    "parent_to_child = [{key:sorted(val) for key,val in p.items()} for p in parent_to_child]"
   ]
  },
  {
   "cell_type": "code",
   "execution_count": 20,
   "metadata": {},
   "outputs": [],
   "source": [
    "# child_to_siblings\n",
    "child_to_siblings = [{}]\n",
    "for dd in parent_to_child:\n",
    "    d = {}\n",
    "    for val in dd.values():\n",
    "        for v in val:\n",
    "            d[v] = sorted(val)\n",
    "    child_to_siblings.append(d)"
   ]
  },
  {
   "cell_type": "code",
   "execution_count": 21,
   "metadata": {},
   "outputs": [],
   "source": [
    "pickle.dump(child_to_siblings,open(os.path.join(IN_DIR,'child_to_siblings.pkl'),'wb'), pickle.HIGHEST_PROTOCOL)\n",
    "pickle.dump(parent_to_child,open(os.path.join(IN_DIR,'parent_to_child.pkl'),'wb'), pickle.HIGHEST_PROTOCOL)"
   ]
  },
  {
   "cell_type": "code",
   "execution_count": null,
   "metadata": {},
   "outputs": [],
   "source": []
  }
 ],
 "metadata": {
  "kernelspec": {
   "display_name": "Python 3",
   "language": "python",
   "name": "python3"
  },
  "language_info": {
   "codemirror_mode": {
    "name": "ipython",
    "version": 3
   },
   "file_extension": ".py",
   "mimetype": "text/x-python",
   "name": "python",
   "nbconvert_exporter": "python",
   "pygments_lexer": "ipython3",
   "version": "3.6.8"
  }
 },
 "nbformat": 4,
 "nbformat_minor": 2
}
