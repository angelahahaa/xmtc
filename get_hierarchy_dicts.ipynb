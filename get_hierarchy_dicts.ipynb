{
 "cells": [
  {
   "cell_type": "markdown",
   "metadata": {},
   "source": [
    "# make dict sic"
   ]
  },
  {
   "cell_type": "code",
   "execution_count": null,
   "metadata": {},
   "outputs": [],
   "source": [
    "from collections import defaultdict\n",
    "import pickle\n",
    "import os, re"
   ]
  },
  {
   "cell_type": "code",
   "execution_count": 3,
   "metadata": {},
   "outputs": [],
   "source": [
    "# mlb\n",
    "IN_DIR = 'data/amazon_hierarchy'\n",
    "mlb_dirs = [os.path.join(IN_DIR,d) for d in os.listdir(IN_DIR) if d.startswith('mlb_cat')]\n",
    "mlbs = [pickle.load(open(d,'rb')) for d in sorted(mlb_dirs)]"
   ]
  },
  {
   "cell_type": "code",
   "execution_count": 4,
   "metadata": {},
   "outputs": [],
   "source": [
    "# create reverse dicts to go from class to index\n",
    "class_to_index = []\n",
    "for mlb in mlbs:\n",
    "    class_to_index.append({cls:i for i,cls in enumerate(mlb.classes_)})"
   ]
  },
  {
   "cell_type": "code",
   "execution_count": 5,
   "metadata": {},
   "outputs": [],
   "source": [
    "# parent_to_child\n",
    "parent_to_child = []\n",
    "for i,d in enumerate(class_to_index[:-1]):\n",
    "    dd = {}\n",
    "    for key,val in d.items():\n",
    "        dd[val] = [v for k,v in class_to_index[i+1].items() if k.startswith(key)]\n",
    "    parent_to_child.append(dd)"
   ]
  },
  {
   "cell_type": "code",
   "execution_count": 6,
   "metadata": {},
   "outputs": [],
   "source": [
    "# child_to_siblings\n",
    "child_to_siblings = [{}]\n",
    "for i,d in enumerate(class_to_index[:-1]):\n",
    "    dd = {}\n",
    "    for key,val in d.items():\n",
    "        siblings = [v for k,v in class_to_index[i+1].items() if k.startswith(key)]\n",
    "        for sibling in siblings:\n",
    "            dd[sibling]=siblings\n",
    "    child_to_siblings.append(dd)\n",
    "# create mask"
   ]
  },
  {
   "cell_type": "code",
   "execution_count": null,
   "metadata": {},
   "outputs": [],
   "source": [
    "pickle.dump(child_to_siblings,open(os.path.join(IN_DIR,'child_to_siblings.pkl'),'wb'), pickle.HIGHEST_PROTOCOL)"
   ]
  },
  {
   "cell_type": "code",
   "execution_count": null,
   "metadata": {},
   "outputs": [],
   "source": [
    "pickle.dump(parent_to_child,open(os.path.join(IN_DIR,'parent_to_child.pkl'),'wb'), pickle.HIGHEST_PROTOCOL)"
   ]
  },
  {
   "cell_type": "markdown",
   "metadata": {},
   "source": [
    "# make dict amazon"
   ]
  },
  {
   "cell_type": "code",
   "execution_count": 1,
   "metadata": {},
   "outputs": [],
   "source": [
    "from collections import defaultdict\n",
    "import pickle\n",
    "import os, re\n",
    "import pandas as pd"
   ]
  },
  {
   "cell_type": "code",
   "execution_count": 2,
   "metadata": {},
   "outputs": [],
   "source": [
    "# mlb\n",
    "IN_DIR = 'data/amazon_hierarchy'\n",
    "DF_DIR = 'data/amazon_hierarchy.pkl'\n",
    "mlb_dirs = [os.path.join(IN_DIR,d) for d in os.listdir(IN_DIR) if d.startswith('mlb_cat')]\n",
    "mlbs = [pickle.load(open(d,'rb')) for d in sorted(mlb_dirs)]"
   ]
  },
  {
   "cell_type": "code",
   "execution_count": 3,
   "metadata": {},
   "outputs": [],
   "source": [
    "df = pd.read_pickle(DF_DIR)"
   ]
  },
  {
   "cell_type": "code",
   "execution_count": 4,
   "metadata": {},
   "outputs": [
    {
     "data": {
      "text/plain": [
       "2650"
      ]
     },
     "execution_count": 4,
     "metadata": {},
     "output_type": "execute_result"
    }
   ],
   "source": [
    "hierarchy = set()\n",
    "for h in df.hierarchy.values:\n",
    "    hierarchy.add(' > '.join(h))\n",
    "hierarchy = [h.split(' > ') for h in hierarchy]\n",
    "len(hierarchy)"
   ]
  },
  {
   "cell_type": "code",
   "execution_count": 5,
   "metadata": {},
   "outputs": [],
   "source": [
    "# create reverse dicts to go from class to index\n",
    "# mlb\n",
    "mlb_dirs = [os.path.join(IN_DIR,d) for d in os.listdir(IN_DIR) if d.startswith('mlb_cat')]\n",
    "mlbs = [pickle.load(open(d,'rb')) for d in sorted(mlb_dirs)]\n",
    "class_to_index = []\n",
    "for mlb in mlbs:\n",
    "    class_to_index.append({cls:i for i,cls in enumerate(mlb.classes_)})"
   ]
  },
  {
   "cell_type": "code",
   "execution_count": 10,
   "metadata": {},
   "outputs": [],
   "source": [
    "# parent_to_child\n",
    "parent_to_child = [defaultdict(set) for _ in mlb_dirs[:-1]]\n",
    "for hier in hierarchy:\n",
    "    for i in range(len(hier)-1):\n",
    "        key = class_to_index[i][hier[i]]\n",
    "        val = class_to_index[i+1][hier[i+1]]\n",
    "        parent_to_child[i][key].add(val)\n",
    "parent_to_child = [{key:sorted(val) for key,val in p.items()} for p in parent_to_child]"
   ]
  },
  {
   "cell_type": "code",
   "execution_count": 11,
   "metadata": {},
   "outputs": [],
   "source": [
    "# child_to_siblings\n",
    "child_to_siblings = [{}]\n",
    "for dd in parent_to_child:\n",
    "    d = {}\n",
    "    for val in dd.values():\n",
    "        for v in val:\n",
    "            d[v] = sorted(val)\n",
    "    child_to_siblings.append(d)"
   ]
  },
  {
   "cell_type": "code",
   "execution_count": 13,
   "metadata": {},
   "outputs": [],
   "source": [
    "pickle.dump(child_to_siblings,open(os.path.join(IN_DIR,'child_to_siblings.pkl'),'wb'), pickle.HIGHEST_PROTOCOL)\n",
    "pickle.dump(parent_to_child,open(os.path.join(IN_DIR,'parent_to_child.pkl'),'wb'), pickle.HIGHEST_PROTOCOL)"
   ]
  }
 ],
 "metadata": {
  "kernelspec": {
   "display_name": "Python 3",
   "language": "python",
   "name": "python3"
  },
  "language_info": {
   "codemirror_mode": {
    "name": "ipython",
    "version": 3
   },
   "file_extension": ".py",
   "mimetype": "text/x-python",
   "name": "python",
   "nbconvert_exporter": "python",
   "pygments_lexer": "ipython3",
   "version": "3.6.8"
  }
 },
 "nbformat": 4,
 "nbformat_minor": 2
}
