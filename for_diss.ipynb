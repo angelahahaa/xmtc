{
 "cells": [
  {
   "cell_type": "code",
   "execution_count": 45,
   "metadata": {},
   "outputs": [],
   "source": [
    "import os\n",
    "import pandas as pd\n",
    "import numpy as np\n",
    "import matplotlib.pyplot as plt\n",
    "import pickle\n",
    "import seaborn as sns\n",
    "from collections import defaultdict,Counter\n",
    "from tools.MyClock import MyClock\n",
    "clk = MyClock()"
   ]
  },
  {
   "cell_type": "markdown",
   "metadata": {},
   "source": [
    "# get label distribution"
   ]
  },
  {
   "cell_type": "code",
   "execution_count": 2,
   "metadata": {},
   "outputs": [],
   "source": [
    "df = pd.read_pickle('data/sic_hierarchy.pkl')"
   ]
  },
  {
   "cell_type": "code",
   "execution_count": 3,
   "metadata": {},
   "outputs": [
    {
     "data": {
      "text/html": [
       "<div>\n",
       "<style scoped>\n",
       "    .dataframe tbody tr th:only-of-type {\n",
       "        vertical-align: middle;\n",
       "    }\n",
       "\n",
       "    .dataframe tbody tr th {\n",
       "        vertical-align: top;\n",
       "    }\n",
       "\n",
       "    .dataframe thead th {\n",
       "        text-align: right;\n",
       "    }\n",
       "</style>\n",
       "<table border=\"1\" class=\"dataframe\">\n",
       "  <thead>\n",
       "    <tr style=\"text-align: right;\">\n",
       "      <th></th>\n",
       "      <th>text</th>\n",
       "      <th>categories</th>\n",
       "      <th>train/test</th>\n",
       "      <th>sic</th>\n",
       "      <th>cat0</th>\n",
       "      <th>cat1</th>\n",
       "      <th>cat2</th>\n",
       "      <th>cat3</th>\n",
       "      <th>hierarchy</th>\n",
       "      <th>sequence</th>\n",
       "    </tr>\n",
       "    <tr>\n",
       "      <th>id</th>\n",
       "      <th></th>\n",
       "      <th></th>\n",
       "      <th></th>\n",
       "      <th></th>\n",
       "      <th></th>\n",
       "      <th></th>\n",
       "      <th></th>\n",
       "      <th></th>\n",
       "      <th></th>\n",
       "      <th></th>\n",
       "    </tr>\n",
       "  </thead>\n",
       "  <tbody>\n",
       "    <tr>\n",
       "      <th>453844</th>\n",
       "      <td>welcome to a1 lifts . professional and reliabl...</td>\n",
       "      <td>[C, C33, C3319, C33190]</td>\n",
       "      <td>train</td>\n",
       "      <td>C33190</td>\n",
       "      <td>[C]</td>\n",
       "      <td>[C33]</td>\n",
       "      <td>[C3319]</td>\n",
       "      <td>[C33190]</td>\n",
       "      <td>[C33190]</td>\n",
       "      <td>[48, 7, 3871, 2402, 63, 2, 436, 2046, 746, 81,...</td>\n",
       "    </tr>\n",
       "    <tr>\n",
       "      <th>914843</th>\n",
       "      <td>our friendly service , surprising range of fre...</td>\n",
       "      <td>[G, G47, G4711, G47110]</td>\n",
       "      <td>train</td>\n",
       "      <td>G47110</td>\n",
       "      <td>[G]</td>\n",
       "      <td>[G47]</td>\n",
       "      <td>[G4711]</td>\n",
       "      <td>[G47110]</td>\n",
       "      <td>[G47110]</td>\n",
       "      <td>[13, 134, 30, 2019, 25, 5, 495, 2, 1707, 36, 2...</td>\n",
       "    </tr>\n",
       "    <tr>\n",
       "      <th>326959</th>\n",
       "      <td>wherever you want to get to in life , lloyds b...</td>\n",
       "      <td>[K, K64, K6419, K64191]</td>\n",
       "      <td>train</td>\n",
       "      <td>K64191</td>\n",
       "      <td>[K]</td>\n",
       "      <td>[K64]</td>\n",
       "      <td>[K6419]</td>\n",
       "      <td>[K64191]</td>\n",
       "      <td>[K64191]</td>\n",
       "      <td>[1075, 16, 243, 7, 72, 7, 4, 220, 1328, 186, 9...</td>\n",
       "    </tr>\n",
       "    <tr>\n",
       "      <th>541943</th>\n",
       "      <td>stanley gibbons – the home of stamp collecting...</td>\n",
       "      <td>[G, G47, G4778, G47789]</td>\n",
       "      <td>test</td>\n",
       "      <td>G47789</td>\n",
       "      <td>[G]</td>\n",
       "      <td>[G47]</td>\n",
       "      <td>[G4778]</td>\n",
       "      <td>[G47789]</td>\n",
       "      <td>[G47789]</td>\n",
       "      <td>[5523, 16256, 271, 3, 32, 5, 7892, 8629, 650, ...</td>\n",
       "    </tr>\n",
       "    <tr>\n",
       "      <th>445157</th>\n",
       "      <td>are you looking for high - quality dentistry i...</td>\n",
       "      <td>[Q, Q86, Q8623, Q86230]</td>\n",
       "      <td>train</td>\n",
       "      <td>Q86230</td>\n",
       "      <td>[Q]</td>\n",
       "      <td>[Q86]</td>\n",
       "      <td>[Q8623]</td>\n",
       "      <td>[Q86230]</td>\n",
       "      <td>[Q86230]</td>\n",
       "      <td>[17, 16, 154, 8, 70, 31, 1004, 4, 490, 54, 3, ...</td>\n",
       "    </tr>\n",
       "  </tbody>\n",
       "</table>\n",
       "</div>"
      ],
      "text/plain": [
       "                                                     text  \\\n",
       "id                                                          \n",
       "453844  welcome to a1 lifts . professional and reliabl...   \n",
       "914843  our friendly service , surprising range of fre...   \n",
       "326959  wherever you want to get to in life , lloyds b...   \n",
       "541943  stanley gibbons – the home of stamp collecting...   \n",
       "445157  are you looking for high - quality dentistry i...   \n",
       "\n",
       "                     categories train/test     sic cat0   cat1     cat2  \\\n",
       "id                                                                        \n",
       "453844  [C, C33, C3319, C33190]      train  C33190  [C]  [C33]  [C3319]   \n",
       "914843  [G, G47, G4711, G47110]      train  G47110  [G]  [G47]  [G4711]   \n",
       "326959  [K, K64, K6419, K64191]      train  K64191  [K]  [K64]  [K6419]   \n",
       "541943  [G, G47, G4778, G47789]       test  G47789  [G]  [G47]  [G4778]   \n",
       "445157  [Q, Q86, Q8623, Q86230]      train  Q86230  [Q]  [Q86]  [Q8623]   \n",
       "\n",
       "            cat3 hierarchy                                           sequence  \n",
       "id                                                                             \n",
       "453844  [C33190]  [C33190]  [48, 7, 3871, 2402, 63, 2, 436, 2046, 746, 81,...  \n",
       "914843  [G47110]  [G47110]  [13, 134, 30, 2019, 25, 5, 495, 2, 1707, 36, 2...  \n",
       "326959  [K64191]  [K64191]  [1075, 16, 243, 7, 72, 7, 4, 220, 1328, 186, 9...  \n",
       "541943  [G47789]  [G47789]  [5523, 16256, 271, 3, 32, 5, 7892, 8629, 650, ...  \n",
       "445157  [Q86230]  [Q86230]  [17, 16, 154, 8, 70, 31, 1004, 4, 490, 54, 3, ...  "
      ]
     },
     "execution_count": 3,
     "metadata": {},
     "output_type": "execute_result"
    }
   ],
   "source": [
    "df.head()"
   ]
  },
  {
   "cell_type": "code",
   "execution_count": 4,
   "metadata": {},
   "outputs": [],
   "source": [
    "df = df[df['train/test']=='train']"
   ]
  },
  {
   "cell_type": "code",
   "execution_count": 5,
   "metadata": {},
   "outputs": [],
   "source": [
    "cols = sorted([d for d in df.columns if d.startswith('cat') and not d=='categories'])\n",
    "cats=[]\n",
    "for col in cols:\n",
    "    classes = df[col].apply(lambda x:x[0])\n",
    "    cats.append(classes.value_counts().to_dict())"
   ]
  },
  {
   "cell_type": "code",
   "execution_count": 6,
   "metadata": {},
   "outputs": [],
   "source": [
    "hs = df.categories.apply(lambda x:' -> '.join(x))\n"
   ]
  },
  {
   "cell_type": "code",
   "execution_count": 7,
   "metadata": {},
   "outputs": [],
   "source": [
    "groups = [set()for i in range(4)]\n",
    "i = 0\n",
    "quant = len(df)/4\n",
    "num = 0\n",
    "cut = []\n",
    "for key,val in hs.value_counts(ascending=True).iteritems():\n",
    "    num+=val\n",
    "    if num>(i+1)*quant:\n",
    "        cut.append(val)\n",
    "        i+=1\n",
    "    groups[i].add(key)"
   ]
  },
  {
   "cell_type": "code",
   "execution_count": 8,
   "metadata": {},
   "outputs": [
    {
     "data": {
      "text/plain": [
       "[142689, 142432, 137341, 149639]"
      ]
     },
     "execution_count": 8,
     "metadata": {},
     "output_type": "execute_result"
    }
   ],
   "source": [
    "# check that each group has roughly the same number of training samples\n",
    "vc = hs.value_counts().to_dict()\n",
    "cnts = []\n",
    "for group in groups:\n",
    "    i = 0\n",
    "    for key in list(group):\n",
    "        i+=vc[key]\n",
    "    cnts.append(i)\n",
    "cnts"
   ]
  },
  {
   "cell_type": "code",
   "execution_count": 9,
   "metadata": {},
   "outputs": [],
   "source": [
    "group_cnts = [[[]for _ in range(len(cols))] for _ in range(len(groups))]\n",
    "for i,group in enumerate(groups):\n",
    "    for j,cc in enumerate(zip(*[a.split(' -> ') for a in list(group)])):\n",
    "        for c in list(set(cc)):\n",
    "            group_cnts[i][j].append(cats[j][c])"
   ]
  },
  {
   "cell_type": "code",
   "execution_count": 10,
   "metadata": {
    "scrolled": true
   },
   "outputs": [
    {
     "data": {
      "image/png": "[encoded data removed]",
      "text/plain": [
       "<Figure size 1152x360 with 4 Axes>"
      ]
     },
     "metadata": {
      "needs_background": "light"
     },
     "output_type": "display_data"
    }
   ],
   "source": [
    "# labels = []\n",
    "# labels.append('cnt<{}'.format(cut[0]))\n",
    "# labels.append('{}<cnt<{}'.format(cut[0],cut[1]))\n",
    "# labels.append('{}<cnt<{}'.format(cut[1],cut[2]))\n",
    "# labels.append('{}<cnt'.format(cut[2]))\n",
    "titles = ['Section','Division','Group','Class']\n",
    "labels = ['G{}'.format(i) for i in range(4)]\n",
    "fig,axes = plt.subplots(1,len(cols),figsize=(4*len(cols),5))\n",
    "for i in range(len(cols)):\n",
    "    axes[i].boxplot([group_cnts[c][i] for c in range(4) ],labels=labels)\n",
    "    axes[i].set_yticks([])\n",
    "    axes[i].set_title(titles[i])\n",
    "axes[0].set_ylabel('positive train instances')\n",
    "plt.tight_layout()\n",
    "plt.show()"
   ]
  },
  {
   "cell_type": "markdown",
   "metadata": {},
   "source": [
    "## get data imbalence relationship with depth"
   ]
  },
  {
   "cell_type": "code",
   "execution_count": 11,
   "metadata": {},
   "outputs": [
    {
     "name": "stderr",
     "output_type": "stream",
     "text": [
      "WARNING: Logging before flag parsing goes to stderr.\n",
      "W0825 18:29:30.101193 140609353299776 deprecation_wrapper.py:119] From /home/angela/xmtc/tools/model_func.py:21: The name tf.keras.layers.CuDNNLSTM is deprecated. Please use tf.compat.v1.keras.layers.CuDNNLSTM instead.\n",
      "\n"
     ]
    }
   ],
   "source": [
    "from tools.model_func import get_input"
   ]
  },
  {
   "cell_type": "code",
   "execution_count": 33,
   "metadata": {},
   "outputs": [],
   "source": [
    "_,y_trains,_,_ = get_input('data/amazon_hierarchy_2','cat',True,[0,1,0,0])"
   ]
  },
  {
   "cell_type": "code",
   "execution_count": 34,
   "metadata": {},
   "outputs": [],
   "source": [
    "cnts = [y.sum(axis=0).A1 for y in y_trains]"
   ]
  },
  {
   "cell_type": "code",
   "execution_count": 36,
   "metadata": {},
   "outputs": [
    {
     "data": {
      "image/png": "[encoded data removed]",
      "text/plain": [
       "<Figure size 432x288 with 1 Axes>"
      ]
     },
     "metadata": {
      "needs_background": "light"
     },
     "output_type": "display_data"
    }
   ],
   "source": [
    "# labels = ['Section','Division','Group','Class']\n",
    "labels = ['Top','Second','Third']\n",
    "plt.boxplot(cnts,labels=labels)\n",
    "plt.title('AmazonCat-13k training samples distribution')\n",
    "plt.yscale('log')\n",
    "plt.ylabel('+v training instance/label')\n",
    "plt.show()"
   ]
  },
  {
   "cell_type": "markdown",
   "metadata": {},
   "source": [
    "# amazon data examples"
   ]
  },
  {
   "cell_type": "code",
   "execution_count": null,
   "metadata": {},
   "outputs": [],
   "source": [
    "df = pd.read_pickle('data/amazon_des.pkl')"
   ]
  },
  {
   "cell_type": "code",
   "execution_count": null,
   "metadata": {},
   "outputs": [],
   "source": [
    "# read categories (hierarchy)\n",
    "CAT_DIR = './Amazon_RawData/categories.txt'\n",
    "CAT_MAP_DIR = \"./AmazonCat-13K_mappings/AmazonCat-13K_label_map.txt\"\n",
    "with open(CAT_MAP_DIR,'r',encoding = \"ISO-8859-1\") as f:\n",
    "    cats_map = f.read().splitlines()\n",
    "cats_set = set([c.lower() for c in cats_map])\n",
    "with open(CAT_DIR,'r',encoding = \"ISO-8859-1\") as f:\n",
    "    lines = f.read().splitlines()\n",
    "data = defaultdict(list)\n",
    "invalid = []\n",
    "for i,line in enumerate(lines):\n",
    "    if line[0]!=' ':\n",
    "        id = line\n",
    "    elif line[:2]=='  ':\n",
    "        cats = [t.strip().lower() for t in line.split(',')]\n",
    "        cats = [c for c in cats if c in cats_set]\n",
    "        if cats:\n",
    "            data[id].append(cats)\n",
    "        else:\n",
    "            invalid.append((i,line))\n",
    "    else:\n",
    "        raise Exception('invalide line {} : {}'.format(i,line))\n",
    "print(set([line for i,line in invalid]))"
   ]
  },
  {
   "cell_type": "code",
   "execution_count": null,
   "metadata": {},
   "outputs": [],
   "source": [
    "data = {key:data[key] for key in df.index.values}"
   ]
  },
  {
   "cell_type": "code",
   "execution_count": null,
   "metadata": {},
   "outputs": [],
   "source": [
    "woop = {}\n",
    "for key,val in data.items():\n",
    "    if len(val)>1:\n",
    "        woop[key] = [' $>$ '.join(v) for v in val]"
   ]
  },
  {
   "cell_type": "code",
   "execution_count": null,
   "metadata": {},
   "outputs": [],
   "source": [
    "woop"
   ]
  },
  {
   "cell_type": "markdown",
   "metadata": {},
   "source": [
    "# get data dimensions"
   ]
  },
  {
   "cell_type": "code",
   "execution_count": 2,
   "metadata": {},
   "outputs": [
    {
     "name": "stderr",
     "output_type": "stream",
     "text": [
      "WARNING: Logging before flag parsing goes to stderr.\n",
      "W0821 18:20:36.478215 140184857188160 deprecation_wrapper.py:119] From /home/angela/xmtc/tools/model_func.py:21: The name tf.keras.layers.CuDNNLSTM is deprecated. Please use tf.compat.v1.keras.layers.CuDNNLSTM instead.\n",
      "\n"
     ]
    }
   ],
   "source": [
    "from tools.model_func import get_input"
   ]
  },
  {
   "cell_type": "code",
   "execution_count": 3,
   "metadata": {},
   "outputs": [],
   "source": [
    "IN_DIR = 'data/amazon_hierarchy'"
   ]
  },
  {
   "cell_type": "code",
   "execution_count": 4,
   "metadata": {},
   "outputs": [],
   "source": [
    "tok = pickle.load(open(os.path.join(IN_DIR,'tokenizer.pkl'),'rb'))"
   ]
  },
  {
   "cell_type": "code",
   "execution_count": 5,
   "metadata": {},
   "outputs": [
    {
     "data": {
      "text/plain": [
       "50000"
      ]
     },
     "execution_count": 5,
     "metadata": {},
     "output_type": "execute_result"
    }
   ],
   "source": [
    "tok.num_words"
   ]
  },
  {
   "cell_type": "code",
   "execution_count": 6,
   "metadata": {},
   "outputs": [],
   "source": [
    "_,ytr,_,yte = get_input(in_dir=IN_DIR,mode = 'cat',get_output=[0,1,0,1])"
   ]
  },
  {
   "cell_type": "code",
   "execution_count": 7,
   "metadata": {},
   "outputs": [
    {
     "data": {
      "text/plain": [
       "([29, 293, 2227], 2549)"
      ]
     },
     "execution_count": 7,
     "metadata": {},
     "output_type": "execute_result"
    }
   ],
   "source": [
    "[y.shape[1] for y in ytr],sum([y.shape[1] for y in ytr])"
   ]
  },
  {
   "cell_type": "code",
   "execution_count": 8,
   "metadata": {},
   "outputs": [
    {
     "data": {
      "text/plain": [
       "((744195, 29), (195251, 29))"
      ]
     },
     "execution_count": 8,
     "metadata": {},
     "output_type": "execute_result"
    }
   ],
   "source": [
    "ytr[0].shape,yte[0].shape"
   ]
  },
  {
   "cell_type": "markdown",
   "metadata": {},
   "source": [
    "# max pooling"
   ]
  },
  {
   "cell_type": "code",
   "execution_count": 33,
   "metadata": {},
   "outputs": [],
   "source": [
    "aa = np.random.randint(0,10,size=(4,4))"
   ]
  },
  {
   "cell_type": "code",
   "execution_count": 43,
   "metadata": {},
   "outputs": [
    {
     "data": {
      "image/png": "[encoded data removed]",
      "text/plain": [
       "<Figure size 432x288 with 1 Axes>"
      ]
     },
     "metadata": {
      "needs_background": "light"
     },
     "output_type": "display_data"
    }
   ],
   "source": [
    "bb = np.array([[0,0,1,1],[0,0,1,1],[2,2,3,3],[2,2,3,3]])\n",
    "fig,ax = plt.subplots()\n",
    "for (i, j), z in np.ndenumerate(aa):\n",
    "    ax.text(j, i, '{:d}'.format(z), ha='center', va='center',fontsize=20)\n",
    "ax.matshow(bb,cmap=plt.get_cmap('Pastel2'))\n",
    "ax.set_xticks(np.arange(-.5, 4, 1))\n",
    "ax.set_xticklabels([])\n",
    "ax.set_yticks(np.arange(-.5, 4, 1))\n",
    "ax.set_yticklabels([])\n",
    "ax.grid('on',color='k')\n",
    "ax.tick_params(axis=u'both', which=u'both',length=0)\n",
    "plt.show()"
   ]
  },
  {
   "cell_type": "code",
   "execution_count": 44,
   "metadata": {},
   "outputs": [
    {
     "data": {
      "image/png": "[encoded data removed]",
      "text/plain": [
       "<Figure size 144x144 with 1 Axes>"
      ]
     },
     "metadata": {
      "needs_background": "light"
     },
     "output_type": "display_data"
    }
   ],
   "source": [
    "cc = np.array([[9,7],[9,9]])\n",
    "dd = np.array([[0,1],[2,3]])\n",
    "fig,ax = plt.subplots(figsize=(2,2))\n",
    "for (i, j), z in np.ndenumerate(cc):\n",
    "    ax.text(j, i, '{:d}'.format(z), ha='center', va='center',fontsize=20)\n",
    "ax.matshow(dd,cmap=plt.get_cmap('Pastel2'))\n",
    "ax.set_xticks(np.arange(-.5, 2, 1))\n",
    "ax.set_xticklabels([])\n",
    "ax.set_yticks(np.arange(-.5, 2, 1))\n",
    "ax.set_yticklabels([])\n",
    "ax.grid('on',color='k')\n",
    "ax.tick_params(axis=u'both', which=u'both',length=0)\n",
    "plt.show()"
   ]
  },
  {
   "cell_type": "markdown",
   "metadata": {},
   "source": [
    "# data distribution"
   ]
  },
  {
   "cell_type": "code",
   "execution_count": 91,
   "metadata": {},
   "outputs": [],
   "source": [
    "from tools.model_func import get_input\n",
    "_,y_trains,_,_ = get_input('data/sic_hierarchy','cat',False,[0,1,0,0])"
   ]
  },
  {
   "cell_type": "code",
   "execution_count": 92,
   "metadata": {},
   "outputs": [],
   "source": [
    "yy = [y.argmax(axis=1) for y in y_trains]\n",
    "cnts = []\n",
    "for y in yy:\n",
    "    _,c = np.unique(y,return_counts=True)\n",
    "    cnts.append(c)\n",
    "cnts = np.concatenate(cnts)"
   ]
  },
  {
   "cell_type": "code",
   "execution_count": 93,
   "metadata": {
    "scrolled": true
   },
   "outputs": [
    {
     "data": {
      "image/png": "[encoded data removed]",
      "text/plain": [
       "<Figure size 432x288 with 1 Axes>"
      ]
     },
     "metadata": {
      "needs_background": "light"
     },
     "output_type": "display_data"
    }
   ],
   "source": [
    "plt.plot(sorted(cnts))\n",
    "plt.yscale('log')\n",
    "plt.xticks([])\n",
    "plt.xlabel('Labels')\n",
    "plt.ylabel('No. Positive Train Instances')\n",
    "plt.title('SIC Code')\n",
    "plt.show()"
   ]
  },
  {
   "cell_type": "code",
   "execution_count": 85,
   "metadata": {},
   "outputs": [],
   "source": [
    "cnts = [y.shape[1] for y in y_trains]\n",
    "offset = [sum(cnts[:i]) for i in range(len(cnts))]"
   ]
  },
  {
   "cell_type": "code",
   "execution_count": 86,
   "metadata": {},
   "outputs": [
    {
     "data": {
      "text/plain": [
       "[0, 18, 95, 548]"
      ]
     },
     "execution_count": 86,
     "metadata": {},
     "output_type": "execute_result"
    }
   ],
   "source": [
    "offset"
   ]
  },
  {
   "cell_type": "code",
   "execution_count": 87,
   "metadata": {},
   "outputs": [],
   "source": [
    "yy  = np.concatenate([offset[i]+y for i,y in enumerate(yy)])"
   ]
  },
  {
   "cell_type": "code",
   "execution_count": 89,
   "metadata": {},
   "outputs": [
    {
     "data": {
      "image/png": "[encoded data removed]",
      "text/plain": [
       "<Figure size 432x288 with 1 Axes>"
      ]
     },
     "metadata": {
      "needs_background": "light"
     },
     "output_type": "display_data"
    }
   ],
   "source": [
    "plt.hist(yy)\n",
    "plt.yscale('log')\n",
    "# plt.xticks([])\n",
    "plt.xlabel('Labels')\n",
    "plt.ylabel('No. Positive Train Instances')\n",
    "plt.title('SIC Code')\n",
    "plt.show()"
   ]
  },
  {
   "cell_type": "code",
   "execution_count": null,
   "metadata": {},
   "outputs": [],
   "source": []
  }
 ],
 "metadata": {
  "kernelspec": {
   "display_name": "Python 3",
   "language": "python",
   "name": "python3"
  },
  "language_info": {
   "codemirror_mode": {
    "name": "ipython",
    "version": 3
   },
   "file_extension": ".py",
   "mimetype": "text/x-python",
   "name": "python",
   "nbconvert_exporter": "python",
   "pygments_lexer": "ipython3",
   "version": "3.6.8"
  }
 },
 "nbformat": 4,
 "nbformat_minor": 2
}
