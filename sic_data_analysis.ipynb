{
 "cells": [
  {
   "cell_type": "code",
   "execution_count": 1,
   "metadata": {},
   "outputs": [
    {
     "name": "stderr",
     "output_type": "stream",
     "text": [
      "Using TensorFlow backend.\n"
     ]
    }
   ],
   "source": [
    "import pandas as pd\n",
    "import numpy as np\n",
    "import json\n",
    "import matplotlib.pyplot as plt\n",
    "from tools.helper import clean_str\n",
    "import time, os, re"
   ]
  },
  {
   "cell_type": "markdown",
   "metadata": {},
   "source": [
    "# Create the Dataset"
   ]
  },
  {
   "cell_type": "code",
   "execution_count": 2,
   "metadata": {},
   "outputs": [],
   "source": [
    "DATA_PATHS = ['/data/2016_sic/ioannis_data/new_data_3/fold0/training.json',\n",
    "              '/data/2016_sic/ioannis_data/new_data_3/fold0/validation.json',\n",
    "             ]\n",
    "data = []\n",
    "for DATA_PATH in DATA_PATHS:\n",
    "    with open(DATA_PATH) as json_file:  \n",
    "        for line in json_file:\n",
    "            data.append(json.loads(line))"
   ]
  },
  {
   "cell_type": "code",
   "execution_count": 3,
   "metadata": {},
   "outputs": [
    {
     "data": {
      "text/html": [
       "<div>\n",
       "<style scoped>\n",
       "    .dataframe tbody tr th:only-of-type {\n",
       "        vertical-align: middle;\n",
       "    }\n",
       "\n",
       "    .dataframe tbody tr th {\n",
       "        vertical-align: top;\n",
       "    }\n",
       "\n",
       "    .dataframe thead th {\n",
       "        text-align: right;\n",
       "    }\n",
       "</style>\n",
       "<table border=\"1\" class=\"dataframe\">\n",
       "  <thead>\n",
       "    <tr style=\"text-align: right;\">\n",
       "      <th></th>\n",
       "      <th>class</th>\n",
       "      <th>des</th>\n",
       "      <th>des_class</th>\n",
       "      <th>web</th>\n",
       "      <th>web_class</th>\n",
       "      <th>web_id</th>\n",
       "    </tr>\n",
       "  </thead>\n",
       "  <tbody>\n",
       "    <tr>\n",
       "      <th>0</th>\n",
       "      <td>contradiction</td>\n",
       "      <td>loading and unloading of goods or passengers ...</td>\n",
       "      <td>52241</td>\n",
       "      <td>DVB Bank - Homepage</td>\n",
       "      <td>64929</td>\n",
       "      <td>216475</td>\n",
       "    </tr>\n",
       "    <tr>\n",
       "      <th>1</th>\n",
       "      <td>contradiction</td>\n",
       "      <td>manufacture of luggage handbags and the like ...</td>\n",
       "      <td>15120</td>\n",
       "      <td>Independent financial advisors in Lancashire f...</td>\n",
       "      <td>66190</td>\n",
       "      <td>82098</td>\n",
       "    </tr>\n",
       "    <tr>\n",
       "      <th>2</th>\n",
       "      <td>entailment</td>\n",
       "      <td>repair of fishing nets including mending repa...</td>\n",
       "      <td>33190</td>\n",
       "      <td>Welcome to A1 Lifts. Professional and reliable...</td>\n",
       "      <td>33190</td>\n",
       "      <td>453844</td>\n",
       "    </tr>\n",
       "    <tr>\n",
       "      <th>3</th>\n",
       "      <td>contradiction</td>\n",
       "      <td>preparation and serving of beverages for imme...</td>\n",
       "      <td>56302</td>\n",
       "      <td>Largest choice of tiles in the South West. We ...</td>\n",
       "      <td>46730</td>\n",
       "      <td>690360</td>\n",
       "    </tr>\n",
       "    <tr>\n",
       "      <th>4</th>\n",
       "      <td>contradiction</td>\n",
       "      <td>manufacture of felt manufacture of tulles and...</td>\n",
       "      <td>13990</td>\n",
       "      <td>Leading UK pharmacy services, products, prescr...</td>\n",
       "      <td>47730</td>\n",
       "      <td>337516</td>\n",
       "    </tr>\n",
       "  </tbody>\n",
       "</table>\n",
       "</div>"
      ],
      "text/plain": [
       "           class                                                des des_class  \\\n",
       "0  contradiction   loading and unloading of goods or passengers ...     52241   \n",
       "1  contradiction   manufacture of luggage handbags and the like ...     15120   \n",
       "2     entailment   repair of fishing nets including mending repa...     33190   \n",
       "3  contradiction   preparation and serving of beverages for imme...     56302   \n",
       "4  contradiction   manufacture of felt manufacture of tulles and...     13990   \n",
       "\n",
       "                                                 web web_class  web_id  \n",
       "0                                DVB Bank - Homepage     64929  216475  \n",
       "1  Independent financial advisors in Lancashire f...     66190   82098  \n",
       "2  Welcome to A1 Lifts. Professional and reliable...     33190  453844  \n",
       "3  Largest choice of tiles in the South West. We ...     46730  690360  \n",
       "4  Leading UK pharmacy services, products, prescr...     47730  337516  "
      ]
     },
     "execution_count": 3,
     "metadata": {},
     "output_type": "execute_result"
    }
   ],
   "source": [
    "df = pd.DataFrame(data)\n",
    "df.head()"
   ]
  },
  {
   "cell_type": "code",
   "execution_count": 4,
   "metadata": {},
   "outputs": [],
   "source": [
    "df = df[df['class']=='entailment']\n",
    "df = df.drop(columns = ['class', 'des', 'des_class'])\n",
    "df = df.drop_duplicates()\n",
    "df = df.rename(columns = {'web_id':'id','web':'text','web_class':'categories'})\n",
    "df = df.set_index('id')"
   ]
  },
  {
   "cell_type": "code",
   "execution_count": 5,
   "metadata": {},
   "outputs": [
    {
     "data": {
      "image/png": "[encoded data removed]",
      "text/plain": [
       "<Figure size 432x288 with 1 Axes>"
      ]
     },
     "metadata": {
      "needs_background": "light"
     },
     "output_type": "display_data"
    },
    {
     "data": {
      "image/png": "[encoded data removed]",
      "text/plain": [
       "<Figure size 432x288 with 1 Axes>"
      ]
     },
     "metadata": {
      "needs_background": "light"
     },
     "output_type": "display_data"
    }
   ],
   "source": [
    "# text length (char level)\n",
    "tt = df['text'].apply(len)\n",
    "plt.plot(sorted(tt.values,reverse= True))\n",
    "plt.title('text length (char level) distribution BEFORE clipping')\n",
    "plt.show()\n",
    "q = np.percentile(tt.values,99)\n",
    "plt.plot(sorted([min(q,t) for t in tt.values],reverse= True))\n",
    "plt.title('text length (char level) distribution AFTER clipping')\n",
    "plt.show()"
   ]
  },
  {
   "cell_type": "code",
   "execution_count": 6,
   "metadata": {},
   "outputs": [],
   "source": [
    "# clip \n",
    "def clip_this(s,q):\n",
    "    if len(s)<=q:\n",
    "        return s\n",
    "    ind = s[:q].rfind(' ')\n",
    "    return s[:ind]\n",
    "df['text'] = df['text'].apply(lambda x:clip_this(x,int(q)))"
   ]
  },
  {
   "cell_type": "code",
   "execution_count": 7,
   "metadata": {},
   "outputs": [
    {
     "data": {
      "image/png": "[encoded data removed]",
      "text/plain": [
       "<Figure size 432x288 with 1 Axes>"
      ]
     },
     "metadata": {
      "needs_background": "light"
     },
     "output_type": "display_data"
    }
   ],
   "source": [
    "# class distribution\n",
    "plt.title('class distribution')\n",
    "plt.plot(sorted(df.categories.value_counts().values,reverse = True))\n",
    "plt.show()"
   ]
  },
  {
   "cell_type": "code",
   "execution_count": 8,
   "metadata": {},
   "outputs": [
    {
     "data": {
      "text/html": [
       "<div>\n",
       "<style scoped>\n",
       "    .dataframe tbody tr th:only-of-type {\n",
       "        vertical-align: middle;\n",
       "    }\n",
       "\n",
       "    .dataframe tbody tr th {\n",
       "        vertical-align: top;\n",
       "    }\n",
       "\n",
       "    .dataframe thead th {\n",
       "        text-align: right;\n",
       "    }\n",
       "</style>\n",
       "<table border=\"1\" class=\"dataframe\">\n",
       "  <thead>\n",
       "    <tr style=\"text-align: right;\">\n",
       "      <th></th>\n",
       "      <th>text</th>\n",
       "      <th>categories</th>\n",
       "    </tr>\n",
       "    <tr>\n",
       "      <th>id</th>\n",
       "      <th></th>\n",
       "      <th></th>\n",
       "    </tr>\n",
       "  </thead>\n",
       "  <tbody>\n",
       "    <tr>\n",
       "      <th>453844</th>\n",
       "      <td>Welcome to A1 Lifts. Professional and reliable...</td>\n",
       "      <td>[33190]</td>\n",
       "    </tr>\n",
       "    <tr>\n",
       "      <th>914843</th>\n",
       "      <td>Our friendly service, surprising range of fres...</td>\n",
       "      <td>[47110]</td>\n",
       "    </tr>\n",
       "    <tr>\n",
       "      <th>326959</th>\n",
       "      <td>Wherever you want to get to in life, Lloyds Ba...</td>\n",
       "      <td>[64191]</td>\n",
       "    </tr>\n",
       "    <tr>\n",
       "      <th>541943</th>\n",
       "      <td>Stanley Gibbons – The home of stamp collecting...</td>\n",
       "      <td>[47789]</td>\n",
       "    </tr>\n",
       "    <tr>\n",
       "      <th>445157</th>\n",
       "      <td>Are you looking for high-quality dentistry in ...</td>\n",
       "      <td>[86230]</td>\n",
       "    </tr>\n",
       "  </tbody>\n",
       "</table>\n",
       "</div>"
      ],
      "text/plain": [
       "                                                     text categories\n",
       "id                                                                  \n",
       "453844  Welcome to A1 Lifts. Professional and reliable...    [33190]\n",
       "914843  Our friendly service, surprising range of fres...    [47110]\n",
       "326959  Wherever you want to get to in life, Lloyds Ba...    [64191]\n",
       "541943  Stanley Gibbons – The home of stamp collecting...    [47789]\n",
       "445157  Are you looking for high-quality dentistry in ...    [86230]"
      ]
     },
     "execution_count": 8,
     "metadata": {},
     "output_type": "execute_result"
    }
   ],
   "source": [
    "df['categories'] = df['categories'].apply(lambda x:[x])\n",
    "df.head()"
   ]
  },
  {
   "cell_type": "code",
   "execution_count": 9,
   "metadata": {},
   "outputs": [],
   "source": [
    "cleaned = {}"
   ]
  },
  {
   "cell_type": "code",
   "execution_count": 55,
   "metadata": {},
   "outputs": [],
   "source": [
    "# clean text\n",
    "aa = len(df)\n",
    "start = time.time()\n",
    "for i,(id,text) in enumerate(df['text'].iteritems()):\n",
    "    if id in cleaned.keys():\n",
    "        continue\n",
    "    cleaned[id] = clean_str(text)\n",
    "    if i%(aa//10)==0:\n",
    "        duration = time.time()-start\n",
    "        print('{:02d}:{:02d}'.format(int(duration//60),int(duration%60)))\n",
    "        print('COMPLETE {:.0f}% '.format(i/aa*100),end = '')\n",
    "    elif i%(aa//100)==0:\n",
    "        print('.',end = '')"
   ]
  },
  {
   "cell_type": "code",
   "execution_count": 15,
   "metadata": {},
   "outputs": [],
   "source": [
    "df['text'] = df.index.map(cleaned)"
   ]
  },
  {
   "cell_type": "markdown",
   "metadata": {},
   "source": [
    "### test train split"
   ]
  },
  {
   "cell_type": "code",
   "execution_count": 25,
   "metadata": {},
   "outputs": [],
   "source": [
    "test_split = 0.2\n",
    "split = int(len(df)*test_split)\n",
    "ind = np.arange(len(df))\n",
    "np.random.seed(0)\n",
    "np.random.shuffle(ind)\n",
    "df['train/test']='train'\n",
    "df.loc[df.index.values[ind[:split]],'train/test']='test'"
   ]
  },
  {
   "cell_type": "code",
   "execution_count": 40,
   "metadata": {},
   "outputs": [],
   "source": [
    "df['train/test']='train'\n",
    "df.loc[df.index.values[ind[:split]],'train/test']='test'"
   ]
  },
  {
   "cell_type": "code",
   "execution_count": 41,
   "metadata": {},
   "outputs": [
    {
     "data": {
      "text/plain": [
       "train    588992\n",
       "test     147247\n",
       "Name: train/test, dtype: int64"
      ]
     },
     "execution_count": 41,
     "metadata": {},
     "output_type": "execute_result"
    }
   ],
   "source": [
    "df['train/test'].value_counts()"
   ]
  },
  {
   "cell_type": "code",
   "execution_count": 48,
   "metadata": {},
   "outputs": [
    {
     "data": {
      "text/html": [
       "<div>\n",
       "<style scoped>\n",
       "    .dataframe tbody tr th:only-of-type {\n",
       "        vertical-align: middle;\n",
       "    }\n",
       "\n",
       "    .dataframe tbody tr th {\n",
       "        vertical-align: top;\n",
       "    }\n",
       "\n",
       "    .dataframe thead th {\n",
       "        text-align: right;\n",
       "    }\n",
       "</style>\n",
       "<table border=\"1\" class=\"dataframe\">\n",
       "  <thead>\n",
       "    <tr style=\"text-align: right;\">\n",
       "      <th></th>\n",
       "      <th>text</th>\n",
       "      <th>categories</th>\n",
       "      <th>train/test</th>\n",
       "    </tr>\n",
       "    <tr>\n",
       "      <th>id</th>\n",
       "      <th></th>\n",
       "      <th></th>\n",
       "      <th></th>\n",
       "    </tr>\n",
       "  </thead>\n",
       "  <tbody>\n",
       "    <tr>\n",
       "      <th>453844</th>\n",
       "      <td>welcome to a1 lifts . professional and reliabl...</td>\n",
       "      <td>33190</td>\n",
       "      <td>train</td>\n",
       "    </tr>\n",
       "    <tr>\n",
       "      <th>914843</th>\n",
       "      <td>our friendly service , surprising range of fre...</td>\n",
       "      <td>47110</td>\n",
       "      <td>train</td>\n",
       "    </tr>\n",
       "    <tr>\n",
       "      <th>326959</th>\n",
       "      <td>wherever you want to get to in life , lloyds b...</td>\n",
       "      <td>64191</td>\n",
       "      <td>train</td>\n",
       "    </tr>\n",
       "    <tr>\n",
       "      <th>541943</th>\n",
       "      <td>stanley gibbons – the home of stamp collecting...</td>\n",
       "      <td>47789</td>\n",
       "      <td>train</td>\n",
       "    </tr>\n",
       "    <tr>\n",
       "      <th>445157</th>\n",
       "      <td>are you looking for high-quality dentistry in ...</td>\n",
       "      <td>86230</td>\n",
       "      <td>train</td>\n",
       "    </tr>\n",
       "  </tbody>\n",
       "</table>\n",
       "</div>"
      ],
      "text/plain": [
       "                                                     text categories  \\\n",
       "id                                                                     \n",
       "453844  welcome to a1 lifts . professional and reliabl...      33190   \n",
       "914843  our friendly service , surprising range of fre...      47110   \n",
       "326959  wherever you want to get to in life , lloyds b...      64191   \n",
       "541943  stanley gibbons – the home of stamp collecting...      47789   \n",
       "445157  are you looking for high-quality dentistry in ...      86230   \n",
       "\n",
       "       train/test  \n",
       "id                 \n",
       "453844      train  \n",
       "914843      train  \n",
       "326959      train  \n",
       "541943      train  \n",
       "445157      train  "
      ]
     },
     "execution_count": 48,
     "metadata": {},
     "output_type": "execute_result"
    }
   ],
   "source": [
    "df.head()"
   ]
  },
  {
   "cell_type": "code",
   "execution_count": 47,
   "metadata": {},
   "outputs": [],
   "source": [
    "df.to_pickle('data/sic.pkl')"
   ]
  },
  {
   "cell_type": "markdown",
   "metadata": {},
   "source": [
    "### save for FastText"
   ]
  },
  {
   "cell_type": "code",
   "execution_count": 49,
   "metadata": {},
   "outputs": [],
   "source": [
    "df['joined'] = df.apply(lambda x: '__label__' + x['categories'].strip()+' '+x['text'].strip(),axis=1)"
   ]
  },
  {
   "cell_type": "code",
   "execution_count": 50,
   "metadata": {},
   "outputs": [
    {
     "data": {
      "text/html": [
       "<div>\n",
       "<style scoped>\n",
       "    .dataframe tbody tr th:only-of-type {\n",
       "        vertical-align: middle;\n",
       "    }\n",
       "\n",
       "    .dataframe tbody tr th {\n",
       "        vertical-align: top;\n",
       "    }\n",
       "\n",
       "    .dataframe thead th {\n",
       "        text-align: right;\n",
       "    }\n",
       "</style>\n",
       "<table border=\"1\" class=\"dataframe\">\n",
       "  <thead>\n",
       "    <tr style=\"text-align: right;\">\n",
       "      <th></th>\n",
       "      <th>text</th>\n",
       "      <th>categories</th>\n",
       "      <th>train/test</th>\n",
       "      <th>joined</th>\n",
       "    </tr>\n",
       "    <tr>\n",
       "      <th>id</th>\n",
       "      <th></th>\n",
       "      <th></th>\n",
       "      <th></th>\n",
       "      <th></th>\n",
       "    </tr>\n",
       "  </thead>\n",
       "  <tbody>\n",
       "    <tr>\n",
       "      <th>453844</th>\n",
       "      <td>welcome to a1 lifts . professional and reliabl...</td>\n",
       "      <td>33190</td>\n",
       "      <td>train</td>\n",
       "      <td>__label__33190 welcome to a1 lifts . professio...</td>\n",
       "    </tr>\n",
       "    <tr>\n",
       "      <th>914843</th>\n",
       "      <td>our friendly service , surprising range of fre...</td>\n",
       "      <td>47110</td>\n",
       "      <td>train</td>\n",
       "      <td>__label__47110 our friendly service , surprisi...</td>\n",
       "    </tr>\n",
       "    <tr>\n",
       "      <th>326959</th>\n",
       "      <td>wherever you want to get to in life , lloyds b...</td>\n",
       "      <td>64191</td>\n",
       "      <td>train</td>\n",
       "      <td>__label__64191 wherever you want to get to in ...</td>\n",
       "    </tr>\n",
       "    <tr>\n",
       "      <th>541943</th>\n",
       "      <td>stanley gibbons – the home of stamp collecting...</td>\n",
       "      <td>47789</td>\n",
       "      <td>train</td>\n",
       "      <td>__label__47789 stanley gibbons – the home of s...</td>\n",
       "    </tr>\n",
       "    <tr>\n",
       "      <th>445157</th>\n",
       "      <td>are you looking for high-quality dentistry in ...</td>\n",
       "      <td>86230</td>\n",
       "      <td>train</td>\n",
       "      <td>__label__86230 are you looking for high-qualit...</td>\n",
       "    </tr>\n",
       "  </tbody>\n",
       "</table>\n",
       "</div>"
      ],
      "text/plain": [
       "                                                     text categories  \\\n",
       "id                                                                     \n",
       "453844  welcome to a1 lifts . professional and reliabl...      33190   \n",
       "914843  our friendly service , surprising range of fre...      47110   \n",
       "326959  wherever you want to get to in life , lloyds b...      64191   \n",
       "541943  stanley gibbons – the home of stamp collecting...      47789   \n",
       "445157  are you looking for high-quality dentistry in ...      86230   \n",
       "\n",
       "       train/test                                             joined  \n",
       "id                                                                    \n",
       "453844      train  __label__33190 welcome to a1 lifts . professio...  \n",
       "914843      train  __label__47110 our friendly service , surprisi...  \n",
       "326959      train  __label__64191 wherever you want to get to in ...  \n",
       "541943      train  __label__47789 stanley gibbons – the home of s...  \n",
       "445157      train  __label__86230 are you looking for high-qualit...  "
      ]
     },
     "execution_count": 50,
     "metadata": {},
     "output_type": "execute_result"
    }
   ],
   "source": [
    "df.head()"
   ]
  },
  {
   "cell_type": "code",
   "execution_count": 54,
   "metadata": {},
   "outputs": [],
   "source": [
    "np.savetxt('data/FT/sic.test.txt',df[df['train/test']=='test'].joined.values,fmt='%s')\n",
    "np.savetxt('data/FT/sic.train.txt',df[df['train/test']=='train'].joined.values,fmt='%s')"
   ]
  },
  {
   "cell_type": "markdown",
   "metadata": {},
   "source": [
    "# GET HIARARCHY"
   ]
  },
  {
   "cell_type": "code",
   "execution_count": 104,
   "metadata": {},
   "outputs": [
    {
     "data": {
      "text/html": [
       "<div>\n",
       "<style scoped>\n",
       "    .dataframe tbody tr th:only-of-type {\n",
       "        vertical-align: middle;\n",
       "    }\n",
       "\n",
       "    .dataframe tbody tr th {\n",
       "        vertical-align: top;\n",
       "    }\n",
       "\n",
       "    .dataframe thead th {\n",
       "        text-align: right;\n",
       "    }\n",
       "</style>\n",
       "<table border=\"1\" class=\"dataframe\">\n",
       "  <thead>\n",
       "    <tr style=\"text-align: right;\">\n",
       "      <th></th>\n",
       "      <th>text</th>\n",
       "      <th>categories</th>\n",
       "      <th>train/test</th>\n",
       "    </tr>\n",
       "    <tr>\n",
       "      <th>id</th>\n",
       "      <th></th>\n",
       "      <th></th>\n",
       "      <th></th>\n",
       "    </tr>\n",
       "  </thead>\n",
       "  <tbody>\n",
       "    <tr>\n",
       "      <th>453844</th>\n",
       "      <td>welcome to a1 lifts . professional and reliabl...</td>\n",
       "      <td>[33190]</td>\n",
       "      <td>train</td>\n",
       "    </tr>\n",
       "    <tr>\n",
       "      <th>914843</th>\n",
       "      <td>our friendly service , surprising range of fre...</td>\n",
       "      <td>[47110]</td>\n",
       "      <td>train</td>\n",
       "    </tr>\n",
       "    <tr>\n",
       "      <th>326959</th>\n",
       "      <td>wherever you want to get to in life , lloyds b...</td>\n",
       "      <td>[64191]</td>\n",
       "      <td>train</td>\n",
       "    </tr>\n",
       "    <tr>\n",
       "      <th>541943</th>\n",
       "      <td>stanley gibbons – the home of stamp collecting...</td>\n",
       "      <td>[47789]</td>\n",
       "      <td>train</td>\n",
       "    </tr>\n",
       "    <tr>\n",
       "      <th>445157</th>\n",
       "      <td>are you looking for high-quality dentistry in ...</td>\n",
       "      <td>[86230]</td>\n",
       "      <td>train</td>\n",
       "    </tr>\n",
       "  </tbody>\n",
       "</table>\n",
       "</div>"
      ],
      "text/plain": [
       "                                                     text categories  \\\n",
       "id                                                                     \n",
       "453844  welcome to a1 lifts . professional and reliabl...    [33190]   \n",
       "914843  our friendly service , surprising range of fre...    [47110]   \n",
       "326959  wherever you want to get to in life , lloyds b...    [64191]   \n",
       "541943  stanley gibbons – the home of stamp collecting...    [47789]   \n",
       "445157  are you looking for high-quality dentistry in ...    [86230]   \n",
       "\n",
       "       train/test  \n",
       "id                 \n",
       "453844      train  \n",
       "914843      train  \n",
       "326959      train  \n",
       "541943      train  \n",
       "445157      train  "
      ]
     },
     "execution_count": 104,
     "metadata": {},
     "output_type": "execute_result"
    }
   ],
   "source": [
    "df = pd.read_pickle('data/sic.pkl')\n",
    "df.head()"
   ]
  },
  {
   "cell_type": "code",
   "execution_count": 105,
   "metadata": {},
   "outputs": [],
   "source": [
    "# get num to letter lookup table\n",
    "DATA_PATH = 'data/sic_hierarchy.json'\n",
    "with open(DATA_PATH) as json_file:  \n",
    "    hierarchy = json.load(json_file)\n",
    "alpha_look = {}\n",
    "for key,item in hierarchy.items():\n",
    "    if key[3]!='x' or key[1]=='x':\n",
    "        continue\n",
    "    num = key[1:3]\n",
    "    if num in alpha_look.keys():\n",
    "        print('repeated key:{}'.format(key))\n",
    "        break\n",
    "    alpha_look[num]=key[0]"
   ]
  },
  {
   "cell_type": "code",
   "execution_count": 106,
   "metadata": {},
   "outputs": [],
   "source": [
    "df['sic']=df['categories'].apply(lambda x:x[0])\n",
    "df['cat0']=df['sic'].apply(lambda x:[alpha_look[x[0:2]]])\n",
    "df['cat1']=df['sic'].apply(lambda x:[x[0:2]])\n",
    "df['cat2']=df['sic'].apply(lambda x:[x[:4]])\n",
    "df['cat3']=df['categories']\n",
    "df['categories'] = df.apply(lambda x:[x['cat0'][0],x['cat1'][0],x['cat2'][0],x['cat3'][0]],axis=1)"
   ]
  },
  {
   "cell_type": "code",
   "execution_count": 107,
   "metadata": {},
   "outputs": [],
   "source": [
    "df['hierarchy'] = df['categories'].apply(lambda x:[''.join([x[0],x[-1]])])"
   ]
  },
  {
   "cell_type": "code",
   "execution_count": 108,
   "metadata": {
    "scrolled": false
   },
   "outputs": [
    {
     "data": {
      "text/html": [
       "<div>\n",
       "<style scoped>\n",
       "    .dataframe tbody tr th:only-of-type {\n",
       "        vertical-align: middle;\n",
       "    }\n",
       "\n",
       "    .dataframe tbody tr th {\n",
       "        vertical-align: top;\n",
       "    }\n",
       "\n",
       "    .dataframe thead th {\n",
       "        text-align: right;\n",
       "    }\n",
       "</style>\n",
       "<table border=\"1\" class=\"dataframe\">\n",
       "  <thead>\n",
       "    <tr style=\"text-align: right;\">\n",
       "      <th></th>\n",
       "      <th>text</th>\n",
       "      <th>categories</th>\n",
       "      <th>train/test</th>\n",
       "      <th>sic</th>\n",
       "      <th>cat0</th>\n",
       "      <th>cat1</th>\n",
       "      <th>cat2</th>\n",
       "      <th>cat3</th>\n",
       "      <th>hierarchy</th>\n",
       "    </tr>\n",
       "    <tr>\n",
       "      <th>id</th>\n",
       "      <th></th>\n",
       "      <th></th>\n",
       "      <th></th>\n",
       "      <th></th>\n",
       "      <th></th>\n",
       "      <th></th>\n",
       "      <th></th>\n",
       "      <th></th>\n",
       "      <th></th>\n",
       "    </tr>\n",
       "  </thead>\n",
       "  <tbody>\n",
       "    <tr>\n",
       "      <th>453844</th>\n",
       "      <td>welcome to a1 lifts . professional and reliabl...</td>\n",
       "      <td>[C, 33, 3319, 33190]</td>\n",
       "      <td>train</td>\n",
       "      <td>33190</td>\n",
       "      <td>[C]</td>\n",
       "      <td>[33]</td>\n",
       "      <td>[3319]</td>\n",
       "      <td>[33190]</td>\n",
       "      <td>[C33190]</td>\n",
       "    </tr>\n",
       "    <tr>\n",
       "      <th>914843</th>\n",
       "      <td>our friendly service , surprising range of fre...</td>\n",
       "      <td>[G, 47, 4711, 47110]</td>\n",
       "      <td>train</td>\n",
       "      <td>47110</td>\n",
       "      <td>[G]</td>\n",
       "      <td>[47]</td>\n",
       "      <td>[4711]</td>\n",
       "      <td>[47110]</td>\n",
       "      <td>[G47110]</td>\n",
       "    </tr>\n",
       "    <tr>\n",
       "      <th>326959</th>\n",
       "      <td>wherever you want to get to in life , lloyds b...</td>\n",
       "      <td>[K, 64, 6419, 64191]</td>\n",
       "      <td>train</td>\n",
       "      <td>64191</td>\n",
       "      <td>[K]</td>\n",
       "      <td>[64]</td>\n",
       "      <td>[6419]</td>\n",
       "      <td>[64191]</td>\n",
       "      <td>[K64191]</td>\n",
       "    </tr>\n",
       "    <tr>\n",
       "      <th>541943</th>\n",
       "      <td>stanley gibbons – the home of stamp collecting...</td>\n",
       "      <td>[G, 47, 4778, 47789]</td>\n",
       "      <td>train</td>\n",
       "      <td>47789</td>\n",
       "      <td>[G]</td>\n",
       "      <td>[47]</td>\n",
       "      <td>[4778]</td>\n",
       "      <td>[47789]</td>\n",
       "      <td>[G47789]</td>\n",
       "    </tr>\n",
       "    <tr>\n",
       "      <th>445157</th>\n",
       "      <td>are you looking for high-quality dentistry in ...</td>\n",
       "      <td>[Q, 86, 8623, 86230]</td>\n",
       "      <td>train</td>\n",
       "      <td>86230</td>\n",
       "      <td>[Q]</td>\n",
       "      <td>[86]</td>\n",
       "      <td>[8623]</td>\n",
       "      <td>[86230]</td>\n",
       "      <td>[Q86230]</td>\n",
       "    </tr>\n",
       "  </tbody>\n",
       "</table>\n",
       "</div>"
      ],
      "text/plain": [
       "                                                     text  \\\n",
       "id                                                          \n",
       "453844  welcome to a1 lifts . professional and reliabl...   \n",
       "914843  our friendly service , surprising range of fre...   \n",
       "326959  wherever you want to get to in life , lloyds b...   \n",
       "541943  stanley gibbons – the home of stamp collecting...   \n",
       "445157  are you looking for high-quality dentistry in ...   \n",
       "\n",
       "                  categories train/test    sic cat0  cat1    cat2     cat3  \\\n",
       "id                                                                           \n",
       "453844  [C, 33, 3319, 33190]      train  33190  [C]  [33]  [3319]  [33190]   \n",
       "914843  [G, 47, 4711, 47110]      train  47110  [G]  [47]  [4711]  [47110]   \n",
       "326959  [K, 64, 6419, 64191]      train  64191  [K]  [64]  [6419]  [64191]   \n",
       "541943  [G, 47, 4778, 47789]      train  47789  [G]  [47]  [4778]  [47789]   \n",
       "445157  [Q, 86, 8623, 86230]      train  86230  [Q]  [86]  [8623]  [86230]   \n",
       "\n",
       "       hierarchy  \n",
       "id                \n",
       "453844  [C33190]  \n",
       "914843  [G47110]  \n",
       "326959  [K64191]  \n",
       "541943  [G47789]  \n",
       "445157  [Q86230]  "
      ]
     },
     "execution_count": 108,
     "metadata": {},
     "output_type": "execute_result"
    }
   ],
   "source": [
    "df.head()"
   ]
  },
  {
   "cell_type": "markdown",
   "metadata": {},
   "source": [
    "# prepend company name - failed"
   ]
  },
  {
   "cell_type": "code",
   "execution_count": 29,
   "metadata": {},
   "outputs": [
    {
     "data": {
      "text/html": [
       "<div>\n",
       "<style scoped>\n",
       "    .dataframe tbody tr th:only-of-type {\n",
       "        vertical-align: middle;\n",
       "    }\n",
       "\n",
       "    .dataframe tbody tr th {\n",
       "        vertical-align: top;\n",
       "    }\n",
       "\n",
       "    .dataframe thead th {\n",
       "        text-align: right;\n",
       "    }\n",
       "</style>\n",
       "<table border=\"1\" class=\"dataframe\">\n",
       "  <thead>\n",
       "    <tr style=\"text-align: right;\">\n",
       "      <th></th>\n",
       "      <th>id</th>\n",
       "      <th>sic</th>\n",
       "      <th>text</th>\n",
       "    </tr>\n",
       "  </thead>\n",
       "  <tbody>\n",
       "    <tr>\n",
       "      <th>0</th>\n",
       "      <td>07456517</td>\n",
       "      <td>41202</td>\n",
       "      <td>we can custom design your new home we have ma...</td>\n",
       "    </tr>\n",
       "    <tr>\n",
       "      <th>1</th>\n",
       "      <td>08591892</td>\n",
       "      <td>88990</td>\n",
       "      <td>iecc care team provide individualised persona...</td>\n",
       "    </tr>\n",
       "    <tr>\n",
       "      <th>2</th>\n",
       "      <td>06560719</td>\n",
       "      <td>62020</td>\n",
       "      <td>data solutions have ways to resolve your data...</td>\n",
       "    </tr>\n",
       "    <tr>\n",
       "      <th>3</th>\n",
       "      <td>08745802</td>\n",
       "      <td>96090</td>\n",
       "      <td>carpet cleaners provide professional cleaning...</td>\n",
       "    </tr>\n",
       "    <tr>\n",
       "      <th>4</th>\n",
       "      <td>08699414</td>\n",
       "      <td>90030</td>\n",
       "      <td>studios group of fine artists  home</td>\n",
       "    </tr>\n",
       "  </tbody>\n",
       "</table>\n",
       "</div>"
      ],
      "text/plain": [
       "         id    sic                                               text\n",
       "0  07456517  41202   we can custom design your new home we have ma...\n",
       "1  08591892  88990   iecc care team provide individualised persona...\n",
       "2  06560719  62020   data solutions have ways to resolve your data...\n",
       "3  08745802  96090   carpet cleaners provide professional cleaning...\n",
       "4  08699414  90030                studios group of fine artists  home"
      ]
     },
     "execution_count": 29,
     "metadata": {},
     "output_type": "execute_result"
    }
   ],
   "source": [
    "df1 = pd.read_csv('/data/2016_sic/ioannis_data/web_site_meta.txt',\n",
    "                  sep='\\t',\n",
    "                  header=None,\n",
    "                  names = ['id','sic','text']\n",
    "                 )\n",
    "df1.head()\n"
   ]
  },
  {
   "cell_type": "code",
   "execution_count": 43,
   "metadata": {},
   "outputs": [
    {
     "data": {
      "text/html": [
       "<div>\n",
       "<style scoped>\n",
       "    .dataframe tbody tr th:only-of-type {\n",
       "        vertical-align: middle;\n",
       "    }\n",
       "\n",
       "    .dataframe tbody tr th {\n",
       "        vertical-align: top;\n",
       "    }\n",
       "\n",
       "    .dataframe thead th {\n",
       "        text-align: right;\n",
       "    }\n",
       "</style>\n",
       "<table border=\"1\" class=\"dataframe\">\n",
       "  <thead>\n",
       "    <tr style=\"text-align: right;\">\n",
       "      <th></th>\n",
       "      <th>id</th>\n",
       "      <th>sic</th>\n",
       "      <th>text</th>\n",
       "      <th>text_len</th>\n",
       "    </tr>\n",
       "  </thead>\n",
       "  <tbody>\n",
       "    <tr>\n",
       "      <th>624</th>\n",
       "      <td>07388382</td>\n",
       "      <td>18110</td>\n",
       "      <td>asian sources publications ltd hongkong  asia...</td>\n",
       "      <td>12</td>\n",
       "    </tr>\n",
       "    <tr>\n",
       "      <th>34679</th>\n",
       "      <td>05137584</td>\n",
       "      <td>18110</td>\n",
       "      <td>the conference of socialists economists cse i...</td>\n",
       "      <td>38</td>\n",
       "    </tr>\n",
       "  </tbody>\n",
       "</table>\n",
       "</div>"
      ],
      "text/plain": [
       "             id    sic                                               text  \\\n",
       "624    07388382  18110   asian sources publications ltd hongkong  asia...   \n",
       "34679  05137584  18110   the conference of socialists economists cse i...   \n",
       "\n",
       "       text_len  \n",
       "624          12  \n",
       "34679        38  "
      ]
     },
     "execution_count": 43,
     "metadata": {},
     "output_type": "execute_result"
    }
   ],
   "source": [
    "dd = df1[df1['sic']==18110]\n",
    "dd"
   ]
  },
  {
   "cell_type": "code",
   "execution_count": 44,
   "metadata": {},
   "outputs": [
    {
     "data": {
      "text/html": [
       "<div>\n",
       "<style scoped>\n",
       "    .dataframe tbody tr th:only-of-type {\n",
       "        vertical-align: middle;\n",
       "    }\n",
       "\n",
       "    .dataframe tbody tr th {\n",
       "        vertical-align: top;\n",
       "    }\n",
       "\n",
       "    .dataframe thead th {\n",
       "        text-align: right;\n",
       "    }\n",
       "</style>\n",
       "<table border=\"1\" class=\"dataframe\">\n",
       "  <thead>\n",
       "    <tr style=\"text-align: right;\">\n",
       "      <th></th>\n",
       "      <th>text</th>\n",
       "      <th>categories</th>\n",
       "      <th>train/test</th>\n",
       "      <th>sic</th>\n",
       "      <th>cat0</th>\n",
       "      <th>cat1</th>\n",
       "      <th>cat2</th>\n",
       "      <th>cat3</th>\n",
       "      <th>hierarchy</th>\n",
       "    </tr>\n",
       "    <tr>\n",
       "      <th>id</th>\n",
       "      <th></th>\n",
       "      <th></th>\n",
       "      <th></th>\n",
       "      <th></th>\n",
       "      <th></th>\n",
       "      <th></th>\n",
       "      <th></th>\n",
       "      <th></th>\n",
       "      <th></th>\n",
       "    </tr>\n",
       "  </thead>\n",
       "  <tbody>\n",
       "    <tr>\n",
       "      <th>500224</th>\n",
       "      <td>bluehost - top rated web hosting provider - fr...</td>\n",
       "      <td>[C, 18, 1811, 18110]</td>\n",
       "      <td>test</td>\n",
       "      <td>18110</td>\n",
       "      <td>[C]</td>\n",
       "      <td>[18]</td>\n",
       "      <td>[1811]</td>\n",
       "      <td>[18110]</td>\n",
       "      <td>[C18110]</td>\n",
       "    </tr>\n",
       "    <tr>\n",
       "      <th>637028</th>\n",
       "      <td>ulsternet is the website of the alpha newspape...</td>\n",
       "      <td>[C, 18, 1811, 18110]</td>\n",
       "      <td>train</td>\n",
       "      <td>18110</td>\n",
       "      <td>[C]</td>\n",
       "      <td>[18]</td>\n",
       "      <td>[1811]</td>\n",
       "      <td>[18110]</td>\n",
       "      <td>[C18110]</td>\n",
       "    </tr>\n",
       "    <tr>\n",
       "      <th>169548</th>\n",
       "      <td>bauer media reaches over 22 million uk adults ...</td>\n",
       "      <td>[C, 18, 1811, 18110]</td>\n",
       "      <td>train</td>\n",
       "      <td>18110</td>\n",
       "      <td>[C]</td>\n",
       "      <td>[18]</td>\n",
       "      <td>[1811]</td>\n",
       "      <td>[18110]</td>\n",
       "      <td>[C18110]</td>\n",
       "    </tr>\n",
       "    <tr>\n",
       "      <th>249603</th>\n",
       "      <td>website design in northampton and northamptons...</td>\n",
       "      <td>[C, 18, 1811, 18110]</td>\n",
       "      <td>train</td>\n",
       "      <td>18110</td>\n",
       "      <td>[C]</td>\n",
       "      <td>[18]</td>\n",
       "      <td>[1811]</td>\n",
       "      <td>[18110]</td>\n",
       "      <td>[C18110]</td>\n",
       "    </tr>\n",
       "    <tr>\n",
       "      <th>281422</th>\n",
       "      <td>find cash advance , debt consolidation and mor...</td>\n",
       "      <td>[C, 18, 1811, 18110]</td>\n",
       "      <td>train</td>\n",
       "      <td>18110</td>\n",
       "      <td>[C]</td>\n",
       "      <td>[18]</td>\n",
       "      <td>[1811]</td>\n",
       "      <td>[18110]</td>\n",
       "      <td>[C18110]</td>\n",
       "    </tr>\n",
       "    <tr>\n",
       "      <th>256774</th>\n",
       "      <td>all the latest news , sport and celebrity goss...</td>\n",
       "      <td>[C, 18, 1811, 18110]</td>\n",
       "      <td>train</td>\n",
       "      <td>18110</td>\n",
       "      <td>[C]</td>\n",
       "      <td>[18]</td>\n",
       "      <td>[1811]</td>\n",
       "      <td>[18110]</td>\n",
       "      <td>[C18110]</td>\n",
       "    </tr>\n",
       "    <tr>\n",
       "      <th>57562</th>\n",
       "      <td>newzulu provides ugc technology that helps cit...</td>\n",
       "      <td>[C, 18, 1811, 18110]</td>\n",
       "      <td>train</td>\n",
       "      <td>18110</td>\n",
       "      <td>[C]</td>\n",
       "      <td>[18]</td>\n",
       "      <td>[1811]</td>\n",
       "      <td>[18110]</td>\n",
       "      <td>[C18110]</td>\n",
       "    </tr>\n",
       "    <tr>\n",
       "      <th>257169</th>\n",
       "      <td>northern &amp; shell media group has experienced a...</td>\n",
       "      <td>[C, 18, 1811, 18110]</td>\n",
       "      <td>test</td>\n",
       "      <td>18110</td>\n",
       "      <td>[C]</td>\n",
       "      <td>[18]</td>\n",
       "      <td>[1811]</td>\n",
       "      <td>[18110]</td>\n",
       "      <td>[C18110]</td>\n",
       "    </tr>\n",
       "    <tr>\n",
       "      <th>430404</th>\n",
       "      <td>woodwind , instrument , maker , specialist , o...</td>\n",
       "      <td>[C, 18, 1811, 18110]</td>\n",
       "      <td>train</td>\n",
       "      <td>18110</td>\n",
       "      <td>[C]</td>\n",
       "      <td>[18]</td>\n",
       "      <td>[1811]</td>\n",
       "      <td>[18110]</td>\n",
       "      <td>[C18110]</td>\n",
       "    </tr>\n",
       "    <tr>\n",
       "      <th>994954</th>\n",
       "      <td>quotemeprint.com providing a low cost , high q...</td>\n",
       "      <td>[C, 18, 1811, 18110]</td>\n",
       "      <td>train</td>\n",
       "      <td>18110</td>\n",
       "      <td>[C]</td>\n",
       "      <td>[18]</td>\n",
       "      <td>[1811]</td>\n",
       "      <td>[18110]</td>\n",
       "      <td>[C18110]</td>\n",
       "    </tr>\n",
       "    <tr>\n",
       "      <th>782601</th>\n",
       "      <td>rotadyne , engineering , development , resourc...</td>\n",
       "      <td>[C, 18, 1811, 18110]</td>\n",
       "      <td>train</td>\n",
       "      <td>18110</td>\n",
       "      <td>[C]</td>\n",
       "      <td>[18]</td>\n",
       "      <td>[1811]</td>\n",
       "      <td>[18110]</td>\n",
       "      <td>[C18110]</td>\n",
       "    </tr>\n",
       "    <tr>\n",
       "      <th>169068</th>\n",
       "      <td>all the latest news , views , sport and pictur...</td>\n",
       "      <td>[C, 18, 1811, 18110]</td>\n",
       "      <td>test</td>\n",
       "      <td>18110</td>\n",
       "      <td>[C]</td>\n",
       "      <td>[18]</td>\n",
       "      <td>[1811]</td>\n",
       "      <td>[18110]</td>\n",
       "      <td>[C18110]</td>\n",
       "    </tr>\n",
       "    <tr>\n",
       "      <th>975740</th>\n",
       "      <td>a community news portal , bringing the asian d...</td>\n",
       "      <td>[C, 18, 1811, 18110]</td>\n",
       "      <td>train</td>\n",
       "      <td>18110</td>\n",
       "      <td>[C]</td>\n",
       "      <td>[18]</td>\n",
       "      <td>[1811]</td>\n",
       "      <td>[18110]</td>\n",
       "      <td>[C18110]</td>\n",
       "    </tr>\n",
       "    <tr>\n",
       "      <th>323067</th>\n",
       "      <td>news , analysis and comment from the financial...</td>\n",
       "      <td>[C, 18, 1811, 18110]</td>\n",
       "      <td>train</td>\n",
       "      <td>18110</td>\n",
       "      <td>[C]</td>\n",
       "      <td>[18]</td>\n",
       "      <td>[1811]</td>\n",
       "      <td>[18110]</td>\n",
       "      <td>[C18110]</td>\n",
       "    </tr>\n",
       "  </tbody>\n",
       "</table>\n",
       "</div>"
      ],
      "text/plain": [
       "                                                     text  \\\n",
       "id                                                          \n",
       "500224  bluehost - top rated web hosting provider - fr...   \n",
       "637028  ulsternet is the website of the alpha newspape...   \n",
       "169548  bauer media reaches over 22 million uk adults ...   \n",
       "249603  website design in northampton and northamptons...   \n",
       "281422  find cash advance , debt consolidation and mor...   \n",
       "256774  all the latest news , sport and celebrity goss...   \n",
       "57562   newzulu provides ugc technology that helps cit...   \n",
       "257169  northern & shell media group has experienced a...   \n",
       "430404  woodwind , instrument , maker , specialist , o...   \n",
       "994954  quotemeprint.com providing a low cost , high q...   \n",
       "782601  rotadyne , engineering , development , resourc...   \n",
       "169068  all the latest news , views , sport and pictur...   \n",
       "975740  a community news portal , bringing the asian d...   \n",
       "323067  news , analysis and comment from the financial...   \n",
       "\n",
       "                  categories train/test    sic cat0  cat1    cat2     cat3  \\\n",
       "id                                                                           \n",
       "500224  [C, 18, 1811, 18110]       test  18110  [C]  [18]  [1811]  [18110]   \n",
       "637028  [C, 18, 1811, 18110]      train  18110  [C]  [18]  [1811]  [18110]   \n",
       "169548  [C, 18, 1811, 18110]      train  18110  [C]  [18]  [1811]  [18110]   \n",
       "249603  [C, 18, 1811, 18110]      train  18110  [C]  [18]  [1811]  [18110]   \n",
       "281422  [C, 18, 1811, 18110]      train  18110  [C]  [18]  [1811]  [18110]   \n",
       "256774  [C, 18, 1811, 18110]      train  18110  [C]  [18]  [1811]  [18110]   \n",
       "57562   [C, 18, 1811, 18110]      train  18110  [C]  [18]  [1811]  [18110]   \n",
       "257169  [C, 18, 1811, 18110]       test  18110  [C]  [18]  [1811]  [18110]   \n",
       "430404  [C, 18, 1811, 18110]      train  18110  [C]  [18]  [1811]  [18110]   \n",
       "994954  [C, 18, 1811, 18110]      train  18110  [C]  [18]  [1811]  [18110]   \n",
       "782601  [C, 18, 1811, 18110]      train  18110  [C]  [18]  [1811]  [18110]   \n",
       "169068  [C, 18, 1811, 18110]       test  18110  [C]  [18]  [1811]  [18110]   \n",
       "975740  [C, 18, 1811, 18110]      train  18110  [C]  [18]  [1811]  [18110]   \n",
       "323067  [C, 18, 1811, 18110]      train  18110  [C]  [18]  [1811]  [18110]   \n",
       "\n",
       "       hierarchy  \n",
       "id                \n",
       "500224  [C18110]  \n",
       "637028  [C18110]  \n",
       "169548  [C18110]  \n",
       "249603  [C18110]  \n",
       "281422  [C18110]  \n",
       "256774  [C18110]  \n",
       "57562   [C18110]  \n",
       "257169  [C18110]  \n",
       "430404  [C18110]  \n",
       "994954  [C18110]  \n",
       "782601  [C18110]  \n",
       "169068  [C18110]  \n",
       "975740  [C18110]  \n",
       "323067  [C18110]  "
      ]
     },
     "execution_count": 44,
     "metadata": {},
     "output_type": "execute_result"
    }
   ],
   "source": [
    "df[df['sic'].astype(int)==18110]"
   ]
  },
  {
   "cell_type": "code",
   "execution_count": 49,
   "metadata": {},
   "outputs": [],
   "source": [
    "names = pd.read_csv(\"/data/2016_sic/ioannis_data/domains.tsv\",sep='\\t',\n",
    "                    header=None,\n",
    "                    names = ['name','id','domain','sic']\n",
    "                   )"
   ]
  },
  {
   "cell_type": "code",
   "execution_count": 54,
   "metadata": {},
   "outputs": [
    {
     "data": {
      "text/html": [
       "<div>\n",
       "<style scoped>\n",
       "    .dataframe tbody tr th:only-of-type {\n",
       "        vertical-align: middle;\n",
       "    }\n",
       "\n",
       "    .dataframe tbody tr th {\n",
       "        vertical-align: top;\n",
       "    }\n",
       "\n",
       "    .dataframe thead th {\n",
       "        text-align: right;\n",
       "    }\n",
       "</style>\n",
       "<table border=\"1\" class=\"dataframe\">\n",
       "  <thead>\n",
       "    <tr style=\"text-align: right;\">\n",
       "      <th></th>\n",
       "      <th>name</th>\n",
       "      <th>id</th>\n",
       "      <th>domain</th>\n",
       "      <th>sic</th>\n",
       "    </tr>\n",
       "  </thead>\n",
       "  <tbody>\n",
       "    <tr>\n",
       "      <th>0</th>\n",
       "      <td>'K' BUILDERS (CONTRACTING) LTD</td>\n",
       "      <td>07456517</td>\n",
       "      <td>www.kp.nf.ca</td>\n",
       "      <td>41202 - Construction of domestic buildings</td>\n",
       "    </tr>\n",
       "    <tr>\n",
       "      <th>1</th>\n",
       "      <td>(IECC CARE) INDEPENDENT EXCEL CARE CONSORTIUM ...</td>\n",
       "      <td>08591892</td>\n",
       "      <td>www.iecc-care.co.uk</td>\n",
       "      <td>88990 - Other social work activities without a...</td>\n",
       "    </tr>\n",
       "    <tr>\n",
       "      <th>2</th>\n",
       "      <td>. . . A TROUBLE HALVED LIMITED</td>\n",
       "      <td>03771248</td>\n",
       "      <td>www.athdesign.co.uk</td>\n",
       "      <td>74100 - specialised design activities</td>\n",
       "    </tr>\n",
       "    <tr>\n",
       "      <th>3</th>\n",
       "      <td>100% SUCCESS LIMITED</td>\n",
       "      <td>06947920</td>\n",
       "      <td>www.100percent-success.co.uk</td>\n",
       "      <td>70229 - Management consultancy activities othe...</td>\n",
       "    </tr>\n",
       "    <tr>\n",
       "      <th>4</th>\n",
       "      <td>1001 NIGHTS PRODUCTIONS LIMITED</td>\n",
       "      <td>06353157</td>\n",
       "      <td>1001nightsshow.com</td>\n",
       "      <td>90020 - Support activities to performing arts</td>\n",
       "    </tr>\n",
       "  </tbody>\n",
       "</table>\n",
       "</div>"
      ],
      "text/plain": [
       "                                                name        id  \\\n",
       "0                     'K' BUILDERS (CONTRACTING) LTD  07456517   \n",
       "1  (IECC CARE) INDEPENDENT EXCEL CARE CONSORTIUM ...  08591892   \n",
       "2                     . . . A TROUBLE HALVED LIMITED  03771248   \n",
       "3                               100% SUCCESS LIMITED  06947920   \n",
       "4                    1001 NIGHTS PRODUCTIONS LIMITED  06353157   \n",
       "\n",
       "                         domain  \\\n",
       "0                  www.kp.nf.ca   \n",
       "1           www.iecc-care.co.uk   \n",
       "2           www.athdesign.co.uk   \n",
       "3  www.100percent-success.co.uk   \n",
       "4            1001nightsshow.com   \n",
       "\n",
       "                                                 sic  \n",
       "0         41202 - Construction of domestic buildings  \n",
       "1  88990 - Other social work activities without a...  \n",
       "2              74100 - specialised design activities  \n",
       "3  70229 - Management consultancy activities othe...  \n",
       "4      90020 - Support activities to performing arts  "
      ]
     },
     "execution_count": 54,
     "metadata": {},
     "output_type": "execute_result"
    }
   ],
   "source": [
    "names.head()"
   ]
  },
  {
   "cell_type": "code",
   "execution_count": 121,
   "metadata": {},
   "outputs": [],
   "source": [
    "# remove unsupplied sic code entries\n",
    "names = names[names['sic']!='None Supplied'].reindex()"
   ]
  },
  {
   "cell_type": "code",
   "execution_count": 119,
   "metadata": {},
   "outputs": [
    {
     "name": "stdout",
     "output_type": "stream",
     "text": [
      "[]\n"
     ]
    }
   ],
   "source": [
    "num = []\n",
    "not_num = []\n",
    "for id in names.id.values.astype(str):\n",
    "    rep = re.findall(r'[1-9][0-9]*',id)\n",
    "    if len(rep)!=1 or not rep[0].isnumeric():\n",
    "        not_num.append(id)\n",
    "    else:\n",
    "        num.append(rep[0])\n",
    "print(not_num)"
   ]
  },
  {
   "cell_type": "code",
   "execution_count": 122,
   "metadata": {},
   "outputs": [],
   "source": [
    "names['clean_id'] = names['id'].apply(lambda x:int(re.findall(r'[1-9][0-9]*',x)[0]))"
   ]
  },
  {
   "cell_type": "code",
   "execution_count": 123,
   "metadata": {},
   "outputs": [],
   "source": [
    "bb = set(names.clean_id.values.astype(int)) & set(df.index.values)"
   ]
  },
  {
   "cell_type": "code",
   "execution_count": 124,
   "metadata": {},
   "outputs": [
    {
     "data": {
      "text/plain": [
       "(10763, 736239, 152183)"
      ]
     },
     "execution_count": 124,
     "metadata": {},
     "output_type": "execute_result"
    }
   ],
   "source": [
    "len(bb),len(df),len(set(names.clean_id.values.astype(int)))"
   ]
  },
  {
   "cell_type": "code",
   "execution_count": 137,
   "metadata": {},
   "outputs": [
    {
     "name": "stdout",
     "output_type": "stream",
     "text": [
      "56302 ['72200 - Research and experimental development on social sciences and humanities']\n",
      "47110 ['93199 - Other sports activities']\n",
      "64191 ['42220 - Construction of utility projects for electricity and telecommunications']\n",
      "78200 ['18121 - Manufacture of printed labels']\n",
      "47210 ['68320 - Management of real estate on a fee or contract basis']\n",
      "82990 ['42110 - Construction of roads and motorways']\n",
      "43210 ['47760 - Retail sale of flowers, plants, seeds, fertilizers, pet animals and pet food in specialised stores']\n",
      "43320 ['98000 - Residents property management']\n",
      "47710 ['47710 - Retail sale of clothing in specialised stores']\n",
      "64191 ['96090 - Other service activities n.e.c.']\n",
      "64191 ['24410 - Precious metals production']\n",
      "43220 ['13990 - Manufacture of other textiles n.e.c.']\n",
      "43290 ['62012 - Business and domestic software development']\n",
      "47710 ['74909 - Other professional, scientific and technical activities n.e.c.']\n",
      "46900 ['46180 - Agents specialized in the sale of other particular products']\n",
      "68209 ['56101 - Licensed restaurants']\n",
      "70229 ['81210 - General cleaning of buildings']\n",
      "64191 ['45200 - Maintenance and repair of motor vehicles']\n",
      "46740 ['43330 - Floor and wall covering']\n",
      "47640 ['74990 - Non-trading company']\n",
      "37000 ['64209 - Activities of other holding companies n.e.c.']\n",
      "61900 ['96090 - Other service activities n.e.c.']\n",
      "47520 ['94990 - Activities of other membership organizations n.e.c.']\n",
      "62090 ['94990 - Activities of other membership organizations n.e.c.']\n",
      "59112 ['35230 - Trade of gas through mains']\n",
      "['49100 - Passenger rail transport, interurban' '4010 - Production']\n"
     ]
    }
   ],
   "source": [
    "match = []\n",
    "no_match = []\n",
    "for i,b in enumerate(bb):\n",
    "    sic1 = df.loc[b,'sic']\n",
    "    sic2 = names[names['clean_id']==b]['sic'].values\n",
    "    if len(sic2)>1:\n",
    "        print(sic2)\n",
    "        break\n",
    "    print(sic1,sic2)"
   ]
  },
  {
   "cell_type": "markdown",
   "metadata": {},
   "source": [
    "# REMOVE SAMPLES"
   ]
  },
  {
   "cell_type": "code",
   "execution_count": 109,
   "metadata": {},
   "outputs": [],
   "source": [
    "# remove ones that are too short\n",
    "text_len = df['text'].apply(lambda x:len(x.split(' ')))"
   ]
  },
  {
   "cell_type": "code",
   "execution_count": 110,
   "metadata": {},
   "outputs": [
    {
     "data": {
      "image/png": "[encoded data removed]",
      "text/plain": [
       "<Figure size 432x288 with 1 Axes>"
      ]
     },
     "metadata": {
      "needs_background": "light"
     },
     "output_type": "display_data"
    }
   ],
   "source": [
    "a,b = zip(*sorted([(tl,cnt) for tl,cnt in text_len.value_counts().iteritems()]))\n",
    "plt.plot(a,b)\n",
    "plt.xlabel('text length')\n",
    "plt.ylabel('value count')\n",
    "plt.show()"
   ]
  },
  {
   "cell_type": "code",
   "execution_count": 111,
   "metadata": {},
   "outputs": [
    {
     "data": {
      "text/plain": [
       "72.0"
      ]
     },
     "execution_count": 111,
     "metadata": {},
     "output_type": "execute_result"
    }
   ],
   "source": [
    "np.percentile(text_len,99)"
   ]
  },
  {
   "cell_type": "code",
   "execution_count": 112,
   "metadata": {},
   "outputs": [
    {
     "name": "stdout",
     "output_type": "stream",
     "text": [
      "lower cut removes 2.90% of dataset\n",
      "upper cut removes 0.01% of dataset\n"
     ]
    }
   ],
   "source": [
    "cut1 = 2\n",
    "cut2 = 100\n",
    "print('lower cut removes {:.2f}% of dataset'.format(np.mean((text_len<=cut1)*100)))\n",
    "print('upper cut removes {:.2f}% of dataset'.format(np.mean((text_len>cut2)*100)))"
   ]
  },
  {
   "cell_type": "code",
   "execution_count": 113,
   "metadata": {},
   "outputs": [],
   "source": [
    "df = df[text_len>cut1]"
   ]
  },
  {
   "cell_type": "markdown",
   "metadata": {},
   "source": [
    "# TEST TRAIN SPLIT (FAIR)"
   ]
  },
  {
   "cell_type": "code",
   "execution_count": 114,
   "metadata": {},
   "outputs": [],
   "source": [
    "# uniform split within each label"
   ]
  },
  {
   "cell_type": "code",
   "execution_count": 115,
   "metadata": {},
   "outputs": [
    {
     "name": "stdout",
     "output_type": "stream",
     "text": [
      "99%\r"
     ]
    }
   ],
   "source": [
    "test_split = 0.2\n",
    "df['train/test']='train'\n",
    "too_small = []\n",
    "test_inds = np.array([])\n",
    "sic_set = set(df.sic.values)\n",
    "for s,sic in enumerate(sic_set):\n",
    "    inds = df.index[df['sic']==sic].values\n",
    "    if len(inds)<=1:\n",
    "        too_small = too_small + inds\n",
    "    else:\n",
    "        split = int(len(inds)*test_split)\n",
    "        np.random.seed(s)\n",
    "        np.random.shuffle(inds)\n",
    "        test_inds = np.append(test_inds,inds[:max(1,split)])\n",
    "    if s%(len(sic_set)//10)==0:\n",
    "        print(\"{:.0f}%\".format((s+1)/len(sic_set)*100),end='\\r')\n",
    "df.loc[test_inds,'train/test']='test'"
   ]
  },
  {
   "cell_type": "code",
   "execution_count": 117,
   "metadata": {},
   "outputs": [
    {
     "name": "stdout",
     "output_type": "stream",
     "text": [
      "[]\n"
     ]
    }
   ],
   "source": [
    "print(too_small)"
   ]
  },
  {
   "cell_type": "code",
   "execution_count": 116,
   "metadata": {},
   "outputs": [],
   "source": [
    "df.loc[test_inds,'train/test']='test'"
   ]
  },
  {
   "cell_type": "code",
   "execution_count": 118,
   "metadata": {},
   "outputs": [
    {
     "data": {
      "text/html": [
       "<div>\n",
       "<style scoped>\n",
       "    .dataframe tbody tr th:only-of-type {\n",
       "        vertical-align: middle;\n",
       "    }\n",
       "\n",
       "    .dataframe tbody tr th {\n",
       "        vertical-align: top;\n",
       "    }\n",
       "\n",
       "    .dataframe thead th {\n",
       "        text-align: right;\n",
       "    }\n",
       "</style>\n",
       "<table border=\"1\" class=\"dataframe\">\n",
       "  <thead>\n",
       "    <tr style=\"text-align: right;\">\n",
       "      <th></th>\n",
       "      <th>text</th>\n",
       "      <th>categories</th>\n",
       "      <th>train/test</th>\n",
       "      <th>sic</th>\n",
       "      <th>cat0</th>\n",
       "      <th>cat1</th>\n",
       "      <th>cat2</th>\n",
       "      <th>cat3</th>\n",
       "      <th>hierarchy</th>\n",
       "    </tr>\n",
       "    <tr>\n",
       "      <th>id</th>\n",
       "      <th></th>\n",
       "      <th></th>\n",
       "      <th></th>\n",
       "      <th></th>\n",
       "      <th></th>\n",
       "      <th></th>\n",
       "      <th></th>\n",
       "      <th></th>\n",
       "      <th></th>\n",
       "    </tr>\n",
       "  </thead>\n",
       "  <tbody>\n",
       "    <tr>\n",
       "      <th>453844</th>\n",
       "      <td>welcome to a1 lifts . professional and reliabl...</td>\n",
       "      <td>[C, 33, 3319, 33190]</td>\n",
       "      <td>train</td>\n",
       "      <td>33190</td>\n",
       "      <td>[C]</td>\n",
       "      <td>[33]</td>\n",
       "      <td>[3319]</td>\n",
       "      <td>[33190]</td>\n",
       "      <td>[C33190]</td>\n",
       "    </tr>\n",
       "    <tr>\n",
       "      <th>914843</th>\n",
       "      <td>our friendly service , surprising range of fre...</td>\n",
       "      <td>[G, 47, 4711, 47110]</td>\n",
       "      <td>train</td>\n",
       "      <td>47110</td>\n",
       "      <td>[G]</td>\n",
       "      <td>[47]</td>\n",
       "      <td>[4711]</td>\n",
       "      <td>[47110]</td>\n",
       "      <td>[G47110]</td>\n",
       "    </tr>\n",
       "    <tr>\n",
       "      <th>326959</th>\n",
       "      <td>wherever you want to get to in life , lloyds b...</td>\n",
       "      <td>[K, 64, 6419, 64191]</td>\n",
       "      <td>train</td>\n",
       "      <td>64191</td>\n",
       "      <td>[K]</td>\n",
       "      <td>[64]</td>\n",
       "      <td>[6419]</td>\n",
       "      <td>[64191]</td>\n",
       "      <td>[K64191]</td>\n",
       "    </tr>\n",
       "    <tr>\n",
       "      <th>541943</th>\n",
       "      <td>stanley gibbons – the home of stamp collecting...</td>\n",
       "      <td>[G, 47, 4778, 47789]</td>\n",
       "      <td>test</td>\n",
       "      <td>47789</td>\n",
       "      <td>[G]</td>\n",
       "      <td>[47]</td>\n",
       "      <td>[4778]</td>\n",
       "      <td>[47789]</td>\n",
       "      <td>[G47789]</td>\n",
       "    </tr>\n",
       "    <tr>\n",
       "      <th>445157</th>\n",
       "      <td>are you looking for high-quality dentistry in ...</td>\n",
       "      <td>[Q, 86, 8623, 86230]</td>\n",
       "      <td>train</td>\n",
       "      <td>86230</td>\n",
       "      <td>[Q]</td>\n",
       "      <td>[86]</td>\n",
       "      <td>[8623]</td>\n",
       "      <td>[86230]</td>\n",
       "      <td>[Q86230]</td>\n",
       "    </tr>\n",
       "  </tbody>\n",
       "</table>\n",
       "</div>"
      ],
      "text/plain": [
       "                                                     text  \\\n",
       "id                                                          \n",
       "453844  welcome to a1 lifts . professional and reliabl...   \n",
       "914843  our friendly service , surprising range of fre...   \n",
       "326959  wherever you want to get to in life , lloyds b...   \n",
       "541943  stanley gibbons – the home of stamp collecting...   \n",
       "445157  are you looking for high-quality dentistry in ...   \n",
       "\n",
       "                  categories train/test    sic cat0  cat1    cat2     cat3  \\\n",
       "id                                                                           \n",
       "453844  [C, 33, 3319, 33190]      train  33190  [C]  [33]  [3319]  [33190]   \n",
       "914843  [G, 47, 4711, 47110]      train  47110  [G]  [47]  [4711]  [47110]   \n",
       "326959  [K, 64, 6419, 64191]      train  64191  [K]  [64]  [6419]  [64191]   \n",
       "541943  [G, 47, 4778, 47789]       test  47789  [G]  [47]  [4778]  [47789]   \n",
       "445157  [Q, 86, 8623, 86230]      train  86230  [Q]  [86]  [8623]  [86230]   \n",
       "\n",
       "       hierarchy  \n",
       "id                \n",
       "453844  [C33190]  \n",
       "914843  [G47110]  \n",
       "326959  [K64191]  \n",
       "541943  [G47789]  \n",
       "445157  [Q86230]  "
      ]
     },
     "execution_count": 118,
     "metadata": {},
     "output_type": "execute_result"
    }
   ],
   "source": [
    "df.head()"
   ]
  },
  {
   "cell_type": "code",
   "execution_count": 119,
   "metadata": {},
   "outputs": [],
   "source": [
    "dd_train = {key:val for key,val in df[df['train/test']=='train'].sic.value_counts().iteritems()}\n",
    "dd_test = {key:val for key,val in df[df['train/test']=='test'].sic.value_counts().iteritems()}\n",
    "train_count = []\n",
    "test_count= []\n",
    "for key,val in df.sic.value_counts().iteritems():\n",
    "    train_count.append(dd_train[key])\n",
    "    test_count.append(dd_test[key])    "
   ]
  },
  {
   "cell_type": "code",
   "execution_count": 120,
   "metadata": {},
   "outputs": [
    {
     "data": {
      "image/png": "[encoded data removed]",
      "text/plain": [
       "<Figure size 432x288 with 1 Axes>"
      ]
     },
     "metadata": {
      "needs_background": "light"
     },
     "output_type": "display_data"
    }
   ],
   "source": [
    "plt.plot(train_count,label='train')\n",
    "plt.plot(test_count,label='test')\n",
    "plt.title('label distribution')\n",
    "plt.legend()\n",
    "plt.show()"
   ]
  },
  {
   "cell_type": "code",
   "execution_count": 121,
   "metadata": {},
   "outputs": [],
   "source": [
    "df.to_pickle('data/sic_hierarchy.pkl')"
   ]
  },
  {
   "cell_type": "code",
   "execution_count": 126,
   "metadata": {},
   "outputs": [
    {
     "data": {
      "text/plain": [
       "['categories', 'cat0', 'cat1', 'cat2', 'cat3']"
      ]
     },
     "execution_count": 126,
     "metadata": {},
     "output_type": "execute_result"
    }
   ],
   "source": [
    "[n for n in df.columns if n.startswith('cat')]"
   ]
  },
  {
   "cell_type": "markdown",
   "metadata": {},
   "source": [
    "# SOME STATS"
   ]
  },
  {
   "cell_type": "code",
   "execution_count": 56,
   "metadata": {},
   "outputs": [],
   "source": [
    "train_len = df[df['train/test']=='train']['text'].apply(lambda x:len(x.split(' '))).values"
   ]
  },
  {
   "cell_type": "code",
   "execution_count": 58,
   "metadata": {},
   "outputs": [
    {
     "data": {
      "text/plain": [
       "[<matplotlib.lines.Line2D at 0x7ff73ce49278>]"
      ]
     },
     "execution_count": 58,
     "metadata": {},
     "output_type": "execute_result"
    },
    {
     "data": {
      "image/png": "[encoded data removed]",
      "text/plain": [
       "<Figure size 432x288 with 1 Axes>"
      ]
     },
     "metadata": {
      "needs_background": "light"
     },
     "output_type": "display_data"
    }
   ],
   "source": [
    "plt.plot(sorted(train_len,reverse = True))"
   ]
  },
  {
   "cell_type": "code",
   "execution_count": 94,
   "metadata": {},
   "outputs": [
    {
     "data": {
      "text/plain": [
       "[1, 2, 3, 4]"
      ]
     },
     "execution_count": 94,
     "metadata": {},
     "output_type": "execute_result"
    }
   ],
   "source": [
    "a = [1,2,3,4]\n",
    "a[:10]"
   ]
  },
  {
   "cell_type": "code",
   "execution_count": null,
   "metadata": {},
   "outputs": [],
   "source": []
  }
 ],
 "metadata": {
  "kernelspec": {
   "display_name": "Python 3",
   "language": "python",
   "name": "python3"
  },
  "language_info": {
   "codemirror_mode": {
    "name": "ipython",
    "version": 3
   },
   "file_extension": ".py",
   "mimetype": "text/x-python",
   "name": "python",
   "nbconvert_exporter": "python",
   "pygments_lexer": "ipython3",
   "version": "3.6.8"
  }
 },
 "nbformat": 4,
 "nbformat_minor": 2
}
