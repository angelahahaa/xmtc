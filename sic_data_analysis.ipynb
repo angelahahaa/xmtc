{
 "cells": [
  {
   "cell_type": "code",
   "execution_count": 11,
   "metadata": {},
   "outputs": [],
   "source": [
    "import pandas as pd\n",
    "import numpy as np\n",
    "import json\n",
    "import matplotlib.pyplot as plt\n",
    "from tools.helper import clean_str\n",
    "import time"
   ]
  },
  {
   "cell_type": "code",
   "execution_count": 2,
   "metadata": {},
   "outputs": [],
   "source": [
    "DATA_PATHS = ['/data/2016_sic/ioannis_data/new_data_3/fold0/training.json',\n",
    "              '/data/2016_sic/ioannis_data/new_data_3/fold0/training.json',\n",
    "             ]\n",
    "data = []\n",
    "for DATA_PATH in DATA_PATHS:\n",
    "    with open(DATA_PATH) as json_file:  \n",
    "        for line in json_file:\n",
    "            data.append(json.loads(line))"
   ]
  },
  {
   "cell_type": "code",
   "execution_count": 3,
   "metadata": {},
   "outputs": [
    {
     "data": {
      "text/html": [
       "<div>\n",
       "<style scoped>\n",
       "    .dataframe tbody tr th:only-of-type {\n",
       "        vertical-align: middle;\n",
       "    }\n",
       "\n",
       "    .dataframe tbody tr th {\n",
       "        vertical-align: top;\n",
       "    }\n",
       "\n",
       "    .dataframe thead th {\n",
       "        text-align: right;\n",
       "    }\n",
       "</style>\n",
       "<table border=\"1\" class=\"dataframe\">\n",
       "  <thead>\n",
       "    <tr style=\"text-align: right;\">\n",
       "      <th></th>\n",
       "      <th>class</th>\n",
       "      <th>des</th>\n",
       "      <th>des_class</th>\n",
       "      <th>web</th>\n",
       "      <th>web_class</th>\n",
       "      <th>web_id</th>\n",
       "    </tr>\n",
       "  </thead>\n",
       "  <tbody>\n",
       "    <tr>\n",
       "      <th>0</th>\n",
       "      <td>contradiction</td>\n",
       "      <td>loading and unloading of goods or passengers ...</td>\n",
       "      <td>52241</td>\n",
       "      <td>DVB Bank - Homepage</td>\n",
       "      <td>64929</td>\n",
       "      <td>216475</td>\n",
       "    </tr>\n",
       "    <tr>\n",
       "      <th>1</th>\n",
       "      <td>contradiction</td>\n",
       "      <td>manufacture of luggage handbags and the like ...</td>\n",
       "      <td>15120</td>\n",
       "      <td>Independent financial advisors in Lancashire f...</td>\n",
       "      <td>66190</td>\n",
       "      <td>82098</td>\n",
       "    </tr>\n",
       "    <tr>\n",
       "      <th>2</th>\n",
       "      <td>entailment</td>\n",
       "      <td>repair of fishing nets including mending repa...</td>\n",
       "      <td>33190</td>\n",
       "      <td>Welcome to A1 Lifts. Professional and reliable...</td>\n",
       "      <td>33190</td>\n",
       "      <td>453844</td>\n",
       "    </tr>\n",
       "    <tr>\n",
       "      <th>3</th>\n",
       "      <td>contradiction</td>\n",
       "      <td>preparation and serving of beverages for imme...</td>\n",
       "      <td>56302</td>\n",
       "      <td>Largest choice of tiles in the South West. We ...</td>\n",
       "      <td>46730</td>\n",
       "      <td>690360</td>\n",
       "    </tr>\n",
       "    <tr>\n",
       "      <th>4</th>\n",
       "      <td>contradiction</td>\n",
       "      <td>manufacture of felt manufacture of tulles and...</td>\n",
       "      <td>13990</td>\n",
       "      <td>Leading UK pharmacy services, products, prescr...</td>\n",
       "      <td>47730</td>\n",
       "      <td>337516</td>\n",
       "    </tr>\n",
       "  </tbody>\n",
       "</table>\n",
       "</div>"
      ],
      "text/plain": [
       "           class                                                des des_class  \\\n",
       "0  contradiction   loading and unloading of goods or passengers ...     52241   \n",
       "1  contradiction   manufacture of luggage handbags and the like ...     15120   \n",
       "2     entailment   repair of fishing nets including mending repa...     33190   \n",
       "3  contradiction   preparation and serving of beverages for imme...     56302   \n",
       "4  contradiction   manufacture of felt manufacture of tulles and...     13990   \n",
       "\n",
       "                                                 web web_class  web_id  \n",
       "0                                DVB Bank - Homepage     64929  216475  \n",
       "1  Independent financial advisors in Lancashire f...     66190   82098  \n",
       "2  Welcome to A1 Lifts. Professional and reliable...     33190  453844  \n",
       "3  Largest choice of tiles in the South West. We ...     46730  690360  \n",
       "4  Leading UK pharmacy services, products, prescr...     47730  337516  "
      ]
     },
     "execution_count": 3,
     "metadata": {},
     "output_type": "execute_result"
    }
   ],
   "source": [
    "df = pd.DataFrame(data)\n",
    "df.head()"
   ]
  },
  {
   "cell_type": "code",
   "execution_count": 4,
   "metadata": {},
   "outputs": [],
   "source": [
    "df = df[df['class']=='entailment']\n",
    "df = df.drop(columns = ['class', 'des', 'des_class'])\n",
    "df = df.drop_duplicates()\n",
    "df = df.rename(columns = {'web_id':'id','web':'text','web_class':'categories'})\n",
    "df = df.set_index('id')"
   ]
  },
  {
   "cell_type": "code",
   "execution_count": 5,
   "metadata": {},
   "outputs": [
    {
     "data": {
      "image/png": "[encoded data removed]",
      "text/plain": [
       "<Figure size 432x288 with 1 Axes>"
      ]
     },
     "metadata": {
      "needs_background": "light"
     },
     "output_type": "display_data"
    },
    {
     "data": {
      "image/png": "[encoded data removed]",
      "text/plain": [
       "<Figure size 432x288 with 1 Axes>"
      ]
     },
     "metadata": {
      "needs_background": "light"
     },
     "output_type": "display_data"
    }
   ],
   "source": [
    "# text length (char level)\n",
    "tt = df['text'].apply(len)\n",
    "plt.plot(sorted(tt.values,reverse= True))\n",
    "plt.title('text length (char level) distribution BEFORE clipping')\n",
    "plt.show()\n",
    "q = np.percentile(tt.values,99)\n",
    "plt.plot(sorted([t for t in tt.values if t<=q],reverse= True))\n",
    "plt.title('text length (char level) distribution AFTER clipping')\n",
    "plt.show()"
   ]
  },
  {
   "cell_type": "code",
   "execution_count": 6,
   "metadata": {},
   "outputs": [],
   "source": [
    "# clip \n",
    "def clip_this(s,q):\n",
    "    if len(s)<=q:\n",
    "        return s\n",
    "    ind = s[:q].rfind(' ')\n",
    "    return s[:ind]\n",
    "df['text'] = df['text'].apply(lambda x:clip_this(x,int(q)))"
   ]
  },
  {
   "cell_type": "code",
   "execution_count": 7,
   "metadata": {},
   "outputs": [
    {
     "data": {
      "text/plain": [
       "[<matplotlib.lines.Line2D at 0x7ff763e73d68>]"
      ]
     },
     "execution_count": 7,
     "metadata": {},
     "output_type": "execute_result"
    },
    {
     "data": {
      "image/png": "[encoded data removed]",
      "text/plain": [
       "<Figure size 432x288 with 1 Axes>"
      ]
     },
     "metadata": {
      "needs_background": "light"
     },
     "output_type": "display_data"
    }
   ],
   "source": [
    "# class distribution\n",
    "plt.title('class distribution')\n",
    "plt.plot(sorted(df.categories.value_counts().values,reverse = True))\n",
    "plt.show()"
   ]
  },
  {
   "cell_type": "code",
   "execution_count": 8,
   "metadata": {},
   "outputs": [
    {
     "data": {
      "text/html": [
       "<div>\n",
       "<style scoped>\n",
       "    .dataframe tbody tr th:only-of-type {\n",
       "        vertical-align: middle;\n",
       "    }\n",
       "\n",
       "    .dataframe tbody tr th {\n",
       "        vertical-align: top;\n",
       "    }\n",
       "\n",
       "    .dataframe thead th {\n",
       "        text-align: right;\n",
       "    }\n",
       "</style>\n",
       "<table border=\"1\" class=\"dataframe\">\n",
       "  <thead>\n",
       "    <tr style=\"text-align: right;\">\n",
       "      <th></th>\n",
       "      <th>text</th>\n",
       "      <th>catergories</th>\n",
       "    </tr>\n",
       "    <tr>\n",
       "      <th>id</th>\n",
       "      <th></th>\n",
       "      <th></th>\n",
       "    </tr>\n",
       "  </thead>\n",
       "  <tbody>\n",
       "    <tr>\n",
       "      <th>453844</th>\n",
       "      <td>Welcome to A1 Lifts. Professional and reliable...</td>\n",
       "      <td>33190</td>\n",
       "    </tr>\n",
       "    <tr>\n",
       "      <th>914843</th>\n",
       "      <td>Our friendly service, surprising range of fres...</td>\n",
       "      <td>47110</td>\n",
       "    </tr>\n",
       "    <tr>\n",
       "      <th>326959</th>\n",
       "      <td>Wherever you want to get to in life, Lloyds Ba...</td>\n",
       "      <td>64191</td>\n",
       "    </tr>\n",
       "    <tr>\n",
       "      <th>541943</th>\n",
       "      <td>Stanley Gibbons – The home of stamp collecting...</td>\n",
       "      <td>47789</td>\n",
       "    </tr>\n",
       "    <tr>\n",
       "      <th>445157</th>\n",
       "      <td>Are you looking for high-quality dentistry in ...</td>\n",
       "      <td>86230</td>\n",
       "    </tr>\n",
       "  </tbody>\n",
       "</table>\n",
       "</div>"
      ],
      "text/plain": [
       "                                                     text catergories\n",
       "id                                                                   \n",
       "453844  Welcome to A1 Lifts. Professional and reliable...       33190\n",
       "914843  Our friendly service, surprising range of fres...       47110\n",
       "326959  Wherever you want to get to in life, Lloyds Ba...       64191\n",
       "541943  Stanley Gibbons – The home of stamp collecting...       47789\n",
       "445157  Are you looking for high-quality dentistry in ...       86230"
      ]
     },
     "execution_count": 8,
     "metadata": {},
     "output_type": "execute_result"
    }
   ],
   "source": [
    "df.head()"
   ]
  },
  {
   "cell_type": "code",
   "execution_count": 9,
   "metadata": {},
   "outputs": [],
   "source": [
    "cleaned = {}"
   ]
  },
  {
   "cell_type": "code",
   "execution_count": 55,
   "metadata": {},
   "outputs": [],
   "source": [
    "# clean text\n",
    "aa = len(df)\n",
    "start = time.time()\n",
    "for i,(id,text) in enumerate(df['text'].iteritems()):\n",
    "    if id in cleaned.keys():\n",
    "        continue\n",
    "    cleaned[id] = clean_str(text)\n",
    "    if i%(aa//10)==0:\n",
    "        duration = time.time()-start\n",
    "        print('{:02d}:{:02d}'.format(int(duration//60),int(duration%60)))\n",
    "        print('COMPLETE {:.0f}% '.format(i/aa*100),end = '')\n",
    "    elif i%(aa//100)==0:\n",
    "        print('.',end = '')"
   ]
  },
  {
   "cell_type": "code",
   "execution_count": 15,
   "metadata": {},
   "outputs": [],
   "source": [
    "df['text'] = df.index.map(cleaned)"
   ]
  },
  {
   "cell_type": "markdown",
   "metadata": {},
   "source": [
    "# test train split"
   ]
  },
  {
   "cell_type": "code",
   "execution_count": 25,
   "metadata": {},
   "outputs": [],
   "source": [
    "test_split = 0.2\n",
    "split = int(len(df)*test_split)\n",
    "ind = np.arange(len(df))\n",
    "np.random.seed(0)\n",
    "np.random.shuffle(ind)"
   ]
  },
  {
   "cell_type": "code",
   "execution_count": 40,
   "metadata": {},
   "outputs": [],
   "source": [
    "df['train/test']='train'\n",
    "df.loc[df.index.values[ind[:split]],'train/test']='test'"
   ]
  },
  {
   "cell_type": "code",
   "execution_count": 41,
   "metadata": {},
   "outputs": [
    {
     "data": {
      "text/plain": [
       "train    588992\n",
       "test     147247\n",
       "Name: train/test, dtype: int64"
      ]
     },
     "execution_count": 41,
     "metadata": {},
     "output_type": "execute_result"
    }
   ],
   "source": [
    "df['train/test'].value_counts()"
   ]
  },
  {
   "cell_type": "code",
   "execution_count": 48,
   "metadata": {},
   "outputs": [
    {
     "data": {
      "text/html": [
       "<div>\n",
       "<style scoped>\n",
       "    .dataframe tbody tr th:only-of-type {\n",
       "        vertical-align: middle;\n",
       "    }\n",
       "\n",
       "    .dataframe tbody tr th {\n",
       "        vertical-align: top;\n",
       "    }\n",
       "\n",
       "    .dataframe thead th {\n",
       "        text-align: right;\n",
       "    }\n",
       "</style>\n",
       "<table border=\"1\" class=\"dataframe\">\n",
       "  <thead>\n",
       "    <tr style=\"text-align: right;\">\n",
       "      <th></th>\n",
       "      <th>text</th>\n",
       "      <th>categories</th>\n",
       "      <th>train/test</th>\n",
       "    </tr>\n",
       "    <tr>\n",
       "      <th>id</th>\n",
       "      <th></th>\n",
       "      <th></th>\n",
       "      <th></th>\n",
       "    </tr>\n",
       "  </thead>\n",
       "  <tbody>\n",
       "    <tr>\n",
       "      <th>453844</th>\n",
       "      <td>welcome to a1 lifts . professional and reliabl...</td>\n",
       "      <td>33190</td>\n",
       "      <td>train</td>\n",
       "    </tr>\n",
       "    <tr>\n",
       "      <th>914843</th>\n",
       "      <td>our friendly service , surprising range of fre...</td>\n",
       "      <td>47110</td>\n",
       "      <td>train</td>\n",
       "    </tr>\n",
       "    <tr>\n",
       "      <th>326959</th>\n",
       "      <td>wherever you want to get to in life , lloyds b...</td>\n",
       "      <td>64191</td>\n",
       "      <td>train</td>\n",
       "    </tr>\n",
       "    <tr>\n",
       "      <th>541943</th>\n",
       "      <td>stanley gibbons – the home of stamp collecting...</td>\n",
       "      <td>47789</td>\n",
       "      <td>train</td>\n",
       "    </tr>\n",
       "    <tr>\n",
       "      <th>445157</th>\n",
       "      <td>are you looking for high-quality dentistry in ...</td>\n",
       "      <td>86230</td>\n",
       "      <td>train</td>\n",
       "    </tr>\n",
       "  </tbody>\n",
       "</table>\n",
       "</div>"
      ],
      "text/plain": [
       "                                                     text categories  \\\n",
       "id                                                                     \n",
       "453844  welcome to a1 lifts . professional and reliabl...      33190   \n",
       "914843  our friendly service , surprising range of fre...      47110   \n",
       "326959  wherever you want to get to in life , lloyds b...      64191   \n",
       "541943  stanley gibbons – the home of stamp collecting...      47789   \n",
       "445157  are you looking for high-quality dentistry in ...      86230   \n",
       "\n",
       "       train/test  \n",
       "id                 \n",
       "453844      train  \n",
       "914843      train  \n",
       "326959      train  \n",
       "541943      train  \n",
       "445157      train  "
      ]
     },
     "execution_count": 48,
     "metadata": {},
     "output_type": "execute_result"
    }
   ],
   "source": [
    "df.head()"
   ]
  },
  {
   "cell_type": "code",
   "execution_count": 47,
   "metadata": {},
   "outputs": [],
   "source": [
    "df.to_pickle('data/sic.pkl')"
   ]
  },
  {
   "cell_type": "markdown",
   "metadata": {},
   "source": [
    "# for FastText"
   ]
  },
  {
   "cell_type": "code",
   "execution_count": 49,
   "metadata": {},
   "outputs": [],
   "source": [
    "df['joined'] = df.apply(lambda x: '__label__' + x['categories'].strip()+' '+x['text'].strip(),axis=1)"
   ]
  },
  {
   "cell_type": "code",
   "execution_count": 50,
   "metadata": {},
   "outputs": [
    {
     "data": {
      "text/html": [
       "<div>\n",
       "<style scoped>\n",
       "    .dataframe tbody tr th:only-of-type {\n",
       "        vertical-align: middle;\n",
       "    }\n",
       "\n",
       "    .dataframe tbody tr th {\n",
       "        vertical-align: top;\n",
       "    }\n",
       "\n",
       "    .dataframe thead th {\n",
       "        text-align: right;\n",
       "    }\n",
       "</style>\n",
       "<table border=\"1\" class=\"dataframe\">\n",
       "  <thead>\n",
       "    <tr style=\"text-align: right;\">\n",
       "      <th></th>\n",
       "      <th>text</th>\n",
       "      <th>categories</th>\n",
       "      <th>train/test</th>\n",
       "      <th>joined</th>\n",
       "    </tr>\n",
       "    <tr>\n",
       "      <th>id</th>\n",
       "      <th></th>\n",
       "      <th></th>\n",
       "      <th></th>\n",
       "      <th></th>\n",
       "    </tr>\n",
       "  </thead>\n",
       "  <tbody>\n",
       "    <tr>\n",
       "      <th>453844</th>\n",
       "      <td>welcome to a1 lifts . professional and reliabl...</td>\n",
       "      <td>33190</td>\n",
       "      <td>train</td>\n",
       "      <td>__label__33190 welcome to a1 lifts . professio...</td>\n",
       "    </tr>\n",
       "    <tr>\n",
       "      <th>914843</th>\n",
       "      <td>our friendly service , surprising range of fre...</td>\n",
       "      <td>47110</td>\n",
       "      <td>train</td>\n",
       "      <td>__label__47110 our friendly service , surprisi...</td>\n",
       "    </tr>\n",
       "    <tr>\n",
       "      <th>326959</th>\n",
       "      <td>wherever you want to get to in life , lloyds b...</td>\n",
       "      <td>64191</td>\n",
       "      <td>train</td>\n",
       "      <td>__label__64191 wherever you want to get to in ...</td>\n",
       "    </tr>\n",
       "    <tr>\n",
       "      <th>541943</th>\n",
       "      <td>stanley gibbons – the home of stamp collecting...</td>\n",
       "      <td>47789</td>\n",
       "      <td>train</td>\n",
       "      <td>__label__47789 stanley gibbons – the home of s...</td>\n",
       "    </tr>\n",
       "    <tr>\n",
       "      <th>445157</th>\n",
       "      <td>are you looking for high-quality dentistry in ...</td>\n",
       "      <td>86230</td>\n",
       "      <td>train</td>\n",
       "      <td>__label__86230 are you looking for high-qualit...</td>\n",
       "    </tr>\n",
       "  </tbody>\n",
       "</table>\n",
       "</div>"
      ],
      "text/plain": [
       "                                                     text categories  \\\n",
       "id                                                                     \n",
       "453844  welcome to a1 lifts . professional and reliabl...      33190   \n",
       "914843  our friendly service , surprising range of fre...      47110   \n",
       "326959  wherever you want to get to in life , lloyds b...      64191   \n",
       "541943  stanley gibbons – the home of stamp collecting...      47789   \n",
       "445157  are you looking for high-quality dentistry in ...      86230   \n",
       "\n",
       "       train/test                                             joined  \n",
       "id                                                                    \n",
       "453844      train  __label__33190 welcome to a1 lifts . professio...  \n",
       "914843      train  __label__47110 our friendly service , surprisi...  \n",
       "326959      train  __label__64191 wherever you want to get to in ...  \n",
       "541943      train  __label__47789 stanley gibbons – the home of s...  \n",
       "445157      train  __label__86230 are you looking for high-qualit...  "
      ]
     },
     "execution_count": 50,
     "metadata": {},
     "output_type": "execute_result"
    }
   ],
   "source": [
    "df.head()"
   ]
  },
  {
   "cell_type": "code",
   "execution_count": 54,
   "metadata": {},
   "outputs": [],
   "source": [
    "np.savetxt('data/FT/sic.test.txt',df[df['train/test']=='test'].joined.values,fmt='%s')\n",
    "np.savetxt('data/FT/sic.train.txt',df[df['train/test']=='train'].joined.values,fmt='%s')"
   ]
  },
  {
   "cell_type": "markdown",
   "metadata": {},
   "source": [
    "# some more stats"
   ]
  },
  {
   "cell_type": "code",
   "execution_count": 56,
   "metadata": {},
   "outputs": [],
   "source": [
    "train_len = df[df['train/test']=='train']['text'].apply(lambda x:len(x.split(' '))).values"
   ]
  },
  {
   "cell_type": "code",
   "execution_count": 58,
   "metadata": {},
   "outputs": [
    {
     "data": {
      "text/plain": [
       "[<matplotlib.lines.Line2D at 0x7ff73ce49278>]"
      ]
     },
     "execution_count": 58,
     "metadata": {},
     "output_type": "execute_result"
    },
    {
     "data": {
      "image/png": "[encoded data removed]",
      "text/plain": [
       "<Figure size 432x288 with 1 Axes>"
      ]
     },
     "metadata": {
      "needs_background": "light"
     },
     "output_type": "display_data"
    }
   ],
   "source": [
    "plt.plot(sorted(train_len,reverse = True))"
   ]
  },
  {
   "cell_type": "code",
   "execution_count": null,
   "metadata": {},
   "outputs": [],
   "source": []
  }
 ],
 "metadata": {
  "kernelspec": {
   "display_name": "Python 3",
   "language": "python",
   "name": "python3"
  },
  "language_info": {
   "codemirror_mode": {
    "name": "ipython",
    "version": 3
   },
   "file_extension": ".py",
   "mimetype": "text/x-python",
   "name": "python",
   "nbconvert_exporter": "python",
   "pygments_lexer": "ipython3",
   "version": "3.6.8"
  }
 },
 "nbformat": 4,
 "nbformat_minor": 2
}
