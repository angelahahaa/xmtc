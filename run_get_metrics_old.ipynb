{
 "cells": [
  {
   "cell_type": "code",
   "execution_count": 1,
   "metadata": {},
   "outputs": [
    {
     "name": "stderr",
     "output_type": "stream",
     "text": [
      "WARNING: Logging before flag parsing goes to stderr.\n",
      "W0828 18:57:56.131969 140000703145792 deprecation_wrapper.py:119] From /home/angela/xmtc/tools/model_func.py:21: The name tf.keras.layers.CuDNNLSTM is deprecated. Please use tf.compat.v1.keras.layers.CuDNNLSTM instead.\n",
      "\n"
     ]
    }
   ],
   "source": [
    "import os,re\n",
    "import pandas as pd\n",
    "import numpy as np\n",
    "import matplotlib.pyplot as plt\n",
    "from collections import defaultdict\n",
    "import scipy.sparse as sp\n",
    "from tools.model_func import get_input\n",
    "import seaborn as sns\n",
    "from sklearn.metrics import f1_score,precision_score\n",
    "import warnings"
   ]
  },
  {
   "cell_type": "markdown",
   "metadata": {},
   "source": [
    "# metric helpers"
   ]
  },
  {
   "cell_type": "code",
   "execution_count": 2,
   "metadata": {},
   "outputs": [],
   "source": [
    "def get_sparse_k(y_true,y_pred,k,include_rank=False):\n",
    "    m,n = y_true.shape\n",
    "    rows = np.repeat(np.arange(m),k)\n",
    "    cols = y_pred[:,:k].flatten()\n",
    "    if include_rank:\n",
    "        data = np.tile(np.arange(k)+1,m)\n",
    "    else:\n",
    "        data = np.ones_like(rows)\n",
    "    return sp.csr_matrix((data,(rows,cols)),shape=(m,n))\n",
    "def get_pAtk(y_true,y_pred,k):\n",
    "    pred = get_sparse_k(y_true,y_pred,k)\n",
    "    patk = (y_true.multiply(pred).sum(axis=1)).A1\n",
    "    return patk\n",
    "def get_nDCGAtk(y_true,y_pred,k):\n",
    "    pred = get_sparse_k(y_true,y_pred,k,include_rank=True)\n",
    "    pred.data = 1/np.log(pred.data+1)\n",
    "    dcg = y_true.multiply(pred).sum(axis=1).A1\n",
    "    num_labs = y_true[0,:].sum() # small cheat coz we know |y|_0 is constant\n",
    "    norm_const = (1/np.log(np.arange(min(k,num_labs))+2)).sum()\n",
    "    ndcg = dcg/norm_const\n",
    "    return ndcg\n",
    "def get_multilabel_pAtk(y_true,y_pred,k):\n",
    "    pred = get_sparse_k(y_true,y_pred,k)\n",
    "    patk = (y_true.multiply(pred).sum(axis=1)/k).A1\n",
    "    return patk\n",
    "def get_micro_categorical_accuracy(y_true,y_pred,k):\n",
    "    pred = get_sparse_k(y_true,y_pred,k)\n",
    "    return y_true.multiply(pred).sum(axis=1).A1\n",
    "def get_macro_precision(y_true,y_pred,k):\n",
    "    pred = get_sparse_k(y_true,y_pred,k)\n",
    "    return precision_score(trues,pred,average=None)\n",
    "def get_macro_F1(y_true,y_pred,k):\n",
    "    pred = get_sparse_k(y_true,y_pred,k)\n",
    "    return f1_score(trues,pred,average=None)"
   ]
  },
  {
   "cell_type": "markdown",
   "metadata": {},
   "source": [
    "# input helper"
   ]
  },
  {
   "cell_type": "code",
   "execution_count": 3,
   "metadata": {},
   "outputs": [],
   "source": [
    "def get_args(in_dir):\n",
    "    dirs = sorted([os.path.join(in_dir,d) for d in os.listdir(in_dir)])\n",
    "    out_d = defaultdict(list)\n",
    "    for d in dirs:\n",
    "        log_dir = os.path.join(d,'train.log')\n",
    "        args_dir = os.path.join(d,'args.csv')\n",
    "        if not os.path.exists(log_dir) or not os.path.exists(args_dir):\n",
    "            continue\n",
    "        df = pd.read_csv(log_dir)\n",
    "        arg = pd.read_csv(args_dir)\n",
    "        mode = arg.loc[0,'mode']\n",
    "        arg['dir'] = d\n",
    "        df['dir'] = d\n",
    "        out_d[mode].append(df)   \n",
    "        out_d['args'].append(arg)\n",
    "    args = pd.concat(out_d['args'], ignore_index = True, sort = False)\n",
    "    return args"
   ]
  },
  {
   "cell_type": "code",
   "execution_count": 4,
   "metadata": {},
   "outputs": [],
   "source": [
    "def get_categorical_preds(model_dir,topk=5):\n",
    "    if 'FastText' in model_dir:\n",
    "        pred_dirs = sorted([os.path.join(model_dir,d) for d in os.listdir(model_dir)])[1:]\n",
    "    else:\n",
    "        pred_dirs = sorted([os.path.join(model_dir,d) for d in os.listdir(model_dir) if d.startswith('pred_outputs')])\n",
    "    preds = [np.loadtxt(pred_dir,dtype=int,usecols=np.arange(topk)).reshape([-1,topk]) for pred_dir in pred_dirs]\n",
    "    return preds"
   ]
  },
  {
   "cell_type": "code",
   "execution_count": 5,
   "metadata": {},
   "outputs": [],
   "source": [
    "def get_preds(model_dir,y_tests,per_hierarchy=False):\n",
    "    cnts = [y_tests[i].shape[1] for i in range(len(y_tests))]\n",
    "    offsets = [0] + [cnts[i]+sum(cnts[:i]) for i in range(len(cnts))]\n",
    "    if not per_hierarchy:\n",
    "        if 'FastText' in model_dir:\n",
    "            preds = np.loadtxt(os.path.join(model_dir,'pred_outputs.txt'),dtype=int)\n",
    "\n",
    "\n",
    "        else:\n",
    "            long_dir = os.path.join(model_dir,'combined_pred_outputs.txt')\n",
    "            if os.path.exists(long_dir):\n",
    "                preds = np.loadtxt(long_dir)\n",
    "            else:\n",
    "                pred_dirs = sorted([os.path.join(model_dir,d) for d in os.listdir(model_dir) if d.startswith('pred_outputs')])\n",
    "                preds = [np.loadtxt(pred_dir,dtype=int) for pred_dir in pred_dirs]\n",
    "                logi_dirs = sorted([os.path.join(model_dir,d) for d in os.listdir(model_dir) if d.startswith('pred_logits')])\n",
    "                logits = [np.loadtxt(dir) for dir in logi_dirs]\n",
    "\n",
    "                for i in range(0,len(preds)):\n",
    "                    preds[i]=preds[i]+offsets[i]\n",
    "                preds = np.concatenate(preds,axis=1)\n",
    "                # combined top k prediciton\n",
    "                ll = np.concatenate(logits,axis=1)\n",
    "                inds = np.argsort(ll,axis=1)[:,:-11:-1]\n",
    "                preds = np.take_along_axis(preds, inds, axis=1)\n",
    "                np.savetxt(long_dir,preds,fmt='%d')\n",
    "                print('SAVE COMBINED PREDICTIONS:\\n{}'.format(long_dir))\n",
    "\n",
    "    else:\n",
    "        if 'FastText' in model_dir:\n",
    "            pred_dirs = sorted([os.path.join(model_dir,d) for d in os.listdir(model_dir)])[1:]\n",
    "            preds = [np.loadtxt(pred_dir,dtype=int,usecols=0)+offsets[i] for i,pred_dir in enumerate(pred_dirs)]\n",
    "        else:\n",
    "            pred_dirs = sorted([os.path.join(model_dir,d) for d in os.listdir(model_dir) if d.startswith('pred_outputs')])\n",
    "            preds = [np.loadtxt(pred_dir,dtype=int,usecols=0)+offsets[i] for i,pred_dir in enumerate(pred_dirs)]\n",
    "        preds = np.vstack(preds).T\n",
    "    return preds\n",
    "        "
   ]
  },
  {
   "cell_type": "markdown",
   "metadata": {},
   "source": [
    "# get metrics at different levels"
   ]
  },
  {
   "cell_type": "code",
   "execution_count": 6,
   "metadata": {},
   "outputs": [],
   "source": [
    "def get_categorical_scores(d,y_tests,metrics,ks):\n",
    "    print(d)\n",
    "    preds = get_categorical_preds(d,max(ks))\n",
    "    dfs = []\n",
    "    s = np.arange(preds[0].shape[0])\n",
    "    for H in range(len(preds)):\n",
    "        df = pd.DataFrame(index=s)\n",
    "        df['sample_ind']=s\n",
    "        df['H']='H{}'.format(H)\n",
    "        for key,func in metrics.items():\n",
    "            for k in ks:\n",
    "                metric = key.format(k)\n",
    "                df[metric] = func(y_tests[H],preds[H],k) # func returns metric per sample\n",
    "        dfs.append(df)\n",
    "    df = pd.concat(dfs,sort=False)\n",
    "    df['dir'] = d\n",
    "    df['model'] = d.split('_')[-1]\n",
    "    return df"
   ]
  },
  {
   "cell_type": "code",
   "execution_count": 7,
   "metadata": {},
   "outputs": [],
   "source": [
    "def get_micro_scores(d,trues,y_tests,metrics,ks,per_hierarchy):\n",
    "    print(d)\n",
    "    preds = get_preds(d,y_tests,per_hierarchy=per_hierarchy)\n",
    "    dic = {}\n",
    "    dic['dir'] = d\n",
    "    dic['model'] = d.split('_')[-1]\n",
    "    for key,func in metrics.items():\n",
    "        for k in ks:\n",
    "            metric = key.format(k)\n",
    "            dic[metric] = func(trues,preds,k).mean()\n",
    "    return pd.DataFrame.from_dict([dic])"
   ]
  },
  {
   "cell_type": "code",
   "execution_count": 8,
   "metadata": {},
   "outputs": [],
   "source": [
    "# get multi-label metrics\n",
    "def get_multi_label_metrics(d,trues,y_tests,metrics,ks=[1,3,5]):\n",
    "    print(d)\n",
    "    preds = get_preds(d,y_tests,per_hierarchy=False)\n",
    "    outs = []\n",
    "    for key,func in metrics.items():\n",
    "        scores = []\n",
    "        for i in ks:\n",
    "            score = func(trues,preds,i).mean()\n",
    "            scores.append(score)\n",
    "            print('{}{}:{:.2f}'.format(key,i,score*100),end=' ')\n",
    "        print()\n",
    "        outs.append([scores])\n",
    "    return outs"
   ]
  },
  {
   "cell_type": "code",
   "execution_count": 9,
   "metadata": {},
   "outputs": [],
   "source": [
    "# get_per_H_metrics\n",
    "def get_per_H_metrics(d,y_tests,metrics,ks=[1,3,5]):\n",
    "    print(d)\n",
    "    preds = get_preds(d,per_hierarchy=True)\n",
    "    outs = []\n",
    "    for key,func in metrics.items():\n",
    "        scoress = []\n",
    "        for H in range(len(preds)):\n",
    "            scores = []\n",
    "            print('H{}:  '.format(H),end='')\n",
    "            for i in ks:\n",
    "                score = func(y_tests[H],preds[H],i).mean()\n",
    "                scores.append(score)\n",
    "                print('{}{}:{:.2f}'.format(key,i,score*100),end=' ')\n",
    "            print()\n",
    "            scoress.append(scores)\n",
    "        outs.append(scoress)\n",
    "    return outs"
   ]
  },
  {
   "cell_type": "code",
   "execution_count": 10,
   "metadata": {},
   "outputs": [],
   "source": [
    "def get_macro_scores(d,trues,y_tests,metrics,groups,ks,per_hierarchy):\n",
    "    print(d)\n",
    "    preds = get_preds(d,y_tests,per_hierarchy=per_hierarchy)\n",
    "    rows = []\n",
    "    for key,func in metrics.items():\n",
    "        for k in ks:\n",
    "            ss = func(trues,preds,k)\n",
    "            for g,group in enumerate(groups):\n",
    "                dic = {}\n",
    "                dic['dir'] = d\n",
    "                dic['model'] = d.split('_')[-1]\n",
    "                dic['group'] = 'G{}'.format(g)\n",
    "                metric = key.format(k)\n",
    "                for ind in group:\n",
    "                    dic[metric] = ss[ind]\n",
    "                    dic['lab_ind']=ind\n",
    "                    rows.append({key:val for key,val in dic.items()})\n",
    "    df = pd.DataFrame.from_dict(rows)\n",
    "    df = df.groupby(['dir','lab_ind']).max().reset_index()\n",
    "    return df"
   ]
  },
  {
   "cell_type": "code",
   "execution_count": 11,
   "metadata": {},
   "outputs": [],
   "source": [
    "# get groups\n",
    "def get_groups(y_trains,num_groups = 3):\n",
    "    # get train label frequencey\n",
    "    train_cnts = np.hstack([y.sum(axis=0).A1 for y in y_trains])\n",
    "    lab_to_cnts = {i:cnt for i,cnt in enumerate(train_cnts)}\n",
    "    sorted_labs = sorted(lab_to_cnts.keys(),key=lambda x:lab_to_cnts[x])\n",
    "    # get groups by count\n",
    "    group_cnt = sum([cnt for cnt in lab_to_cnts.values()])/num_groups\n",
    "    groups = []\n",
    "    accumulated_cnts = 0\n",
    "    group = []\n",
    "    for lab in sorted_labs:\n",
    "        accumulated_cnts+=lab_to_cnts[lab]\n",
    "        if accumulated_cnts>group_cnt and len(groups)<num_groups:\n",
    "            groups.append(group)\n",
    "            group = [lab]\n",
    "            accumulated_cnts = 0\n",
    "        else:\n",
    "            group.append(lab)\n",
    "    groups.append(group)\n",
    "    # print things\n",
    "    cut_off = [0]+[lab_to_cnts[g[-1]] for g in groups]\n",
    "    t_bound = ['${} < t < {}$'.format(cut_off[i],cut_off[i+1])for i in range(len(groups))]\n",
    "    lab_per_group = [len(g) for g in groups]\n",
    "    perc_lab_per_group = [g/sum(lab_per_group)*100 for g in lab_per_group]\n",
    "    df = pd.DataFrame()\n",
    "    df['group'] = ['G{}'.format(g) for g in range(len(groups))]\n",
    "    df['num_train'] = [sum([lab_to_cnts[lab] for lab in group])for group in groups]\n",
    "    df['perc_train'] = df['num_train']/df['num_train'].sum()*100\n",
    "    \n",
    "    df['num_train_cut_off'] = cut_off[1:]\n",
    "    df['t_bound'] = t_bound\n",
    "    df['num_labels'] = lab_per_group\n",
    "    df['perc_labels'] = df['num_labels']/df['num_labels'].sum()*100\n",
    "    return groups,df"
   ]
  },
  {
   "cell_type": "markdown",
   "metadata": {},
   "source": [
    "# get group table for latex"
   ]
  },
  {
   "cell_type": "code",
   "execution_count": null,
   "metadata": {},
   "outputs": [],
   "source": [
    "dfs = []\n",
    "names = ['SIC Code','AmazonCat-13k']\n",
    "for i,DATA in enumerate(['sic_hierarchy','amazon_hierarchy_2']):\n",
    "    IN_DIR = 'data/{}'.format(DATA)\n",
    "    _,y_trains,_,_ = get_input(mode='cat', in_dir = IN_DIR, sparse = True, get_output= [0,1,0,0])\n",
    "    _,df = get_groups(y_trains,num_groups = 3)\n",
    "    df['data'] = names[i]\n",
    "    dfs.append(df)\n",
    "df = pd.concat(dfs)\n",
    "df = df.set_index(['data','group'])\n",
    "df.index.names=[None,None]"
   ]
  },
  {
   "cell_type": "code",
   "execution_count": null,
   "metadata": {},
   "outputs": [],
   "source": [
    "cols = ['num_train','num_labels','perc_labels','t_bound']\n",
    "header = ['Train Samples','No. Labels','% Labels','Train Samples per label (t)']\n",
    "ll = df[cols].to_latex(header = header,index=True,float_format='%.2f',multirow=True)\n",
    "# ll = ll.replace('  ',' ')\n",
    "ll = re.sub(' {2,}', '',ll)\n",
    "ll = ll.replace('\\$','$')\n",
    "# ll = ll.replace('<','$<$')\n",
    "print(ll)"
   ]
  },
  {
   "cell_type": "code",
   "execution_count": null,
   "metadata": {},
   "outputs": [],
   "source": [
    "# random fast cheat\n",
    "# get args\n",
    "args = get_args('outputs')"
   ]
  },
  {
   "cell_type": "code",
   "execution_count": null,
   "metadata": {},
   "outputs": [],
   "source": [
    "df = args\n",
    "df = df[df['mode']=='cat']\n",
    "df = df[df['loss']=='categorical']\n",
    "df = df[df['model'].isin(models)]\n",
    "df"
   ]
  },
  {
   "cell_type": "code",
   "execution_count": null,
   "metadata": {},
   "outputs": [],
   "source": [
    "for i,data in enumerate(['sic_hierarchy','amazon_hierarchy_2']):\n",
    "    print(data)\n",
    "    in_dir = os.path.join('data',data)\n",
    "    for d in df[df['input']==in_dir].dir.to_list():\n",
    "        print(d)\n",
    "        _,_,_,y_tests = get_input(mode='cat', in_dir = in_dir, sparse = True, get_output= [0,1,0,1])\n",
    "        trues = sp.hstack(y_tests).tocsr()\n",
    "        preds = get_preds(d,y_tests,per_hierarchy=False)\n",
    "        for k in [1,3,4]:\n",
    "            score = get_multilabel_pAtk(trues,preds,k).mean()*100\n",
    "            print('P@{}  :{:.2f}'.format(k,score))"
   ]
  },
  {
   "cell_type": "markdown",
   "metadata": {},
   "source": [
    "# MICRO"
   ]
  },
  {
   "cell_type": "code",
   "execution_count": 13,
   "metadata": {},
   "outputs": [],
   "source": [
    "# get args\n",
    "args = get_args('outputs')"
   ]
  },
  {
   "cell_type": "markdown",
   "metadata": {},
   "source": [
    "## binary"
   ]
  },
  {
   "cell_type": "code",
   "execution_count": 73,
   "metadata": {},
   "outputs": [
    {
     "name": "stdout",
     "output_type": "stream",
     "text": [
      "outputs/sic_hierarchy_c_FastText\n",
      "outputs/190726_210000_xmlcnn\n",
      "outputs/190726_210738_attentionxml\n",
      "outputs/190726_224702_attention\n",
      "outputs/190810_151748_bert\n",
      "outputs/190816_003525_bert\n",
      "outputs/sic_hierarchy_c_FastText\n",
      "outputs/190726_210000_xmlcnn\n",
      "outputs/190726_210738_attentionxml\n",
      "outputs/190726_224702_attention\n",
      "outputs/190810_151748_bert\n",
      "outputs/190816_003525_bert\n",
      "outputs/amazon_hierarchy_2_c_FastText\n",
      "outputs/190823_172116_xmlcnn\n",
      "outputs/190823_174301_attentionxml\n",
      "outputs/190824_133144_attention\n",
      "outputs/190824_215412_bert\n",
      "outputs/amazon_hierarchy_2_c_FastText\n",
      "outputs/190823_172116_xmlcnn\n",
      "outputs/190823_174301_attentionxml\n",
      "outputs/190824_133144_attention\n",
      "outputs/190824_215412_bert\n",
      "outputs/sic_hierarchy_c_FastText\n",
      "outputs/190726_183629_xmlcnn\n",
      "outputs/190726_184436_attentionxml\n",
      "outputs/190726_202322_attention\n",
      "outputs/190816_054515_bert\n",
      "outputs/sic_hierarchy_c_FastText\n",
      "outputs/190726_183629_xmlcnn\n",
      "outputs/190726_184436_attentionxml\n",
      "outputs/190726_202322_attention\n",
      "outputs/190816_054515_bert\n",
      "outputs/amazon_hierarchy_2_c_FastText\n",
      "outputs/190822_173202_xmlcnn\n",
      "outputs/190822_175228_attentionxml\n",
      "outputs/190823_133424_attention\n",
      "outputs/amazon_hierarchy_2_c_FastText\n",
      "outputs/190822_173202_xmlcnn\n",
      "outputs/190822_175228_attentionxml\n",
      "outputs/190823_133424_attention\n"
     ]
    }
   ],
   "source": [
    "# simple table for macro scores\n",
    "metrics = {\n",
    "    'nDCG@{}':get_nDCGAtk,\n",
    "    'p@{}':get_multilabel_pAtk,\n",
    "}\n",
    "kss = [[1,3,5,4],[1,3,5]]\n",
    "dfs = []\n",
    "for LOSS in ['categorical','binary']:\n",
    "    for i,DATA in enumerate(['sic_hierarchy','amazon_hierarchy_2']):\n",
    "        in_dir = 'data/{}'.format(DATA)\n",
    "        df = args\n",
    "        df = df[df['mode']=='cat']\n",
    "        df = df[df['input']==in_dir]\n",
    "        df = df[df['loss']==LOSS]\n",
    "        dirs = sorted(df.dir.to_list())\n",
    "        dirs = ['outputs/{}_c_FastText'.format(DATA)] + dirs\n",
    "        _,y_trains,_,y_tests = get_input(mode='cat', in_dir = in_dir, sparse = True, get_output= [0,1,0,1])\n",
    "        trues = sp.hstack(y_tests).tocsr()\n",
    "        for ph in [True,False]:\n",
    "            if ph:\n",
    "                ks = [k for k in kss[i] if k<5]\n",
    "            else:\n",
    "                ks = kss[i]\n",
    "            for d in dirs:\n",
    "                df = get_micro_scores(d,trues,y_tests,metrics,ks=ks,per_hierarchy=ph)\n",
    "                df['loss']=LOSS\n",
    "                df['input']=in_dir\n",
    "                df['per_hierarchy']=ph\n",
    "                dfs.append(df)"
   ]
  },
  {
   "cell_type": "code",
   "execution_count": 82,
   "metadata": {},
   "outputs": [],
   "source": [
    "df =pd.concat(dfs,sort=False)\n",
    "# df.to_pickle('outputs/dfs/combined3.pkl')"
   ]
  },
  {
   "cell_type": "markdown",
   "metadata": {},
   "source": [
    "### print tabel"
   ]
  },
  {
   "cell_type": "code",
   "execution_count": 83,
   "metadata": {},
   "outputs": [],
   "source": [
    "df = pd.read_pickle('outputs/dfs/combined3.pkl')\n",
    "models=['FastText','xmlcnn','attentionxml','attention']\n",
    "df = df[df['per_hierarchy']==False]\n",
    "df = df.drop(columns=['per_hierarchy'])\n",
    "df = df[df['model'].isin(models)]\n",
    "df = df.set_index(['dir','model','loss','input']).transpose()\n",
    "df = df.unstack().reset_index().drop(columns=['dir']).set_index(['loss','input','level_4','model']).unstack([-1])\n",
    "df = df[0].reset_index().rename(columns={'level_4':'metrics'})"
   ]
  },
  {
   "cell_type": "code",
   "execution_count": 84,
   "metadata": {},
   "outputs": [],
   "source": [
    "df1 = df\n",
    "df1['input'] = df1['input'].apply(lambda x:x.split('/')[-1].split('_')[0])\n",
    "df1 = df.set_index(['loss','input','metrics'])\n",
    "df1 = df1[models]"
   ]
  },
  {
   "cell_type": "code",
   "execution_count": 85,
   "metadata": {},
   "outputs": [
    {
     "data": {
      "text/html": [
       "<div>\n",
       "<style scoped>\n",
       "    .dataframe tbody tr th:only-of-type {\n",
       "        vertical-align: middle;\n",
       "    }\n",
       "\n",
       "    .dataframe tbody tr th {\n",
       "        vertical-align: top;\n",
       "    }\n",
       "\n",
       "    .dataframe thead th {\n",
       "        text-align: right;\n",
       "    }\n",
       "</style>\n",
       "<table border=\"1\" class=\"dataframe\">\n",
       "  <thead>\n",
       "    <tr style=\"text-align: right;\">\n",
       "      <th>model</th>\n",
       "      <th>FastText</th>\n",
       "      <th>xmlcnn</th>\n",
       "      <th>attentionxml</th>\n",
       "      <th>attention</th>\n",
       "    </tr>\n",
       "    <tr>\n",
       "      <th>metrics</th>\n",
       "      <th></th>\n",
       "      <th></th>\n",
       "      <th></th>\n",
       "      <th></th>\n",
       "    </tr>\n",
       "  </thead>\n",
       "  <tbody>\n",
       "    <tr>\n",
       "      <th>nDCG@1</th>\n",
       "      <td>90.534235</td>\n",
       "      <td>88.890198</td>\n",
       "      <td>86.899939</td>\n",
       "      <td>80.378590</td>\n",
       "    </tr>\n",
       "    <tr>\n",
       "      <th>nDCG@3</th>\n",
       "      <td>71.024217</td>\n",
       "      <td>61.091158</td>\n",
       "      <td>73.791844</td>\n",
       "      <td>64.657087</td>\n",
       "    </tr>\n",
       "    <tr>\n",
       "      <th>nDCG@4</th>\n",
       "      <td>NaN</td>\n",
       "      <td>NaN</td>\n",
       "      <td>NaN</td>\n",
       "      <td>NaN</td>\n",
       "    </tr>\n",
       "    <tr>\n",
       "      <th>nDCG@5</th>\n",
       "      <td>76.284879</td>\n",
       "      <td>64.763883</td>\n",
       "      <td>79.608656</td>\n",
       "      <td>71.424084</td>\n",
       "    </tr>\n",
       "    <tr>\n",
       "      <th>p@1</th>\n",
       "      <td>90.534235</td>\n",
       "      <td>88.890198</td>\n",
       "      <td>86.899939</td>\n",
       "      <td>80.378590</td>\n",
       "    </tr>\n",
       "    <tr>\n",
       "      <th>p@3</th>\n",
       "      <td>65.238590</td>\n",
       "      <td>53.056835</td>\n",
       "      <td>70.037541</td>\n",
       "      <td>60.120221</td>\n",
       "    </tr>\n",
       "    <tr>\n",
       "      <th>p@4</th>\n",
       "      <td>NaN</td>\n",
       "      <td>NaN</td>\n",
       "      <td>NaN</td>\n",
       "      <td>NaN</td>\n",
       "    </tr>\n",
       "    <tr>\n",
       "      <th>p@5</th>\n",
       "      <td>44.571756</td>\n",
       "      <td>35.620509</td>\n",
       "      <td>48.018499</td>\n",
       "      <td>43.046335</td>\n",
       "    </tr>\n",
       "  </tbody>\n",
       "</table>\n",
       "</div>"
      ],
      "text/plain": [
       "model     FastText     xmlcnn  attentionxml  attention\n",
       "metrics                                               \n",
       "nDCG@1   90.534235  88.890198     86.899939  80.378590\n",
       "nDCG@3   71.024217  61.091158     73.791844  64.657087\n",
       "nDCG@4         NaN        NaN           NaN        NaN\n",
       "nDCG@5   76.284879  64.763883     79.608656  71.424084\n",
       "p@1      90.534235  88.890198     86.899939  80.378590\n",
       "p@3      65.238590  53.056835     70.037541  60.120221\n",
       "p@4            NaN        NaN           NaN        NaN\n",
       "p@5      44.571756  35.620509     48.018499  43.046335"
      ]
     },
     "execution_count": 85,
     "metadata": {},
     "output_type": "execute_result"
    }
   ],
   "source": [
    "df2 = df1.loc[('categorical','amazon')]*100\n",
    "df2"
   ]
  },
  {
   "cell_type": "code",
   "execution_count": 69,
   "metadata": {},
   "outputs": [
    {
     "name": "stdout",
     "output_type": "stream",
     "text": [
      "\\begin{tabular}{lrrrr}\n",
      "\\toprule\n",
      "model&FastText&xmlcnn&attentionxml&attention\\\\\n",
      "metrics&&&&\\\\\n",
      "\\midrule\n",
      "nDCG@1&90.53&90.16&91.80&85.98\\\\\n",
      "nDCG@3&71.02&68.85&75.51&67.85\\\\\n",
      "nDCG@4&74.30&72.24&78.96&71.49\\\\\n",
      "nDCG@5&76.28&74.38&81.07&73.78\\\\\n",
      "p@1&90.53&90.16&91.80&85.98\\\\\n",
      "p@3&65.24&62.58&70.77&62.63\\\\\n",
      "p@4&52.98&51.14&57.34&51.47\\\\\n",
      "p@5&44.57&43.27&48.20&43.71\\\\\n",
      "\\bottomrule\n",
      "\\end{tabular}\n",
      "\n"
     ]
    }
   ],
   "source": [
    "print(df2.to_latex(float_format='%.2f').replace(' ',''))"
   ]
  },
  {
   "cell_type": "markdown",
   "metadata": {},
   "source": [
    "## categorical"
   ]
  },
  {
   "cell_type": "code",
   "execution_count": null,
   "metadata": {},
   "outputs": [],
   "source": [
    "# categorical\n",
    "dfs = []\n",
    "ks = [1,5]\n",
    "metrics = {\n",
    "    'top_{}_acc':get_micro_categorical_accuracy\n",
    "}\n",
    "for loss in ['categorical','binary']:\n",
    "    for i,data in enumerate(['sic_hierarchy','amazon_hierarchy_2']):\n",
    "        print(data,loss)\n",
    "        in_dir = 'data/{}'.format(data)\n",
    "        df = args\n",
    "        df = df[df['mode']=='cat']\n",
    "        df = df[df['input']==in_dir]\n",
    "        df = df[df['loss']==loss]\n",
    "        dirs = sorted(df.dir.to_list())\n",
    "        dirs = ['outputs/{}_c_FastText'.format(data)] + dirs\n",
    "        _,y_trains,_,y_tests = get_input(mode='cat', in_dir = in_dir, sparse = True, get_output= [0,1,0,1])\n",
    "        for d in dirs:\n",
    "            df = get_categorical_scores(d,y_tests,metrics,ks)\n",
    "            df['loss']=loss\n",
    "            df['input']=in_dir\n",
    "            dfs.append(df)  \n"
   ]
  },
  {
   "cell_type": "code",
   "execution_count": null,
   "metadata": {},
   "outputs": [],
   "source": [
    "df = pd.concat(dfs)\n",
    "# df.to_pickle('outputs/dfs/combined1.pkl')"
   ]
  },
  {
   "cell_type": "markdown",
   "metadata": {},
   "source": [
    "### change in categorical accuracy by using new loss"
   ]
  },
  {
   "cell_type": "code",
   "execution_count": null,
   "metadata": {},
   "outputs": [],
   "source": [
    "df = pd.read_pickle('outputs/dfs/combined1.pkl')\n",
    "models = ['FastText','xmlcnn','attentionxml','bert']\n",
    "df1 = df\n",
    "df1 = df[df['model'].isin(models)]\n",
    "df1 = df1.groupby(['loss','input','model','H']).mean().unstack([0,-1]).stack().transpose().swaplevel(0,1).transpose()\n",
    "(df1['categorical']-df1['binary']).unstack([-2])"
   ]
  },
  {
   "cell_type": "markdown",
   "metadata": {},
   "source": [
    "### P@n"
   ]
  },
  {
   "cell_type": "code",
   "execution_count": null,
   "metadata": {},
   "outputs": [],
   "source": [
    "df = pd.read_pickle('outputs/dfs/combined1.pkl')"
   ]
  },
  {
   "cell_type": "code",
   "execution_count": null,
   "metadata": {},
   "outputs": [],
   "source": [
    "models = ['xmlcnn','attentionxml','attention']\n",
    "# function\n",
    "df1 = df\n",
    "df1 = df1[df1.model.isin(models)]\n",
    "# P@|y|\n",
    "df2 = df1.groupby(['loss','input','model'])['top_1_acc'].mean().unstack([-1])[models]\n",
    "df2"
   ]
  },
  {
   "cell_type": "code",
   "execution_count": null,
   "metadata": {},
   "outputs": [],
   "source": [
    "# P@1\n",
    "df2 = df1.groupby(['loss','input','model','sample_ind'])['top_1_acc'].max().reset_index(['sample_ind'])\n",
    "df2 = df2.groupby(['loss','input','model'])['top_1_acc'].mean().unstack([-1])[models]\n",
    "df2"
   ]
  },
  {
   "cell_type": "code",
   "execution_count": null,
   "metadata": {},
   "outputs": [],
   "source": [
    "print((df2*100).to_latex(float_format='%.2f').replace(' ',''))"
   ]
  },
  {
   "cell_type": "code",
   "execution_count": null,
   "metadata": {},
   "outputs": [],
   "source": []
  },
  {
   "cell_type": "markdown",
   "metadata": {},
   "source": [
    "### PLOT : Categorical"
   ]
  },
  {
   "cell_type": "code",
   "execution_count": null,
   "metadata": {},
   "outputs": [],
   "source": [
    "df = pd.read_pickle('outputs/dfs/combined1.pkl')\n",
    "metric_dict = {\n",
    "    'top_1_acc':'Categorical Accuracy',\n",
    "    'top_5_acc':'Top-5 Accuracy',\n",
    "}\n",
    "data_dict = {\n",
    "    'data/sic_hierarchy':'SIC Code',\n",
    "    'data/amazon_hierarchy_2':'AmazonCat-13k',\n",
    "}"
   ]
  },
  {
   "cell_type": "code",
   "execution_count": null,
   "metadata": {},
   "outputs": [],
   "source": [
    "# compare model performance in terms of categorical accuracy (models trained with categorical loss)\n",
    "# PARAMS\n",
    "datas = ['data/sic_hierarchy','data/amazon_hierarchy_2']\n",
    "models = ['FastText','xmlcnn','attentionxml','bert']\n",
    "metrics = ['top_1_acc','top_5_acc']\n",
    "\n",
    "# function\n",
    "df1 = df\n",
    "df1 = df1[df1.model.isin(models)]\n",
    "df1 = df1[df1['loss']=='categorical']\n",
    "df1 = df1.groupby(['loss','input','model','H']).mean().reset_index(['model','H'])\n",
    "# bar chart of mean\n",
    "for data in datas:\n",
    "    df2 = df1.loc[('categorical',data),:]\n",
    "    for metric in metrics:\n",
    "        H = sorted(df2.H.unique())\n",
    "        # plot\n",
    "        fig,ax = plt.subplots()\n",
    "        bar = sns.barplot(\n",
    "            x = 'H',\n",
    "            y=metric,\n",
    "            hue='model',\n",
    "            data = df2,\n",
    "            ax = ax, \n",
    "            palette=\"Set3\",\n",
    "            order=H,\n",
    "            hue_order = models\n",
    "           )\n",
    "        ax.legend(bbox_to_anchor=(0., 1.02, 1., .102), loc=3,\n",
    "               ncol=len(models), mode=\"expand\", borderaxespad=0.)\n",
    "        ax.set_ylabel(metric_dict[metric])\n",
    "        ax.set_xlabel('{} hierarchical level'.format(data_dict[data]))\n",
    "        ax.set_ylim(0,1)\n",
    "        plt.show()\n"
   ]
  },
  {
   "cell_type": "code",
   "execution_count": null,
   "metadata": {},
   "outputs": [],
   "source": [
    "# compare model performance of different losses in terms of categorical accuracy \n",
    "# PARAMS\n",
    "datas = ['data/sic_hierarchy','data/amazon_hierarchy_2']\n",
    "models = ['xmlcnn','attentionxml','attention']\n",
    "metrics = ['top_1_acc','top_5_acc']\n",
    "\n",
    "# function\n",
    "df1 = df\n",
    "df1 = df1[df1.model.isin(models)]\n",
    "df1 = df1.groupby(['loss','input','model','H']).mean()\n",
    "df1 = df1.loc['categorical',:] - df1.loc['binary',:]\n",
    "df1 = df1.reset_index(['model','H'])\n",
    "# bar chart of mean\n",
    "for data in datas:\n",
    "    df2 = df1.loc[data,:]\n",
    "    for metric in metrics:\n",
    "        H = sorted(df2.H.unique())\n",
    "        # plot\n",
    "        fig,ax = plt.subplots()\n",
    "        bar = sns.barplot(\n",
    "            x = 'H',\n",
    "            y=metric,\n",
    "            hue='model',\n",
    "            data = df2,\n",
    "            ax = ax, \n",
    "            palette=sns.color_palette(\"Set3\")[1:],\n",
    "            order=H,\n",
    "            hue_order = models\n",
    "           )\n",
    "        ax.legend(bbox_to_anchor=(0., 1.02, 1., .102), loc=3,\n",
    "               ncol=len(models), mode=\"expand\", borderaxespad=0.)\n",
    "        ax.set_ylabel(metric_dict[metric])\n",
    "        ax.set_xlabel('{} hierarchical level'.format(data_dict[data]))\n",
    "        ax.axhline(y=0, color='k')\n",
    "        plt.show()\n"
   ]
  },
  {
   "cell_type": "markdown",
   "metadata": {},
   "source": [
    "# MACRO"
   ]
  },
  {
   "cell_type": "code",
   "execution_count": null,
   "metadata": {},
   "outputs": [],
   "source": [
    "# get args\n",
    "args = get_args('outputs')"
   ]
  },
  {
   "cell_type": "code",
   "execution_count": null,
   "metadata": {
    "scrolled": true
   },
   "outputs": [],
   "source": [
    "warnings.filterwarnings('ignore')\n",
    "\n",
    "dfs = []\n",
    "kss=[[4],[3]]\n",
    "metrics = {\n",
    "    'precision':get_macro_precision,\n",
    "    'F1':get_macro_F1\n",
    "}\n",
    "for LOSS in ['categorical','binary']:\n",
    "    for i,DATA in enumerate(['sic_hierarchy','amazon_hierarchy_2']):\n",
    "        ks = kss[i]\n",
    "        in_dir = 'data/{}'.format(DATA)\n",
    "        df = args\n",
    "        df = df[df['mode']=='cat']\n",
    "        df = df[df['input']==in_dir]\n",
    "        df = df[df['loss']==LOSS]\n",
    "        dirs = sorted(df.dir.to_list())\n",
    "        dirs = ['outputs/{}_c_FastText'.format(DATA)] + dirs\n",
    "        _,y_trains,_,y_tests = get_input(mode='cat', in_dir = in_dir, sparse = True, get_output= [0,1,0,1])\n",
    "        trues = sp.hstack(y_tests).tocsr()\n",
    "        groups,_ = get_groups(y_trains,num_groups = 3)\n",
    "        for ph in [True,False]:\n",
    "            for d in dirs:\n",
    "                df = get_macro_scores(d,trues,y_tests,metrics,groups,ks=ks,per_hierarchy=ph)\n",
    "                df['loss']=LOSS\n",
    "                df['input']=in_dir\n",
    "                df['per_hierarchy']=ph\n",
    "                dfs.append(df)"
   ]
  },
  {
   "cell_type": "code",
   "execution_count": null,
   "metadata": {},
   "outputs": [],
   "source": [
    "df = pd.concat(dfs,sort=False)\n",
    "df.head()"
   ]
  },
  {
   "cell_type": "code",
   "execution_count": null,
   "metadata": {},
   "outputs": [],
   "source": [
    "# df.to_pickle('outputs/dfs/combined0.pkl')"
   ]
  },
  {
   "cell_type": "markdown",
   "metadata": {},
   "source": [
    "# macro average scores"
   ]
  },
  {
   "cell_type": "code",
   "execution_count": 98,
   "metadata": {},
   "outputs": [
    {
     "data": {
      "text/html": [
       "<div>\n",
       "<style scoped>\n",
       "    .dataframe tbody tr th:only-of-type {\n",
       "        vertical-align: middle;\n",
       "    }\n",
       "\n",
       "    .dataframe tbody tr th {\n",
       "        vertical-align: top;\n",
       "    }\n",
       "\n",
       "    .dataframe thead tr th {\n",
       "        text-align: left;\n",
       "    }\n",
       "\n",
       "    .dataframe thead tr:last-of-type th {\n",
       "        text-align: right;\n",
       "    }\n",
       "</style>\n",
       "<table border=\"1\" class=\"dataframe\">\n",
       "  <thead>\n",
       "    <tr>\n",
       "      <th></th>\n",
       "      <th></th>\n",
       "      <th></th>\n",
       "      <th colspan=\"4\" halign=\"left\">F1</th>\n",
       "      <th colspan=\"4\" halign=\"left\">precision</th>\n",
       "    </tr>\n",
       "    <tr>\n",
       "      <th></th>\n",
       "      <th></th>\n",
       "      <th>model</th>\n",
       "      <th>FastText</th>\n",
       "      <th>attention</th>\n",
       "      <th>attentionxml</th>\n",
       "      <th>xmlcnn</th>\n",
       "      <th>FastText</th>\n",
       "      <th>attention</th>\n",
       "      <th>attentionxml</th>\n",
       "      <th>xmlcnn</th>\n",
       "    </tr>\n",
       "    <tr>\n",
       "      <th>loss</th>\n",
       "      <th>input</th>\n",
       "      <th>per_hierarchy</th>\n",
       "      <th></th>\n",
       "      <th></th>\n",
       "      <th></th>\n",
       "      <th></th>\n",
       "      <th></th>\n",
       "      <th></th>\n",
       "      <th></th>\n",
       "      <th></th>\n",
       "    </tr>\n",
       "  </thead>\n",
       "  <tbody>\n",
       "    <tr>\n",
       "      <th rowspan=\"4\" valign=\"top\">binary</th>\n",
       "      <th rowspan=\"2\" valign=\"top\">data/amazon_hierarchy_2</th>\n",
       "      <th>False</th>\n",
       "      <td>0.105603</td>\n",
       "      <td>0.199054</td>\n",
       "      <td>0.338884</td>\n",
       "      <td>0.149198</td>\n",
       "      <td>0.155045</td>\n",
       "      <td>0.256667</td>\n",
       "      <td>0.413679</td>\n",
       "      <td>0.244085</td>\n",
       "    </tr>\n",
       "    <tr>\n",
       "      <th>True</th>\n",
       "      <td>0.113307</td>\n",
       "      <td>0.208418</td>\n",
       "      <td>0.347706</td>\n",
       "      <td>0.160480</td>\n",
       "      <td>0.150116</td>\n",
       "      <td>0.252176</td>\n",
       "      <td>0.407396</td>\n",
       "      <td>0.240318</td>\n",
       "    </tr>\n",
       "    <tr>\n",
       "      <th rowspan=\"2\" valign=\"top\">data/sic_hierarchy</th>\n",
       "      <th>False</th>\n",
       "      <td>0.218698</td>\n",
       "      <td>0.205266</td>\n",
       "      <td>0.295537</td>\n",
       "      <td>0.187995</td>\n",
       "      <td>0.305074</td>\n",
       "      <td>0.264263</td>\n",
       "      <td>0.352676</td>\n",
       "      <td>0.283564</td>\n",
       "    </tr>\n",
       "    <tr>\n",
       "      <th>True</th>\n",
       "      <td>0.228434</td>\n",
       "      <td>0.217449</td>\n",
       "      <td>0.305552</td>\n",
       "      <td>0.200517</td>\n",
       "      <td>0.297545</td>\n",
       "      <td>0.259092</td>\n",
       "      <td>0.337747</td>\n",
       "      <td>0.278797</td>\n",
       "    </tr>\n",
       "    <tr>\n",
       "      <th rowspan=\"4\" valign=\"top\">categorical</th>\n",
       "      <th rowspan=\"2\" valign=\"top\">data/amazon_hierarchy_2</th>\n",
       "      <th>False</th>\n",
       "      <td>0.105603</td>\n",
       "      <td>0.242025</td>\n",
       "      <td>0.355904</td>\n",
       "      <td>0.054218</td>\n",
       "      <td>0.155045</td>\n",
       "      <td>0.264016</td>\n",
       "      <td>0.409222</td>\n",
       "      <td>0.068952</td>\n",
       "    </tr>\n",
       "    <tr>\n",
       "      <th>True</th>\n",
       "      <td>0.113307</td>\n",
       "      <td>0.245655</td>\n",
       "      <td>0.371146</td>\n",
       "      <td>0.226513</td>\n",
       "      <td>0.150116</td>\n",
       "      <td>0.293512</td>\n",
       "      <td>0.426188</td>\n",
       "      <td>0.297022</td>\n",
       "    </tr>\n",
       "    <tr>\n",
       "      <th rowspan=\"2\" valign=\"top\">data/sic_hierarchy</th>\n",
       "      <th>False</th>\n",
       "      <td>0.218698</td>\n",
       "      <td>0.223421</td>\n",
       "      <td>0.310089</td>\n",
       "      <td>0.119916</td>\n",
       "      <td>0.305074</td>\n",
       "      <td>0.266921</td>\n",
       "      <td>0.344807</td>\n",
       "      <td>0.247666</td>\n",
       "    </tr>\n",
       "    <tr>\n",
       "      <th>True</th>\n",
       "      <td>0.228434</td>\n",
       "      <td>0.224281</td>\n",
       "      <td>0.309006</td>\n",
       "      <td>0.243726</td>\n",
       "      <td>0.297545</td>\n",
       "      <td>0.284758</td>\n",
       "      <td>0.346938</td>\n",
       "      <td>0.317645</td>\n",
       "    </tr>\n",
       "  </tbody>\n",
       "</table>\n",
       "</div>"
      ],
      "text/plain": [
       "                                                         F1            \\\n",
       "model                                              FastText attention   \n",
       "loss        input                   per_hierarchy                       \n",
       "binary      data/amazon_hierarchy_2 False          0.105603  0.199054   \n",
       "                                    True           0.113307  0.208418   \n",
       "            data/sic_hierarchy      False          0.218698  0.205266   \n",
       "                                    True           0.228434  0.217449   \n",
       "categorical data/amazon_hierarchy_2 False          0.105603  0.242025   \n",
       "                                    True           0.113307  0.245655   \n",
       "            data/sic_hierarchy      False          0.218698  0.223421   \n",
       "                                    True           0.228434  0.224281   \n",
       "\n",
       "                                                                          \\\n",
       "model                                             attentionxml    xmlcnn   \n",
       "loss        input                   per_hierarchy                          \n",
       "binary      data/amazon_hierarchy_2 False             0.338884  0.149198   \n",
       "                                    True              0.347706  0.160480   \n",
       "            data/sic_hierarchy      False             0.295537  0.187995   \n",
       "                                    True              0.305552  0.200517   \n",
       "categorical data/amazon_hierarchy_2 False             0.355904  0.054218   \n",
       "                                    True              0.371146  0.226513   \n",
       "            data/sic_hierarchy      False             0.310089  0.119916   \n",
       "                                    True              0.309006  0.243726   \n",
       "\n",
       "                                                  precision            \\\n",
       "model                                              FastText attention   \n",
       "loss        input                   per_hierarchy                       \n",
       "binary      data/amazon_hierarchy_2 False          0.155045  0.256667   \n",
       "                                    True           0.150116  0.252176   \n",
       "            data/sic_hierarchy      False          0.305074  0.264263   \n",
       "                                    True           0.297545  0.259092   \n",
       "categorical data/amazon_hierarchy_2 False          0.155045  0.264016   \n",
       "                                    True           0.150116  0.293512   \n",
       "            data/sic_hierarchy      False          0.305074  0.266921   \n",
       "                                    True           0.297545  0.284758   \n",
       "\n",
       "                                                                          \n",
       "model                                             attentionxml    xmlcnn  \n",
       "loss        input                   per_hierarchy                         \n",
       "binary      data/amazon_hierarchy_2 False             0.413679  0.244085  \n",
       "                                    True              0.407396  0.240318  \n",
       "            data/sic_hierarchy      False             0.352676  0.283564  \n",
       "                                    True              0.337747  0.278797  \n",
       "categorical data/amazon_hierarchy_2 False             0.409222  0.068952  \n",
       "                                    True              0.426188  0.297022  \n",
       "            data/sic_hierarchy      False             0.344807  0.247666  \n",
       "                                    True              0.346938  0.317645  "
      ]
     },
     "execution_count": 98,
     "metadata": {},
     "output_type": "execute_result"
    }
   ],
   "source": [
    "df = pd.read_pickle('outputs/dfs/combined0.pkl')\n",
    "models = ['FastText','xmlcnn','attentionxml','attention']\n",
    "df1 = df\n",
    "df1 = df[df['model'].isin(models)]\n",
    "df1 = df1.drop(columns=['lab_ind'])\n",
    "df1 = df1.groupby(['loss','input','per_hierarchy','model']).mean().unstack([-1])\n",
    "df1"
   ]
  },
  {
   "cell_type": "code",
   "execution_count": 108,
   "metadata": {},
   "outputs": [
    {
     "data": {
      "text/html": [
       "<div>\n",
       "<style scoped>\n",
       "    .dataframe tbody tr th:only-of-type {\n",
       "        vertical-align: middle;\n",
       "    }\n",
       "\n",
       "    .dataframe tbody tr th {\n",
       "        vertical-align: top;\n",
       "    }\n",
       "\n",
       "    .dataframe thead th {\n",
       "        text-align: right;\n",
       "    }\n",
       "</style>\n",
       "<table border=\"1\" class=\"dataframe\">\n",
       "  <thead>\n",
       "    <tr style=\"text-align: right;\">\n",
       "      <th></th>\n",
       "      <th></th>\n",
       "      <th>model</th>\n",
       "      <th>FastText</th>\n",
       "      <th>xmlcnn</th>\n",
       "      <th>attentionxml</th>\n",
       "      <th>attention</th>\n",
       "    </tr>\n",
       "    <tr>\n",
       "      <th>loss</th>\n",
       "      <th>input</th>\n",
       "      <th>per_hierarchy</th>\n",
       "      <th></th>\n",
       "      <th></th>\n",
       "      <th></th>\n",
       "      <th></th>\n",
       "    </tr>\n",
       "  </thead>\n",
       "  <tbody>\n",
       "    <tr>\n",
       "      <th rowspan=\"2\" valign=\"top\">categorical</th>\n",
       "      <th>data/amazon_hierarchy_2</th>\n",
       "      <th>True</th>\n",
       "      <td>11.330690</td>\n",
       "      <td>22.651348</td>\n",
       "      <td>37.114609</td>\n",
       "      <td>24.565519</td>\n",
       "    </tr>\n",
       "    <tr>\n",
       "      <th>data/sic_hierarchy</th>\n",
       "      <th>True</th>\n",
       "      <td>22.843423</td>\n",
       "      <td>24.372581</td>\n",
       "      <td>30.900599</td>\n",
       "      <td>22.428141</td>\n",
       "    </tr>\n",
       "  </tbody>\n",
       "</table>\n",
       "</div>"
      ],
      "text/plain": [
       "model                                               FastText     xmlcnn  \\\n",
       "loss        input                   per_hierarchy                         \n",
       "categorical data/amazon_hierarchy_2 True           11.330690  22.651348   \n",
       "            data/sic_hierarchy      True           22.843423  24.372581   \n",
       "\n",
       "model                                              attentionxml  attention  \n",
       "loss        input                   per_hierarchy                           \n",
       "categorical data/amazon_hierarchy_2 True              37.114609  24.565519  \n",
       "            data/sic_hierarchy      True              30.900599  22.428141  "
      ]
     },
     "execution_count": 108,
     "metadata": {},
     "output_type": "execute_result"
    }
   ],
   "source": [
    "df2 = (df1.loc['categorical',:,True]['F1']*100)[models]\n",
    "df2"
   ]
  },
  {
   "cell_type": "code",
   "execution_count": 109,
   "metadata": {},
   "outputs": [
    {
     "name": "stdout",
     "output_type": "stream",
     "text": [
      "\\begin{tabular}{lllrrrr}\n",
      "\\toprule\n",
      "&&model&FastText&xmlcnn&attentionxml&attention\\\\\n",
      "loss&input&per\\_hierarchy&&&&\\\\\n",
      "\\midrule\n",
      "categorical&data/amazon\\_hierarchy\\_2&True&11.33&22.65&37.11&24.57\\\\\n",
      "&data/sic\\_hierarchy&True&22.84&24.37&30.90&22.43\\\\\n",
      "\\bottomrule\n",
      "\\end{tabular}\n",
      "\n"
     ]
    }
   ],
   "source": [
    "print(df2.to_latex(float_format='%.2f').replace(' ',''))"
   ]
  },
  {
   "cell_type": "markdown",
   "metadata": {},
   "source": [
    "# Baseline: Get pretty graphs"
   ]
  },
  {
   "cell_type": "code",
   "execution_count": 86,
   "metadata": {},
   "outputs": [],
   "source": [
    "df = pd.read_pickle('outputs/dfs/combined0.pkl')\n",
    "metric_dict = {\n",
    "    'precision':'Precision',\n",
    "    'F1':'F1 score',\n",
    "}\n",
    "data_dict = {\n",
    "    'data/sic_hierarchy':'SIC Code',\n",
    "    'data/amazon_hierarchy_2':'AmazonCat-13k',\n",
    "}"
   ]
  },
  {
   "cell_type": "markdown",
   "metadata": {},
   "source": [
    "### PLOT : Baseline"
   ]
  },
  {
   "cell_type": "code",
   "execution_count": null,
   "metadata": {},
   "outputs": [],
   "source": [
    "# PARAMS\n",
    "datas = ['data/sic_hierarchy','data/amazon_hierarchy_2']\n",
    "models = ['FastText','xmlcnn','attentionxml','attention']\n",
    "metrics = ['precision','F1']\n",
    "\n",
    "# function\n",
    "df1 = df\n",
    "df1 = df1[df1.loss=='binary']\n",
    "df1 = df1[df1.model.isin(models)]\n",
    "df1 = df1[df1.per_hierarchy == False]\n",
    "# bar chart of mean\n",
    "for data in datas:\n",
    "    df2 = df1[df1.input==data]\n",
    "    for metric in metrics:\n",
    "        # y tick counts\n",
    "        cnts = (df2.group.value_counts()/df2.group.value_counts().sum()*100).to_dict()\n",
    "        groups = sorted(cnts.keys())\n",
    "        # plot\n",
    "        fig,ax = plt.subplots()\n",
    "        bar = sns.barplot(\n",
    "            x = 'group',\n",
    "            y=metric,\n",
    "            hue='model',\n",
    "            data = df2,\n",
    "            ax = ax, \n",
    "            palette=\"Set3\",\n",
    "            order=groups,\n",
    "            hue_order = models\n",
    "           )\n",
    "        ax.legend(bbox_to_anchor=(0., 1.02, 1., .102), loc=3,\n",
    "               ncol=len(models), mode=\"expand\", borderaxespad=0.)\n",
    "        ax.set_ylabel(metric_dict[metric])\n",
    "        ax.set_xlabel('{} label groups (% labels in group)'.format(data_dict[data]))\n",
    "        ax.set_xticklabels(['{} ({:.2f}%)'.format(key,cnts[key]) for key in groups])\n",
    "        ax.set_ylim(0,1)\n",
    "        plt.show()"
   ]
  },
  {
   "cell_type": "markdown",
   "metadata": {},
   "source": [
    "### TABLE : Baseline"
   ]
  },
  {
   "cell_type": "code",
   "execution_count": null,
   "metadata": {},
   "outputs": [],
   "source": [
    "# TABLE\n",
    "datas = ['data/sic_hierarchy','data/amazon_hierarchy_2']\n",
    "models = ['FastText','xmlcnn','attentionxml','attention']\n",
    "metrics = ['precision','F1']\n",
    "for data in datas:\n",
    "    print(data)\n",
    "    df2 = df1[df1.input==data]\n",
    "    srs = (df2.groupby('model')[metrics].mean()*100).to_dict()\n",
    "    for metric in metrics:\n",
    "        print('{:10}'.format(metric),end=':')\n",
    "        print('&'.join(['{:.2f}'.format(srs[metric][key]) for key in models]))"
   ]
  },
  {
   "cell_type": "markdown",
   "metadata": {},
   "source": [
    "### PLOT : Categorical"
   ]
  },
  {
   "cell_type": "code",
   "execution_count": 87,
   "metadata": {},
   "outputs": [
    {
     "data": {
      "image/png": "[encoded data removed]",
      "text/plain": [
       "<Figure size 432x288 with 1 Axes>"
      ]
     },
     "metadata": {
      "needs_background": "light"
     },
     "output_type": "display_data"
    },
    {
     "data": {
      "image/png": "[encoded data removed]",
      "text/plain": [
       "<Figure size 432x288 with 1 Axes>"
      ]
     },
     "metadata": {
      "needs_background": "light"
     },
     "output_type": "display_data"
    },
    {
     "data": {
      "image/png": "[encoded data removed]",
      "text/plain": [
       "<Figure size 432x288 with 1 Axes>"
      ]
     },
     "metadata": {
      "needs_background": "light"
     },
     "output_type": "display_data"
    },
    {
     "data": {
      "image/png": "[encoded data removed]",
      "text/plain": [
       "<Figure size 432x288 with 1 Axes>"
      ]
     },
     "metadata": {
      "needs_background": "light"
     },
     "output_type": "display_data"
    }
   ],
   "source": [
    "# change in model performance with changed loss (both per hierarchy == False)\n",
    "datas = ['data/sic_hierarchy','data/amazon_hierarchy_2']\n",
    "models = ['xmlcnn','attentionxml','attention']\n",
    "metrics = ['F1','precision']\n",
    "\n",
    "# function\n",
    "df1 = df\n",
    "df1 = df1[df1.model.isin(models)]\n",
    "df1 = df1[df1.per_hierarchy == False].drop(columns=['per_hierarchy'])\n",
    "df1 = df1.set_index(['loss']+[col for col in df1.columns if col not in metrics + ['loss']]).reset_index(['dir'])\n",
    "df1 = df1.drop(columns=['dir'])\n",
    "# calculation\n",
    "df1 = (df1.loc['categorical',:]-df1.loc['binary',:]) # change in score\n",
    "df1 = df1.reset_index(['group','model','lab_ind'])\n",
    "# bar chart of mean\n",
    "for data in datas:\n",
    "    df2 = df1.loc[data,:]\n",
    "    for metric in metrics:\n",
    "        # y tick counts\n",
    "        cnts = (df2.group.value_counts()/df2.group.value_counts().sum()*100).to_dict()\n",
    "        groups = sorted(cnts.keys())\n",
    "        # plot\n",
    "        fig,ax = plt.subplots()\n",
    "        bar = sns.barplot(\n",
    "            x = 'group',\n",
    "            y=metric,\n",
    "            hue='model',\n",
    "            data = df2,\n",
    "            ax = ax, \n",
    "            palette=sns.color_palette(\"Set3\")[1:],\n",
    "            order=groups,\n",
    "            hue_order = models\n",
    "           )\n",
    "        ax.legend(bbox_to_anchor=(0., 1.02, 1., .102), loc=3,\n",
    "               ncol=len(models), mode=\"expand\", borderaxespad=0.)\n",
    "        ax.set_ylabel('$\\Delta$ {}'.format(metric_dict[metric]))\n",
    "        ax.set_xlabel('{} label groups (% labels in group)'.format(data_dict[data]))\n",
    "        ax.set_xticklabels(['{} ({:.2f}%)'.format(key,cnts[key]) for key in groups])\n",
    "        ax.axhline(y=0, color='k')\n",
    "#         ax.set_ylim(-0.025,0.08)\n",
    "        plt.show()"
   ]
  },
  {
   "cell_type": "code",
   "execution_count": null,
   "metadata": {},
   "outputs": [],
   "source": [
    "# change in model performance with changed loss (both per hierarchy == True)\n",
    "datas = ['data/sic_hierarchy','data/amazon_hierarchy_2']\n",
    "models = ['xmlcnn','attentionxml','attention']\n",
    "metrics = ['F1','precision']\n",
    "\n",
    "# function\n",
    "df1 = df\n",
    "df1 = df1[df1.model.isin(models)]\n",
    "df1 = df1[df1.per_hierarchy == True].drop(columns=['per_hierarchy'])\n",
    "df1 = df1.set_index(['loss']+[col for col in df1.columns if col not in metrics + ['loss']]).reset_index(['dir'])\n",
    "df1 = df1.drop(columns=['dir'])\n",
    "# calculation\n",
    "df1 = (df1.loc['categorical',:]-df1.loc['binary',:]) # change in score\n",
    "df1 = df1.reset_index(['group','model','lab_ind'])\n",
    "# bar chart of mean\n",
    "for data in datas:\n",
    "    df2 = df1.loc[data,:]\n",
    "    for metric in metrics:\n",
    "        # y tick counts\n",
    "        cnts = (df2.group.value_counts()/df2.group.value_counts().sum()*100).to_dict()\n",
    "        groups = sorted(cnts.keys())\n",
    "        # plot\n",
    "        fig,ax = plt.subplots()\n",
    "        bar = sns.barplot(\n",
    "            x = 'group',\n",
    "            y=metric,\n",
    "            hue='model',\n",
    "            data = df2,\n",
    "            ax = ax, \n",
    "            palette=sns.color_palette(\"Set3\")[1:],\n",
    "            order=groups,\n",
    "            hue_order = models\n",
    "           )\n",
    "        ax.legend(bbox_to_anchor=(0., 1.02, 1., .102), loc=3,\n",
    "               ncol=len(models), mode=\"expand\", borderaxespad=0.)\n",
    "        ax.set_ylabel('$\\Delta$ {}'.format(metric_dict[metric]))\n",
    "        ax.set_xlabel('{} label groups (% labels in group)'.format(data_dict[data]))\n",
    "        ax.set_xticklabels(['{} ({:.2f}%)'.format(key,cnts[key]) for key in groups])\n",
    "        ax.axhline(y=0, color='k')\n",
    "        ax.set_ylim(-0.025,0.08)\n",
    "        plt.show()"
   ]
  },
  {
   "cell_type": "code",
   "execution_count": 88,
   "metadata": {},
   "outputs": [
    {
     "name": "stderr",
     "output_type": "stream",
     "text": [
      "/home/angela/env/lib/python3.6/site-packages/pandas/core/indexing.py:1494: PerformanceWarning: indexing past lexsort depth may impact performance.\n",
      "  return self._getitem_tuple(key)\n"
     ]
    },
    {
     "data": {
      "image/png": "[encoded data removed]",
      "text/plain": [
       "<Figure size 432x288 with 1 Axes>"
      ]
     },
     "metadata": {
      "needs_background": "light"
     },
     "output_type": "display_data"
    },
    {
     "data": {
      "image/png": "[encoded data removed]",
      "text/plain": [
       "<Figure size 432x288 with 1 Axes>"
      ]
     },
     "metadata": {
      "needs_background": "light"
     },
     "output_type": "display_data"
    },
    {
     "data": {
      "image/png": "[encoded data removed]",
      "text/plain": [
       "<Figure size 432x288 with 1 Axes>"
      ]
     },
     "metadata": {
      "needs_background": "light"
     },
     "output_type": "display_data"
    },
    {
     "data": {
      "image/png": "[encoded data removed]",
      "text/plain": [
       "<Figure size 432x288 with 1 Axes>"
      ]
     },
     "metadata": {
      "needs_background": "light"
     },
     "output_type": "display_data"
    }
   ],
   "source": [
    "# change in model performance with changed loss (NOT A FAIR COMPARISON)\n",
    "datas = ['data/sic_hierarchy','data/amazon_hierarchy_2']\n",
    "models = ['xmlcnn','attentionxml','attention']\n",
    "metrics = ['F1','precision']\n",
    "\n",
    "# function\n",
    "df1 = df\n",
    "df1 = df1[df1.model.isin(models)]\n",
    "df1 = df1.set_index(['loss','per_hierarchy','input','model','lab_ind','group'])\n",
    "df1 = df1.drop(columns=['dir'])\n",
    "# calculation\n",
    "df1 = (df1.loc[('categorical',True),:]-df1.loc[('binary',False),:]) # change in score\n",
    "df1 = df1.reset_index(['group','model','lab_ind'])\n",
    "# bar chart of mean\n",
    "for data in datas:\n",
    "    df2 = df1.loc[data,:]\n",
    "    for metric in metrics:\n",
    "        # y tick counts\n",
    "        cnts = (df2.group.value_counts()/df2.group.value_counts().sum()*100).to_dict()\n",
    "        groups = sorted(cnts.keys())\n",
    "        # plot\n",
    "        fig,ax = plt.subplots()\n",
    "        bar = sns.barplot(\n",
    "            x = 'group',\n",
    "            y=metric,\n",
    "            hue='model',\n",
    "            data = df2,\n",
    "            ax = ax, \n",
    "            palette=sns.color_palette(\"Set3\")[1:],\n",
    "            order=groups,\n",
    "            hue_order = models\n",
    "           )\n",
    "        ax.legend(bbox_to_anchor=(0., 1.02, 1., .102), loc=3,\n",
    "               ncol=len(models), mode=\"expand\", borderaxespad=0.)\n",
    "        ax.set_ylabel('$\\Delta$ {}'.format(metric_dict[metric]))\n",
    "        ax.set_xlabel('{} label groups (% labels in group)'.format(data_dict[data]))\n",
    "        ax.set_xticklabels(['{} ({:.2f}%)'.format(key,cnts[key]) for key in groups])\n",
    "        ax.axhline(y=0, color='k')\n",
    "        ax.set_ylim(-0.02,0.1)\n",
    "        plt.show()"
   ]
  },
  {
   "cell_type": "markdown",
   "metadata": {},
   "source": [
    "### play"
   ]
  },
  {
   "cell_type": "code",
   "execution_count": null,
   "metadata": {},
   "outputs": [],
   "source": [
    "# categorical loss model performance including bert\n",
    "# PARAMS\n",
    "datas = ['data/sic_hierarchy','data/amazon_hierarchy_2']\n",
    "models = ['FastText','xmlcnn','attentionxml','bert']\n",
    "metrics = ['precision','F1']\n",
    "\n",
    "# function\n",
    "df1 = df\n",
    "df1 = df1[df1.loss=='categorical']\n",
    "df1 = df1[df1.model.isin(models)]\n",
    "df1 = df1[df1.per_hierarchy == True]\n",
    "# bar chart of mean\n",
    "for data in datas:\n",
    "    df2 = df1[df1.input==data]\n",
    "    for metric in metrics:\n",
    "        # y tick counts\n",
    "        cnts = (df2.group.value_counts()/df2.group.value_counts().sum()*100).to_dict()\n",
    "        groups = sorted(cnts.keys())\n",
    "        # plot\n",
    "        fig,ax = plt.subplots()\n",
    "        bar = sns.barplot(\n",
    "            x = 'group',\n",
    "            y=metric,\n",
    "            hue='model',\n",
    "            data = df2,\n",
    "            ax = ax, \n",
    "            palette=\"Set3\",\n",
    "            order=groups,\n",
    "            hue_order = models\n",
    "           )\n",
    "        ax.legend(bbox_to_anchor=(0., 1.02, 1., .102), loc=3,\n",
    "               ncol=len(models), mode=\"expand\", borderaxespad=0.)\n",
    "        ax.set_ylabel('{}'.format(metric_dict[metric]))\n",
    "        ax.set_xlabel('{} label groups (% labels in group)'.format(data_dict[data]))\n",
    "        ax.set_xticklabels(['{} ({:.2f}%)'.format(key,cnts[key]) for key in groups])\n",
    "        plt.show()"
   ]
  },
  {
   "cell_type": "code",
   "execution_count": null,
   "metadata": {},
   "outputs": [],
   "source": [
    "# change in model performance with changed loss\n",
    "datas = ['data/sic_hierarchy','data/amazon_hierarchy_2']\n",
    "models = ['xmlcnn','attentionxml','attention']\n",
    "metrics = ['F1','precision']\n",
    "\n",
    "# function\n",
    "df1 = df\n",
    "df1 = df1[df1.model.isin(models)]\n",
    "df1 = df1[df1.per_hierarchy == True].drop(columns=['per_hierarchy'])\n",
    "df1 = df1.set_index(['loss']+[col for col in df1.columns if col not in metrics + ['loss']]).reset_index(['dir'])\n",
    "df1 = df1.drop(columns=['dir'])\n",
    "# calculation\n",
    "df1 = (df1.loc['categorical',:]-df1.loc['binary',:]) # change in score\n",
    "df1 = df1.reset_index(['group','model','lab_ind'])\n",
    "# bar chart of mean\n",
    "for data in datas:\n",
    "    df2 = df1.loc[data,:]\n",
    "    for metric in metrics:\n",
    "        # y tick counts\n",
    "        cnts = (df2.group.value_counts()/df2.group.value_counts().sum()*100).to_dict()\n",
    "        groups = sorted(cnts.keys())\n",
    "        # plot\n",
    "        fig,ax = plt.subplots()\n",
    "        bar = sns.barplot(\n",
    "            x = 'group',\n",
    "            y=metric,\n",
    "            hue='model',\n",
    "            data = df2,\n",
    "            ax = ax, \n",
    "            palette=sns.color_palette(\"Set3\")[1:],\n",
    "            order=groups,\n",
    "            hue_order = models\n",
    "           )\n",
    "        ax.legend(bbox_to_anchor=(0., 1.02, 1., .102), loc=3,\n",
    "               ncol=len(models), mode=\"expand\", borderaxespad=0.)\n",
    "        ax.set_ylabel('$\\Delta$ {}'.format(metric_dict[metric]))\n",
    "        ax.set_xlabel('{} label groups (% labels in group)'.format(data_dict[data]))\n",
    "        ax.set_xticklabels(['{} ({:.2f}%)'.format(key,cnts[key]) for key in groups])\n",
    "        ax.axhline(y=0, color='k')\n",
    "        ax.set_ylim(-0.025,0.08)\n",
    "        plt.show()"
   ]
  },
  {
   "cell_type": "code",
   "execution_count": null,
   "metadata": {},
   "outputs": [],
   "source": [
    "# change in model performance with changing calculation method\n",
    "df1 = df\n",
    "df1 = df1[df1.loss=='binary']\n",
    "# df1 = df1[df1.model!='attention']\n",
    "# df1 = df1[df1.model!='bert']\n",
    "# df1 = df1[df1.model=='attentionxml']\n",
    "df1  = df1.set_index(['loss','input','dir','model','group','lab_ind','per_hierarchy']).stack().unstack([-2,-1])\n",
    "df1 = (df1.loc[:,(True)]-df1.loc[:,(False)]).reset_index()\n",
    "df1 = df1[df1.input=='data/amazon_hierarchy_2']\n",
    "# bar chart of mean\n",
    "metrics = ['precision','F1']\n",
    "y_labs = ['binary accuracy','F1 score']\n",
    "for i in range(len(metrics)):\n",
    "    metric = metrics[i]\n",
    "    y_lab = y_labs[i]\n",
    "    fig,ax = plt.subplots()\n",
    "    sns.barplot(x = 'group',y=metric,hue='model',data = df1,ax = ax, palette=\"Set3\",\n",
    "                order=sorted(df1.group.unique()),\n",
    "                hue_order = order\n",
    "               )\n",
    "    ax.legend(bbox_to_anchor=(0., 1.02, 1., .102), loc=3,\n",
    "           ncol=len(df1.model.unique()), mode=\"expand\", borderaxespad=0.)\n",
    "    ax.set_ylabel(y_lab)\n",
    "    ax.set_xlabel('AmazonCat-13k label groups')\n",
    "    plt.show()"
   ]
  },
  {
   "cell_type": "code",
   "execution_count": null,
   "metadata": {},
   "outputs": [],
   "source": [
    "df1 = df\n",
    "df1 = df1[df1['per_hierarchy']==True].drop(columns=['per_hierarchy'])\n",
    "\n",
    "# df1 = df1.drop(columns=['dir'])\n",
    "# df1  = df1.set_index(['input','model','group','lab_ind','loss']).stack().unstack([-2,-1])\n",
    "# df1\n"
   ]
  },
  {
   "cell_type": "code",
   "execution_count": null,
   "metadata": {},
   "outputs": [],
   "source": [
    "df1 = df1.drop(columns=['dir'])"
   ]
  },
  {
   "cell_type": "code",
   "execution_count": null,
   "metadata": {},
   "outputs": [],
   "source": [
    "df1.groupby(columns=['input','model','group','lab_ind','loss'])"
   ]
  },
  {
   "cell_type": "code",
   "execution_count": null,
   "metadata": {},
   "outputs": [],
   "source": [
    "# change in model performance with changing calculation method\n",
    "df1 = df\n",
    "df1 = df1[df1.loss=='binary']\n",
    "df1 = df1[df1['per_hierarchy']==True]\n",
    "# df1 = df1[df1.model!='attention']\n",
    "# df1 = df1[df1.model!='bert']\n",
    "# df1 = df1[df1.model=='attentionxml']\n",
    "df1  = df1.set_index(['input','dir','model','group','lab_ind','loss']).stack().unstack([-2,-1])\n",
    "df1 = (df1.loc[:,('categorical')]-df1.loc[:,('binary')]).reset_index()\n",
    "df1 = df1[df1.input=='data/amazon_hierarchy_2']\n",
    "# bar chart of mean\n",
    "metrics = ['precision','F1']\n",
    "y_labs = ['binary accuracy','F1 score']\n",
    "for i in range(len(metrics)):\n",
    "    metric = metrics[i]\n",
    "    y_lab = y_labs[i]\n",
    "    fig,ax = plt.subplots()\n",
    "    sns.barplot(x = 'group',y=metric,hue='model',data = df1,ax = ax, palette=\"Set3\",\n",
    "                order=sorted(df1.group.unique()),\n",
    "                hue_order = order\n",
    "               )\n",
    "    ax.legend(bbox_to_anchor=(0., 1.02, 1., .102), loc=3,\n",
    "           ncol=len(df1.model.unique()), mode=\"expand\", borderaxespad=0.)\n",
    "    ax.set_ylabel(y_lab)\n",
    "    ax.set_xlabel('AmazonCat-13k label groups')\n",
    "    plt.show()"
   ]
  },
  {
   "cell_type": "markdown",
   "metadata": {},
   "source": [
    "# multi-lab metrics"
   ]
  },
  {
   "cell_type": "code",
   "execution_count": null,
   "metadata": {},
   "outputs": [],
   "source": []
  }
 ],
 "metadata": {
  "kernelspec": {
   "display_name": "Python 3",
   "language": "python",
   "name": "python3"
  },
  "language_info": {
   "codemirror_mode": {
    "name": "ipython",
    "version": 3
   },
   "file_extension": ".py",
   "mimetype": "text/x-python",
   "name": "python",
   "nbconvert_exporter": "python",
   "pygments_lexer": "ipython3",
   "version": "3.6.8"
  }
 },
 "nbformat": 4,
 "nbformat_minor": 2
}
