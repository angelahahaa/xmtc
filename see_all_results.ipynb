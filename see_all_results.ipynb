{
 "cells": [
  {
   "cell_type": "code",
   "execution_count": 1,
   "metadata": {},
   "outputs": [],
   "source": [
    "import os\n",
    "import pandas as pd\n",
    "from collections import defaultdict"
   ]
  },
  {
   "cell_type": "code",
   "execution_count": 2,
   "metadata": {},
   "outputs": [],
   "source": [
    "IN_DIR = 'outputs'\n",
    "dirs = sorted([os.path.join(IN_DIR,d) for d in os.listdir(IN_DIR)])\n",
    "out_d = defaultdict(list)\n",
    "for d in dirs:\n",
    "    log_dir = os.path.join(d,'train.log')\n",
    "    args_dir = os.path.join(d,'args.csv')\n",
    "    if not os.path.exists(log_dir) or not os.path.exists(args_dir):\n",
    "        continue\n",
    "    df = pd.read_csv(log_dir)\n",
    "    arg = pd.read_csv(args_dir)\n",
    "    mode = arg.loc[0,'mode']\n",
    "    arg['dir'] = d\n",
    "    df['dir'] = d\n",
    "    out_d[mode].append(df)   \n",
    "    out_d['args'].append(arg)"
   ]
  },
  {
   "cell_type": "code",
   "execution_count": 3,
   "metadata": {},
   "outputs": [
    {
     "name": "stderr",
     "output_type": "stream",
     "text": [
      "/home/angela/env/lib/python3.6/site-packages/ipykernel_launcher.py:1: FutureWarning: Sorting because non-concatenation axis is not aligned. A future version\n",
      "of pandas will change to not sort by default.\n",
      "\n",
      "To accept the future behavior, pass 'sort=False'.\n",
      "\n",
      "To retain the current behavior and silence the warning, pass 'sort=True'.\n",
      "\n",
      "  \"\"\"Entry point for launching an IPython kernel.\n"
     ]
    }
   ],
   "source": [
    "args = pd.concat(out_d['args'], ignore_index = True)"
   ]
  },
  {
   "cell_type": "code",
   "execution_count": 4,
   "metadata": {},
   "outputs": [
    {
     "name": "stderr",
     "output_type": "stream",
     "text": [
      "/home/angela/env/lib/python3.6/site-packages/ipykernel_launcher.py:1: FutureWarning: Sorting because non-concatenation axis is not aligned. A future version\n",
      "of pandas will change to not sort by default.\n",
      "\n",
      "To accept the future behavior, pass 'sort=False'.\n",
      "\n",
      "To retain the current behavior and silence the warning, pass 'sort=True'.\n",
      "\n",
      "  \"\"\"Entry point for launching an IPython kernel.\n"
     ]
    }
   ],
   "source": [
    "df_c = pd.concat(out_d['cat'], ignore_index = True)\n",
    "df_h = pd.concat(out_d['hierarchy'], ignore_index = True)"
   ]
  },
  {
   "cell_type": "code",
   "execution_count": 5,
   "metadata": {},
   "outputs": [
    {
     "data": {
      "text/html": [
       "<div>\n",
       "<style scoped>\n",
       "    .dataframe tbody tr th:only-of-type {\n",
       "        vertical-align: middle;\n",
       "    }\n",
       "\n",
       "    .dataframe tbody tr th {\n",
       "        vertical-align: top;\n",
       "    }\n",
       "\n",
       "    .dataframe thead th {\n",
       "        text-align: right;\n",
       "    }\n",
       "</style>\n",
       "<table border=\"1\" class=\"dataframe\">\n",
       "  <thead>\n",
       "    <tr style=\"text-align: right;\">\n",
       "      <th></th>\n",
       "      <th>dir</th>\n",
       "      <th>model</th>\n",
       "      <th>loss_args</th>\n",
       "      <th>val_H0_pAt1</th>\n",
       "      <th>val_H0_pAt5</th>\n",
       "      <th>val_H1_pAt1</th>\n",
       "      <th>val_H1_pAt5</th>\n",
       "      <th>val_H2_pAt1</th>\n",
       "      <th>val_H2_pAt5</th>\n",
       "      <th>val_H3_pAt1</th>\n",
       "      <th>val_H3_pAt5</th>\n",
       "    </tr>\n",
       "  </thead>\n",
       "  <tbody>\n",
       "    <tr>\n",
       "      <th>49</th>\n",
       "      <td>outputs/190731_171224_xmlcnn</td>\n",
       "      <td>xmlcnn</td>\n",
       "      <td>binary</td>\n",
       "      <td>0.901081</td>\n",
       "      <td>0.984538</td>\n",
       "      <td>0.581149</td>\n",
       "      <td>0.857978</td>\n",
       "      <td>0.364121</td>\n",
       "      <td>0.650158</td>\n",
       "      <td>NaN</td>\n",
       "      <td>NaN</td>\n",
       "    </tr>\n",
       "    <tr>\n",
       "      <th>54</th>\n",
       "      <td>outputs/190731_173542_attentionxml</td>\n",
       "      <td>attentionxml</td>\n",
       "      <td>binary</td>\n",
       "      <td>0.920395</td>\n",
       "      <td>0.989152</td>\n",
       "      <td>0.672294</td>\n",
       "      <td>0.914387</td>\n",
       "      <td>0.526425</td>\n",
       "      <td>0.794992</td>\n",
       "      <td>NaN</td>\n",
       "      <td>NaN</td>\n",
       "    </tr>\n",
       "    <tr>\n",
       "      <th>59</th>\n",
       "      <td>outputs/190801_134055_attention</td>\n",
       "      <td>attention</td>\n",
       "      <td>binary</td>\n",
       "      <td>0.867827</td>\n",
       "      <td>0.976563</td>\n",
       "      <td>0.587034</td>\n",
       "      <td>0.868195</td>\n",
       "      <td>0.436187</td>\n",
       "      <td>0.724053</td>\n",
       "      <td>NaN</td>\n",
       "      <td>NaN</td>\n",
       "    </tr>\n",
       "    <tr>\n",
       "      <th>64</th>\n",
       "      <td>outputs/190801_181432_xmlcnn</td>\n",
       "      <td>xmlcnn</td>\n",
       "      <td>categorical</td>\n",
       "      <td>0.888559</td>\n",
       "      <td>0.982033</td>\n",
       "      <td>0.622588</td>\n",
       "      <td>0.882100</td>\n",
       "      <td>0.452643</td>\n",
       "      <td>0.722962</td>\n",
       "      <td>NaN</td>\n",
       "      <td>NaN</td>\n",
       "    </tr>\n",
       "  </tbody>\n",
       "</table>\n",
       "</div>"
      ],
      "text/plain": [
       "                                   dir         model    loss_args  \\\n",
       "49        outputs/190731_171224_xmlcnn        xmlcnn       binary   \n",
       "54  outputs/190731_173542_attentionxml  attentionxml       binary   \n",
       "59     outputs/190801_134055_attention     attention       binary   \n",
       "64        outputs/190801_181432_xmlcnn        xmlcnn  categorical   \n",
       "\n",
       "    val_H0_pAt1  val_H0_pAt5  val_H1_pAt1  val_H1_pAt5  val_H2_pAt1  \\\n",
       "49     0.901081     0.984538     0.581149     0.857978     0.364121   \n",
       "54     0.920395     0.989152     0.672294     0.914387     0.526425   \n",
       "59     0.867827     0.976563     0.587034     0.868195     0.436187   \n",
       "64     0.888559     0.982033     0.622588     0.882100     0.452643   \n",
       "\n",
       "    val_H2_pAt5  val_H3_pAt1  val_H3_pAt5  \n",
       "49     0.650158          NaN          NaN  \n",
       "54     0.794992          NaN          NaN  \n",
       "59     0.724053          NaN          NaN  \n",
       "64     0.722962          NaN          NaN  "
      ]
     },
     "execution_count": 5,
     "metadata": {},
     "output_type": "execute_result"
    }
   ],
   "source": [
    "df2 = df_c.merge(args,on='dir',suffixes=('_outputs', '_args'))\n",
    "df2 = df2[df2.epoch_outputs==4]\n",
    "# df2[df2['model']=='attentionxml']\n",
    "# df2 = df2[df2['input']=='data/sic_hierarchy']\n",
    "df2 = df2[df2['input']=='data/amazon_hierarchy']\n",
    "df2.loc[:,['dir','model','loss_args']+[c for c in df2.columns if c.startswith('val') and not c.endswith('loss')]]"
   ]
  },
  {
   "cell_type": "code",
   "execution_count": 6,
   "metadata": {},
   "outputs": [
    {
     "data": {
      "text/html": [
       "<div>\n",
       "<style scoped>\n",
       "    .dataframe tbody tr th:only-of-type {\n",
       "        vertical-align: middle;\n",
       "    }\n",
       "\n",
       "    .dataframe tbody tr th {\n",
       "        vertical-align: top;\n",
       "    }\n",
       "\n",
       "    .dataframe thead th {\n",
       "        text-align: right;\n",
       "    }\n",
       "</style>\n",
       "<table border=\"1\" class=\"dataframe\">\n",
       "  <thead>\n",
       "    <tr style=\"text-align: right;\">\n",
       "      <th></th>\n",
       "      <th>model</th>\n",
       "      <th>loss_args</th>\n",
       "      <th>val_pAt1</th>\n",
       "      <th>val_pAt5</th>\n",
       "    </tr>\n",
       "  </thead>\n",
       "  <tbody>\n",
       "    <tr>\n",
       "      <th>4</th>\n",
       "      <td>xmlcnn</td>\n",
       "      <td>binary</td>\n",
       "      <td>0.508035</td>\n",
       "      <td>0.755170</td>\n",
       "    </tr>\n",
       "    <tr>\n",
       "      <th>9</th>\n",
       "      <td>attentionxml</td>\n",
       "      <td>binary</td>\n",
       "      <td>0.537764</td>\n",
       "      <td>0.781557</td>\n",
       "    </tr>\n",
       "    <tr>\n",
       "      <th>14</th>\n",
       "      <td>attention</td>\n",
       "      <td>binary</td>\n",
       "      <td>0.479069</td>\n",
       "      <td>0.730239</td>\n",
       "    </tr>\n",
       "    <tr>\n",
       "      <th>19</th>\n",
       "      <td>xmlcnn</td>\n",
       "      <td>categorical</td>\n",
       "      <td>0.502459</td>\n",
       "      <td>0.751170</td>\n",
       "    </tr>\n",
       "    <tr>\n",
       "      <th>24</th>\n",
       "      <td>attentionxml</td>\n",
       "      <td>categorical</td>\n",
       "      <td>0.528601</td>\n",
       "      <td>0.769131</td>\n",
       "    </tr>\n",
       "    <tr>\n",
       "      <th>29</th>\n",
       "      <td>attention</td>\n",
       "      <td>categorical</td>\n",
       "      <td>0.454496</td>\n",
       "      <td>0.698759</td>\n",
       "    </tr>\n",
       "  </tbody>\n",
       "</table>\n",
       "</div>"
      ],
      "text/plain": [
       "           model    loss_args  val_pAt1  val_pAt5\n",
       "4         xmlcnn       binary  0.508035  0.755170\n",
       "9   attentionxml       binary  0.537764  0.781557\n",
       "14     attention       binary  0.479069  0.730239\n",
       "19        xmlcnn  categorical  0.502459  0.751170\n",
       "24  attentionxml  categorical  0.528601  0.769131\n",
       "29     attention  categorical  0.454496  0.698759"
      ]
     },
     "execution_count": 6,
     "metadata": {},
     "output_type": "execute_result"
    }
   ],
   "source": [
    "df1 = df_h.merge(args,on='dir',suffixes=('_outputs', '_args'))\n",
    "df1 = df1[df1.epoch_outputs==4]\n",
    "df1.loc[:,['model','loss_args']+[c for c in df1.columns if c.startswith('val') and not c.endswith('loss')]]"
   ]
  },
  {
   "cell_type": "code",
   "execution_count": null,
   "metadata": {},
   "outputs": [],
   "source": []
  }
 ],
 "metadata": {
  "kernelspec": {
   "display_name": "Python 3",
   "language": "python",
   "name": "python3"
  },
  "language_info": {
   "codemirror_mode": {
    "name": "ipython",
    "version": 3
   },
   "file_extension": ".py",
   "mimetype": "text/x-python",
   "name": "python",
   "nbconvert_exporter": "python",
   "pygments_lexer": "ipython3",
   "version": "3.6.8"
  }
 },
 "nbformat": 4,
 "nbformat_minor": 2
}
