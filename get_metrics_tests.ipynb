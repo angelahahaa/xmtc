{
 "cells": [
  {
   "cell_type": "code",
   "execution_count": null,
   "metadata": {
    "scrolled": true
   },
   "outputs": [],
   "source": [
    "import os\n",
    "import pandas as pd\n",
    "import numpy as np\n",
    "import matplotlib.pyplot as plt\n",
    "from collections import defaultdict\n",
    "import scipy.sparse as sp\n",
    "from tools.model_func import *\n",
    "import seaborn as sns"
   ]
  },
  {
   "cell_type": "markdown",
   "metadata": {},
   "source": [
    "## check if prediction is children of parents"
   ]
  },
  {
   "cell_type": "code",
   "execution_count": null,
   "metadata": {},
   "outputs": [],
   "source": [
    "IN_DIR = 'data/sic_hierarchy'"
   ]
  },
  {
   "cell_type": "code",
   "execution_count": null,
   "metadata": {},
   "outputs": [],
   "source": [
    "child_dict = pickle.load(open(os.path.join(IN_DIR,'parent_to_child.pkl'),'rb'))\n",
    "d = dirs[0]\n",
    "preds,logits = get_preds(d,get_logits=True)"
   ]
  },
  {
   "cell_type": "code",
   "execution_count": null,
   "metadata": {},
   "outputs": [],
   "source": [
    "# is first prediction children of parents\n",
    "N = len(preds[0])\n",
    "N_H = len(preds)\n",
    "is_children = np.zeros((N,N_H))\n",
    "is_children[:,0]=1\n",
    "for i in range(N):\n",
    "    for H in range(1,N_H):\n",
    "        parent = preds[H-1][i,0]\n",
    "        children = preds[H][i,0]\n",
    "        if children in child_dict[H-1][parent]:\n",
    "            is_children[i,H]=1"
   ]
  },
  {
   "cell_type": "code",
   "execution_count": null,
   "metadata": {},
   "outputs": [],
   "source": [
    "for H in range(N_H):\n",
    "    print('Consistent prediction H{}: {:.2f}%'.format(H,np.mean(is_children[:,:H+1].all(axis=1))*100))"
   ]
  },
  {
   "cell_type": "code",
   "execution_count": null,
   "metadata": {},
   "outputs": [],
   "source": [
    "# is any of the top 10 predictions children\n",
    "N = len(preds[0])\n",
    "N_H = len(preds)\n",
    "K = len(preds[0][0])\n",
    "broken_hierarchy = []\n",
    "is_children = np.zeros((N,N_H))\n",
    "is_children[:,0]=1\n",
    "for i in range(N):\n",
    "    parent = preds[0][i,0]\n",
    "    for H in range(1,N_H):\n",
    "        found = False\n",
    "        for k in range(K):\n",
    "            children = preds[H][i,k]\n",
    "            if children in child_dict[H-1][parent]:\n",
    "                is_children[i,H]=k+1\n",
    "                found = True\n",
    "                break\n",
    "        if not found:\n",
    "            is_children[i,H:]=-1\n",
    "            broken_hierarchy.append(i)\n",
    "            break\n",
    "        parent = children"
   ]
  },
  {
   "cell_type": "code",
   "execution_count": null,
   "metadata": {},
   "outputs": [],
   "source": [
    "for H in range(N_H):\n",
    "    print('Consistent prediction H{}: {:.2f}%'.format(H,np.mean((is_children[:,:H+1]!=-1).all(axis=1))*100))"
   ]
  },
  {
   "cell_type": "markdown",
   "metadata": {},
   "source": [
    "# baseline comp"
   ]
  },
  {
   "cell_type": "code",
   "execution_count": null,
   "metadata": {},
   "outputs": [],
   "source": [
    "IN_DIR = 'data/sic_hierarchy'\n",
    "# IN_DIR = 'data/amazon_hierarchy_2'"
   ]
  },
  {
   "cell_type": "code",
   "execution_count": null,
   "metadata": {},
   "outputs": [],
   "source": [
    "df = args\n",
    "df = df[df['input']==IN_DIR]\n",
    "df = df[df['mode']=='cat']\n",
    "df = df[df['loss']=='binary']\n",
    "dirs = sorted(df.dir.to_list())\n",
    "dirs = [d for d in dirs if 'bert' not in d]\n",
    "print(dirs)\n",
    "df"
   ]
  },
  {
   "cell_type": "markdown",
   "metadata": {},
   "source": [
    "## basic"
   ]
  },
  {
   "cell_type": "code",
   "execution_count": null,
   "metadata": {},
   "outputs": [],
   "source": [
    "_,_,_,y_tests = get_input(mode='cat', in_dir = IN_DIR, sparse = True, get_output= [0,0,0,1])\n",
    "trues = sp.hstack(y_tests).tocsr()"
   ]
  },
  {
   "cell_type": "code",
   "execution_count": null,
   "metadata": {},
   "outputs": [],
   "source": [
    "ks = [1,3,5,4]\n",
    "metrics = {\n",
    "    'P   @':get_multilabel_pAtk,\n",
    "    'nDCG@':get_nDCGAtk,\n",
    "    'mAcc@':get_macro_acc,\n",
    "          }\n",
    "results = [get_multi_label_metrics(d,trues,y_tests,metrics,ks=ks) for d in dirs]"
   ]
  },
  {
   "cell_type": "code",
   "execution_count": null,
   "metadata": {},
   "outputs": [],
   "source": [
    "# for latex\n",
    "N_H = len(results[0][0])\n",
    "for i,metric in enumerate(metrics.keys()):\n",
    "    print(metric+'k')\n",
    "    for H in range(N_H):\n",
    "        for j,k in enumerate(ks):\n",
    "            print('H{} k{} :'.format(H,k),end='')\n",
    "            print('&'.join(['{:.2f}'.format(result[i][H][j]*100) for result in results]))"
   ]
  },
  {
   "cell_type": "markdown",
   "metadata": {},
   "source": [
    "## layer"
   ]
  },
  {
   "cell_type": "code",
   "execution_count": null,
   "metadata": {},
   "outputs": [],
   "source": [
    "_,_,_,y_tests = get_input(mode='cat', in_dir = IN_DIR, sparse = True, get_output= [0,0,0,1])"
   ]
  },
  {
   "cell_type": "code",
   "execution_count": null,
   "metadata": {},
   "outputs": [],
   "source": [
    "ks = [1,3,5]\n",
    "metrics = {\n",
    "#     '   P@':get_pAtk,\n",
    "#     'nDCG@':get_nDCGAtk,\n",
    "    'mAcc@':get_macro_acc,\n",
    "}\n",
    "results = [get_per_H_metrics(d,y_tests,metrics,ks=ks) for d in dirs[:-2]]"
   ]
  },
  {
   "cell_type": "code",
   "execution_count": null,
   "metadata": {},
   "outputs": [],
   "source": [
    "# for latex\n",
    "N_H = len(results[0][0])\n",
    "for i,metric in enumerate(metrics.keys()):\n",
    "    print(metric+'k')\n",
    "    for H in range(N_H):\n",
    "        for j,k in enumerate(ks):\n",
    "            print('H{} k{} :'.format(H,k),end='')\n",
    "            print('&'.join(['{:.2f}'.format(result[i][H][j]*100) for result in results]))"
   ]
  },
  {
   "cell_type": "code",
   "execution_count": null,
   "metadata": {},
   "outputs": [],
   "source": [
    "# get overall macro acc@k \n",
    "k = 1\n",
    "#\n",
    "for i,model in enumerate(results):\n",
    "    D = len(model[0])\n",
    "    atks = [model[0][i][k-1] for i in range(D)]\n",
    "    cc = sum([y_tests[i].shape[1] for i in range(D)])\n",
    "    oo = 0\n",
    "    for i in range(D):\n",
    "        oo+=atks[i]*y_tests[i].shape[1]/cc\n",
    "    print(oo*100)"
   ]
  },
  {
   "cell_type": "code",
   "execution_count": null,
   "metadata": {},
   "outputs": [],
   "source": []
  }
 ],
 "metadata": {
  "kernelspec": {
   "display_name": "Python 3",
   "language": "python",
   "name": "python3"
  },
  "language_info": {
   "codemirror_mode": {
    "name": "ipython",
    "version": 3
   },
   "file_extension": ".py",
   "mimetype": "text/x-python",
   "name": "python",
   "nbconvert_exporter": "python",
   "pygments_lexer": "ipython3",
   "version": "3.6.8"
  }
 },
 "nbformat": 4,
 "nbformat_minor": 2
}
