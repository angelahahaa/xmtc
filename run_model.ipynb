{
 "cells": [
  {
   "cell_type": "code",
   "execution_count": null,
   "metadata": {},
   "outputs": [],
   "source": [
    "s = '-i data/sic_hiararchy -m attentionxml -o temp -l binary'.split(' ')"
   ]
  },
  {
   "cell_type": "markdown",
   "metadata": {},
   "source": [
    "# IMPORTS"
   ]
  },
  {
   "cell_type": "code",
   "execution_count": null,
   "metadata": {},
   "outputs": [],
   "source": [
    "# basic\n",
    "import argparse\n",
    "import os,datetime\n",
    "# data input\n",
    "import numpy as np\n",
    "import scipy.sparse\n",
    "# metric and loss function\n",
    "import keras.backend as K\n",
    "import tensorflow as tf\n",
    "from keras.metrics import categorical_accuracy, binary_accuracy, top_k_categorical_accuracy\n",
    "# embedding\n",
    "from keras.initializers import Constant\n",
    "from keras.layers import Embedding\n",
    "# models\n",
    "from keras.layers import Dense, Input, Flatten, Concatenate, Conv1D, MaxPooling1D, Dropout\n",
    "from keras.layers import CuDNNLSTM, Bidirectional, TimeDistributed, Lambda, Softmax\n",
    "from keras.initializers import Constant\n",
    "from keras.models import Model\n",
    "# misc\n",
    "from tools.MyClock import MyClock\n",
    "# save things\n",
    "import pandas as pd\n",
    "from keras.callbacks import CSVLogger"
   ]
  },
  {
   "cell_type": "code",
   "execution_count": null,
   "metadata": {},
   "outputs": [],
   "source": [
    "def Coloured(string):\n",
    "    return \"\\033[1;30;43m {} \\033[0m\".format(string)"
   ]
  },
  {
   "cell_type": "markdown",
   "metadata": {},
   "source": [
    "# ARGPARSE"
   ]
  },
  {
   "cell_type": "code",
   "execution_count": null,
   "metadata": {},
   "outputs": [],
   "source": [
    "parser = argparse.ArgumentParser(description = 'run baseline models')\n",
    "parser.add_argument('-i','--input', required = True, type = str, help = 'input directory e.g. ./data/dl_amazon_1/')\n",
    "parser.add_argument('-m','--model', required = True, type = str, help = 'model, one in: xmlcnn, attentionxml, attention,')\n",
    "parser.add_argument('-l','--loss', default = 'categorical', type = str, help = \"loss type, categorical or binary \")\n",
    "parser.add_argument('-o','--output', default = 'outputs', type = str, help = 'output directory')\n",
    "parser.add_argument('--epoch', default = 5, type = int, help = 'epochs')\n",
    "parser.add_argument('--batch_size', default = 0, type = int, help = 'batch size')\n",
    "parser.add_argument('--save_weights', default = True, action = 'store_true', help = 'save trained weights')\n",
    "parser.add_argument('--save_model', default = True, action = 'store_true', help = 'save trained model architecture')\n",
    "parser.add_argument('--save_prediction', default = True, action = 'store_true', help = 'save top 10 prediction and corresponding probabilities (not implemented yet)')\n",
    "args = parser.parse_args(s)\n",
    "\n",
    "# argparse validation\n",
    "default_batch_size = {'xmlcnn':128,'attentionxml':20,'attention':25}\n",
    "if not os.path.exists(args.input):\n",
    "    raise Exception('Input path does not exist: {}'.format(args.input))\n",
    "if not os.path.exists(args.output):\n",
    "    os.mkdir(args.output)\n",
    "    print(Coloured(\"Create Output Directory: {}\".format(args.output)))\n",
    "if not args.batch_size:\n",
    "    args.batch_size = default_batch_size[args.model]\n",
    "IN_DIR = args.input\n",
    "OUT_DIR = os.path.join(\n",
    "    args.output,\n",
    "    datetime.datetime.now().strftime('%y%m%d_%H%M%S_{}'.format(args.model)),\n",
    ")\n",
    "if not os.path.exists(OUT_DIR):\n",
    "    os.mkdir(OUT_DIR)"
   ]
  },
  {
   "cell_type": "markdown",
   "metadata": {},
   "source": [
    "# INPUT"
   ]
  },
  {
   "cell_type": "code",
   "execution_count": null,
   "metadata": {},
   "outputs": [],
   "source": [
    "def get_input(in_dir):\n",
    "    x_train = np.load(os.path.join(in_dir,'x_train.npy'))\n",
    "    dirs = [os.path.join(in_dir,d) for d in sorted(os.listdir(in_dir)) if d.startswith('y_train')]\n",
    "    y_trains = [scipy.sparse.load_npz(d).todense() for d in dirs]\n",
    "\n",
    "    x_test = np.load(os.path.join(in_dir,'x_test.npy'))\n",
    "    dirs = [os.path.join(in_dir,d) for d in sorted(os.listdir(in_dir)) if d.startswith('y_test')]\n",
    "    y_tests = [scipy.sparse.load_npz(d).todense() for d in dirs]\n",
    "    return x_train,y_trains,x_test,y_tests"
   ]
  },
  {
   "cell_type": "markdown",
   "metadata": {},
   "source": [
    "# EMBEDDING LAYER"
   ]
  },
  {
   "cell_type": "code",
   "execution_count": null,
   "metadata": {},
   "outputs": [],
   "source": [
    "def get_embedding_layer():\n",
    "    embedding_matrix = np.load(os.path.join(IN_DIR,'embedding_matrix.npy'))\n",
    "    num_words, embedding_dim = embedding_matrix.shape\n",
    "    embedding_layer = Embedding(num_words,\n",
    "                                embedding_dim,\n",
    "                                embeddings_initializer=Constant(embedding_matrix),\n",
    "                                trainable=False)\n",
    "    return embedding_layer"
   ]
  },
  {
   "cell_type": "markdown",
   "metadata": {},
   "source": [
    "# MODELS"
   ]
  },
  {
   "cell_type": "code",
   "execution_count": null,
   "metadata": {},
   "outputs": [],
   "source": [
    "def apply_attention(inputs):\n",
    "    input1, input2 = inputs\n",
    "    outer_product = tf.einsum('ghj, ghk -> gjk', input1, input2)\n",
    "    return outer_product\n",
    "\n",
    "def get_model(model_name, max_sequence_length, labels_dims):\n",
    "    embedding_layer = get_embedding_layer()\n",
    "    sequence_input = Input(shape=(max_sequence_length,), dtype='int32')\n",
    "    embedded_sequences = embedding_layer(sequence_input)\n",
    "    if model_name == 'xmlcnn':\n",
    "        filter_sizes = [2,4,8]\n",
    "        pooling_units = 32\n",
    "        bottle_neck = 512\n",
    "        convs = []\n",
    "        for fsz in filter_sizes:\n",
    "            l = Conv1D(filters = 128, kernel_size = fsz, strides = 2, activation = 'relu')(embedded_sequences)\n",
    "            s = int(l.shape[-2])\n",
    "            pool_size = s//pooling_units\n",
    "            l = MaxPooling1D(pool_size,padding = 'same')(l)\n",
    "            l = Flatten()(l)\n",
    "            convs.append(l)\n",
    "        x = Concatenate(axis=-1)(convs)\n",
    "        x = Dense(bottle_neck, activation = 'relu')(x)\n",
    "        x = Dropout(0.5)(x)\n",
    "        outs = []\n",
    "        for i,labels_dim in enumerate(labels_dims):\n",
    "            outs.append(Dense(labels_dim, activation = None, name = 'H{}'.format(i))(x))\n",
    "    elif model_name in ['attentionxml','attention']:\n",
    "        labels_dim = sum(labels_dims)\n",
    "        if model_name == 'attentionxml':\n",
    "            # with lstm\n",
    "            x = Bidirectional(CuDNNLSTM(512, return_sequences=True))(embedded_sequences)\n",
    "        else:\n",
    "            # without lstm\n",
    "            x = embedded_sequences\n",
    "        attention = Dense(labels_dim,activation=None,name='attention_dense')(x)\n",
    "        attention = Softmax(axis=1,name='attention_softmax')(attention)\n",
    "        x = Lambda(apply_attention,name = 'apply_attention')([x, attention])\n",
    "        x = Lambda(lambda x:K.permute_dimensions(x,(0,2,1)),name='transpose')(x)\n",
    "        x = TimeDistributed(Dense(512,activation='relu'))(x)\n",
    "        x = Dropout(0.5)(x)\n",
    "        x = TimeDistributed(Dense(256,activation='relu'))(x)\n",
    "        x = Dropout(0.5)(x)\n",
    "        x = TimeDistributed(Dense(1,activation=None))(x)\n",
    "        x = Lambda(lambda x:K.squeeze(x,axis=-1))(x)\n",
    "        outs = []\n",
    "        start = 0\n",
    "        for i,labels_dim in enumerate(labels_dims):\n",
    "            outs.append(Lambda(lambda x:x[:,start:start+labels_dim],name = 'H{}'.format(i))(x))\n",
    "            start+=labels_dim\n",
    "    else:\n",
    "        raise Exception('Invalid model_name : {}'.format(model_name))\n",
    "    return Model(sequence_input, outs)"
   ]
  },
  {
   "cell_type": "markdown",
   "metadata": {},
   "source": [
    "# LOSSES"
   ]
  },
  {
   "cell_type": "code",
   "execution_count": null,
   "metadata": {},
   "outputs": [],
   "source": [
    "def binary_cross_entropy_with_logits(y_true, y_pred):\n",
    "    return K.mean(K.binary_crossentropy(y_true,y_pred,from_logits=True),axis=-1)\n",
    "def categorical_cross_entropy_with_logits(y_true, y_pred):\n",
    "    return K.mean(K.categorical_crossentropy(y_true,y_pred,from_logits=True),axis=-1)\n",
    "loss_dict = {'binary':binary_cross_entropy_with_logits,\n",
    "             'categorical':categorical_cross_entropy_with_logits,}"
   ]
  },
  {
   "cell_type": "markdown",
   "metadata": {},
   "source": [
    "# METRICS"
   ]
  },
  {
   "cell_type": "code",
   "execution_count": null,
   "metadata": {},
   "outputs": [],
   "source": [
    "def binary_accuracy_with_logits(y_true, y_pred):\n",
    "    return K.mean(K.equal(y_true, K.tf.cast(K.less(0.0,y_pred), y_true.dtype)))\n",
    "def pAt1(y_true,y_pred):\n",
    "    return categorical_accuracy(y_true, y_pred)\n",
    "def pAt5(y_true,y_pred):\n",
    "    return top_k_categorical_accuracy(y_true, y_pred, k=5)"
   ]
  },
  {
   "cell_type": "markdown",
   "metadata": {},
   "source": [
    "# MISC"
   ]
  },
  {
   "cell_type": "code",
   "execution_count": null,
   "metadata": {},
   "outputs": [],
   "source": [
    "def save_predictions(model,x_test,y_tests,out_dir):\n",
    "    print('SAVE PREDICTIONS TO : {}'.format(out_dir))\n",
    "    out_probs = model.predict(x_test,verbose=1)\n",
    "    ind_dirs = [os.path.join(out_dir,'pred_outputs{}.txt'.format(i)) for i in range(len(y_tests))]\n",
    "    log_dirs = [os.path.join(out_dir,'pred_logits{}.txt'.format(i)) for i in range(len(y_tests))]\n",
    "    f_ind = [open(ind_dir,'ab') for ind_dir in ind_dirs]\n",
    "    f_log = [open(log_dir,'ab') for log_dir in log_dirs]\n",
    "    for i,out_prob in enumerate(out_probs):\n",
    "        ind = np.argsort(out_prob,axis=1)[:,:-11:-1]\n",
    "        logits = np.take_along_axis(out_prob, ind, axis=1)\n",
    "        np.savetxt(f_ind[i],ind,fmt='%d')\n",
    "        np.savetxt(f_log[i],logits,fmt='%1.3f')\n",
    "    for f in f_ind + f_log:\n",
    "        f.close()"
   ]
  },
  {
   "cell_type": "markdown",
   "metadata": {},
   "source": [
    "# MAIN"
   ]
  },
  {
   "cell_type": "code",
   "execution_count": null,
   "metadata": {},
   "outputs": [],
   "source": [
    "csv_logger = CSVLogger(os.path.join(OUT_DIR,'train.log'),append=False)\n",
    "# inputs\n",
    "x_train,y_trains,x_test,y_tests = get_input(IN_DIR)\n",
    "_,max_sequence_length = x_train.shape\n",
    "labels_dims = [l.shape[-1] for l in y_tests]\n",
    "model = get_model(args.model, max_sequence_length, labels_dims)\n",
    "model.compile(loss=loss_dict[args.loss],\n",
    "              optimizer='adam',\n",
    "              metrics=[pAt1,pAt5])\n",
    "model.fit(x_train, y_trains,\n",
    "          batch_size = args.batch_size,\n",
    "          epochs = args.epoch,\n",
    "          validation_data = (x_test, y_tests),\n",
    "          callbacks = [csv_logger],\n",
    "          shuffle=True,\n",
    "         )"
   ]
  },
  {
   "cell_type": "markdown",
   "metadata": {},
   "source": [
    "# save things"
   ]
  },
  {
   "cell_type": "code",
   "execution_count": null,
   "metadata": {},
   "outputs": [],
   "source": [
    "if args.save_weights:\n",
    "    model.save_weights(os.path.join(OUT_DIR,'weights.h5'))\n",
    "if args.save_model:\n",
    "    with open(os.path.join(OUT_DIR,'model.json'),'w') as f:\n",
    "        f.write(model.to_json())\n",
    "if args.save_prediction:\n",
    "    save_predictions(model,x_test,y_tests,OUT_DIR)\n",
    "pd.DataFrame.from_dict([vars(args)]).to_csv(os.path.join(OUT_DIR,'args.csv'))"
   ]
  }
 ],
 "metadata": {
  "kernelspec": {
   "display_name": "Python 3",
   "language": "python",
   "name": "python3"
  },
  "language_info": {
   "codemirror_mode": {
    "name": "ipython",
    "version": 3
   },
   "file_extension": ".py",
   "mimetype": "text/x-python",
   "name": "python",
   "nbconvert_exporter": "python",
   "pygments_lexer": "ipython3",
   "version": "3.6.8"
  }
 },
 "nbformat": 4,
 "nbformat_minor": 2
}
