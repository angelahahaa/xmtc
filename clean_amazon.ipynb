{
 "cells": [
  {
   "cell_type": "code",
   "execution_count": 1,
   "metadata": {},
   "outputs": [],
   "source": [
    "import joblib,re,os\n",
    "import numpy as np\n",
    "import pandas as pd"
   ]
  },
  {
   "cell_type": "markdown",
   "metadata": {},
   "source": [
    "# read names \n",
    "\n",
    "put `Amazon_RawData/titles.txt` in dataframe with product id"
   ]
  },
  {
   "cell_type": "code",
   "execution_count": 2,
   "metadata": {},
   "outputs": [],
   "source": [
    "with open('./Amazon_RawData/titles.txt','r',encoding = \"ISO-8859-1\") as f:\n",
    "    lines = f.read().splitlines()"
   ]
  },
  {
   "cell_type": "code",
   "execution_count": 3,
   "metadata": {},
   "outputs": [],
   "source": [
    "data = []\n",
    "invalid = []\n",
    "pattern = re.compile(\"[^A-Z0-9]+\")\n",
    "for i,line in enumerate(lines):\n",
    "    if len(line)<11 or line[10]!=' ':\n",
    "        invalid.append(i)\n",
    "        continue\n",
    "    id = line[:10]\n",
    "    if pattern.search(id):\n",
    "        invalid.append(i)\n",
    "        continue\n",
    "    else:\n",
    "        data.append({'id':id,'name':line[11:]})\n",
    "names = pd.DataFrame.from_dict(data)"
   ]
  },
  {
   "cell_type": "code",
   "execution_count": 4,
   "metadata": {},
   "outputs": [
    {
     "data": {
      "text/plain": [
       "True"
      ]
     },
     "execution_count": 4,
     "metadata": {},
     "output_type": "execute_result"
    }
   ],
   "source": [
    "# make sure id is unique\n",
    "names.id.is_unique"
   ]
  },
  {
   "cell_type": "code",
   "execution_count": 5,
   "metadata": {},
   "outputs": [
    {
     "data": {
      "text/html": [
       "<div>\n",
       "<style scoped>\n",
       "    .dataframe tbody tr th:only-of-type {\n",
       "        vertical-align: middle;\n",
       "    }\n",
       "\n",
       "    .dataframe tbody tr th {\n",
       "        vertical-align: top;\n",
       "    }\n",
       "\n",
       "    .dataframe thead th {\n",
       "        text-align: right;\n",
       "    }\n",
       "</style>\n",
       "<table border=\"1\" class=\"dataframe\">\n",
       "  <thead>\n",
       "    <tr style=\"text-align: right;\">\n",
       "      <th></th>\n",
       "      <th>id</th>\n",
       "      <th>name</th>\n",
       "    </tr>\n",
       "  </thead>\n",
       "  <tbody>\n",
       "    <tr>\n",
       "      <th>count</th>\n",
       "      <td>1720286</td>\n",
       "      <td>1720286</td>\n",
       "    </tr>\n",
       "    <tr>\n",
       "      <th>unique</th>\n",
       "      <td>1720286</td>\n",
       "      <td>1495904</td>\n",
       "    </tr>\n",
       "    <tr>\n",
       "      <th>top</th>\n",
       "      <td>B000N7Q7R0</td>\n",
       "      <td></td>\n",
       "    </tr>\n",
       "    <tr>\n",
       "      <th>freq</th>\n",
       "      <td>1</td>\n",
       "      <td>1270</td>\n",
       "    </tr>\n",
       "  </tbody>\n",
       "</table>\n",
       "</div>"
      ],
      "text/plain": [
       "                id     name\n",
       "count      1720286  1720286\n",
       "unique     1720286  1495904\n",
       "top     B000N7Q7R0         \n",
       "freq             1     1270"
      ]
     },
     "execution_count": 5,
     "metadata": {},
     "output_type": "execute_result"
    }
   ],
   "source": [
    "names.describe()"
   ]
  },
  {
   "cell_type": "markdown",
   "metadata": {},
   "source": [
    "# read descriptions"
   ]
  },
  {
   "cell_type": "code",
   "execution_count": 6,
   "metadata": {},
   "outputs": [],
   "source": [
    "with open('./Amazon_RawData/descriptions.txt','r',encoding = \"ISO-8859-1\") as f:\n",
    "    lines = f.read().splitlines()"
   ]
  },
  {
   "cell_type": "code",
   "execution_count": 7,
   "metadata": {},
   "outputs": [],
   "source": [
    "data = []\n",
    "for i,line in enumerate(lines):\n",
    "    if not line:\n",
    "        continue\n",
    "    if line[:18]=='product/productId:':\n",
    "        _,id = line.split(' ')\n",
    "        data.append({'id':id})\n",
    "    elif line[:20] == 'product/description:':\n",
    "        _,description = line.split(' ',1)\n",
    "        data[-1]['description'] = description\n",
    "    else:\n",
    "        data[-1]['description'] = data[-1]['description']+line"
   ]
  },
  {
   "cell_type": "code",
   "execution_count": 8,
   "metadata": {},
   "outputs": [
    {
     "data": {
      "text/plain": [
       "True"
      ]
     },
     "execution_count": 8,
     "metadata": {},
     "output_type": "execute_result"
    }
   ],
   "source": [
    "descriptions = pd.DataFrame.from_dict(data)\n",
    "descriptions.id.is_unique"
   ]
  },
  {
   "cell_type": "code",
   "execution_count": 9,
   "metadata": {},
   "outputs": [
    {
     "data": {
      "text/html": [
       "<div>\n",
       "<style scoped>\n",
       "    .dataframe tbody tr th:only-of-type {\n",
       "        vertical-align: middle;\n",
       "    }\n",
       "\n",
       "    .dataframe tbody tr th {\n",
       "        vertical-align: top;\n",
       "    }\n",
       "\n",
       "    .dataframe thead th {\n",
       "        text-align: right;\n",
       "    }\n",
       "</style>\n",
       "<table border=\"1\" class=\"dataframe\">\n",
       "  <thead>\n",
       "    <tr style=\"text-align: right;\">\n",
       "      <th></th>\n",
       "      <th>description</th>\n",
       "      <th>id</th>\n",
       "    </tr>\n",
       "  </thead>\n",
       "  <tbody>\n",
       "    <tr>\n",
       "      <th>count</th>\n",
       "      <td>1495010</td>\n",
       "      <td>1495010</td>\n",
       "    </tr>\n",
       "    <tr>\n",
       "      <th>unique</th>\n",
       "      <td>1204096</td>\n",
       "      <td>1495010</td>\n",
       "    </tr>\n",
       "    <tr>\n",
       "      <th>top</th>\n",
       "      <td>All products are BRAND NEW and factory sealed....</td>\n",
       "      <td>0140433872</td>\n",
       "    </tr>\n",
       "    <tr>\n",
       "      <th>freq</th>\n",
       "      <td>6710</td>\n",
       "      <td>1</td>\n",
       "    </tr>\n",
       "  </tbody>\n",
       "</table>\n",
       "</div>"
      ],
      "text/plain": [
       "                                              description          id\n",
       "count                                             1495010     1495010\n",
       "unique                                            1204096     1495010\n",
       "top     All products are BRAND NEW and factory sealed....  0140433872\n",
       "freq                                                 6710           1"
      ]
     },
     "execution_count": 9,
     "metadata": {},
     "output_type": "execute_result"
    }
   ],
   "source": [
    "descriptions.describe()"
   ]
  },
  {
   "cell_type": "markdown",
   "metadata": {},
   "source": [
    "# read categories"
   ]
  },
  {
   "cell_type": "code",
   "execution_count": 10,
   "metadata": {},
   "outputs": [],
   "source": [
    "with open('./Amazon_RawData/categories.txt','r',encoding = \"ISO-8859-1\") as f:\n",
    "    lines = f.read().splitlines()"
   ]
  },
  {
   "cell_type": "code",
   "execution_count": 11,
   "metadata": {},
   "outputs": [],
   "source": [
    "data = []\n",
    "invalid = []\n",
    "for i,line in enumerate(lines):\n",
    "    if line[0]!=' ':\n",
    "        data.append({'id':line,'categories':[]})\n",
    "    elif lines[2][:2]=='  ':\n",
    "        cats = [t.strip().lower() for t in line.split(',')]\n",
    "        data[-1]['categories'] = data[-1]['categories']+ cats\n",
    "    else:\n",
    "        invalid.append[i]"
   ]
  },
  {
   "cell_type": "code",
   "execution_count": 12,
   "metadata": {},
   "outputs": [
    {
     "data": {
      "text/plain": [
       "True"
      ]
     },
     "execution_count": 12,
     "metadata": {},
     "output_type": "execute_result"
    }
   ],
   "source": [
    "categories = pd.DataFrame.from_dict(data)\n",
    "categories.id.is_unique"
   ]
  },
  {
   "cell_type": "code",
   "execution_count": 13,
   "metadata": {},
   "outputs": [],
   "source": [
    "categories['categories'] = categories['categories'].apply(lambda x:set(x))"
   ]
  },
  {
   "cell_type": "code",
   "execution_count": 14,
   "metadata": {},
   "outputs": [],
   "source": [
    "all_cat = set([t for cat in categories.categories.to_list() for t in cat])"
   ]
  },
  {
   "cell_type": "code",
   "execution_count": 15,
   "metadata": {},
   "outputs": [],
   "source": [
    "with open('./AmazonCat-13K_mappings/AmazonCat-13K_label_map.txt','r',encoding = \"ISO-8859-1\") as f:\n",
    "    cats = f.read().splitlines()"
   ]
  },
  {
   "cell_type": "code",
   "execution_count": 16,
   "metadata": {},
   "outputs": [],
   "source": [
    "if len(cats)==len(set(cats)):\n",
    "    cats = set([cat.strip().lower() for cat in cats])\n",
    "else:\n",
    "    print('NO!')"
   ]
  },
  {
   "cell_type": "code",
   "execution_count": 17,
   "metadata": {},
   "outputs": [
    {
     "data": {
      "text/plain": [
       "set()"
      ]
     },
     "execution_count": 17,
     "metadata": {},
     "output_type": "execute_result"
    }
   ],
   "source": [
    "# all categories has samples\n",
    "cats-all_cat"
   ]
  },
  {
   "cell_type": "code",
   "execution_count": 18,
   "metadata": {},
   "outputs": [],
   "source": [
    "categories['categories'] = categories['categories'].apply(lambda x:x&cats)"
   ]
  },
  {
   "cell_type": "code",
   "execution_count": 19,
   "metadata": {},
   "outputs": [
    {
     "data": {
      "text/html": [
       "<div>\n",
       "<style scoped>\n",
       "    .dataframe tbody tr th:only-of-type {\n",
       "        vertical-align: middle;\n",
       "    }\n",
       "\n",
       "    .dataframe tbody tr th {\n",
       "        vertical-align: top;\n",
       "    }\n",
       "\n",
       "    .dataframe thead th {\n",
       "        text-align: right;\n",
       "    }\n",
       "</style>\n",
       "<table border=\"1\" class=\"dataframe\">\n",
       "  <thead>\n",
       "    <tr style=\"text-align: right;\">\n",
       "      <th></th>\n",
       "      <th>categories</th>\n",
       "      <th>id</th>\n",
       "    </tr>\n",
       "  </thead>\n",
       "  <tbody>\n",
       "    <tr>\n",
       "      <th>0</th>\n",
       "      <td>{tv, movies &amp; tv, music, classical}</td>\n",
       "      <td>B0027DQHA0</td>\n",
       "    </tr>\n",
       "    <tr>\n",
       "      <th>1</th>\n",
       "      <td>{literature &amp; fiction, short stories, science ...</td>\n",
       "      <td>0756400120</td>\n",
       "    </tr>\n",
       "    <tr>\n",
       "      <th>2</th>\n",
       "      <td>{blues, pop, music, r&amp;b}</td>\n",
       "      <td>B0000012D5</td>\n",
       "    </tr>\n",
       "    <tr>\n",
       "      <th>3</th>\n",
       "      <td>{business &amp; investing, books, business life, m...</td>\n",
       "      <td>B00024YAOQ</td>\n",
       "    </tr>\n",
       "    <tr>\n",
       "      <th>4</th>\n",
       "      <td>{books}</td>\n",
       "      <td>068413263X</td>\n",
       "    </tr>\n",
       "  </tbody>\n",
       "</table>\n",
       "</div>"
      ],
      "text/plain": [
       "                                          categories          id\n",
       "0                {tv, movies & tv, music, classical}  B0027DQHA0\n",
       "1  {literature & fiction, short stories, science ...  0756400120\n",
       "2                           {blues, pop, music, r&b}  B0000012D5\n",
       "3  {business & investing, books, business life, m...  B00024YAOQ\n",
       "4                                            {books}  068413263X"
      ]
     },
     "execution_count": 19,
     "metadata": {},
     "output_type": "execute_result"
    }
   ],
   "source": [
    "categories.head()"
   ]
  },
  {
   "cell_type": "markdown",
   "metadata": {},
   "source": [
    "# check id"
   ]
  },
  {
   "cell_type": "code",
   "execution_count": 25,
   "metadata": {},
   "outputs": [],
   "source": [
    "pattern = re.compile(\"[^A-Z0-9]+\")\n",
    "for id in [ids for df in [names,descriptions,categories,] for ids in  df.id.to_list()]:\n",
    "    if pattern.search(id) or len(id)!=10:\n",
    "        print('invalid id: {}'.format(id))"
   ]
  },
  {
   "cell_type": "markdown",
   "metadata": {},
   "source": [
    "# extract train/test id\n",
    "from `AmazonCat-13K_mappings\\AmazonCat-13K_test_map.txt`"
   ]
  },
  {
   "cell_type": "code",
   "execution_count": 57,
   "metadata": {},
   "outputs": [
    {
     "name": "stderr",
     "output_type": "stream",
     "text": [
      "/home/angela/env/lib/python3.6/site-packages/ipykernel_launcher.py:5: ParserWarning: Falling back to the 'python' engine because the 'c' engine does not support regex separators (separators > 1 char and different from '\\s+' are interpreted as regex); you can avoid this warning by specifying engine='python'.\n",
      "  \"\"\"\n"
     ]
    },
    {
     "data": {
      "text/plain": [
       "True"
      ]
     },
     "execution_count": 57,
     "metadata": {},
     "output_type": "execute_result"
    }
   ],
   "source": [
    "traindf = pd.read_csv(\n",
    "    \"AmazonCat-13K_mappings/AmazonCat-13K_train_map.txt\",\n",
    "    sep=r'->',\n",
    "    header=None,\n",
    "    names=['id','title_mappings'],\n",
    ")\n",
    "traindf = traindf.drop(columns = 'title_mappings')\n",
    "traindf.id.is_unique"
   ]
  },
  {
   "cell_type": "code",
   "execution_count": 58,
   "metadata": {},
   "outputs": [
    {
     "name": "stderr",
     "output_type": "stream",
     "text": [
      "/home/angela/env/lib/python3.6/site-packages/ipykernel_launcher.py:5: ParserWarning: Falling back to the 'python' engine because the 'c' engine does not support regex separators (separators > 1 char and different from '\\s+' are interpreted as regex); you can avoid this warning by specifying engine='python'.\n",
      "  \"\"\"\n"
     ]
    },
    {
     "data": {
      "text/plain": [
       "True"
      ]
     },
     "execution_count": 58,
     "metadata": {},
     "output_type": "execute_result"
    }
   ],
   "source": [
    "testdf = pd.read_csv(\n",
    "    \"AmazonCat-13K_mappings/AmazonCat-13K_test_map.txt\",\n",
    "    sep=r'->',\n",
    "    header=None,\n",
    "    names=['id','title_mappings'],\n",
    ")\n",
    "testdf = testdf.drop(columns = 'title_mappings')\n",
    "testdf.id.is_unique"
   ]
  },
  {
   "cell_type": "code",
   "execution_count": 59,
   "metadata": {},
   "outputs": [
    {
     "data": {
      "text/plain": [
       "set()"
      ]
     },
     "execution_count": 59,
     "metadata": {},
     "output_type": "execute_result"
    }
   ],
   "source": [
    "# no duplicated ids\n",
    "trainid = set(traindf.id.to_list())\n",
    "testid = set(testdf.id.to_list())\n",
    "testid&trainid"
   ]
  },
  {
   "cell_type": "code",
   "execution_count": 61,
   "metadata": {},
   "outputs": [],
   "source": [
    "# test train id are subsets of df\n",
    "(testid.union(trainid)).issubset(set(categories.id.to_list()))"
   ]
  },
  {
   "cell_type": "markdown",
   "metadata": {},
   "source": [
    "# create raw train test set"
   ]
  },
  {
   "cell_type": "code",
   "execution_count": 64,
   "metadata": {},
   "outputs": [],
   "source": [
    "names = names.set_index('id')\n",
    "descriptions = descriptions.set_index('id')\n",
    "categories = categories.set_index('id')\n",
    "traindf = traindf.set_index('id')\n",
    "testdf = testdf.set_index('id')"
   ]
  },
  {
   "cell_type": "code",
   "execution_count": 65,
   "metadata": {},
   "outputs": [],
   "source": [
    "traindf['test/train']='train'\n",
    "testdf['test/train']='test'"
   ]
  },
  {
   "cell_type": "code",
   "execution_count": 71,
   "metadata": {},
   "outputs": [],
   "source": [
    "df = pd.concat([traindf,testdf])"
   ]
  },
  {
   "cell_type": "code",
   "execution_count": 72,
   "metadata": {},
   "outputs": [],
   "source": [
    "df = df.merge(categories,on='id',how='left').merge(names,on='id',how='left').merge(descriptions,on='id',how='left')"
   ]
  },
  {
   "cell_type": "code",
   "execution_count": 73,
   "metadata": {},
   "outputs": [
    {
     "name": "stdout",
     "output_type": "stream",
     "text": [
      "False\n",
      "False\n",
      "True\n"
     ]
    }
   ],
   "source": [
    "# no empty cat \n",
    "print(df['categories'].isnull().values.any())\n",
    "print(df['description'].isnull().values.any())\n",
    "print(df['name'].isnull().values.any())"
   ]
  },
  {
   "cell_type": "markdown",
   "metadata": {},
   "source": [
    "# text cleaning"
   ]
  },
  {
   "cell_type": "code",
   "execution_count": 74,
   "metadata": {},
   "outputs": [
    {
     "data": {
      "text/html": [
       "<div>\n",
       "<style scoped>\n",
       "    .dataframe tbody tr th:only-of-type {\n",
       "        vertical-align: middle;\n",
       "    }\n",
       "\n",
       "    .dataframe tbody tr th {\n",
       "        vertical-align: top;\n",
       "    }\n",
       "\n",
       "    .dataframe thead th {\n",
       "        text-align: right;\n",
       "    }\n",
       "</style>\n",
       "<table border=\"1\" class=\"dataframe\">\n",
       "  <thead>\n",
       "    <tr style=\"text-align: right;\">\n",
       "      <th></th>\n",
       "      <th>test/train</th>\n",
       "      <th>categories</th>\n",
       "      <th>name</th>\n",
       "      <th>description</th>\n",
       "    </tr>\n",
       "    <tr>\n",
       "      <th>id</th>\n",
       "      <th></th>\n",
       "      <th></th>\n",
       "      <th></th>\n",
       "      <th></th>\n",
       "    </tr>\n",
       "  </thead>\n",
       "  <tbody>\n",
       "    <tr>\n",
       "      <th>0873386523</th>\n",
       "      <td>train</td>\n",
       "      <td>{19th century, history, books, state &amp; local, ...</td>\n",
       "      <td>New Englanders on the Ohio Frontier: Migration...</td>\n",
       "      <td>Virginia E. McCormick served on the faculties ...</td>\n",
       "    </tr>\n",
       "    <tr>\n",
       "      <th>B00007GUH9</th>\n",
       "      <td>train</td>\n",
       "      <td>{music, world music}</td>\n",
       "      <td>Le Petit Prince</td>\n",
       "      <td>Deluxe Double Disc Musical Spectacular that Co...</td>\n",
       "    </tr>\n",
       "    <tr>\n",
       "      <th>B0002WSQI4</th>\n",
       "      <td>train</td>\n",
       "      <td>{home &amp; kitchen, specialty appliances, small a...</td>\n",
       "      <td>Nesco FS-120T American Harvest Food Slicer wit...</td>\n",
       "      <td>Heavy duty construction plus innovative design...</td>\n",
       "    </tr>\n",
       "    <tr>\n",
       "      <th>B00005NTSR</th>\n",
       "      <td>train</td>\n",
       "      <td>{pop, music, world music}</td>\n",
       "      <td>Hungarian Music</td>\n",
       "      <td>All products are BRAND NEW and factory sealed....</td>\n",
       "    </tr>\n",
       "    <tr>\n",
       "      <th>B000JFHMR0</th>\n",
       "      <td>train</td>\n",
       "      <td>{tools &amp; equipment, diagnostic &amp; test tools, a...</td>\n",
       "      <td>ESI 585K Deluxe Automotive DMM</td>\n",
       "      <td>The Deluxe Automotive DMM is a professional gr...</td>\n",
       "    </tr>\n",
       "  </tbody>\n",
       "</table>\n",
       "</div>"
      ],
      "text/plain": [
       "           test/train                                         categories  \\\n",
       "id                                                                         \n",
       "0873386523      train  {19th century, history, books, state & local, ...   \n",
       "B00007GUH9      train                               {music, world music}   \n",
       "B0002WSQI4      train  {home & kitchen, specialty appliances, small a...   \n",
       "B00005NTSR      train                          {pop, music, world music}   \n",
       "B000JFHMR0      train  {tools & equipment, diagnostic & test tools, a...   \n",
       "\n",
       "                                                         name  \\\n",
       "id                                                              \n",
       "0873386523  New Englanders on the Ohio Frontier: Migration...   \n",
       "B00007GUH9                                    Le Petit Prince   \n",
       "B0002WSQI4  Nesco FS-120T American Harvest Food Slicer wit...   \n",
       "B00005NTSR                                    Hungarian Music   \n",
       "B000JFHMR0                     ESI 585K Deluxe Automotive DMM   \n",
       "\n",
       "                                                  description  \n",
       "id                                                             \n",
       "0873386523  Virginia E. McCormick served on the faculties ...  \n",
       "B00007GUH9  Deluxe Double Disc Musical Spectacular that Co...  \n",
       "B0002WSQI4  Heavy duty construction plus innovative design...  \n",
       "B00005NTSR  All products are BRAND NEW and factory sealed....  \n",
       "B000JFHMR0  The Deluxe Automotive DMM is a professional gr...  "
      ]
     },
     "execution_count": 74,
     "metadata": {},
     "output_type": "execute_result"
    }
   ],
   "source": [
    "df.head()"
   ]
  },
  {
   "cell_type": "markdown",
   "metadata": {},
   "source": [
    "## read features"
   ]
  },
  {
   "cell_type": "code",
   "execution_count": 75,
   "metadata": {},
   "outputs": [],
   "source": [
    "with open('./AmazonCat-13K_mappings/AmazonCat-13K_feature_map.txt','r',encoding = \"ISO-8859-1\") as f:\n",
    "    lines = f.read().splitlines()"
   ]
  },
  {
   "cell_type": "code",
   "execution_count": 79,
   "metadata": {},
   "outputs": [],
   "source": [
    "pattern = re.compile(\"[A-Z]+\")\n",
    "for line in lines:\n",
    "    if pattern.search(line):\n",
    "        print('uppercase detected: '.format(line))"
   ]
  },
  {
   "cell_type": "code",
   "execution_count": 87,
   "metadata": {},
   "outputs": [],
   "source": [
    "token_pattern= re.compile('(?u)\\\\b\\\\w+\\\\b')\n",
    "def get_line(x):\n",
    "    # clean text and tockenize\n",
    "    tokenized = token_pattern.findall(x['description'].lower())\n",
    "    # add label\n",
    "    labels = ['__label__'+cat.lower().replace(\" \", \"_\") for cat in list(x['categories'])]\n",
    "    line = labels + tokenized\n",
    "    line = ' '.join(line)\n",
    "    return line"
   ]
  },
  {
   "cell_type": "code",
   "execution_count": 88,
   "metadata": {},
   "outputs": [],
   "source": [
    "df['text'] = df.apply(get_line,axis=1)"
   ]
  },
  {
   "cell_type": "code",
   "execution_count": 89,
   "metadata": {},
   "outputs": [
    {
     "data": {
      "text/html": [
       "<div>\n",
       "<style scoped>\n",
       "    .dataframe tbody tr th:only-of-type {\n",
       "        vertical-align: middle;\n",
       "    }\n",
       "\n",
       "    .dataframe tbody tr th {\n",
       "        vertical-align: top;\n",
       "    }\n",
       "\n",
       "    .dataframe thead th {\n",
       "        text-align: right;\n",
       "    }\n",
       "</style>\n",
       "<table border=\"1\" class=\"dataframe\">\n",
       "  <thead>\n",
       "    <tr style=\"text-align: right;\">\n",
       "      <th></th>\n",
       "      <th>test/train</th>\n",
       "      <th>categories</th>\n",
       "      <th>name</th>\n",
       "      <th>description</th>\n",
       "      <th>text</th>\n",
       "    </tr>\n",
       "    <tr>\n",
       "      <th>id</th>\n",
       "      <th></th>\n",
       "      <th></th>\n",
       "      <th></th>\n",
       "      <th></th>\n",
       "      <th></th>\n",
       "    </tr>\n",
       "  </thead>\n",
       "  <tbody>\n",
       "    <tr>\n",
       "      <th>0873386523</th>\n",
       "      <td>train</td>\n",
       "      <td>{19th century, history, books, state &amp; local, ...</td>\n",
       "      <td>New Englanders on the Ohio Frontier: Migration...</td>\n",
       "      <td>Virginia E. McCormick served on the faculties ...</td>\n",
       "      <td>__label__19th_century __label__history __label...</td>\n",
       "    </tr>\n",
       "    <tr>\n",
       "      <th>B00007GUH9</th>\n",
       "      <td>train</td>\n",
       "      <td>{music, world music}</td>\n",
       "      <td>Le Petit Prince</td>\n",
       "      <td>Deluxe Double Disc Musical Spectacular that Co...</td>\n",
       "      <td>__label__music __label__world_music deluxe dou...</td>\n",
       "    </tr>\n",
       "    <tr>\n",
       "      <th>B0002WSQI4</th>\n",
       "      <td>train</td>\n",
       "      <td>{home &amp; kitchen, specialty appliances, small a...</td>\n",
       "      <td>Nesco FS-120T American Harvest Food Slicer wit...</td>\n",
       "      <td>Heavy duty construction plus innovative design...</td>\n",
       "      <td>__label__home_&amp;_kitchen __label__specialty_app...</td>\n",
       "    </tr>\n",
       "    <tr>\n",
       "      <th>B00005NTSR</th>\n",
       "      <td>train</td>\n",
       "      <td>{pop, music, world music}</td>\n",
       "      <td>Hungarian Music</td>\n",
       "      <td>All products are BRAND NEW and factory sealed....</td>\n",
       "      <td>__label__pop __label__music __label__world_mus...</td>\n",
       "    </tr>\n",
       "    <tr>\n",
       "      <th>B000JFHMR0</th>\n",
       "      <td>train</td>\n",
       "      <td>{tools &amp; equipment, diagnostic &amp; test tools, a...</td>\n",
       "      <td>ESI 585K Deluxe Automotive DMM</td>\n",
       "      <td>The Deluxe Automotive DMM is a professional gr...</td>\n",
       "      <td>__label__tools_&amp;_equipment __label__diagnostic...</td>\n",
       "    </tr>\n",
       "  </tbody>\n",
       "</table>\n",
       "</div>"
      ],
      "text/plain": [
       "           test/train                                         categories  \\\n",
       "id                                                                         \n",
       "0873386523      train  {19th century, history, books, state & local, ...   \n",
       "B00007GUH9      train                               {music, world music}   \n",
       "B0002WSQI4      train  {home & kitchen, specialty appliances, small a...   \n",
       "B00005NTSR      train                          {pop, music, world music}   \n",
       "B000JFHMR0      train  {tools & equipment, diagnostic & test tools, a...   \n",
       "\n",
       "                                                         name  \\\n",
       "id                                                              \n",
       "0873386523  New Englanders on the Ohio Frontier: Migration...   \n",
       "B00007GUH9                                    Le Petit Prince   \n",
       "B0002WSQI4  Nesco FS-120T American Harvest Food Slicer wit...   \n",
       "B00005NTSR                                    Hungarian Music   \n",
       "B000JFHMR0                     ESI 585K Deluxe Automotive DMM   \n",
       "\n",
       "                                                  description  \\\n",
       "id                                                              \n",
       "0873386523  Virginia E. McCormick served on the faculties ...   \n",
       "B00007GUH9  Deluxe Double Disc Musical Spectacular that Co...   \n",
       "B0002WSQI4  Heavy duty construction plus innovative design...   \n",
       "B00005NTSR  All products are BRAND NEW and factory sealed....   \n",
       "B000JFHMR0  The Deluxe Automotive DMM is a professional gr...   \n",
       "\n",
       "                                                         text  \n",
       "id                                                             \n",
       "0873386523  __label__19th_century __label__history __label...  \n",
       "B00007GUH9  __label__music __label__world_music deluxe dou...  \n",
       "B0002WSQI4  __label__home_&_kitchen __label__specialty_app...  \n",
       "B00005NTSR  __label__pop __label__music __label__world_mus...  \n",
       "B000JFHMR0  __label__tools_&_equipment __label__diagnostic...  "
      ]
     },
     "execution_count": 89,
     "metadata": {},
     "output_type": "execute_result"
    }
   ],
   "source": [
    "df.head()"
   ]
  },
  {
   "cell_type": "markdown",
   "metadata": {},
   "source": [
    "# save for FastText"
   ]
  },
  {
   "cell_type": "code",
   "execution_count": 91,
   "metadata": {},
   "outputs": [],
   "source": [
    "train_df = df[df['test/train']=='train']\n",
    "test_df = df[df['test/train']=='test']"
   ]
  },
  {
   "cell_type": "code",
   "execution_count": 93,
   "metadata": {},
   "outputs": [],
   "source": [
    "OUTDIR='data'\n",
    "if not os.path.exists(OUTDIR):\n",
    "    os.mkdir(OUTDIR)\n",
    "np.savetxt(r'{}/amazon.train.txt'.format(OUTDIR), train_df.text, fmt='%s')\n",
    "np.savetxt(r'{}/amazon.test.txt'.format(OUTDIR), test_df.text, fmt='%s')"
   ]
  },
  {
   "cell_type": "code",
   "execution_count": null,
   "metadata": {},
   "outputs": [],
   "source": []
  }
 ],
 "metadata": {
  "kernelspec": {
   "display_name": "Python 3",
   "language": "python",
   "name": "python3"
  },
  "language_info": {
   "codemirror_mode": {
    "name": "ipython",
    "version": 3
   },
   "file_extension": ".py",
   "mimetype": "text/x-python",
   "name": "python",
   "nbconvert_exporter": "python",
   "pygments_lexer": "ipython3",
   "version": "3.6.8"
  }
 },
 "nbformat": 4,
 "nbformat_minor": 2
}
