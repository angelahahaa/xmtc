{
 "cells": [
  {
   "cell_type": "code",
   "execution_count": 1,
   "metadata": {},
   "outputs": [
    {
     "name": "stderr",
     "output_type": "stream",
     "text": [
      "Using TensorFlow backend.\n"
     ]
    }
   ],
   "source": [
    "# basic\n",
    "import os,datetime\n",
    "# numerical \n",
    "import numpy as np\n",
    "# visualisation\n",
    "import matplotlib.pyplot as plt\n",
    "# model_func\n",
    "from tools.model_func import *"
   ]
  },
  {
   "cell_type": "code",
   "execution_count": 2,
   "metadata": {},
   "outputs": [],
   "source": [
    "os.environ[\"CUDA_DEVICE_ORDER\"]=\"PCI_BUS_ID\"\n",
    "os.environ[\"CUDA_VISIBLE_DEVICES\"]=\"1\""
   ]
  },
  {
   "cell_type": "markdown",
   "metadata": {},
   "source": [
    "# Functions"
   ]
  },
  {
   "cell_type": "markdown",
   "metadata": {},
   "source": [
    "### get_cascaded_softmax"
   ]
  },
  {
   "cell_type": "code",
   "execution_count": 3,
   "metadata": {},
   "outputs": [],
   "source": [
    "# imports\n",
    "from scipy.special import softmax\n",
    "import scipy.sparse as sp\n",
    "import pickle\n",
    "\n",
    "# function\n",
    "def get_cascade_sm(y_preds,IN_DIR):\n",
    "    child_to_siblings = pickle.load(open(os.path.join(IN_DIR,'child_to_siblings.pkl'),'rb'))\n",
    "    parent_to_child = pickle.load(open(os.path.join(IN_DIR,'parent_to_child.pkl'),'rb'))\n",
    "    cascade_sm = [softmax(y_preds[0],axis=1)]\n",
    "    for i in range(len(y_preds)-1):\n",
    "        data = []\n",
    "        row_ind = []\n",
    "        col_ind = []\n",
    "        sms = cascade_sm[-1]\n",
    "        for key,val in parent_to_child[i].items():\n",
    "            child_sm = softmax(y_preds[i+1][:,val],axis=1)\n",
    "            data.append(np.multiply(child_sm,sms[:,key,np.newaxis]).reshape(-1))\n",
    "            row_ind.append(np.repeat(np.arange(sms.shape[0]),len(val)))\n",
    "            col_ind.append(np.tile(val,sms.shape[0]))\n",
    "        data = np.concatenate(data)\n",
    "        row_ind = np.concatenate(row_ind)\n",
    "        col_ind = np.concatenate(col_ind)\n",
    "        cascade_sm.append(sp.csr_matrix((data,(row_ind,col_ind))).toarray())\n",
    "    return cascade_sm"
   ]
  },
  {
   "cell_type": "markdown",
   "metadata": {},
   "source": [
    "### get pAtk"
   ]
  },
  {
   "cell_type": "code",
   "execution_count": 4,
   "metadata": {},
   "outputs": [],
   "source": [
    "def get_pAtk(y_true,y_pred,k,per_label=False):\n",
    "    y_true_sparse = np.argmax(np.asarray(y_true),axis=1)\n",
    "    Atk = np.any(y_true_sparse[:,np.newaxis]==y_pred[:,:k],axis=1).astype(int)\n",
    "    if per_label:\n",
    "        lab = []\n",
    "        for i in range(y_true.shape[-1]):\n",
    "            lab.append(np.mean(Atk[y_true_sparse==i]))\n",
    "        return np.array(lab)\n",
    "    else:\n",
    "        return np.mean(Atk)"
   ]
  },
  {
   "cell_type": "markdown",
   "metadata": {},
   "source": [
    "# confusion matrix"
   ]
  },
  {
   "cell_type": "markdown",
   "metadata": {},
   "source": [
    "- confusion matrix with classes in different hierarchy\n",
    "- plot cascade softmax matrix in colour by true classes\n",
    "- find relationship between no. training data in class and accuracy"
   ]
  },
  {
   "cell_type": "code",
   "execution_count": 14,
   "metadata": {},
   "outputs": [],
   "source": [
    "MODEL_DIR = \"outputs/190730_202748_attention\"\n",
    "IN_DIR = \"data/sic_hierarchy\"\n",
    "model_name = MODEL_DIR.split('_')[-1]"
   ]
  },
  {
   "cell_type": "code",
   "execution_count": 15,
   "metadata": {},
   "outputs": [],
   "source": [
    "# load model\n",
    "from keras.models import model_from_json\n",
    "import tensorflow as tf"
   ]
  },
  {
   "cell_type": "code",
   "execution_count": 16,
   "metadata": {},
   "outputs": [],
   "source": [
    "x_train,y_trains,x_test,y_tests = get_input(mode = 'cat',in_dir = IN_DIR)\n",
    "_,max_sequence_length = x_test.shape\n",
    "labels_dims = [l.shape[-1] for l in y_tests]\n",
    "embedding_layer = get_embedding_layer(IN_DIR)\n",
    "model = get_model(model_name, max_sequence_length, labels_dims, embedding_layer)\n",
    "model.load_weights(open(os.path.join(MODEL_DIR,'weights.h5'),'rb'))"
   ]
  },
  {
   "cell_type": "code",
   "execution_count": 17,
   "metadata": {},
   "outputs": [
    {
     "name": "stdout",
     "output_type": "stream",
     "text": [
      "142756/142756 [==============================] - 24s 170us/step\n"
     ]
    }
   ],
   "source": [
    "yp = model.predict(x_test,verbose = 1)"
   ]
  },
  {
   "cell_type": "markdown",
   "metadata": {},
   "source": [
    "# p@k for cascaded softmax"
   ]
  },
  {
   "cell_type": "code",
   "execution_count": 18,
   "metadata": {},
   "outputs": [],
   "source": [
    "y_probs = get_cascade_sm(yp,IN_DIR)\n",
    "y_inds = [np.argsort(y,axis=1)[:,::-1] for y in y_probs]"
   ]
  },
  {
   "cell_type": "code",
   "execution_count": 19,
   "metadata": {},
   "outputs": [
    {
     "name": "stdout",
     "output_type": "stream",
     "text": [
      "0.6737790355571744 0.9211241559023788\n",
      "0.6118902182745384 0.8459189105886968\n",
      "0.5084689960492028 0.7464414805682423\n",
      "0.49161506346493317 0.7364804281431253\n"
     ]
    }
   ],
   "source": [
    "for i in range(len(y_tests)):\n",
    "    print(get_pAtk(y_tests[i],y_inds[i],1),get_pAtk(y_tests[i],y_inds[i],5))"
   ]
  },
  {
   "cell_type": "markdown",
   "metadata": {},
   "source": [
    "# visualisation"
   ]
  },
  {
   "cell_type": "code",
   "execution_count": null,
   "metadata": {},
   "outputs": [],
   "source": [
    "import matplotlib.pyplot as plt\n",
    "import seaborn as sn\n",
    "import pandas as pd\n",
    "from sklearn.metrics import confusion_matrix\n",
    "from collections import Counter"
   ]
  },
  {
   "cell_type": "code",
   "execution_count": null,
   "metadata": {},
   "outputs": [],
   "source": [
    "ii = 0\n",
    "y_prob = y_probs[ii]\n",
    "y_ind = y_inds[ii]\n",
    "y_true = y_tests[ii]\n",
    "y_train = y_trains[ii]"
   ]
  },
  {
   "cell_type": "code",
   "execution_count": null,
   "metadata": {},
   "outputs": [],
   "source": [
    "# train calss distribution\n",
    "L = y_prob.shape[-1]\n",
    "class_train_count = Counter(np.argmax(y_train,axis=1))\n",
    "counts = [class_train_count[i] for i in range(L)]\n",
    "plt.bar(range(L),counts)\n",
    "plt.show()"
   ]
  },
  {
   "cell_type": "code",
   "execution_count": null,
   "metadata": {},
   "outputs": [],
   "source": [
    "# confusion matrix\n",
    "cm = confusion_matrix(np.argmax(y_true,axis=1),np.argmax(y_prob,axis=1),np.arange(y_true.shape[-1]))\n",
    "cm = cm.astype('float') / cm.sum(axis=1)[:, np.newaxis] # normalise\n",
    "df_cm = pd.DataFrame(cm, index = range(L),\n",
    "                     columns = range(L))\n",
    "plt.figure(figsize = (10,7))\n",
    "sn.heatmap(df_cm, annot=False)"
   ]
  },
  {
   "cell_type": "markdown",
   "metadata": {},
   "source": [
    "## effect of class imbalance"
   ]
  },
  {
   "cell_type": "code",
   "execution_count": null,
   "metadata": {},
   "outputs": [],
   "source": [
    "# per label pAtk\n",
    "k = 5\n",
    "pat1 = get_pAtk(y_true,y_ind,1,per_label=True)\n",
    "pat5 = get_pAtk(y_true,y_ind,5,per_label=True)\n",
    "counts = np.array(counts)\n",
    "ind = np.argsort(counts)[::-1]\n",
    "\n",
    "fig, ax1 = plt.subplots()\n",
    "ax2 = ax1.twinx()\n",
    "\n",
    "ax1.plot(pat1[ind],'g--',alpha=0.5,label='p@1')\n",
    "ax1.plot(pat5[ind],'b-',alpha=0.5,label='p@5')\n",
    "ax1.set_ylabel(r'p@k',color='g')\n",
    "ax1.tick_params(axis='y', labelcolor='g')\n",
    "ax1.set_ylim(0)\n",
    "ax1.legend()\n",
    "\n",
    "ax2.plot(counts[ind],'r')\n",
    "ax2.set_ylabel('train counts',color='r')\n",
    "ax2.tick_params(axis='y', labelcolor='r')\n",
    "# ax2.set_ylim(0)\n",
    "ax2.set_yscale('log')\n",
    "plt.title('class imbalance and class pAtk')"
   ]
  },
  {
   "cell_type": "code",
   "execution_count": null,
   "metadata": {},
   "outputs": [],
   "source": []
  }
 ],
 "metadata": {
  "kernelspec": {
   "display_name": "Python 3",
   "language": "python",
   "name": "python3"
  },
  "language_info": {
   "codemirror_mode": {
    "name": "ipython",
    "version": 3
   },
   "file_extension": ".py",
   "mimetype": "text/x-python",
   "name": "python",
   "nbconvert_exporter": "python",
   "pygments_lexer": "ipython3",
   "version": "3.6.8"
  }
 },
 "nbformat": 4,
 "nbformat_minor": 2
}
