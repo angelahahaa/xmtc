{
 "cells": [
  {
   "cell_type": "code",
   "execution_count": null,
   "metadata": {},
   "outputs": [],
   "source": [
    "# basic\n",
    "import os,datetime\n",
    "# numerical \n",
    "import numpy as np\n",
    "# visualisation\n",
    "import matplotlib.pyplot as plt\n",
    "# model_func\n",
    "from tools.model_func import *"
   ]
  },
  {
   "cell_type": "markdown",
   "metadata": {},
   "source": [
    "# get_cascaded_softmax"
   ]
  },
  {
   "cell_type": "code",
   "execution_count": 1,
   "metadata": {},
   "outputs": [],
   "source": [
    "# imports\n",
    "from scipy.special import softmax\n",
    "import scipy.sparse as sp\n",
    "import pickle\n",
    "\n",
    "# function\n",
    "def get_cascade_sm(y_preds,IN_DIR):\n",
    "    child_to_siblings = pickle.load(open(os.path.join(IN_DIR,'child_to_siblings.pkl'),'rb'))\n",
    "    parent_to_child = pickle.load(open(os.path.join(IN_DIR,'parent_to_child.pkl'),'rb'))\n",
    "    cascade_sm = [softmax(y_preds[0],axis=1)]\n",
    "    for i in range(len(y_preds)-1):\n",
    "        data = []\n",
    "        row_ind = []\n",
    "        col_ind = []\n",
    "        sms = cascade_sm[-1]\n",
    "        for key,val in parent_to_child[i].items():\n",
    "            child_sm = softmax(y_preds[i+1][:,val],axis=1)\n",
    "            data.append(np.multiply(child_sm,sms[:,key,np.newaxis]).reshape(-1))\n",
    "            row_ind.append(np.repeat(np.arange(sms.shape[0]),len(val)))\n",
    "            col_ind.append(np.tile(val,sms.shape[0]))\n",
    "        data = np.concatenate(data)\n",
    "        row_ind = np.concatenate(row_ind)\n",
    "        col_ind = np.concatenate(col_ind)\n",
    "        cascade_sm.append(sp.csr_matrix((data,(row_ind,col_ind))).toarray())\n",
    "    return cascade_sm"
   ]
  },
  {
   "cell_type": "markdown",
   "metadata": {},
   "source": [
    "# get pAtk"
   ]
  },
  {
   "cell_type": "code",
   "execution_count": null,
   "metadata": {},
   "outputs": [],
   "source": [
    "def get_pAtk(y_true,y_pred,k,per_label=False):\n",
    "    y_true_sparse = np.argmax(np.asarray(y_true),axis=1)\n",
    "    Atk = np.any(y_true_sparse[:,np.newaxis]==y_pred[:,:k],axis=1).astype(int)\n",
    "    if per_label:\n",
    "        lab = []\n",
    "        for i in range(y.shape[-1]):\n",
    "            lab.append(np.mean(Atk[y_true_sparse==i]))\n",
    "        return np.array(lab)\n",
    "    else:\n",
    "        return np.mean(Atk)"
   ]
  }
 ],
 "metadata": {
  "kernelspec": {
   "display_name": "Python 3",
   "language": "python",
   "name": "python3"
  },
  "language_info": {
   "codemirror_mode": {
    "name": "ipython",
    "version": 3
   },
   "file_extension": ".py",
   "mimetype": "text/x-python",
   "name": "python",
   "nbconvert_exporter": "python",
   "pygments_lexer": "ipython3",
   "version": "3.6.8"
  }
 },
 "nbformat": 4,
 "nbformat_minor": 2
}
